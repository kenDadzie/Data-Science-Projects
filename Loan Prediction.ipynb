{
 "cells": [
  {
   "cell_type": "markdown",
   "metadata": {},
   "source": [
    "# About Company\n",
    "Dream Housing Finance company deals in all home loans. They have presence across all urban, semi urban and rural areas. Customers first apply for home loans and after that, the company validates the customer eligibility for loan.\n",
    "\n",
    "## Problem\n",
    "Company wants to automate the loan eligibility process (real time) based on customers detail provided while filling the online application form. These details are Gender, Marital Status, Education, Number of Dependents, Income, Loan Amount, Credit History and others. To automate this process, they have given a problem to identify the customers segments for those are eligible for loan amount so that they can specifically target these customers. Here they have provided a partial data set."
   ]
  },
  {
   "cell_type": "markdown",
   "metadata": {},
   "source": [
    "COLUMN DESCRIPTIONS:\n",
    "\n",
    "**Columns**\t                          **Description**\n",
    "\n",
    "#Loan_ID  ----------------------->\t  Unique Loan ID\n",
    "\n",
    "#Gender\t  ----------------------->    Male/ Female\n",
    "\n",
    "#Married  ----------------------->\t  Applicant married (Y/N)\n",
    "\n",
    "#Dependents --------------------->\t  Number of dependents\n",
    "\n",
    "#Education  --------------------->\t  Applicant Education (Graduate/ Under Graduate)\n",
    "\n",
    "#Self_Employed  ----------------->    Self employed (Y/N)\n",
    "\n",
    "#ApplicantIncome  --------------->\t  Applicant income\n",
    "\n",
    "#CoapplicantIncome --------------->\t  Coapplicant income\n",
    "\n",
    "#LoanAmount\t--------------->          Loan amount in thousands\n",
    "\n",
    "#Loan_Amount_Term --------------->\t  Term of loan in months\n",
    "\n",
    "#Credit_History ------------------>\t  credit history meets guidelines\n",
    "\n",
    "#Property_Area ------------------>\t  Urban/ Semi Urban/ Rural\n",
    "\n",
    "#Loan_Status -------------------->\t  Loan approved (Y/N)"
   ]
  },
  {
   "cell_type": "code",
   "execution_count": 1,
   "metadata": {},
   "outputs": [
    {
     "data": {
      "text/html": [
       "        <script type=\"text/javascript\">\n",
       "        window.PlotlyConfig = {MathJaxConfig: 'local'};\n",
       "        if (window.MathJax) {MathJax.Hub.Config({SVG: {font: \"STIX-Web\"}});}\n",
       "        if (typeof require !== 'undefined') {\n",
       "        require.undef(\"plotly\");\n",
       "        requirejs.config({\n",
       "            paths: {\n",
       "                'plotly': ['https://cdn.plot.ly/plotly-latest.min']\n",
       "            }\n",
       "        });\n",
       "        require(['plotly'], function(Plotly) {\n",
       "            window._Plotly = Plotly;\n",
       "        });\n",
       "        }\n",
       "        </script>\n",
       "        "
      ]
     },
     "metadata": {},
     "output_type": "display_data"
    },
    {
     "data": {
      "text/html": [
       "        <script type=\"text/javascript\">\n",
       "        window.PlotlyConfig = {MathJaxConfig: 'local'};\n",
       "        if (window.MathJax) {MathJax.Hub.Config({SVG: {font: \"STIX-Web\"}});}\n",
       "        if (typeof require !== 'undefined') {\n",
       "        require.undef(\"plotly\");\n",
       "        requirejs.config({\n",
       "            paths: {\n",
       "                'plotly': ['https://cdn.plot.ly/plotly-latest.min']\n",
       "            }\n",
       "        });\n",
       "        require(['plotly'], function(Plotly) {\n",
       "            window._Plotly = Plotly;\n",
       "        });\n",
       "        }\n",
       "        </script>\n",
       "        "
      ]
     },
     "metadata": {},
     "output_type": "display_data"
    }
   ],
   "source": [
    "# Ignore harmless warnings\n",
    "import warnings\n",
    "warnings.filterwarnings(\"ignore\")\n",
    "\n",
    "#Importing libraries for data analysis and cleaning\n",
    "import numpy as np\n",
    "import pandas as pd\n",
    "\n",
    "#importing visualisation libraries for data visualisation\n",
    "import seaborn as sns\n",
    "import matplotlib.pyplot as plt\n",
    "import plotly.express as px\n",
    "from plotly.offline import download_plotlyjs, init_notebook_mode, plot, iplot\n",
    "import cufflinks as cf\n",
    "cf.go_offline()\n",
    "cf.set_config_file(offline=False, world_readable=True)\n",
    "init_notebook_mode(connected=True)\n",
    "\n",
    "#load datasets\n",
    "train = pd.read_csv('train_ctrUa4K.csv')\n",
    "test = pd.read_csv('test_lAUu6dG.csv')\n",
    "\n",
    "#per describtion, loan amount is in 1000's\n",
    "train['LoanAmount'] = train['LoanAmount'] *1000\n",
    "test['LoanAmount'] = test['LoanAmount'] *1000"
   ]
  },
  {
   "cell_type": "markdown",
   "metadata": {},
   "source": [
    "## DATA PREPROCESSING AND VISUALISATION"
   ]
  },
  {
   "cell_type": "code",
   "execution_count": 2,
   "metadata": {},
   "outputs": [
    {
     "data": {
      "text/html": [
       "<div>\n",
       "<style scoped>\n",
       "    .dataframe tbody tr th:only-of-type {\n",
       "        vertical-align: middle;\n",
       "    }\n",
       "\n",
       "    .dataframe tbody tr th {\n",
       "        vertical-align: top;\n",
       "    }\n",
       "\n",
       "    .dataframe thead th {\n",
       "        text-align: right;\n",
       "    }\n",
       "</style>\n",
       "<table border=\"1\" class=\"dataframe\">\n",
       "  <thead>\n",
       "    <tr style=\"text-align: right;\">\n",
       "      <th></th>\n",
       "      <th>Loan_ID</th>\n",
       "      <th>Gender</th>\n",
       "      <th>Married</th>\n",
       "      <th>Dependents</th>\n",
       "      <th>Education</th>\n",
       "      <th>Self_Employed</th>\n",
       "      <th>ApplicantIncome</th>\n",
       "      <th>CoapplicantIncome</th>\n",
       "      <th>LoanAmount</th>\n",
       "      <th>Loan_Amount_Term</th>\n",
       "      <th>Credit_History</th>\n",
       "      <th>Property_Area</th>\n",
       "      <th>Loan_Status</th>\n",
       "    </tr>\n",
       "  </thead>\n",
       "  <tbody>\n",
       "    <tr>\n",
       "      <th>0</th>\n",
       "      <td>LP001002</td>\n",
       "      <td>Male</td>\n",
       "      <td>No</td>\n",
       "      <td>0</td>\n",
       "      <td>Graduate</td>\n",
       "      <td>No</td>\n",
       "      <td>5849</td>\n",
       "      <td>0.0</td>\n",
       "      <td>NaN</td>\n",
       "      <td>360.0</td>\n",
       "      <td>1.0</td>\n",
       "      <td>Urban</td>\n",
       "      <td>Y</td>\n",
       "    </tr>\n",
       "    <tr>\n",
       "      <th>1</th>\n",
       "      <td>LP001003</td>\n",
       "      <td>Male</td>\n",
       "      <td>Yes</td>\n",
       "      <td>1</td>\n",
       "      <td>Graduate</td>\n",
       "      <td>No</td>\n",
       "      <td>4583</td>\n",
       "      <td>1508.0</td>\n",
       "      <td>128000.0</td>\n",
       "      <td>360.0</td>\n",
       "      <td>1.0</td>\n",
       "      <td>Rural</td>\n",
       "      <td>N</td>\n",
       "    </tr>\n",
       "    <tr>\n",
       "      <th>2</th>\n",
       "      <td>LP001005</td>\n",
       "      <td>Male</td>\n",
       "      <td>Yes</td>\n",
       "      <td>0</td>\n",
       "      <td>Graduate</td>\n",
       "      <td>Yes</td>\n",
       "      <td>3000</td>\n",
       "      <td>0.0</td>\n",
       "      <td>66000.0</td>\n",
       "      <td>360.0</td>\n",
       "      <td>1.0</td>\n",
       "      <td>Urban</td>\n",
       "      <td>Y</td>\n",
       "    </tr>\n",
       "    <tr>\n",
       "      <th>3</th>\n",
       "      <td>LP001006</td>\n",
       "      <td>Male</td>\n",
       "      <td>Yes</td>\n",
       "      <td>0</td>\n",
       "      <td>Not Graduate</td>\n",
       "      <td>No</td>\n",
       "      <td>2583</td>\n",
       "      <td>2358.0</td>\n",
       "      <td>120000.0</td>\n",
       "      <td>360.0</td>\n",
       "      <td>1.0</td>\n",
       "      <td>Urban</td>\n",
       "      <td>Y</td>\n",
       "    </tr>\n",
       "    <tr>\n",
       "      <th>4</th>\n",
       "      <td>LP001008</td>\n",
       "      <td>Male</td>\n",
       "      <td>No</td>\n",
       "      <td>0</td>\n",
       "      <td>Graduate</td>\n",
       "      <td>No</td>\n",
       "      <td>6000</td>\n",
       "      <td>0.0</td>\n",
       "      <td>141000.0</td>\n",
       "      <td>360.0</td>\n",
       "      <td>1.0</td>\n",
       "      <td>Urban</td>\n",
       "      <td>Y</td>\n",
       "    </tr>\n",
       "  </tbody>\n",
       "</table>\n",
       "</div>"
      ],
      "text/plain": [
       "    Loan_ID Gender Married Dependents     Education Self_Employed  \\\n",
       "0  LP001002   Male      No          0      Graduate            No   \n",
       "1  LP001003   Male     Yes          1      Graduate            No   \n",
       "2  LP001005   Male     Yes          0      Graduate           Yes   \n",
       "3  LP001006   Male     Yes          0  Not Graduate            No   \n",
       "4  LP001008   Male      No          0      Graduate            No   \n",
       "\n",
       "   ApplicantIncome  CoapplicantIncome  LoanAmount  Loan_Amount_Term  \\\n",
       "0             5849                0.0         NaN             360.0   \n",
       "1             4583             1508.0    128000.0             360.0   \n",
       "2             3000                0.0     66000.0             360.0   \n",
       "3             2583             2358.0    120000.0             360.0   \n",
       "4             6000                0.0    141000.0             360.0   \n",
       "\n",
       "   Credit_History Property_Area Loan_Status  \n",
       "0             1.0         Urban           Y  \n",
       "1             1.0         Rural           N  \n",
       "2             1.0         Urban           Y  \n",
       "3             1.0         Urban           Y  \n",
       "4             1.0         Urban           Y  "
      ]
     },
     "execution_count": 2,
     "metadata": {},
     "output_type": "execute_result"
    }
   ],
   "source": [
    "train.head()"
   ]
  },
  {
   "cell_type": "code",
   "execution_count": 3,
   "metadata": {},
   "outputs": [
    {
     "data": {
      "text/plain": [
       "Loan_ID               0\n",
       "Gender               13\n",
       "Married               3\n",
       "Dependents           15\n",
       "Education             0\n",
       "Self_Employed        32\n",
       "ApplicantIncome       0\n",
       "CoapplicantIncome     0\n",
       "LoanAmount           22\n",
       "Loan_Amount_Term     14\n",
       "Credit_History       50\n",
       "Property_Area         0\n",
       "Loan_Status           0\n",
       "dtype: int64"
      ]
     },
     "execution_count": 3,
     "metadata": {},
     "output_type": "execute_result"
    }
   ],
   "source": [
    "#Check for null/empty values\n",
    "train.isnull().sum()"
   ]
  },
  {
   "cell_type": "code",
   "execution_count": 4,
   "metadata": {},
   "outputs": [
    {
     "data": {
      "text/plain": [
       "0"
      ]
     },
     "execution_count": 4,
     "metadata": {},
     "output_type": "execute_result"
    }
   ],
   "source": [
    "#check for duplicated data\n",
    "train.duplicated().sum()"
   ]
  },
  {
   "cell_type": "code",
   "execution_count": 5,
   "metadata": {},
   "outputs": [
    {
     "data": {
      "image/png": "[encoded data removed]",
      "text/plain": [
       "<Figure size 576x360 with 1 Axes>"
      ]
     },
     "metadata": {
      "needs_background": "light"
     },
     "output_type": "display_data"
    }
   ],
   "source": [
    "#checking the distribution of the target column (Loan Status)\n",
    "plt.figure(figsize=(8,5))\n",
    "plt.title('Loan Status Count')\n",
    "sns.countplot(data=train,x='Loan_Status');"
   ]
  },
  {
   "cell_type": "code",
   "execution_count": 6,
   "metadata": {},
   "outputs": [
    {
     "data": {
      "text/plain": [
       "Y    0.69\n",
       "N    0.31\n",
       "Name: Loan_Status, dtype: float64"
      ]
     },
     "execution_count": 6,
     "metadata": {},
     "output_type": "execute_result"
    }
   ],
   "source": [
    "round(train['Loan_Status'].value_counts(normalize=True),2)"
   ]
  },
  {
   "cell_type": "markdown",
   "metadata": {},
   "source": [
    "The target column is distributed between 69% and 31% for YES and NO respectively"
   ]
  },
  {
   "cell_type": "code",
   "execution_count": 7,
   "metadata": {},
   "outputs": [
    {
     "data": {
      "image/png": "[encoded data removed]",
      "text/plain": [
       "<Figure size 936x576 with 1 Axes>"
      ]
     },
     "metadata": {
      "needs_background": "light"
     },
     "output_type": "display_data"
    }
   ],
   "source": [
    "#Check for the distribution of loan amount\n",
    "train['LoanAmount'].plot(kind='hist',figsize=(13,8),bins=50,edgecolor='k').autoscale(axis='x',tight=True)"
   ]
  },
  {
   "cell_type": "code",
   "execution_count": 8,
   "metadata": {},
   "outputs": [
    {
     "data": {
      "image/png": "[encoded data removed]",
      "text/plain": [
       "<Figure size 288x504 with 1 Axes>"
      ]
     },
     "metadata": {
      "needs_background": "light"
     },
     "output_type": "display_data"
    }
   ],
   "source": [
    "train.boxplot(column='LoanAmount',figsize=(4,7));"
   ]
  },
  {
   "cell_type": "markdown",
   "metadata": {},
   "source": [
    "The graphical representation shows that the loan amount is skewed to the right in the histogram and with outliers showed clearly in the box plot. This would be tackled later on in this analysis"
   ]
  },
  {
   "cell_type": "code",
   "execution_count": 9,
   "metadata": {},
   "outputs": [
    {
     "data": {
      "image/png": "[encoded data removed]",
      "text/plain": [
       "<Figure size 936x576 with 1 Axes>"
      ]
     },
     "metadata": {
      "needs_background": "light"
     },
     "output_type": "display_data"
    }
   ],
   "source": [
    "#Check for the distribution of loan amount\n",
    "train['ApplicantIncome'].plot(kind='hist',figsize=(13,8),bins=50,edgecolor='k',title='Applicant Income Distribution').autoscale(axis='x',tight=True)"
   ]
  },
  {
   "cell_type": "code",
   "execution_count": 10,
   "metadata": {},
   "outputs": [
    {
     "data": {
      "image/png": "[encoded data removed]",
      "text/plain": [
       "<Figure size 936x576 with 1 Axes>"
      ]
     },
     "metadata": {
      "needs_background": "light"
     },
     "output_type": "display_data"
    }
   ],
   "source": [
    "#Check for the distribution of loan amount\n",
    "train['CoapplicantIncome'].plot(kind='hist',figsize=(13,8),bins=50,edgecolor='k',title='Distribution of Coapplicant Income').autoscale(axis='x',tight=True)"
   ]
  },
  {
   "cell_type": "code",
   "execution_count": 11,
   "metadata": {},
   "outputs": [
    {
     "data": {
      "text/html": [
       "<div>\n",
       "<style scoped>\n",
       "    .dataframe tbody tr th:only-of-type {\n",
       "        vertical-align: middle;\n",
       "    }\n",
       "\n",
       "    .dataframe tbody tr th {\n",
       "        vertical-align: top;\n",
       "    }\n",
       "\n",
       "    .dataframe thead th {\n",
       "        text-align: right;\n",
       "    }\n",
       "</style>\n",
       "<table border=\"1\" class=\"dataframe\">\n",
       "  <thead>\n",
       "    <tr style=\"text-align: right;\">\n",
       "      <th></th>\n",
       "      <th>Loan_ID</th>\n",
       "      <th>Gender</th>\n",
       "      <th>Married</th>\n",
       "      <th>Dependents</th>\n",
       "      <th>Education</th>\n",
       "      <th>Self_Employed</th>\n",
       "      <th>ApplicantIncome</th>\n",
       "      <th>CoapplicantIncome</th>\n",
       "      <th>LoanAmount</th>\n",
       "      <th>Loan_Amount_Term</th>\n",
       "      <th>Credit_History</th>\n",
       "      <th>Property_Area</th>\n",
       "      <th>Loan_Status</th>\n",
       "    </tr>\n",
       "  </thead>\n",
       "  <tbody>\n",
       "    <tr>\n",
       "      <th>0</th>\n",
       "      <td>LP001002</td>\n",
       "      <td>Male</td>\n",
       "      <td>No</td>\n",
       "      <td>0</td>\n",
       "      <td>Graduate</td>\n",
       "      <td>No</td>\n",
       "      <td>5849</td>\n",
       "      <td>0.0</td>\n",
       "      <td>NaN</td>\n",
       "      <td>360.0</td>\n",
       "      <td>1.0</td>\n",
       "      <td>Urban</td>\n",
       "      <td>Y</td>\n",
       "    </tr>\n",
       "    <tr>\n",
       "      <th>1</th>\n",
       "      <td>LP001003</td>\n",
       "      <td>Male</td>\n",
       "      <td>Yes</td>\n",
       "      <td>1</td>\n",
       "      <td>Graduate</td>\n",
       "      <td>No</td>\n",
       "      <td>4583</td>\n",
       "      <td>1508.0</td>\n",
       "      <td>128000.0</td>\n",
       "      <td>360.0</td>\n",
       "      <td>1.0</td>\n",
       "      <td>Rural</td>\n",
       "      <td>N</td>\n",
       "    </tr>\n",
       "    <tr>\n",
       "      <th>2</th>\n",
       "      <td>LP001005</td>\n",
       "      <td>Male</td>\n",
       "      <td>Yes</td>\n",
       "      <td>0</td>\n",
       "      <td>Graduate</td>\n",
       "      <td>Yes</td>\n",
       "      <td>3000</td>\n",
       "      <td>0.0</td>\n",
       "      <td>66000.0</td>\n",
       "      <td>360.0</td>\n",
       "      <td>1.0</td>\n",
       "      <td>Urban</td>\n",
       "      <td>Y</td>\n",
       "    </tr>\n",
       "    <tr>\n",
       "      <th>3</th>\n",
       "      <td>LP001006</td>\n",
       "      <td>Male</td>\n",
       "      <td>Yes</td>\n",
       "      <td>0</td>\n",
       "      <td>Not Graduate</td>\n",
       "      <td>No</td>\n",
       "      <td>2583</td>\n",
       "      <td>2358.0</td>\n",
       "      <td>120000.0</td>\n",
       "      <td>360.0</td>\n",
       "      <td>1.0</td>\n",
       "      <td>Urban</td>\n",
       "      <td>Y</td>\n",
       "    </tr>\n",
       "    <tr>\n",
       "      <th>4</th>\n",
       "      <td>LP001008</td>\n",
       "      <td>Male</td>\n",
       "      <td>No</td>\n",
       "      <td>0</td>\n",
       "      <td>Graduate</td>\n",
       "      <td>No</td>\n",
       "      <td>6000</td>\n",
       "      <td>0.0</td>\n",
       "      <td>141000.0</td>\n",
       "      <td>360.0</td>\n",
       "      <td>1.0</td>\n",
       "      <td>Urban</td>\n",
       "      <td>Y</td>\n",
       "    </tr>\n",
       "  </tbody>\n",
       "</table>\n",
       "</div>"
      ],
      "text/plain": [
       "    Loan_ID Gender Married Dependents     Education Self_Employed  \\\n",
       "0  LP001002   Male      No          0      Graduate            No   \n",
       "1  LP001003   Male     Yes          1      Graduate            No   \n",
       "2  LP001005   Male     Yes          0      Graduate           Yes   \n",
       "3  LP001006   Male     Yes          0  Not Graduate            No   \n",
       "4  LP001008   Male      No          0      Graduate            No   \n",
       "\n",
       "   ApplicantIncome  CoapplicantIncome  LoanAmount  Loan_Amount_Term  \\\n",
       "0             5849                0.0         NaN             360.0   \n",
       "1             4583             1508.0    128000.0             360.0   \n",
       "2             3000                0.0     66000.0             360.0   \n",
       "3             2583             2358.0    120000.0             360.0   \n",
       "4             6000                0.0    141000.0             360.0   \n",
       "\n",
       "   Credit_History Property_Area Loan_Status  \n",
       "0             1.0         Urban           Y  \n",
       "1             1.0         Rural           N  \n",
       "2             1.0         Urban           Y  \n",
       "3             1.0         Urban           Y  \n",
       "4             1.0         Urban           Y  "
      ]
     },
     "execution_count": 11,
     "metadata": {},
     "output_type": "execute_result"
    }
   ],
   "source": [
    "train.head()"
   ]
  },
  {
   "cell_type": "markdown",
   "metadata": {},
   "source": [
    "The countplot shows most loans are approved for people in the **Semiurban areas** with a count of 179 for Y. The less approved being the rural property areas, have a count of 110 for Y."
   ]
  },
  {
   "cell_type": "code",
   "execution_count": 12,
   "metadata": {
    "scrolled": true
   },
   "outputs": [
    {
     "data": {
      "text/html": [
       "<div>\n",
       "<style scoped>\n",
       "    .dataframe tbody tr th:only-of-type {\n",
       "        vertical-align: middle;\n",
       "    }\n",
       "\n",
       "    .dataframe tbody tr th {\n",
       "        vertical-align: top;\n",
       "    }\n",
       "\n",
       "    .dataframe thead th {\n",
       "        text-align: right;\n",
       "    }\n",
       "</style>\n",
       "<table border=\"1\" class=\"dataframe\">\n",
       "  <thead>\n",
       "    <tr style=\"text-align: right;\">\n",
       "      <th></th>\n",
       "      <th></th>\n",
       "      <th>Loan_Status</th>\n",
       "    </tr>\n",
       "    <tr>\n",
       "      <th>Property_Area</th>\n",
       "      <th>Loan_Status</th>\n",
       "      <th></th>\n",
       "    </tr>\n",
       "  </thead>\n",
       "  <tbody>\n",
       "    <tr>\n",
       "      <th rowspan=\"2\" valign=\"top\">Rural</th>\n",
       "      <th>N</th>\n",
       "      <td>69</td>\n",
       "    </tr>\n",
       "    <tr>\n",
       "      <th>Y</th>\n",
       "      <td>110</td>\n",
       "    </tr>\n",
       "    <tr>\n",
       "      <th rowspan=\"2\" valign=\"top\">Semiurban</th>\n",
       "      <th>N</th>\n",
       "      <td>54</td>\n",
       "    </tr>\n",
       "    <tr>\n",
       "      <th>Y</th>\n",
       "      <td>179</td>\n",
       "    </tr>\n",
       "    <tr>\n",
       "      <th rowspan=\"2\" valign=\"top\">Urban</th>\n",
       "      <th>N</th>\n",
       "      <td>69</td>\n",
       "    </tr>\n",
       "    <tr>\n",
       "      <th>Y</th>\n",
       "      <td>133</td>\n",
       "    </tr>\n",
       "  </tbody>\n",
       "</table>\n",
       "</div>"
      ],
      "text/plain": [
       "                           Loan_Status\n",
       "Property_Area Loan_Status             \n",
       "Rural         N                     69\n",
       "              Y                    110\n",
       "Semiurban     N                     54\n",
       "              Y                    179\n",
       "Urban         N                     69\n",
       "              Y                    133"
      ]
     },
     "execution_count": 12,
     "metadata": {},
     "output_type": "execute_result"
    }
   ],
   "source": [
    "pd.DataFrame(train.groupby(['Property_Area','Loan_Status'])['Loan_Status'].count())"
   ]
  },
  {
   "cell_type": "code",
   "execution_count": 13,
   "metadata": {},
   "outputs": [
    {
     "data": {
      "image/png": "[encoded data removed]",
      "text/plain": [
       "<Figure size 576x360 with 1 Axes>"
      ]
     },
     "metadata": {
      "needs_background": "light"
     },
     "output_type": "display_data"
    }
   ],
   "source": [
    "plt.figure(figsize=(8,5))\n",
    "sns.countplot(data=train,x='Property_Area',hue='Loan_Status');"
   ]
  },
  {
   "cell_type": "code",
   "execution_count": 14,
   "metadata": {},
   "outputs": [
    {
     "data": {
      "text/html": [
       "<div>\n",
       "<style scoped>\n",
       "    .dataframe tbody tr th:only-of-type {\n",
       "        vertical-align: middle;\n",
       "    }\n",
       "\n",
       "    .dataframe tbody tr th {\n",
       "        vertical-align: top;\n",
       "    }\n",
       "\n",
       "    .dataframe thead th {\n",
       "        text-align: right;\n",
       "    }\n",
       "</style>\n",
       "<table border=\"1\" class=\"dataframe\">\n",
       "  <thead>\n",
       "    <tr style=\"text-align: right;\">\n",
       "      <th></th>\n",
       "      <th></th>\n",
       "      <th>Loan_Status</th>\n",
       "    </tr>\n",
       "    <tr>\n",
       "      <th>Property_Area</th>\n",
       "      <th>Education</th>\n",
       "      <th></th>\n",
       "    </tr>\n",
       "  </thead>\n",
       "  <tbody>\n",
       "    <tr>\n",
       "      <th rowspan=\"2\" valign=\"top\">Rural</th>\n",
       "      <th>Graduate</th>\n",
       "      <td>131</td>\n",
       "    </tr>\n",
       "    <tr>\n",
       "      <th>Not Graduate</th>\n",
       "      <td>48</td>\n",
       "    </tr>\n",
       "    <tr>\n",
       "      <th rowspan=\"2\" valign=\"top\">Semiurban</th>\n",
       "      <th>Graduate</th>\n",
       "      <td>187</td>\n",
       "    </tr>\n",
       "    <tr>\n",
       "      <th>Not Graduate</th>\n",
       "      <td>46</td>\n",
       "    </tr>\n",
       "    <tr>\n",
       "      <th rowspan=\"2\" valign=\"top\">Urban</th>\n",
       "      <th>Graduate</th>\n",
       "      <td>162</td>\n",
       "    </tr>\n",
       "    <tr>\n",
       "      <th>Not Graduate</th>\n",
       "      <td>40</td>\n",
       "    </tr>\n",
       "  </tbody>\n",
       "</table>\n",
       "</div>"
      ],
      "text/plain": [
       "                            Loan_Status\n",
       "Property_Area Education                \n",
       "Rural         Graduate              131\n",
       "              Not Graduate           48\n",
       "Semiurban     Graduate              187\n",
       "              Not Graduate           46\n",
       "Urban         Graduate              162\n",
       "              Not Graduate           40"
      ]
     },
     "execution_count": 14,
     "metadata": {},
     "output_type": "execute_result"
    }
   ],
   "source": [
    "pd.DataFrame(train.groupby(['Property_Area','Education'])['Loan_Status'].count())"
   ]
  },
  {
   "cell_type": "code",
   "execution_count": 15,
   "metadata": {},
   "outputs": [
    {
     "data": {
      "image/png": "[encoded data removed]",
      "text/plain": [
       "<Figure size 864x504 with 1 Axes>"
      ]
     },
     "metadata": {
      "needs_background": "light"
     },
     "output_type": "display_data"
    }
   ],
   "source": [
    "a = pd.crosstab(train['Property_Area'],[train['Education'],train['Loan_Status']])\n",
    "a.plot(kind='bar',stacked=True,figsize=(12,7),legend=True,title='Loan status based on education and property type').legend(loc=3, bbox_to_anchor=(1.0,0.1));"
   ]
  },
  {
   "cell_type": "markdown",
   "metadata": {},
   "source": [
    "The above barplot shows that the loan status are approved mostly for **Graduates**. Those under the 'Semiurban' property have a higher probabilty of getting their loans approved if they are graduates."
   ]
  },
  {
   "cell_type": "code",
   "execution_count": 16,
   "metadata": {},
   "outputs": [
    {
     "data": {
      "image/png": "[encoded data removed]",
      "text/plain": [
       "<Figure size 864x432 with 1 Axes>"
      ]
     },
     "metadata": {
      "needs_background": "light"
     },
     "output_type": "display_data"
    }
   ],
   "source": [
    "pd.crosstab(train['Education'],train['Loan_Status']).plot(kind='bar',figsize=(12,6));"
   ]
  },
  {
   "cell_type": "code",
   "execution_count": 17,
   "metadata": {},
   "outputs": [
    {
     "data": {
      "text/html": [
       "<div>\n",
       "<style scoped>\n",
       "    .dataframe tbody tr th:only-of-type {\n",
       "        vertical-align: middle;\n",
       "    }\n",
       "\n",
       "    .dataframe tbody tr th {\n",
       "        vertical-align: top;\n",
       "    }\n",
       "\n",
       "    .dataframe thead th {\n",
       "        text-align: right;\n",
       "    }\n",
       "</style>\n",
       "<table border=\"1\" class=\"dataframe\">\n",
       "  <thead>\n",
       "    <tr style=\"text-align: right;\">\n",
       "      <th></th>\n",
       "      <th></th>\n",
       "      <th></th>\n",
       "      <th>Loan_Status</th>\n",
       "    </tr>\n",
       "    <tr>\n",
       "      <th>Education</th>\n",
       "      <th>Credit_History</th>\n",
       "      <th>Loan_Status</th>\n",
       "      <th></th>\n",
       "    </tr>\n",
       "  </thead>\n",
       "  <tbody>\n",
       "    <tr>\n",
       "      <th rowspan=\"4\" valign=\"top\">Graduate</th>\n",
       "      <th rowspan=\"2\" valign=\"top\">0.0</th>\n",
       "      <th>N</th>\n",
       "      <td>57</td>\n",
       "    </tr>\n",
       "    <tr>\n",
       "      <th>Y</th>\n",
       "      <td>6</td>\n",
       "    </tr>\n",
       "    <tr>\n",
       "      <th rowspan=\"2\" valign=\"top\">1.0</th>\n",
       "      <th>N</th>\n",
       "      <td>73</td>\n",
       "    </tr>\n",
       "    <tr>\n",
       "      <th>Y</th>\n",
       "      <td>307</td>\n",
       "    </tr>\n",
       "    <tr>\n",
       "      <th rowspan=\"4\" valign=\"top\">Not Graduate</th>\n",
       "      <th rowspan=\"2\" valign=\"top\">0.0</th>\n",
       "      <th>N</th>\n",
       "      <td>25</td>\n",
       "    </tr>\n",
       "    <tr>\n",
       "      <th>Y</th>\n",
       "      <td>1</td>\n",
       "    </tr>\n",
       "    <tr>\n",
       "      <th rowspan=\"2\" valign=\"top\">1.0</th>\n",
       "      <th>N</th>\n",
       "      <td>24</td>\n",
       "    </tr>\n",
       "    <tr>\n",
       "      <th>Y</th>\n",
       "      <td>71</td>\n",
       "    </tr>\n",
       "  </tbody>\n",
       "</table>\n",
       "</div>"
      ],
      "text/plain": [
       "                                         Loan_Status\n",
       "Education    Credit_History Loan_Status             \n",
       "Graduate     0.0            N                     57\n",
       "                            Y                      6\n",
       "             1.0            N                     73\n",
       "                            Y                    307\n",
       "Not Graduate 0.0            N                     25\n",
       "                            Y                      1\n",
       "             1.0            N                     24\n",
       "                            Y                     71"
      ]
     },
     "execution_count": 17,
     "metadata": {},
     "output_type": "execute_result"
    }
   ],
   "source": [
    "pd.DataFrame(train.groupby(['Education','Credit_History','Loan_Status'])['Loan_Status'].count())"
   ]
  },
  {
   "cell_type": "markdown",
   "metadata": {},
   "source": [
    "#### Lets analyse further to see if being a graduate with credit history contributes further into loan status approval"
   ]
  },
  {
   "cell_type": "code",
   "execution_count": 18,
   "metadata": {
    "scrolled": true
   },
   "outputs": [
    {
     "data": {
      "image/png": "[encoded data removed]",
      "text/plain": [
       "<Figure size 720x360 with 1 Axes>"
      ]
     },
     "metadata": {
      "needs_background": "light"
     },
     "output_type": "display_data"
    }
   ],
   "source": [
    "b = pd.crosstab(train['Education'],[train['Credit_History'],train['Loan_Status']])\n",
    "b.plot(kind='bar',stacked=True,figsize=(10,5));"
   ]
  },
  {
   "cell_type": "markdown",
   "metadata": {},
   "source": [
    "#### Clearly it is showed from the data above that being a graduate with credit history gives one the upper hand of having a loan approved."
   ]
  },
  {
   "cell_type": "markdown",
   "metadata": {},
   "source": [
    "#### Further analysis\n",
    "\n",
    "Analysing credit history and its impact on loan_status and collectively, the impact of credit history, education,and employment."
   ]
  },
  {
   "cell_type": "code",
   "execution_count": 19,
   "metadata": {},
   "outputs": [
    {
     "data": {
      "text/html": [
       "<div>\n",
       "<style scoped>\n",
       "    .dataframe tbody tr th:only-of-type {\n",
       "        vertical-align: middle;\n",
       "    }\n",
       "\n",
       "    .dataframe tbody tr th {\n",
       "        vertical-align: top;\n",
       "    }\n",
       "\n",
       "    .dataframe thead th {\n",
       "        text-align: right;\n",
       "    }\n",
       "</style>\n",
       "<table border=\"1\" class=\"dataframe\">\n",
       "  <thead>\n",
       "    <tr style=\"text-align: right;\">\n",
       "      <th></th>\n",
       "      <th></th>\n",
       "      <th>Loan_Status</th>\n",
       "    </tr>\n",
       "    <tr>\n",
       "      <th>Credit_History</th>\n",
       "      <th>Loan_Status</th>\n",
       "      <th></th>\n",
       "    </tr>\n",
       "  </thead>\n",
       "  <tbody>\n",
       "    <tr>\n",
       "      <th rowspan=\"2\" valign=\"top\">0.0</th>\n",
       "      <th>N</th>\n",
       "      <td>82</td>\n",
       "    </tr>\n",
       "    <tr>\n",
       "      <th>Y</th>\n",
       "      <td>7</td>\n",
       "    </tr>\n",
       "    <tr>\n",
       "      <th rowspan=\"2\" valign=\"top\">1.0</th>\n",
       "      <th>N</th>\n",
       "      <td>97</td>\n",
       "    </tr>\n",
       "    <tr>\n",
       "      <th>Y</th>\n",
       "      <td>378</td>\n",
       "    </tr>\n",
       "  </tbody>\n",
       "</table>\n",
       "</div>"
      ],
      "text/plain": [
       "                            Loan_Status\n",
       "Credit_History Loan_Status             \n",
       "0.0            N                     82\n",
       "               Y                      7\n",
       "1.0            N                     97\n",
       "               Y                    378"
      ]
     },
     "execution_count": 19,
     "metadata": {},
     "output_type": "execute_result"
    }
   ],
   "source": [
    "pd.DataFrame(train.groupby(['Credit_History','Loan_Status'])['Loan_Status'].count())"
   ]
  },
  {
   "cell_type": "code",
   "execution_count": 20,
   "metadata": {},
   "outputs": [
    {
     "data": {
      "image/png": "[encoded data removed]",
      "text/plain": [
       "<Figure size 720x432 with 1 Axes>"
      ]
     },
     "metadata": {
      "needs_background": "light"
     },
     "output_type": "display_data"
    }
   ],
   "source": [
    "c = pd.crosstab(train['Credit_History'],train['Loan_Status'])\n",
    "c.plot(kind='bar',figsize=(10,6));"
   ]
  },
  {
   "cell_type": "code",
   "execution_count": 21,
   "metadata": {},
   "outputs": [
    {
     "data": {
      "text/html": [
       "<div>\n",
       "<style scoped>\n",
       "    .dataframe tbody tr th:only-of-type {\n",
       "        vertical-align: middle;\n",
       "    }\n",
       "\n",
       "    .dataframe tbody tr th {\n",
       "        vertical-align: top;\n",
       "    }\n",
       "\n",
       "    .dataframe thead th {\n",
       "        text-align: right;\n",
       "    }\n",
       "</style>\n",
       "<table border=\"1\" class=\"dataframe\">\n",
       "  <thead>\n",
       "    <tr style=\"text-align: right;\">\n",
       "      <th></th>\n",
       "      <th></th>\n",
       "      <th></th>\n",
       "      <th>Loan_Status</th>\n",
       "    </tr>\n",
       "    <tr>\n",
       "      <th>Education</th>\n",
       "      <th>Self_Employed</th>\n",
       "      <th>Credit_History</th>\n",
       "      <th></th>\n",
       "    </tr>\n",
       "  </thead>\n",
       "  <tbody>\n",
       "    <tr>\n",
       "      <th rowspan=\"4\" valign=\"top\">Graduate</th>\n",
       "      <th rowspan=\"2\" valign=\"top\">No</th>\n",
       "      <th>0.0</th>\n",
       "      <td>52</td>\n",
       "    </tr>\n",
       "    <tr>\n",
       "      <th>1.0</th>\n",
       "      <td>311</td>\n",
       "    </tr>\n",
       "    <tr>\n",
       "      <th rowspan=\"2\" valign=\"top\">Yes</th>\n",
       "      <th>0.0</th>\n",
       "      <td>10</td>\n",
       "    </tr>\n",
       "    <tr>\n",
       "      <th>1.0</th>\n",
       "      <td>50</td>\n",
       "    </tr>\n",
       "    <tr>\n",
       "      <th rowspan=\"4\" valign=\"top\">Not Graduate</th>\n",
       "      <th rowspan=\"2\" valign=\"top\">No</th>\n",
       "      <th>0.0</th>\n",
       "      <td>24</td>\n",
       "    </tr>\n",
       "    <tr>\n",
       "      <th>1.0</th>\n",
       "      <td>76</td>\n",
       "    </tr>\n",
       "    <tr>\n",
       "      <th rowspan=\"2\" valign=\"top\">Yes</th>\n",
       "      <th>0.0</th>\n",
       "      <td>2</td>\n",
       "    </tr>\n",
       "    <tr>\n",
       "      <th>1.0</th>\n",
       "      <td>13</td>\n",
       "    </tr>\n",
       "  </tbody>\n",
       "</table>\n",
       "</div>"
      ],
      "text/plain": [
       "                                           Loan_Status\n",
       "Education    Self_Employed Credit_History             \n",
       "Graduate     No            0.0                      52\n",
       "                           1.0                     311\n",
       "             Yes           0.0                      10\n",
       "                           1.0                      50\n",
       "Not Graduate No            0.0                      24\n",
       "                           1.0                      76\n",
       "             Yes           0.0                       2\n",
       "                           1.0                      13"
      ]
     },
     "execution_count": 21,
     "metadata": {},
     "output_type": "execute_result"
    }
   ],
   "source": [
    "pd.DataFrame(train.groupby(['Education','Self_Employed','Credit_History'])['Loan_Status'].count())"
   ]
  },
  {
   "cell_type": "code",
   "execution_count": 22,
   "metadata": {},
   "outputs": [
    {
     "data": {
      "image/png": "[encoded data removed]",
      "text/plain": [
       "<Figure size 720x432 with 1 Axes>"
      ]
     },
     "metadata": {
      "needs_background": "light"
     },
     "output_type": "display_data"
    }
   ],
   "source": [
    "d = pd.crosstab(train['Education'],[train['Self_Employed'],train['Credit_History'],train['Loan_Status']])\n",
    "d.plot(kind='bar',stacked=True,figsize=(10,6),legend=True);"
   ]
  },
  {
   "cell_type": "markdown",
   "metadata": {},
   "source": [
    "### Conclusion\n",
    "\n",
    "From this analysis, the barplot shows that the two major factors contributing to loan status approval or decline are **credit_history** and being a **graduate**. Where **credit history is the main contributing factor here**."
   ]
  },
  {
   "cell_type": "markdown",
   "metadata": {},
   "source": [
    "Lets see if loans are fairly approved among males and females"
   ]
  },
  {
   "cell_type": "code",
   "execution_count": 23,
   "metadata": {},
   "outputs": [
    {
     "data": {
      "image/png": "[encoded data removed]",
      "text/plain": [
       "<Figure size 864x432 with 1 Axes>"
      ]
     },
     "metadata": {
      "needs_background": "light"
     },
     "output_type": "display_data"
    }
   ],
   "source": [
    "pd.crosstab(train['Gender'],[train['Loan_Status'],train['Credit_History']]).plot(kind='bar',stacked=True,figsize=(12,6));"
   ]
  },
  {
   "cell_type": "code",
   "execution_count": 24,
   "metadata": {},
   "outputs": [
    {
     "data": {
      "text/html": [
       "<div>\n",
       "<style scoped>\n",
       "    .dataframe tbody tr th:only-of-type {\n",
       "        vertical-align: middle;\n",
       "    }\n",
       "\n",
       "    .dataframe tbody tr th {\n",
       "        vertical-align: top;\n",
       "    }\n",
       "\n",
       "    .dataframe thead th {\n",
       "        text-align: right;\n",
       "    }\n",
       "</style>\n",
       "<table border=\"1\" class=\"dataframe\">\n",
       "  <thead>\n",
       "    <tr style=\"text-align: right;\">\n",
       "      <th></th>\n",
       "      <th></th>\n",
       "      <th></th>\n",
       "      <th>Loan_Status</th>\n",
       "    </tr>\n",
       "    <tr>\n",
       "      <th>Gender</th>\n",
       "      <th>Credit_History</th>\n",
       "      <th>Loan_Status</th>\n",
       "      <th></th>\n",
       "    </tr>\n",
       "  </thead>\n",
       "  <tbody>\n",
       "    <tr>\n",
       "      <th rowspan=\"4\" valign=\"top\">Female</th>\n",
       "      <th rowspan=\"2\" valign=\"top\">0.0</th>\n",
       "      <th>N</th>\n",
       "      <td>16</td>\n",
       "    </tr>\n",
       "    <tr>\n",
       "      <th>Y</th>\n",
       "      <td>1</td>\n",
       "    </tr>\n",
       "    <tr>\n",
       "      <th rowspan=\"2\" valign=\"top\">1.0</th>\n",
       "      <th>N</th>\n",
       "      <td>20</td>\n",
       "    </tr>\n",
       "    <tr>\n",
       "      <th>Y</th>\n",
       "      <td>64</td>\n",
       "    </tr>\n",
       "    <tr>\n",
       "      <th rowspan=\"4\" valign=\"top\">Male</th>\n",
       "      <th rowspan=\"2\" valign=\"top\">0.0</th>\n",
       "      <th>N</th>\n",
       "      <td>63</td>\n",
       "    </tr>\n",
       "    <tr>\n",
       "      <th>Y</th>\n",
       "      <td>6</td>\n",
       "    </tr>\n",
       "    <tr>\n",
       "      <th rowspan=\"2\" valign=\"top\">1.0</th>\n",
       "      <th>N</th>\n",
       "      <td>75</td>\n",
       "    </tr>\n",
       "    <tr>\n",
       "      <th>Y</th>\n",
       "      <td>307</td>\n",
       "    </tr>\n",
       "  </tbody>\n",
       "</table>\n",
       "</div>"
      ],
      "text/plain": [
       "                                   Loan_Status\n",
       "Gender Credit_History Loan_Status             \n",
       "Female 0.0            N                     16\n",
       "                      Y                      1\n",
       "       1.0            N                     20\n",
       "                      Y                     64\n",
       "Male   0.0            N                     63\n",
       "                      Y                      6\n",
       "       1.0            N                     75\n",
       "                      Y                    307"
      ]
     },
     "execution_count": 24,
     "metadata": {},
     "output_type": "execute_result"
    }
   ],
   "source": [
    "pd.DataFrame(train.groupby(['Gender','Credit_History','Loan_Status'])['Loan_Status'].count())"
   ]
  },
  {
   "cell_type": "code",
   "execution_count": 25,
   "metadata": {},
   "outputs": [
    {
     "name": "stdout",
     "output_type": "stream",
     "text": [
      "Total count of male applicants are 489\n",
      "Total count of female applicants are 112\n"
     ]
    }
   ],
   "source": [
    "print('Total count of male applicants are', len(train[train['Gender'] == 'Male']))\n",
    "print('Total count of female applicants are', len(train[train['Gender'] == 'Female']))"
   ]
  },
  {
   "cell_type": "code",
   "execution_count": 26,
   "metadata": {},
   "outputs": [
    {
     "data": {
      "image/png": "[encoded data removed]",
      "text/plain": [
       "<Figure size 432x288 with 1 Axes>"
      ]
     },
     "metadata": {
      "needs_background": "light"
     },
     "output_type": "display_data"
    }
   ],
   "source": [
    "sns.countplot(data=train,x='Married',hue='Loan_Status');"
   ]
  },
  {
   "cell_type": "code",
   "execution_count": 27,
   "metadata": {},
   "outputs": [
    {
     "data": {
      "text/plain": [
       "Married  Loan_Status\n",
       "No       Y              63.0\n",
       "         N              37.0\n",
       "Yes      Y              72.0\n",
       "         N              28.0\n",
       "Name: Loan_Status, dtype: float64"
      ]
     },
     "execution_count": 27,
     "metadata": {},
     "output_type": "execute_result"
    }
   ],
   "source": [
    "round(100 * train.groupby('Married')['Loan_Status'].value_counts(normalize=True))"
   ]
  },
  {
   "cell_type": "code",
   "execution_count": 28,
   "metadata": {},
   "outputs": [
    {
     "name": "stdout",
     "output_type": "stream",
     "text": [
      "Total count of married applicants are 398\n",
      "Total count of single applicants are 213\n"
     ]
    }
   ],
   "source": [
    "print('Total count of married applicants are', len(train[train['Married'] == 'Yes']))\n",
    "print('Total count of single applicants are', len(train[train['Married'] == 'No']))"
   ]
  },
  {
   "cell_type": "markdown",
   "metadata": {},
   "source": [
    "Married couples have a slight possibility of having their loans approved"
   ]
  },
  {
   "cell_type": "code",
   "execution_count": 29,
   "metadata": {},
   "outputs": [
    {
     "data": {
      "image/png": "[encoded data removed]",
      "text/plain": [
       "<Figure size 864x360 with 1 Axes>"
      ]
     },
     "metadata": {
      "needs_background": "light"
     },
     "output_type": "display_data"
    }
   ],
   "source": [
    "plt.figure(figsize=(12,5))\n",
    "sns.scatterplot(data=train,x='ApplicantIncome',y='LoanAmount');"
   ]
  },
  {
   "cell_type": "code",
   "execution_count": 30,
   "metadata": {},
   "outputs": [
    {
     "data": {
      "text/plain": [
       "<Figure size 864x360 with 0 Axes>"
      ]
     },
     "metadata": {},
     "output_type": "display_data"
    },
    {
     "data": {
      "image/png": "[encoded data removed]",
      "text/plain": [
       "<Figure size 360x360 with 1 Axes>"
      ]
     },
     "metadata": {
      "needs_background": "light"
     },
     "output_type": "display_data"
    }
   ],
   "source": [
    "plt.figure(figsize=(12,5))\n",
    "sns.lmplot(data=train,x='ApplicantIncome',y='LoanAmount');"
   ]
  },
  {
   "cell_type": "code",
   "execution_count": 31,
   "metadata": {},
   "outputs": [
    {
     "data": {
      "image/png": "[encoded data removed]",
      "text/plain": [
       "<Figure size 864x360 with 1 Axes>"
      ]
     },
     "metadata": {
      "needs_background": "light"
     },
     "output_type": "display_data"
    }
   ],
   "source": [
    "plt.figure(figsize=(12,5))\n",
    "sns.scatterplot(data=train,x='CoapplicantIncome',y='LoanAmount');"
   ]
  },
  {
   "cell_type": "markdown",
   "metadata": {},
   "source": [
    "Zero here indicated that the applicants didnt have coapplicants for the loan application"
   ]
  },
  {
   "cell_type": "code",
   "execution_count": 32,
   "metadata": {
    "scrolled": true
   },
   "outputs": [
    {
     "data": {
      "application/vnd.plotly.v1+json": {
       "config": {
        "plotlyServerURL": "https://plot.ly"
       },
       "data": [
        {
         "hoverlabel": {
          "namelength": 0
         },
         "hovertemplate": "Loan_Status=Y<br>ApplicantIncome=%{x}<br>LoanAmount=%{y}",
         "legendgroup": "Loan_Status=Y",
         "marker": {
          "color": "#636efa",
          "symbol": "circle"
         },
         "mode": "markers",
         "name": "Loan_Status=Y",
         "showlegend": true,
         "type": "scatter",
         "x": [
          5849,
          3000,
          2583,
          6000,
          5417,
          2333,
          4006,
          3200,
          2500,
          3073,
          1299,
          4950,
          3596,
          2600,
          5955,
          9560,
          2799,
          4226,
          3750,
          3500,
          2275,
          3667,
          4166,
          3748,
          1800,
          2400,
          3941,
          4695,
          3410,
          5649,
          5821,
          4000,
          1928,
          3086,
          2708,
          2132,
          8080,
          3357,
          2500,
          3029,
          10750,
          7100,
          3208,
          1875,
          3500,
          5266,
          3333,
          3846,
          2395,
          3988,
          2366,
          3333,
          2500,
          8566,
          5695,
          2958,
          6250,
          3273,
          4133,
          3620,
          2484,
          1977,
          4188,
          1759,
          4288,
          4843,
          13650,
          4652,
          3816,
          3052,
          11417,
          2071,
          5316,
          2929,
          7451,
          5050,
          14583,
          3167,
          2214,
          10408,
          5667,
          4166,
          2137,
          2957,
          4300,
          3692,
          23803,
          3865,
          20166,
          2014,
          2718,
          3459,
          4895,
          3316,
          5417,
          6950,
          2698,
          11757,
          2330,
          14866,
          1538,
          4860,
          2577,
          3254,
          39999,
          6000,
          9538,
          2980,
          4583,
          1863,
          4167,
          9323,
          3707,
          2439,
          8000,
          1820,
          51763,
          5708,
          3497,
          2045,
          3750,
          4600,
          3625,
          39147,
          2383,
          674,
          9328,
          4885,
          3858,
          4191,
          8333,
          1907,
          3416,
          2600,
          4923,
          3500,
          3917,
          4408,
          3244,
          3975,
          2479,
          7787,
          5703,
          3173,
          3850,
          3727,
          4283,
          4009,
          2971,
          7578,
          6250,
          6250,
          4758,
          6400,
          2491,
          3716,
          3189,
          8333,
          3155,
          5500,
          3463,
          3812,
          3315,
          5819,
          2965,
          6250,
          3406,
          9703,
          6608,
          2882,
          1809,
          2583,
          2661,
          3083,
          6083,
          2060,
          7200,
          5166,
          4095,
          4708,
          4333,
          2876,
          3237,
          11146,
          2833,
          2620,
          3900,
          2750,
          3993,
          3103,
          14583,
          4100,
          3927,
          2301,
          1811,
          3158,
          3704,
          4124,
          9508,
          3075,
          3153,
          2383,
          4416,
          6875,
          4666,
          2875,
          5000,
          1625,
          4000,
          3762,
          7667,
          2917,
          2927,
          2507,
          5746,
          3399,
          3717,
          2058,
          3541,
          2400,
          4342,
          3601,
          3166,
          15000,
          4917,
          5818,
          2500,
          4384,
          2935,
          2833,
          63337,
          9833,
          5503,
          5250,
          2500,
          4160,
          4554,
          3173,
          2583,
          2499,
          3083,
          6333,
          2625,
          9083,
          2666,
          2423,
          3813,
          8333,
          5167,
          5000,
          4750,
          3013,
          6822,
          6325,
          15759,
          5185,
          9323,
          2764,
          4817,
          8750,
          4310,
          5391,
          3333,
          5941,
          6000,
          7167,
          3667,
          2346,
          2333,
          5488,
          9167,
          9504,
          2583,
          1993,
          3100,
          3276,
          3033,
          3902,
          2500,
          1963,
          4547,
          2167,
          2213,
          6256,
          2253,
          2995,
          1025,
          3246,
          5829,
          1820,
          14880,
          2666,
          5935,
          2920,
          2717,
          8624,
          12876,
          2425,
          3750,
          10047,
          1926,
          2213,
          7142,
          3660,
          7901,
          4707,
          37719,
          7333,
          3466,
          4652,
          1958,
          2483,
          7085,
          3859,
          4301,
          4354,
          2083,
          7740,
          3015,
          5191,
          6000,
          16692,
          210,
          3450,
          4691,
          2500,
          5532,
          16525,
          6700,
          16667,
          4350,
          3095,
          2083,
          10833,
          8333,
          1958,
          4583,
          2699,
          5333,
          3691,
          17263,
          3326,
          2600,
          4625,
          2895,
          645,
          3159,
          4865,
          3814,
          3510,
          20833,
          2479,
          13262,
          6065,
          3283,
          3466,
          2031,
          2192,
          2500,
          5677,
          7948,
          17500,
          3775,
          5285,
          2679,
          6783,
          1025,
          4281,
          18165,
          2550,
          6133,
          3617,
          6417,
          4608,
          3652,
          2239,
          3017,
          2768,
          2526,
          2785,
          2492,
          3333,
          5468,
          2667,
          10139,
          3887,
          4180,
          3675,
          19484,
          5923,
          5800,
          4467,
          3333,
          3417,
          16666,
          3159,
          3229,
          1782,
          3182,
          6540,
          3166,
          2297,
          2165,
          4750,
          3000,
          9357,
          3859,
          16120,
          3833,
          9963,
          5780,
          2894,
          5703,
          3676,
          12000,
          3400,
          3987,
          3232,
          2900,
          4106,
          8072,
          7583
         ],
         "xaxis": "x",
         "y": [
          null,
          66000,
          120000,
          141000,
          267000,
          95000,
          168000,
          70000,
          109000,
          200000,
          17000,
          125000,
          100000,
          115000,
          315000,
          191000,
          122000,
          110000,
          120000,
          114000,
          null,
          144000,
          184000,
          110000,
          47000,
          75000,
          134000,
          96000,
          88000,
          44000,
          144000,
          144000,
          100000,
          120000,
          97000,
          96000,
          180000,
          144000,
          120000,
          99000,
          312000,
          125000,
          172000,
          97000,
          81000,
          187000,
          130000,
          111000,
          null,
          50000,
          136000,
          99000,
          104000,
          210000,
          175000,
          131000,
          188000,
          81000,
          122000,
          25000,
          137000,
          50000,
          115000,
          131000,
          133000,
          151000,
          null,
          null,
          160000,
          100000,
          225000,
          94000,
          136000,
          139000,
          null,
          118000,
          185000,
          154000,
          85000,
          259000,
          180000,
          44000,
          137000,
          81000,
          194000,
          93000,
          370000,
          null,
          650000,
          74000,
          70000,
          25000,
          102000,
          88000,
          168000,
          175000,
          122000,
          187000,
          100000,
          70000,
          30000,
          125000,
          152000,
          50000,
          600000,
          160000,
          187000,
          120000,
          255000,
          98000,
          158000,
          75000,
          182000,
          129000,
          200000,
          95000,
          700000,
          187000,
          116000,
          101000,
          116000,
          73000,
          108000,
          120000,
          58000,
          168000,
          188000,
          48000,
          76000,
          120000,
          187000,
          120000,
          113000,
          90000,
          166000,
          135000,
          124000,
          120000,
          80000,
          55000,
          59000,
          240000,
          130000,
          137000,
          100000,
          131000,
          127000,
          116000,
          144000,
          175000,
          128000,
          210000,
          158000,
          200000,
          104000,
          42000,
          120000,
          280000,
          140000,
          170000,
          122000,
          112000,
          96000,
          120000,
          155000,
          108000,
          123000,
          112000,
          137000,
          123000,
          90000,
          104000,
          279000,
          255000,
          330000,
          134000,
          120000,
          128000,
          151000,
          150000,
          160000,
          90000,
          30000,
          136000,
          126000,
          150000,
          90000,
          115000,
          207000,
          80000,
          436000,
          124000,
          112000,
          78000,
          54000,
          89000,
          120000,
          115000,
          187000,
          139000,
          134000,
          172000,
          110000,
          200000,
          135000,
          105000,
          132000,
          96000,
          140000,
          135000,
          185000,
          84000,
          111000,
          56000,
          144000,
          111000,
          120000,
          88000,
          112000,
          115000,
          124000,
          null,
          132000,
          300000,
          130000,
          184000,
          67000,
          117000,
          98000,
          71000,
          490000,
          182000,
          70000,
          160000,
          176000,
          71000,
          158000,
          74000,
          125000,
          160000,
          126000,
          259000,
          187000,
          228000,
          95000,
          130000,
          116000,
          165000,
          200000,
          236000,
          130000,
          95000,
          141000,
          175000,
          55000,
          155000,
          380000,
          110000,
          120000,
          130000,
          130000,
          130000,
          128000,
          296000,
          156000,
          128000,
          113000,
          132000,
          136000,
          125000,
          185000,
          275000,
          120000,
          113000,
          113000,
          135000,
          95000,
          109000,
          103000,
          53000,
          115000,
          115000,
          66000,
          160000,
          110000,
          60000,
          112000,
          138000,
          138000,
          100000,
          96000,
          121000,
          133000,
          87000,
          60000,
          150000,
          405000,
          143000,
          100000,
          null,
          50000,
          null,
          138000,
          187000,
          180000,
          148000,
          152000,
          175000,
          130000,
          110000,
          60000,
          90000,
          84000,
          96000,
          118000,
          136000,
          160000,
          128000,
          153000,
          132000,
          140000,
          110000,
          98000,
          162000,
          100000,
          93000,
          162000,
          150000,
          230000,
          86000,
          154000,
          113000,
          128000,
          234000,
          246000,
          131000,
          160000,
          96000,
          186000,
          110000,
          225000,
          105000,
          107000,
          111000,
          95000,
          113000,
          100000,
          208000,
          124000,
          243000,
          480000,
          188000,
          40000,
          250000,
          148000,
          150000,
          113000,
          45000,
          55000,
          100000,
          480000,
          400000,
          110000,
          161000,
          94000,
          130000,
          216000,
          100000,
          125000,
          126000,
          324000,
          107000,
          157000,
          140000,
          95000,
          128000,
          102000,
          155000,
          145000,
          110000,
          null,
          158000,
          26000,
          84000,
          260000,
          162000,
          182000,
          108000,
          600000,
          211000,
          132000,
          120000,
          70000,
          186000,
          275000,
          108000,
          110000,
          107000,
          161000,
          205000,
          36000,
          104000,
          70000,
          94000,
          56000,
          292000,
          142000,
          260000,
          110000,
          180000,
          192000,
          155000,
          128000,
          172000,
          496000,
          173000,
          157000,
          108000,
          71000,
          40000,
          253000,
          187000
         ],
         "yaxis": "y"
        },
        {
         "hoverlabel": {
          "namelength": 0
         },
         "hovertemplate": "Loan_Status=N<br>ApplicantIncome=%{x}<br>LoanAmount=%{y}",
         "legendgroup": "Loan_Status=N",
         "marker": {
          "color": "#EF553B",
          "symbol": "circle"
         },
         "mode": "markers",
         "name": "Loan_Status=N",
         "showlegend": true,
         "type": "scatter",
         "x": [
          4583,
          3036,
          12841,
          1853,
          3510,
          4887,
          7660,
          2600,
          3365,
          3717,
          1442,
          4166,
          3167,
          4692,
          12500,
          1828,
          3600,
          2645,
          4230,
          4616,
          11500,
          3366,
          2609,
          4945,
          4166,
          5726,
          3200,
          4300,
          4755,
          3750,
          3750,
          1000,
          3167,
          1378,
          6000,
          6782,
          7333,
          3800,
          3572,
          5568,
          10513,
          6080,
          4000,
          4583,
          14999,
          4200,
          5042,
          10000,
          6277,
          9166,
          2281,
          7933,
          3089,
          4583,
          2237,
          3522,
          4344,
          5516,
          2333,
          6400,
          1916,
          33846,
          2178,
          12000,
          6033,
          3125,
          11000,
          3992,
          3418,
          10000,
          3430,
          150,
          5000,
          2221,
          3250,
          4735,
          5746,
          2510,
          6050,
          1668,
          3427,
          16250,
          6045,
          5250,
          14683,
          4931,
          3481,
          3418,
          4053,
          20667,
          2600,
          4400,
          5417,
          5000,
          2014,
          1800,
          2000,
          2400,
          20233,
          2473,
          10000,
          8666,
          4333,
          1830,
          2647,
          2378,
          3523,
          8750,
          5500,
          3875,
          3000,
          4723,
          6216,
          2500,
          5124,
          19730,
          3062,
          3069,
          4566,
          3010,
          3180,
          1500,
          2889,
          2755,
          7441,
          8300,
          81000,
          3867,
          6096,
          2149,
          2600,
          1600,
          2720,
          7250,
          4606,
          6500,
          10416,
          3539,
          3340,
          2769,
          2309,
          3948,
          3708,
          8334,
          4166,
          2947,
          4333,
          2653,
          2873,
          2947,
          3547,
          18333,
          2435,
          3597,
          6283,
          4050,
          3583,
          3598,
          2130,
          5815,
          3074,
          4683,
          3400,
          4680,
          3588,
          11250,
          2917,
          2138,
          3358,
          5000,
          6633,
          2454,
          3593,
          8799,
          3400,
          2378,
          3166,
          5116,
          6125,
          6406,
          3087,
          1836,
          1880,
          2787,
          4283,
          2726,
          6000,
          6383,
          2987,
          416,
          2400,
          4583
         ],
         "xaxis": "x",
         "y": [
          128000,
          158000,
          349000,
          114000,
          76000,
          133000,
          104000,
          116000,
          112000,
          151000,
          35000,
          201000,
          74000,
          106000,
          320000,
          100000,
          80000,
          120000,
          112000,
          134000,
          286000,
          135000,
          165000,
          null,
          116000,
          258000,
          126000,
          136000,
          95000,
          113000,
          176000,
          110000,
          180000,
          167000,
          265000,
          null,
          120000,
          216000,
          152000,
          175000,
          160000,
          182000,
          290000,
          84000,
          242000,
          129000,
          185000,
          225000,
          118000,
          244000,
          113000,
          275000,
          121000,
          112000,
          63000,
          81000,
          87000,
          495000,
          102000,
          180000,
          67000,
          260000,
          66000,
          164000,
          160000,
          170000,
          83000,
          null,
          127000,
          214000,
          128000,
          135000,
          72000,
          60000,
          170000,
          138000,
          255000,
          140000,
          120000,
          201000,
          138000,
          192000,
          115000,
          94000,
          304000,
          128000,
          155000,
          135000,
          158000,
          null,
          99000,
          127000,
          143000,
          151000,
          113000,
          93000,
          null,
          104000,
          480000,
          159000,
          155000,
          376000,
          110000,
          null,
          173000,
          46000,
          152000,
          308000,
          105000,
          67000,
          100000,
          81000,
          133000,
          96000,
          124000,
          570000,
          111000,
          71000,
          100000,
          null,
          71000,
          103000,
          45000,
          65000,
          194000,
          152000,
          360000,
          62000,
          218000,
          178000,
          160000,
          239000,
          80000,
          110000,
          81000,
          105000,
          187000,
          55000,
          150000,
          190000,
          125000,
          149000,
          173000,
          160000,
          98000,
          70000,
          110000,
          113000,
          132000,
          null,
          80000,
          500000,
          75000,
          119000,
          209000,
          138000,
          96000,
          100000,
          70000,
          311000,
          123000,
          185000,
          95000,
          null,
          110000,
          196000,
          66000,
          99000,
          80000,
          103000,
          null,
          181000,
          132000,
          258000,
          123000,
          9000,
          104000,
          165000,
          187000,
          150000,
          136000,
          90000,
          61000,
          146000,
          172000,
          106000,
          205000,
          187000,
          88000,
          350000,
          null,
          133000
         ],
         "yaxis": "y"
        }
       ],
       "layout": {
        "legend": {
         "tracegroupgap": 0
        },
        "template": {
         "data": {
          "bar": [
           {
            "error_x": {
             "color": "#2a3f5f"
            },
            "error_y": {
             "color": "#2a3f5f"
            },
            "marker": {
             "line": {
              "color": "#E5ECF6",
              "width": 0.5
             }
            },
            "type": "bar"
           }
          ],
          "barpolar": [
           {
            "marker": {
             "line": {
              "color": "#E5ECF6",
              "width": 0.5
             }
            },
            "type": "barpolar"
           }
          ],
          "carpet": [
           {
            "aaxis": {
             "endlinecolor": "#2a3f5f",
             "gridcolor": "white",
             "linecolor": "white",
             "minorgridcolor": "white",
             "startlinecolor": "#2a3f5f"
            },
            "baxis": {
             "endlinecolor": "#2a3f5f",
             "gridcolor": "white",
             "linecolor": "white",
             "minorgridcolor": "white",
             "startlinecolor": "#2a3f5f"
            },
            "type": "carpet"
           }
          ],
          "choropleth": [
           {
            "colorbar": {
             "outlinewidth": 0,
             "ticks": ""
            },
            "type": "choropleth"
           }
          ],
          "contour": [
           {
            "colorbar": {
             "outlinewidth": 0,
             "ticks": ""
            },
            "colorscale": [
             [
              0,
              "#0d0887"
             ],
             [
              0.1111111111111111,
              "#46039f"
             ],
             [
              0.2222222222222222,
              "#7201a8"
             ],
             [
              0.3333333333333333,
              "#9c179e"
             ],
             [
              0.4444444444444444,
              "#bd3786"
             ],
             [
              0.5555555555555556,
              "#d8576b"
             ],
             [
              0.6666666666666666,
              "#ed7953"
             ],
             [
              0.7777777777777778,
              "#fb9f3a"
             ],
             [
              0.8888888888888888,
              "#fdca26"
             ],
             [
              1,
              "#f0f921"
             ]
            ],
            "type": "contour"
           }
          ],
          "contourcarpet": [
           {
            "colorbar": {
             "outlinewidth": 0,
             "ticks": ""
            },
            "type": "contourcarpet"
           }
          ],
          "heatmap": [
           {
            "colorbar": {
             "outlinewidth": 0,
             "ticks": ""
            },
            "colorscale": [
             [
              0,
              "#0d0887"
             ],
             [
              0.1111111111111111,
              "#46039f"
             ],
             [
              0.2222222222222222,
              "#7201a8"
             ],
             [
              0.3333333333333333,
              "#9c179e"
             ],
             [
              0.4444444444444444,
              "#bd3786"
             ],
             [
              0.5555555555555556,
              "#d8576b"
             ],
             [
              0.6666666666666666,
              "#ed7953"
             ],
             [
              0.7777777777777778,
              "#fb9f3a"
             ],
             [
              0.8888888888888888,
              "#fdca26"
             ],
             [
              1,
              "#f0f921"
             ]
            ],
            "type": "heatmap"
           }
          ],
          "heatmapgl": [
           {
            "colorbar": {
             "outlinewidth": 0,
             "ticks": ""
            },
            "colorscale": [
             [
              0,
              "#0d0887"
             ],
             [
              0.1111111111111111,
              "#46039f"
             ],
             [
              0.2222222222222222,
              "#7201a8"
             ],
             [
              0.3333333333333333,
              "#9c179e"
             ],
             [
              0.4444444444444444,
              "#bd3786"
             ],
             [
              0.5555555555555556,
              "#d8576b"
             ],
             [
              0.6666666666666666,
              "#ed7953"
             ],
             [
              0.7777777777777778,
              "#fb9f3a"
             ],
             [
              0.8888888888888888,
              "#fdca26"
             ],
             [
              1,
              "#f0f921"
             ]
            ],
            "type": "heatmapgl"
           }
          ],
          "histogram": [
           {
            "marker": {
             "colorbar": {
              "outlinewidth": 0,
              "ticks": ""
             }
            },
            "type": "histogram"
           }
          ],
          "histogram2d": [
           {
            "colorbar": {
             "outlinewidth": 0,
             "ticks": ""
            },
            "colorscale": [
             [
              0,
              "#0d0887"
             ],
             [
              0.1111111111111111,
              "#46039f"
             ],
             [
              0.2222222222222222,
              "#7201a8"
             ],
             [
              0.3333333333333333,
              "#9c179e"
             ],
             [
              0.4444444444444444,
              "#bd3786"
             ],
             [
              0.5555555555555556,
              "#d8576b"
             ],
             [
              0.6666666666666666,
              "#ed7953"
             ],
             [
              0.7777777777777778,
              "#fb9f3a"
             ],
             [
              0.8888888888888888,
              "#fdca26"
             ],
             [
              1,
              "#f0f921"
             ]
            ],
            "type": "histogram2d"
           }
          ],
          "histogram2dcontour": [
           {
            "colorbar": {
             "outlinewidth": 0,
             "ticks": ""
            },
            "colorscale": [
             [
              0,
              "#0d0887"
             ],
             [
              0.1111111111111111,
              "#46039f"
             ],
             [
              0.2222222222222222,
              "#7201a8"
             ],
             [
              0.3333333333333333,
              "#9c179e"
             ],
             [
              0.4444444444444444,
              "#bd3786"
             ],
             [
              0.5555555555555556,
              "#d8576b"
             ],
             [
              0.6666666666666666,
              "#ed7953"
             ],
             [
              0.7777777777777778,
              "#fb9f3a"
             ],
             [
              0.8888888888888888,
              "#fdca26"
             ],
             [
              1,
              "#f0f921"
             ]
            ],
            "type": "histogram2dcontour"
           }
          ],
          "mesh3d": [
           {
            "colorbar": {
             "outlinewidth": 0,
             "ticks": ""
            },
            "type": "mesh3d"
           }
          ],
          "parcoords": [
           {
            "line": {
             "colorbar": {
              "outlinewidth": 0,
              "ticks": ""
             }
            },
            "type": "parcoords"
           }
          ],
          "pie": [
           {
            "automargin": true,
            "type": "pie"
           }
          ],
          "scatter": [
           {
            "marker": {
             "colorbar": {
              "outlinewidth": 0,
              "ticks": ""
             }
            },
            "type": "scatter"
           }
          ],
          "scatter3d": [
           {
            "line": {
             "colorbar": {
              "outlinewidth": 0,
              "ticks": ""
             }
            },
            "marker": {
             "colorbar": {
              "outlinewidth": 0,
              "ticks": ""
             }
            },
            "type": "scatter3d"
           }
          ],
          "scattercarpet": [
           {
            "marker": {
             "colorbar": {
              "outlinewidth": 0,
              "ticks": ""
             }
            },
            "type": "scattercarpet"
           }
          ],
          "scattergeo": [
           {
            "marker": {
             "colorbar": {
              "outlinewidth": 0,
              "ticks": ""
             }
            },
            "type": "scattergeo"
           }
          ],
          "scattergl": [
           {
            "marker": {
             "colorbar": {
              "outlinewidth": 0,
              "ticks": ""
             }
            },
            "type": "scattergl"
           }
          ],
          "scattermapbox": [
           {
            "marker": {
             "colorbar": {
              "outlinewidth": 0,
              "ticks": ""
             }
            },
            "type": "scattermapbox"
           }
          ],
          "scatterpolar": [
           {
            "marker": {
             "colorbar": {
              "outlinewidth": 0,
              "ticks": ""
             }
            },
            "type": "scatterpolar"
           }
          ],
          "scatterpolargl": [
           {
            "marker": {
             "colorbar": {
              "outlinewidth": 0,
              "ticks": ""
             }
            },
            "type": "scatterpolargl"
           }
          ],
          "scatterternary": [
           {
            "marker": {
             "colorbar": {
              "outlinewidth": 0,
              "ticks": ""
             }
            },
            "type": "scatterternary"
           }
          ],
          "surface": [
           {
            "colorbar": {
             "outlinewidth": 0,
             "ticks": ""
            },
            "colorscale": [
             [
              0,
              "#0d0887"
             ],
             [
              0.1111111111111111,
              "#46039f"
             ],
             [
              0.2222222222222222,
              "#7201a8"
             ],
             [
              0.3333333333333333,
              "#9c179e"
             ],
             [
              0.4444444444444444,
              "#bd3786"
             ],
             [
              0.5555555555555556,
              "#d8576b"
             ],
             [
              0.6666666666666666,
              "#ed7953"
             ],
             [
              0.7777777777777778,
              "#fb9f3a"
             ],
             [
              0.8888888888888888,
              "#fdca26"
             ],
             [
              1,
              "#f0f921"
             ]
            ],
            "type": "surface"
           }
          ],
          "table": [
           {
            "cells": {
             "fill": {
              "color": "#EBF0F8"
             },
             "line": {
              "color": "white"
             }
            },
            "header": {
             "fill": {
              "color": "#C8D4E3"
             },
             "line": {
              "color": "white"
             }
            },
            "type": "table"
           }
          ]
         },
         "layout": {
          "annotationdefaults": {
           "arrowcolor": "#2a3f5f",
           "arrowhead": 0,
           "arrowwidth": 1
          },
          "coloraxis": {
           "colorbar": {
            "outlinewidth": 0,
            "ticks": ""
           }
          },
          "colorscale": {
           "diverging": [
            [
             0,
             "#8e0152"
            ],
            [
             0.1,
             "#c51b7d"
            ],
            [
             0.2,
             "#de77ae"
            ],
            [
             0.3,
             "#f1b6da"
            ],
            [
             0.4,
             "#fde0ef"
            ],
            [
             0.5,
             "#f7f7f7"
            ],
            [
             0.6,
             "#e6f5d0"
            ],
            [
             0.7,
             "#b8e186"
            ],
            [
             0.8,
             "#7fbc41"
            ],
            [
             0.9,
             "#4d9221"
            ],
            [
             1,
             "#276419"
            ]
           ],
           "sequential": [
            [
             0,
             "#0d0887"
            ],
            [
             0.1111111111111111,
             "#46039f"
            ],
            [
             0.2222222222222222,
             "#7201a8"
            ],
            [
             0.3333333333333333,
             "#9c179e"
            ],
            [
             0.4444444444444444,
             "#bd3786"
            ],
            [
             0.5555555555555556,
             "#d8576b"
            ],
            [
             0.6666666666666666,
             "#ed7953"
            ],
            [
             0.7777777777777778,
             "#fb9f3a"
            ],
            [
             0.8888888888888888,
             "#fdca26"
            ],
            [
             1,
             "#f0f921"
            ]
           ],
           "sequentialminus": [
            [
             0,
             "#0d0887"
            ],
            [
             0.1111111111111111,
             "#46039f"
            ],
            [
             0.2222222222222222,
             "#7201a8"
            ],
            [
             0.3333333333333333,
             "#9c179e"
            ],
            [
             0.4444444444444444,
             "#bd3786"
            ],
            [
             0.5555555555555556,
             "#d8576b"
            ],
            [
             0.6666666666666666,
             "#ed7953"
            ],
            [
             0.7777777777777778,
             "#fb9f3a"
            ],
            [
             0.8888888888888888,
             "#fdca26"
            ],
            [
             1,
             "#f0f921"
            ]
           ]
          },
          "colorway": [
           "#636efa",
           "#EF553B",
           "#00cc96",
           "#ab63fa",
           "#FFA15A",
           "#19d3f3",
           "#FF6692",
           "#B6E880",
           "#FF97FF",
           "#FECB52"
          ],
          "font": {
           "color": "#2a3f5f"
          },
          "geo": {
           "bgcolor": "white",
           "lakecolor": "white",
           "landcolor": "#E5ECF6",
           "showlakes": true,
           "showland": true,
           "subunitcolor": "white"
          },
          "hoverlabel": {
           "align": "left"
          },
          "hovermode": "closest",
          "mapbox": {
           "style": "light"
          },
          "paper_bgcolor": "white",
          "plot_bgcolor": "#E5ECF6",
          "polar": {
           "angularaxis": {
            "gridcolor": "white",
            "linecolor": "white",
            "ticks": ""
           },
           "bgcolor": "#E5ECF6",
           "radialaxis": {
            "gridcolor": "white",
            "linecolor": "white",
            "ticks": ""
           }
          },
          "scene": {
           "xaxis": {
            "backgroundcolor": "#E5ECF6",
            "gridcolor": "white",
            "gridwidth": 2,
            "linecolor": "white",
            "showbackground": true,
            "ticks": "",
            "zerolinecolor": "white"
           },
           "yaxis": {
            "backgroundcolor": "#E5ECF6",
            "gridcolor": "white",
            "gridwidth": 2,
            "linecolor": "white",
            "showbackground": true,
            "ticks": "",
            "zerolinecolor": "white"
           },
           "zaxis": {
            "backgroundcolor": "#E5ECF6",
            "gridcolor": "white",
            "gridwidth": 2,
            "linecolor": "white",
            "showbackground": true,
            "ticks": "",
            "zerolinecolor": "white"
           }
          },
          "shapedefaults": {
           "line": {
            "color": "#2a3f5f"
           }
          },
          "ternary": {
           "aaxis": {
            "gridcolor": "white",
            "linecolor": "white",
            "ticks": ""
           },
           "baxis": {
            "gridcolor": "white",
            "linecolor": "white",
            "ticks": ""
           },
           "bgcolor": "#E5ECF6",
           "caxis": {
            "gridcolor": "white",
            "linecolor": "white",
            "ticks": ""
           }
          },
          "title": {
           "x": 0.05
          },
          "xaxis": {
           "automargin": true,
           "gridcolor": "white",
           "linecolor": "white",
           "ticks": "",
           "title": {
            "standoff": 15
           },
           "zerolinecolor": "white",
           "zerolinewidth": 2
          },
          "yaxis": {
           "automargin": true,
           "gridcolor": "white",
           "linecolor": "white",
           "ticks": "",
           "title": {
            "standoff": 15
           },
           "zerolinecolor": "white",
           "zerolinewidth": 2
          }
         }
        },
        "title": {
         "text": "LOAN STATUS BASED ON APPLICANT INCOME"
        },
        "xaxis": {
         "anchor": "y",
         "domain": [
          0,
          1
         ],
         "title": {
          "text": "ApplicantIncome"
         }
        },
        "yaxis": {
         "anchor": "x",
         "domain": [
          0,
          1
         ],
         "title": {
          "text": "LoanAmount"
         }
        }
       }
      },
      "text/html": [
       "<div>\n",
       "        \n",
       "        \n",
       "            <div id=\"a7a393da-f2fb-4d0b-9f64-a5d9018de196\" class=\"plotly-graph-div\" style=\"height:525px; width:100%;\"></div>\n",
       "            <script type=\"text/javascript\">\n",
       "                require([\"plotly\"], function(Plotly) {\n",
       "                    window.PLOTLYENV=window.PLOTLYENV || {};\n",
       "                    \n",
       "                if (document.getElementById(\"a7a393da-f2fb-4d0b-9f64-a5d9018de196\")) {\n",
       "                    Plotly.newPlot(\n",
       "                        'a7a393da-f2fb-4d0b-9f64-a5d9018de196',\n",
       "                        [{\"hoverlabel\": {\"namelength\": 0}, \"hovertemplate\": \"Loan_Status=Y<br>ApplicantIncome=%{x}<br>LoanAmount=%{y}\", \"legendgroup\": \"Loan_Status=Y\", \"marker\": {\"color\": \"#636efa\", \"symbol\": \"circle\"}, \"mode\": \"markers\", \"name\": \"Loan_Status=Y\", \"showlegend\": true, \"type\": \"scatter\", \"x\": [5849, 3000, 2583, 6000, 5417, 2333, 4006, 3200, 2500, 3073, 1299, 4950, 3596, 2600, 5955, 9560, 2799, 4226, 3750, 3500, 2275, 3667, 4166, 3748, 1800, 2400, 3941, 4695, 3410, 5649, 5821, 4000, 1928, 3086, 2708, 2132, 8080, 3357, 2500, 3029, 10750, 7100, 3208, 1875, 3500, 5266, 3333, 3846, 2395, 3988, 2366, 3333, 2500, 8566, 5695, 2958, 6250, 3273, 4133, 3620, 2484, 1977, 4188, 1759, 4288, 4843, 13650, 4652, 3816, 3052, 11417, 2071, 5316, 2929, 7451, 5050, 14583, 3167, 2214, 10408, 5667, 4166, 2137, 2957, 4300, 3692, 23803, 3865, 20166, 2014, 2718, 3459, 4895, 3316, 5417, 6950, 2698, 11757, 2330, 14866, 1538, 4860, 2577, 3254, 39999, 6000, 9538, 2980, 4583, 1863, 4167, 9323, 3707, 2439, 8000, 1820, 51763, 5708, 3497, 2045, 3750, 4600, 3625, 39147, 2383, 674, 9328, 4885, 3858, 4191, 8333, 1907, 3416, 2600, 4923, 3500, 3917, 4408, 3244, 3975, 2479, 7787, 5703, 3173, 3850, 3727, 4283, 4009, 2971, 7578, 6250, 6250, 4758, 6400, 2491, 3716, 3189, 8333, 3155, 5500, 3463, 3812, 3315, 5819, 2965, 6250, 3406, 9703, 6608, 2882, 1809, 2583, 2661, 3083, 6083, 2060, 7200, 5166, 4095, 4708, 4333, 2876, 3237, 11146, 2833, 2620, 3900, 2750, 3993, 3103, 14583, 4100, 3927, 2301, 1811, 3158, 3704, 4124, 9508, 3075, 3153, 2383, 4416, 6875, 4666, 2875, 5000, 1625, 4000, 3762, 7667, 2917, 2927, 2507, 5746, 3399, 3717, 2058, 3541, 2400, 4342, 3601, 3166, 15000, 4917, 5818, 2500, 4384, 2935, 2833, 63337, 9833, 5503, 5250, 2500, 4160, 4554, 3173, 2583, 2499, 3083, 6333, 2625, 9083, 2666, 2423, 3813, 8333, 5167, 5000, 4750, 3013, 6822, 6325, 15759, 5185, 9323, 2764, 4817, 8750, 4310, 5391, 3333, 5941, 6000, 7167, 3667, 2346, 2333, 5488, 9167, 9504, 2583, 1993, 3100, 3276, 3033, 3902, 2500, 1963, 4547, 2167, 2213, 6256, 2253, 2995, 1025, 3246, 5829, 1820, 14880, 2666, 5935, 2920, 2717, 8624, 12876, 2425, 3750, 10047, 1926, 2213, 7142, 3660, 7901, 4707, 37719, 7333, 3466, 4652, 1958, 2483, 7085, 3859, 4301, 4354, 2083, 7740, 3015, 5191, 6000, 16692, 210, 3450, 4691, 2500, 5532, 16525, 6700, 16667, 4350, 3095, 2083, 10833, 8333, 1958, 4583, 2699, 5333, 3691, 17263, 3326, 2600, 4625, 2895, 645, 3159, 4865, 3814, 3510, 20833, 2479, 13262, 6065, 3283, 3466, 2031, 2192, 2500, 5677, 7948, 17500, 3775, 5285, 2679, 6783, 1025, 4281, 18165, 2550, 6133, 3617, 6417, 4608, 3652, 2239, 3017, 2768, 2526, 2785, 2492, 3333, 5468, 2667, 10139, 3887, 4180, 3675, 19484, 5923, 5800, 4467, 3333, 3417, 16666, 3159, 3229, 1782, 3182, 6540, 3166, 2297, 2165, 4750, 3000, 9357, 3859, 16120, 3833, 9963, 5780, 2894, 5703, 3676, 12000, 3400, 3987, 3232, 2900, 4106, 8072, 7583], \"xaxis\": \"x\", \"y\": [null, 66000.0, 120000.0, 141000.0, 267000.0, 95000.0, 168000.0, 70000.0, 109000.0, 200000.0, 17000.0, 125000.0, 100000.0, 115000.0, 315000.0, 191000.0, 122000.0, 110000.0, 120000.0, 114000.0, null, 144000.0, 184000.0, 110000.0, 47000.0, 75000.0, 134000.0, 96000.0, 88000.0, 44000.0, 144000.0, 144000.0, 100000.0, 120000.0, 97000.0, 96000.0, 180000.0, 144000.0, 120000.0, 99000.0, 312000.0, 125000.0, 172000.0, 97000.0, 81000.0, 187000.0, 130000.0, 111000.0, null, 50000.0, 136000.0, 99000.0, 104000.0, 210000.0, 175000.0, 131000.0, 188000.0, 81000.0, 122000.0, 25000.0, 137000.0, 50000.0, 115000.0, 131000.0, 133000.0, 151000.0, null, null, 160000.0, 100000.0, 225000.0, 94000.0, 136000.0, 139000.0, null, 118000.0, 185000.0, 154000.0, 85000.0, 259000.0, 180000.0, 44000.0, 137000.0, 81000.0, 194000.0, 93000.0, 370000.0, null, 650000.0, 74000.0, 70000.0, 25000.0, 102000.0, 88000.0, 168000.0, 175000.0, 122000.0, 187000.0, 100000.0, 70000.0, 30000.0, 125000.0, 152000.0, 50000.0, 600000.0, 160000.0, 187000.0, 120000.0, 255000.0, 98000.0, 158000.0, 75000.0, 182000.0, 129000.0, 200000.0, 95000.0, 700000.0, 187000.0, 116000.0, 101000.0, 116000.0, 73000.0, 108000.0, 120000.0, 58000.0, 168000.0, 188000.0, 48000.0, 76000.0, 120000.0, 187000.0, 120000.0, 113000.0, 90000.0, 166000.0, 135000.0, 124000.0, 120000.0, 80000.0, 55000.0, 59000.0, 240000.0, 130000.0, 137000.0, 100000.0, 131000.0, 127000.0, 116000.0, 144000.0, 175000.0, 128000.0, 210000.0, 158000.0, 200000.0, 104000.0, 42000.0, 120000.0, 280000.0, 140000.0, 170000.0, 122000.0, 112000.0, 96000.0, 120000.0, 155000.0, 108000.0, 123000.0, 112000.0, 137000.0, 123000.0, 90000.0, 104000.0, 279000.0, 255000.0, 330000.0, 134000.0, 120000.0, 128000.0, 151000.0, 150000.0, 160000.0, 90000.0, 30000.0, 136000.0, 126000.0, 150000.0, 90000.0, 115000.0, 207000.0, 80000.0, 436000.0, 124000.0, 112000.0, 78000.0, 54000.0, 89000.0, 120000.0, 115000.0, 187000.0, 139000.0, 134000.0, 172000.0, 110000.0, 200000.0, 135000.0, 105000.0, 132000.0, 96000.0, 140000.0, 135000.0, 185000.0, 84000.0, 111000.0, 56000.0, 144000.0, 111000.0, 120000.0, 88000.0, 112000.0, 115000.0, 124000.0, null, 132000.0, 300000.0, 130000.0, 184000.0, 67000.0, 117000.0, 98000.0, 71000.0, 490000.0, 182000.0, 70000.0, 160000.0, 176000.0, 71000.0, 158000.0, 74000.0, 125000.0, 160000.0, 126000.0, 259000.0, 187000.0, 228000.0, 95000.0, 130000.0, 116000.0, 165000.0, 200000.0, 236000.0, 130000.0, 95000.0, 141000.0, 175000.0, 55000.0, 155000.0, 380000.0, 110000.0, 120000.0, 130000.0, 130000.0, 130000.0, 128000.0, 296000.0, 156000.0, 128000.0, 113000.0, 132000.0, 136000.0, 125000.0, 185000.0, 275000.0, 120000.0, 113000.0, 113000.0, 135000.0, 95000.0, 109000.0, 103000.0, 53000.0, 115000.0, 115000.0, 66000.0, 160000.0, 110000.0, 60000.0, 112000.0, 138000.0, 138000.0, 100000.0, 96000.0, 121000.0, 133000.0, 87000.0, 60000.0, 150000.0, 405000.0, 143000.0, 100000.0, null, 50000.0, null, 138000.0, 187000.0, 180000.0, 148000.0, 152000.0, 175000.0, 130000.0, 110000.0, 60000.0, 90000.0, 84000.0, 96000.0, 118000.0, 136000.0, 160000.0, 128000.0, 153000.0, 132000.0, 140000.0, 110000.0, 98000.0, 162000.0, 100000.0, 93000.0, 162000.0, 150000.0, 230000.0, 86000.0, 154000.0, 113000.0, 128000.0, 234000.0, 246000.0, 131000.0, 160000.0, 96000.0, 186000.0, 110000.0, 225000.0, 105000.0, 107000.0, 111000.0, 95000.0, 113000.0, 100000.0, 208000.0, 124000.0, 243000.0, 480000.0, 188000.0, 40000.0, 250000.0, 148000.0, 150000.0, 113000.0, 45000.0, 55000.0, 100000.0, 480000.0, 400000.0, 110000.0, 161000.0, 94000.0, 130000.0, 216000.0, 100000.0, 125000.0, 126000.0, 324000.0, 107000.0, 157000.0, 140000.0, 95000.0, 128000.0, 102000.0, 155000.0, 145000.0, 110000.0, null, 158000.0, 26000.0, 84000.0, 260000.0, 162000.0, 182000.0, 108000.0, 600000.0, 211000.0, 132000.0, 120000.0, 70000.0, 186000.0, 275000.0, 108000.0, 110000.0, 107000.0, 161000.0, 205000.0, 36000.0, 104000.0, 70000.0, 94000.0, 56000.0, 292000.0, 142000.0, 260000.0, 110000.0, 180000.0, 192000.0, 155000.0, 128000.0, 172000.0, 496000.0, 173000.0, 157000.0, 108000.0, 71000.0, 40000.0, 253000.0, 187000.0], \"yaxis\": \"y\"}, {\"hoverlabel\": {\"namelength\": 0}, \"hovertemplate\": \"Loan_Status=N<br>ApplicantIncome=%{x}<br>LoanAmount=%{y}\", \"legendgroup\": \"Loan_Status=N\", \"marker\": {\"color\": \"#EF553B\", \"symbol\": \"circle\"}, \"mode\": \"markers\", \"name\": \"Loan_Status=N\", \"showlegend\": true, \"type\": \"scatter\", \"x\": [4583, 3036, 12841, 1853, 3510, 4887, 7660, 2600, 3365, 3717, 1442, 4166, 3167, 4692, 12500, 1828, 3600, 2645, 4230, 4616, 11500, 3366, 2609, 4945, 4166, 5726, 3200, 4300, 4755, 3750, 3750, 1000, 3167, 1378, 6000, 6782, 7333, 3800, 3572, 5568, 10513, 6080, 4000, 4583, 14999, 4200, 5042, 10000, 6277, 9166, 2281, 7933, 3089, 4583, 2237, 3522, 4344, 5516, 2333, 6400, 1916, 33846, 2178, 12000, 6033, 3125, 11000, 3992, 3418, 10000, 3430, 150, 5000, 2221, 3250, 4735, 5746, 2510, 6050, 1668, 3427, 16250, 6045, 5250, 14683, 4931, 3481, 3418, 4053, 20667, 2600, 4400, 5417, 5000, 2014, 1800, 2000, 2400, 20233, 2473, 10000, 8666, 4333, 1830, 2647, 2378, 3523, 8750, 5500, 3875, 3000, 4723, 6216, 2500, 5124, 19730, 3062, 3069, 4566, 3010, 3180, 1500, 2889, 2755, 7441, 8300, 81000, 3867, 6096, 2149, 2600, 1600, 2720, 7250, 4606, 6500, 10416, 3539, 3340, 2769, 2309, 3948, 3708, 8334, 4166, 2947, 4333, 2653, 2873, 2947, 3547, 18333, 2435, 3597, 6283, 4050, 3583, 3598, 2130, 5815, 3074, 4683, 3400, 4680, 3588, 11250, 2917, 2138, 3358, 5000, 6633, 2454, 3593, 8799, 3400, 2378, 3166, 5116, 6125, 6406, 3087, 1836, 1880, 2787, 4283, 2726, 6000, 6383, 2987, 416, 2400, 4583], \"xaxis\": \"x\", \"y\": [128000.0, 158000.0, 349000.0, 114000.0, 76000.0, 133000.0, 104000.0, 116000.0, 112000.0, 151000.0, 35000.0, 201000.0, 74000.0, 106000.0, 320000.0, 100000.0, 80000.0, 120000.0, 112000.0, 134000.0, 286000.0, 135000.0, 165000.0, null, 116000.0, 258000.0, 126000.0, 136000.0, 95000.0, 113000.0, 176000.0, 110000.0, 180000.0, 167000.0, 265000.0, null, 120000.0, 216000.0, 152000.0, 175000.0, 160000.0, 182000.0, 290000.0, 84000.0, 242000.0, 129000.0, 185000.0, 225000.0, 118000.0, 244000.0, 113000.0, 275000.0, 121000.0, 112000.0, 63000.0, 81000.0, 87000.0, 495000.0, 102000.0, 180000.0, 67000.0, 260000.0, 66000.0, 164000.0, 160000.0, 170000.0, 83000.0, null, 127000.0, 214000.0, 128000.0, 135000.0, 72000.0, 60000.0, 170000.0, 138000.0, 255000.0, 140000.0, 120000.0, 201000.0, 138000.0, 192000.0, 115000.0, 94000.0, 304000.0, 128000.0, 155000.0, 135000.0, 158000.0, null, 99000.0, 127000.0, 143000.0, 151000.0, 113000.0, 93000.0, null, 104000.0, 480000.0, 159000.0, 155000.0, 376000.0, 110000.0, null, 173000.0, 46000.0, 152000.0, 308000.0, 105000.0, 67000.0, 100000.0, 81000.0, 133000.0, 96000.0, 124000.0, 570000.0, 111000.0, 71000.0, 100000.0, null, 71000.0, 103000.0, 45000.0, 65000.0, 194000.0, 152000.0, 360000.0, 62000.0, 218000.0, 178000.0, 160000.0, 239000.0, 80000.0, 110000.0, 81000.0, 105000.0, 187000.0, 55000.0, 150000.0, 190000.0, 125000.0, 149000.0, 173000.0, 160000.0, 98000.0, 70000.0, 110000.0, 113000.0, 132000.0, null, 80000.0, 500000.0, 75000.0, 119000.0, 209000.0, 138000.0, 96000.0, 100000.0, 70000.0, 311000.0, 123000.0, 185000.0, 95000.0, null, 110000.0, 196000.0, 66000.0, 99000.0, 80000.0, 103000.0, null, 181000.0, 132000.0, 258000.0, 123000.0, 9000.0, 104000.0, 165000.0, 187000.0, 150000.0, 136000.0, 90000.0, 61000.0, 146000.0, 172000.0, 106000.0, 205000.0, 187000.0, 88000.0, 350000.0, null, 133000.0], \"yaxis\": \"y\"}],\n",
       "                        {\"legend\": {\"tracegroupgap\": 0}, \"template\": {\"data\": {\"bar\": [{\"error_x\": {\"color\": \"#2a3f5f\"}, \"error_y\": {\"color\": \"#2a3f5f\"}, \"marker\": {\"line\": {\"color\": \"#E5ECF6\", \"width\": 0.5}}, \"type\": \"bar\"}], \"barpolar\": [{\"marker\": {\"line\": {\"color\": \"#E5ECF6\", \"width\": 0.5}}, \"type\": \"barpolar\"}], \"carpet\": [{\"aaxis\": {\"endlinecolor\": \"#2a3f5f\", \"gridcolor\": \"white\", \"linecolor\": \"white\", \"minorgridcolor\": \"white\", \"startlinecolor\": \"#2a3f5f\"}, \"baxis\": {\"endlinecolor\": \"#2a3f5f\", \"gridcolor\": \"white\", \"linecolor\": \"white\", \"minorgridcolor\": \"white\", \"startlinecolor\": \"#2a3f5f\"}, \"type\": \"carpet\"}], \"choropleth\": [{\"colorbar\": {\"outlinewidth\": 0, \"ticks\": \"\"}, \"type\": \"choropleth\"}], \"contour\": [{\"colorbar\": {\"outlinewidth\": 0, \"ticks\": \"\"}, \"colorscale\": [[0.0, \"#0d0887\"], [0.1111111111111111, \"#46039f\"], [0.2222222222222222, \"#7201a8\"], [0.3333333333333333, \"#9c179e\"], [0.4444444444444444, \"#bd3786\"], [0.5555555555555556, \"#d8576b\"], [0.6666666666666666, \"#ed7953\"], [0.7777777777777778, \"#fb9f3a\"], [0.8888888888888888, \"#fdca26\"], [1.0, \"#f0f921\"]], \"type\": \"contour\"}], \"contourcarpet\": [{\"colorbar\": {\"outlinewidth\": 0, \"ticks\": \"\"}, \"type\": \"contourcarpet\"}], \"heatmap\": [{\"colorbar\": {\"outlinewidth\": 0, \"ticks\": \"\"}, \"colorscale\": [[0.0, \"#0d0887\"], [0.1111111111111111, \"#46039f\"], [0.2222222222222222, \"#7201a8\"], [0.3333333333333333, \"#9c179e\"], [0.4444444444444444, \"#bd3786\"], [0.5555555555555556, \"#d8576b\"], [0.6666666666666666, \"#ed7953\"], [0.7777777777777778, \"#fb9f3a\"], [0.8888888888888888, \"#fdca26\"], [1.0, \"#f0f921\"]], \"type\": \"heatmap\"}], \"heatmapgl\": [{\"colorbar\": {\"outlinewidth\": 0, \"ticks\": \"\"}, \"colorscale\": [[0.0, \"#0d0887\"], [0.1111111111111111, \"#46039f\"], [0.2222222222222222, \"#7201a8\"], [0.3333333333333333, \"#9c179e\"], [0.4444444444444444, \"#bd3786\"], [0.5555555555555556, \"#d8576b\"], [0.6666666666666666, \"#ed7953\"], [0.7777777777777778, \"#fb9f3a\"], [0.8888888888888888, \"#fdca26\"], [1.0, \"#f0f921\"]], \"type\": \"heatmapgl\"}], \"histogram\": [{\"marker\": {\"colorbar\": {\"outlinewidth\": 0, \"ticks\": \"\"}}, \"type\": \"histogram\"}], \"histogram2d\": [{\"colorbar\": {\"outlinewidth\": 0, \"ticks\": \"\"}, \"colorscale\": [[0.0, \"#0d0887\"], [0.1111111111111111, \"#46039f\"], [0.2222222222222222, \"#7201a8\"], [0.3333333333333333, \"#9c179e\"], [0.4444444444444444, \"#bd3786\"], [0.5555555555555556, \"#d8576b\"], [0.6666666666666666, \"#ed7953\"], [0.7777777777777778, \"#fb9f3a\"], [0.8888888888888888, \"#fdca26\"], [1.0, \"#f0f921\"]], \"type\": \"histogram2d\"}], \"histogram2dcontour\": [{\"colorbar\": {\"outlinewidth\": 0, \"ticks\": \"\"}, \"colorscale\": [[0.0, \"#0d0887\"], [0.1111111111111111, \"#46039f\"], [0.2222222222222222, \"#7201a8\"], [0.3333333333333333, \"#9c179e\"], [0.4444444444444444, \"#bd3786\"], [0.5555555555555556, \"#d8576b\"], [0.6666666666666666, \"#ed7953\"], [0.7777777777777778, \"#fb9f3a\"], [0.8888888888888888, \"#fdca26\"], [1.0, \"#f0f921\"]], \"type\": \"histogram2dcontour\"}], \"mesh3d\": [{\"colorbar\": {\"outlinewidth\": 0, \"ticks\": \"\"}, \"type\": \"mesh3d\"}], \"parcoords\": [{\"line\": {\"colorbar\": {\"outlinewidth\": 0, \"ticks\": \"\"}}, \"type\": \"parcoords\"}], \"pie\": [{\"automargin\": true, \"type\": \"pie\"}], \"scatter\": [{\"marker\": {\"colorbar\": {\"outlinewidth\": 0, \"ticks\": \"\"}}, \"type\": \"scatter\"}], \"scatter3d\": [{\"line\": {\"colorbar\": {\"outlinewidth\": 0, \"ticks\": \"\"}}, \"marker\": {\"colorbar\": {\"outlinewidth\": 0, \"ticks\": \"\"}}, \"type\": \"scatter3d\"}], \"scattercarpet\": [{\"marker\": {\"colorbar\": {\"outlinewidth\": 0, \"ticks\": \"\"}}, \"type\": \"scattercarpet\"}], \"scattergeo\": [{\"marker\": {\"colorbar\": {\"outlinewidth\": 0, \"ticks\": \"\"}}, \"type\": \"scattergeo\"}], \"scattergl\": [{\"marker\": {\"colorbar\": {\"outlinewidth\": 0, \"ticks\": \"\"}}, \"type\": \"scattergl\"}], \"scattermapbox\": [{\"marker\": {\"colorbar\": {\"outlinewidth\": 0, \"ticks\": \"\"}}, \"type\": \"scattermapbox\"}], \"scatterpolar\": [{\"marker\": {\"colorbar\": {\"outlinewidth\": 0, \"ticks\": \"\"}}, \"type\": \"scatterpolar\"}], \"scatterpolargl\": [{\"marker\": {\"colorbar\": {\"outlinewidth\": 0, \"ticks\": \"\"}}, \"type\": \"scatterpolargl\"}], \"scatterternary\": [{\"marker\": {\"colorbar\": {\"outlinewidth\": 0, \"ticks\": \"\"}}, \"type\": \"scatterternary\"}], \"surface\": [{\"colorbar\": {\"outlinewidth\": 0, \"ticks\": \"\"}, \"colorscale\": [[0.0, \"#0d0887\"], [0.1111111111111111, \"#46039f\"], [0.2222222222222222, \"#7201a8\"], [0.3333333333333333, \"#9c179e\"], [0.4444444444444444, \"#bd3786\"], [0.5555555555555556, \"#d8576b\"], [0.6666666666666666, \"#ed7953\"], [0.7777777777777778, \"#fb9f3a\"], [0.8888888888888888, \"#fdca26\"], [1.0, \"#f0f921\"]], \"type\": \"surface\"}], \"table\": [{\"cells\": {\"fill\": {\"color\": \"#EBF0F8\"}, \"line\": {\"color\": \"white\"}}, \"header\": {\"fill\": {\"color\": \"#C8D4E3\"}, \"line\": {\"color\": \"white\"}}, \"type\": \"table\"}]}, \"layout\": {\"annotationdefaults\": {\"arrowcolor\": \"#2a3f5f\", \"arrowhead\": 0, \"arrowwidth\": 1}, \"coloraxis\": {\"colorbar\": {\"outlinewidth\": 0, \"ticks\": \"\"}}, \"colorscale\": {\"diverging\": [[0, \"#8e0152\"], [0.1, \"#c51b7d\"], [0.2, \"#de77ae\"], [0.3, \"#f1b6da\"], [0.4, \"#fde0ef\"], [0.5, \"#f7f7f7\"], [0.6, \"#e6f5d0\"], [0.7, \"#b8e186\"], [0.8, \"#7fbc41\"], [0.9, \"#4d9221\"], [1, \"#276419\"]], \"sequential\": [[0.0, \"#0d0887\"], [0.1111111111111111, \"#46039f\"], [0.2222222222222222, \"#7201a8\"], [0.3333333333333333, \"#9c179e\"], [0.4444444444444444, \"#bd3786\"], [0.5555555555555556, \"#d8576b\"], [0.6666666666666666, \"#ed7953\"], [0.7777777777777778, \"#fb9f3a\"], [0.8888888888888888, \"#fdca26\"], [1.0, \"#f0f921\"]], \"sequentialminus\": [[0.0, \"#0d0887\"], [0.1111111111111111, \"#46039f\"], [0.2222222222222222, \"#7201a8\"], [0.3333333333333333, \"#9c179e\"], [0.4444444444444444, \"#bd3786\"], [0.5555555555555556, \"#d8576b\"], [0.6666666666666666, \"#ed7953\"], [0.7777777777777778, \"#fb9f3a\"], [0.8888888888888888, \"#fdca26\"], [1.0, \"#f0f921\"]]}, \"colorway\": [\"#636efa\", \"#EF553B\", \"#00cc96\", \"#ab63fa\", \"#FFA15A\", \"#19d3f3\", \"#FF6692\", \"#B6E880\", \"#FF97FF\", \"#FECB52\"], \"font\": {\"color\": \"#2a3f5f\"}, \"geo\": {\"bgcolor\": \"white\", \"lakecolor\": \"white\", \"landcolor\": \"#E5ECF6\", \"showlakes\": true, \"showland\": true, \"subunitcolor\": \"white\"}, \"hoverlabel\": {\"align\": \"left\"}, \"hovermode\": \"closest\", \"mapbox\": {\"style\": \"light\"}, \"paper_bgcolor\": \"white\", \"plot_bgcolor\": \"#E5ECF6\", \"polar\": {\"angularaxis\": {\"gridcolor\": \"white\", \"linecolor\": \"white\", \"ticks\": \"\"}, \"bgcolor\": \"#E5ECF6\", \"radialaxis\": {\"gridcolor\": \"white\", \"linecolor\": \"white\", \"ticks\": \"\"}}, \"scene\": {\"xaxis\": {\"backgroundcolor\": \"#E5ECF6\", \"gridcolor\": \"white\", \"gridwidth\": 2, \"linecolor\": \"white\", \"showbackground\": true, \"ticks\": \"\", \"zerolinecolor\": \"white\"}, \"yaxis\": {\"backgroundcolor\": \"#E5ECF6\", \"gridcolor\": \"white\", \"gridwidth\": 2, \"linecolor\": \"white\", \"showbackground\": true, \"ticks\": \"\", \"zerolinecolor\": \"white\"}, \"zaxis\": {\"backgroundcolor\": \"#E5ECF6\", \"gridcolor\": \"white\", \"gridwidth\": 2, \"linecolor\": \"white\", \"showbackground\": true, \"ticks\": \"\", \"zerolinecolor\": \"white\"}}, \"shapedefaults\": {\"line\": {\"color\": \"#2a3f5f\"}}, \"ternary\": {\"aaxis\": {\"gridcolor\": \"white\", \"linecolor\": \"white\", \"ticks\": \"\"}, \"baxis\": {\"gridcolor\": \"white\", \"linecolor\": \"white\", \"ticks\": \"\"}, \"bgcolor\": \"#E5ECF6\", \"caxis\": {\"gridcolor\": \"white\", \"linecolor\": \"white\", \"ticks\": \"\"}}, \"title\": {\"x\": 0.05}, \"xaxis\": {\"automargin\": true, \"gridcolor\": \"white\", \"linecolor\": \"white\", \"ticks\": \"\", \"title\": {\"standoff\": 15}, \"zerolinecolor\": \"white\", \"zerolinewidth\": 2}, \"yaxis\": {\"automargin\": true, \"gridcolor\": \"white\", \"linecolor\": \"white\", \"ticks\": \"\", \"title\": {\"standoff\": 15}, \"zerolinecolor\": \"white\", \"zerolinewidth\": 2}}}, \"title\": {\"text\": \"LOAN STATUS BASED ON APPLICANT INCOME\"}, \"xaxis\": {\"anchor\": \"y\", \"domain\": [0.0, 1.0], \"title\": {\"text\": \"ApplicantIncome\"}}, \"yaxis\": {\"anchor\": \"x\", \"domain\": [0.0, 1.0], \"title\": {\"text\": \"LoanAmount\"}}},\n",
       "                        {\"responsive\": true}\n",
       "                    ).then(function(){\n",
       "                            \n",
       "var gd = document.getElementById('a7a393da-f2fb-4d0b-9f64-a5d9018de196');\n",
       "var x = new MutationObserver(function (mutations, observer) {{\n",
       "        var display = window.getComputedStyle(gd).display;\n",
       "        if (!display || display === 'none') {{\n",
       "            console.log([gd, 'removed!']);\n",
       "            Plotly.purge(gd);\n",
       "            observer.disconnect();\n",
       "        }}\n",
       "}});\n",
       "\n",
       "// Listen for the removal of the full notebook cells\n",
       "var notebookContainer = gd.closest('#notebook-container');\n",
       "if (notebookContainer) {{\n",
       "    x.observe(notebookContainer, {childList: true});\n",
       "}}\n",
       "\n",
       "// Listen for the clearing of the current output cell\n",
       "var outputEl = gd.closest('.output');\n",
       "if (outputEl) {{\n",
       "    x.observe(outputEl, {childList: true});\n",
       "}}\n",
       "\n",
       "                        })\n",
       "                };\n",
       "                });\n",
       "            </script>\n",
       "        </div>"
      ]
     },
     "metadata": {},
     "output_type": "display_data"
    }
   ],
   "source": [
    "px.scatter(train,x='ApplicantIncome',y='LoanAmount',color='Loan_Status',title='LOAN STATUS BASED ON APPLICANT INCOME')"
   ]
  },
  {
   "cell_type": "code",
   "execution_count": 33,
   "metadata": {},
   "outputs": [
    {
     "data": {
      "application/vnd.plotly.v1+json": {
       "config": {
        "plotlyServerURL": "https://plot.ly"
       },
       "data": [
        {
         "hoverlabel": {
          "namelength": 0
         },
         "hovertemplate": "Loan_Status=Y<br>ApplicantIncome=%{x}<br>LoanAmount=%{y}<br>Credit_History=%{marker.color}",
         "legendgroup": "",
         "marker": {
          "color": [
           1,
           1,
           1,
           1,
           1,
           1,
           1,
           1,
           1,
           1,
           1,
           1,
           null,
           1,
           1,
           1,
           1,
           1,
           1,
           1,
           1,
           1,
           1,
           1,
           1,
           null,
           1,
           1,
           1,
           1,
           1,
           1,
           1,
           1,
           1,
           1,
           1,
           1,
           1,
           1,
           1,
           1,
           1,
           1,
           1,
           1,
           null,
           1,
           1,
           1,
           1,
           null,
           1,
           1,
           1,
           1,
           1,
           1,
           1,
           1,
           1,
           1,
           1,
           1,
           1,
           1,
           1,
           1,
           1,
           1,
           1,
           1,
           1,
           1,
           1,
           1,
           1,
           1,
           null,
           1,
           1,
           1,
           0,
           1,
           1,
           null,
           1,
           1,
           null,
           1,
           1,
           1,
           1,
           1,
           1,
           1,
           1,
           1,
           1,
           1,
           1,
           1,
           1,
           1,
           0,
           null,
           1,
           1,
           1,
           1,
           1,
           1,
           1,
           1,
           1,
           1,
           1,
           1,
           1,
           1,
           1,
           1,
           1,
           1,
           null,
           1,
           1,
           1,
           1,
           1,
           1,
           1,
           null,
           1,
           0,
           1,
           1,
           1,
           1,
           1,
           1,
           1,
           1,
           1,
           1,
           1,
           null,
           1,
           1,
           1,
           1,
           1,
           1,
           1,
           1,
           1,
           1,
           1,
           1,
           1,
           null,
           1,
           1,
           1,
           1,
           1,
           1,
           1,
           1,
           1,
           1,
           1,
           1,
           1,
           null,
           1,
           1,
           1,
           1,
           1,
           0,
           1,
           1,
           1,
           1,
           1,
           1,
           1,
           1,
           1,
           1,
           null,
           1,
           1,
           1,
           1,
           1,
           1,
           1,
           1,
           1,
           1,
           1,
           1,
           1,
           1,
           1,
           1,
           1,
           1,
           null,
           1,
           1,
           1,
           null,
           1,
           1,
           null,
           null,
           1,
           1,
           1,
           null,
           1,
           0,
           1,
           1,
           1,
           1,
           1,
           1,
           1,
           1,
           1,
           1,
           1,
           1,
           1,
           1,
           1,
           1,
           null,
           1,
           1,
           1,
           1,
           1,
           1,
           1,
           1,
           1,
           null,
           1,
           1,
           1,
           1,
           1,
           1,
           1,
           1,
           null,
           1,
           1,
           1,
           1,
           1,
           1,
           1,
           1,
           1,
           1,
           1,
           null,
           1,
           1,
           null,
           1,
           1,
           1,
           1,
           1,
           1,
           1,
           null,
           1,
           1,
           1,
           1,
           1,
           1,
           1,
           1,
           1,
           1,
           1,
           1,
           1,
           1,
           1,
           1,
           1,
           1,
           1,
           1,
           1,
           1,
           1,
           null,
           1,
           1,
           null,
           0,
           1,
           1,
           1,
           1,
           null,
           1,
           1,
           1,
           1,
           1,
           1,
           1,
           1,
           null,
           1,
           1,
           1,
           1,
           1,
           1,
           1,
           1,
           1,
           1,
           1,
           null,
           null,
           1,
           1,
           1,
           1,
           null,
           1,
           1,
           1,
           1,
           1,
           1,
           null,
           1,
           1,
           1,
           1,
           1,
           1,
           1,
           1,
           1,
           1,
           1,
           1,
           0,
           1,
           1,
           null,
           1,
           1,
           1,
           1,
           1,
           1,
           1,
           1,
           1,
           null,
           1,
           1,
           1,
           1,
           1,
           1,
           null,
           1,
           1,
           1,
           1,
           1,
           1,
           1,
           null,
           1,
           1,
           1,
           1,
           1,
           1,
           1,
           1,
           1,
           1,
           1,
           1,
           1,
           1,
           1,
           1,
           1,
           1,
           1,
           1,
           1,
           1,
           1,
           1,
           1,
           1,
           1,
           1,
           1,
           1
          ],
          "coloraxis": "coloraxis",
          "symbol": "circle"
         },
         "mode": "markers",
         "name": "",
         "showlegend": false,
         "type": "scatter",
         "x": [
          5849,
          3000,
          2583,
          6000,
          5417,
          2333,
          4006,
          3200,
          2500,
          3073,
          1299,
          4950,
          3596,
          2600,
          5955,
          9560,
          2799,
          4226,
          3750,
          3500,
          2275,
          3667,
          4166,
          3748,
          1800,
          2400,
          3941,
          4695,
          3410,
          5649,
          5821,
          4000,
          1928,
          3086,
          2708,
          2132,
          8080,
          3357,
          2500,
          3029,
          10750,
          7100,
          3208,
          1875,
          3500,
          5266,
          3333,
          3846,
          2395,
          3988,
          2366,
          3333,
          2500,
          8566,
          5695,
          2958,
          6250,
          3273,
          4133,
          3620,
          2484,
          1977,
          4188,
          1759,
          4288,
          4843,
          13650,
          4652,
          3816,
          3052,
          11417,
          2071,
          5316,
          2929,
          7451,
          5050,
          14583,
          3167,
          2214,
          10408,
          5667,
          4166,
          2137,
          2957,
          4300,
          3692,
          23803,
          3865,
          20166,
          2014,
          2718,
          3459,
          4895,
          3316,
          5417,
          6950,
          2698,
          11757,
          2330,
          14866,
          1538,
          4860,
          2577,
          3254,
          39999,
          6000,
          9538,
          2980,
          4583,
          1863,
          4167,
          9323,
          3707,
          2439,
          8000,
          1820,
          51763,
          5708,
          3497,
          2045,
          3750,
          4600,
          3625,
          39147,
          2383,
          674,
          9328,
          4885,
          3858,
          4191,
          8333,
          1907,
          3416,
          2600,
          4923,
          3500,
          3917,
          4408,
          3244,
          3975,
          2479,
          7787,
          5703,
          3173,
          3850,
          3727,
          4283,
          4009,
          2971,
          7578,
          6250,
          6250,
          4758,
          6400,
          2491,
          3716,
          3189,
          8333,
          3155,
          5500,
          3463,
          3812,
          3315,
          5819,
          2965,
          6250,
          3406,
          9703,
          6608,
          2882,
          1809,
          2583,
          2661,
          3083,
          6083,
          2060,
          7200,
          5166,
          4095,
          4708,
          4333,
          2876,
          3237,
          11146,
          2833,
          2620,
          3900,
          2750,
          3993,
          3103,
          14583,
          4100,
          3927,
          2301,
          1811,
          3158,
          3704,
          4124,
          9508,
          3075,
          3153,
          2383,
          4416,
          6875,
          4666,
          2875,
          5000,
          1625,
          4000,
          3762,
          7667,
          2917,
          2927,
          2507,
          5746,
          3399,
          3717,
          2058,
          3541,
          2400,
          4342,
          3601,
          3166,
          15000,
          4917,
          5818,
          2500,
          4384,
          2935,
          2833,
          63337,
          9833,
          5503,
          5250,
          2500,
          4160,
          4554,
          3173,
          2583,
          2499,
          3083,
          6333,
          2625,
          9083,
          2666,
          2423,
          3813,
          8333,
          5167,
          5000,
          4750,
          3013,
          6822,
          6325,
          15759,
          5185,
          9323,
          2764,
          4817,
          8750,
          4310,
          5391,
          3333,
          5941,
          6000,
          7167,
          3667,
          2346,
          2333,
          5488,
          9167,
          9504,
          2583,
          1993,
          3100,
          3276,
          3033,
          3902,
          2500,
          1963,
          4547,
          2167,
          2213,
          6256,
          2253,
          2995,
          1025,
          3246,
          5829,
          1820,
          14880,
          2666,
          5935,
          2920,
          2717,
          8624,
          12876,
          2425,
          3750,
          10047,
          1926,
          2213,
          7142,
          3660,
          7901,
          4707,
          37719,
          7333,
          3466,
          4652,
          1958,
          2483,
          7085,
          3859,
          4301,
          4354,
          2083,
          7740,
          3015,
          5191,
          6000,
          16692,
          210,
          3450,
          4691,
          2500,
          5532,
          16525,
          6700,
          16667,
          4350,
          3095,
          2083,
          10833,
          8333,
          1958,
          4583,
          2699,
          5333,
          3691,
          17263,
          3326,
          2600,
          4625,
          2895,
          645,
          3159,
          4865,
          3814,
          3510,
          20833,
          2479,
          13262,
          6065,
          3283,
          3466,
          2031,
          2192,
          2500,
          5677,
          7948,
          17500,
          3775,
          5285,
          2679,
          6783,
          1025,
          4281,
          18165,
          2550,
          6133,
          3617,
          6417,
          4608,
          3652,
          2239,
          3017,
          2768,
          2526,
          2785,
          2492,
          3333,
          5468,
          2667,
          10139,
          3887,
          4180,
          3675,
          19484,
          5923,
          5800,
          4467,
          3333,
          3417,
          16666,
          3159,
          3229,
          1782,
          3182,
          6540,
          3166,
          2297,
          2165,
          4750,
          3000,
          9357,
          3859,
          16120,
          3833,
          9963,
          5780,
          2894,
          5703,
          3676,
          12000,
          3400,
          3987,
          3232,
          2900,
          4106,
          8072,
          7583
         ],
         "xaxis": "x",
         "y": [
          null,
          66000,
          120000,
          141000,
          267000,
          95000,
          168000,
          70000,
          109000,
          200000,
          17000,
          125000,
          100000,
          115000,
          315000,
          191000,
          122000,
          110000,
          120000,
          114000,
          null,
          144000,
          184000,
          110000,
          47000,
          75000,
          134000,
          96000,
          88000,
          44000,
          144000,
          144000,
          100000,
          120000,
          97000,
          96000,
          180000,
          144000,
          120000,
          99000,
          312000,
          125000,
          172000,
          97000,
          81000,
          187000,
          130000,
          111000,
          null,
          50000,
          136000,
          99000,
          104000,
          210000,
          175000,
          131000,
          188000,
          81000,
          122000,
          25000,
          137000,
          50000,
          115000,
          131000,
          133000,
          151000,
          null,
          null,
          160000,
          100000,
          225000,
          94000,
          136000,
          139000,
          null,
          118000,
          185000,
          154000,
          85000,
          259000,
          180000,
          44000,
          137000,
          81000,
          194000,
          93000,
          370000,
          null,
          650000,
          74000,
          70000,
          25000,
          102000,
          88000,
          168000,
          175000,
          122000,
          187000,
          100000,
          70000,
          30000,
          125000,
          152000,
          50000,
          600000,
          160000,
          187000,
          120000,
          255000,
          98000,
          158000,
          75000,
          182000,
          129000,
          200000,
          95000,
          700000,
          187000,
          116000,
          101000,
          116000,
          73000,
          108000,
          120000,
          58000,
          168000,
          188000,
          48000,
          76000,
          120000,
          187000,
          120000,
          113000,
          90000,
          166000,
          135000,
          124000,
          120000,
          80000,
          55000,
          59000,
          240000,
          130000,
          137000,
          100000,
          131000,
          127000,
          116000,
          144000,
          175000,
          128000,
          210000,
          158000,
          200000,
          104000,
          42000,
          120000,
          280000,
          140000,
          170000,
          122000,
          112000,
          96000,
          120000,
          155000,
          108000,
          123000,
          112000,
          137000,
          123000,
          90000,
          104000,
          279000,
          255000,
          330000,
          134000,
          120000,
          128000,
          151000,
          150000,
          160000,
          90000,
          30000,
          136000,
          126000,
          150000,
          90000,
          115000,
          207000,
          80000,
          436000,
          124000,
          112000,
          78000,
          54000,
          89000,
          120000,
          115000,
          187000,
          139000,
          134000,
          172000,
          110000,
          200000,
          135000,
          105000,
          132000,
          96000,
          140000,
          135000,
          185000,
          84000,
          111000,
          56000,
          144000,
          111000,
          120000,
          88000,
          112000,
          115000,
          124000,
          null,
          132000,
          300000,
          130000,
          184000,
          67000,
          117000,
          98000,
          71000,
          490000,
          182000,
          70000,
          160000,
          176000,
          71000,
          158000,
          74000,
          125000,
          160000,
          126000,
          259000,
          187000,
          228000,
          95000,
          130000,
          116000,
          165000,
          200000,
          236000,
          130000,
          95000,
          141000,
          175000,
          55000,
          155000,
          380000,
          110000,
          120000,
          130000,
          130000,
          130000,
          128000,
          296000,
          156000,
          128000,
          113000,
          132000,
          136000,
          125000,
          185000,
          275000,
          120000,
          113000,
          113000,
          135000,
          95000,
          109000,
          103000,
          53000,
          115000,
          115000,
          66000,
          160000,
          110000,
          60000,
          112000,
          138000,
          138000,
          100000,
          96000,
          121000,
          133000,
          87000,
          60000,
          150000,
          405000,
          143000,
          100000,
          null,
          50000,
          null,
          138000,
          187000,
          180000,
          148000,
          152000,
          175000,
          130000,
          110000,
          60000,
          90000,
          84000,
          96000,
          118000,
          136000,
          160000,
          128000,
          153000,
          132000,
          140000,
          110000,
          98000,
          162000,
          100000,
          93000,
          162000,
          150000,
          230000,
          86000,
          154000,
          113000,
          128000,
          234000,
          246000,
          131000,
          160000,
          96000,
          186000,
          110000,
          225000,
          105000,
          107000,
          111000,
          95000,
          113000,
          100000,
          208000,
          124000,
          243000,
          480000,
          188000,
          40000,
          250000,
          148000,
          150000,
          113000,
          45000,
          55000,
          100000,
          480000,
          400000,
          110000,
          161000,
          94000,
          130000,
          216000,
          100000,
          125000,
          126000,
          324000,
          107000,
          157000,
          140000,
          95000,
          128000,
          102000,
          155000,
          145000,
          110000,
          null,
          158000,
          26000,
          84000,
          260000,
          162000,
          182000,
          108000,
          600000,
          211000,
          132000,
          120000,
          70000,
          186000,
          275000,
          108000,
          110000,
          107000,
          161000,
          205000,
          36000,
          104000,
          70000,
          94000,
          56000,
          292000,
          142000,
          260000,
          110000,
          180000,
          192000,
          155000,
          128000,
          172000,
          496000,
          173000,
          157000,
          108000,
          71000,
          40000,
          253000,
          187000
         ],
         "yaxis": "y"
        },
        {
         "hoverlabel": {
          "namelength": 0
         },
         "hovertemplate": "Loan_Status=N<br>ApplicantIncome=%{x}<br>LoanAmount=%{y}<br>Credit_History=%{marker.color}",
         "legendgroup": "",
         "marker": {
          "color": [
           1,
           0,
           1,
           1,
           0,
           1,
           0,
           0,
           0,
           null,
           1,
           null,
           1,
           1,
           1,
           0,
           1,
           0,
           1,
           1,
           0,
           1,
           0,
           0,
           0,
           1,
           0,
           0,
           0,
           1,
           1,
           1,
           0,
           1,
           null,
           null,
           1,
           0,
           0,
           1,
           0,
           null,
           1,
           1,
           0,
           1,
           1,
           1,
           0,
           1,
           1,
           1,
           0,
           1,
           0,
           1,
           1,
           0,
           0,
           0,
           null,
           1,
           0,
           1,
           1,
           1,
           1,
           1,
           1,
           1,
           0,
           1,
           0,
           0,
           1,
           1,
           null,
           1,
           1,
           0,
           1,
           0,
           0,
           1,
           1,
           null,
           1,
           1,
           0,
           1,
           1,
           0,
           0,
           1,
           1,
           0,
           1,
           0,
           1,
           1,
           1,
           0,
           1,
           0,
           1,
           1,
           0,
           1,
           0,
           1,
           0,
           1,
           1,
           1,
           0,
           1,
           0,
           1,
           1,
           0,
           0,
           0,
           0,
           1,
           1,
           0,
           0,
           1,
           0,
           0,
           1,
           1,
           0,
           0,
           1,
           0,
           0,
           1,
           0,
           null,
           0,
           0,
           1,
           1,
           0,
           0,
           1,
           0,
           0,
           1,
           0,
           1,
           1,
           0,
           0,
           null,
           1,
           1,
           1,
           1,
           0,
           1,
           1,
           1,
           0,
           null,
           1,
           0,
           1,
           0,
           0,
           0,
           0,
           0,
           0,
           1,
           0,
           0,
           1,
           1,
           0,
           1,
           null,
           0,
           1,
           0,
           1,
           1,
           0,
           null,
           1,
           0
          ],
          "coloraxis": "coloraxis",
          "symbol": "circle"
         },
         "mode": "markers",
         "name": "",
         "showlegend": false,
         "type": "scatter",
         "x": [
          4583,
          3036,
          12841,
          1853,
          3510,
          4887,
          7660,
          2600,
          3365,
          3717,
          1442,
          4166,
          3167,
          4692,
          12500,
          1828,
          3600,
          2645,
          4230,
          4616,
          11500,
          3366,
          2609,
          4945,
          4166,
          5726,
          3200,
          4300,
          4755,
          3750,
          3750,
          1000,
          3167,
          1378,
          6000,
          6782,
          7333,
          3800,
          3572,
          5568,
          10513,
          6080,
          4000,
          4583,
          14999,
          4200,
          5042,
          10000,
          6277,
          9166,
          2281,
          7933,
          3089,
          4583,
          2237,
          3522,
          4344,
          5516,
          2333,
          6400,
          1916,
          33846,
          2178,
          12000,
          6033,
          3125,
          11000,
          3992,
          3418,
          10000,
          3430,
          150,
          5000,
          2221,
          3250,
          4735,
          5746,
          2510,
          6050,
          1668,
          3427,
          16250,
          6045,
          5250,
          14683,
          4931,
          3481,
          3418,
          4053,
          20667,
          2600,
          4400,
          5417,
          5000,
          2014,
          1800,
          2000,
          2400,
          20233,
          2473,
          10000,
          8666,
          4333,
          1830,
          2647,
          2378,
          3523,
          8750,
          5500,
          3875,
          3000,
          4723,
          6216,
          2500,
          5124,
          19730,
          3062,
          3069,
          4566,
          3010,
          3180,
          1500,
          2889,
          2755,
          7441,
          8300,
          81000,
          3867,
          6096,
          2149,
          2600,
          1600,
          2720,
          7250,
          4606,
          6500,
          10416,
          3539,
          3340,
          2769,
          2309,
          3948,
          3708,
          8334,
          4166,
          2947,
          4333,
          2653,
          2873,
          2947,
          3547,
          18333,
          2435,
          3597,
          6283,
          4050,
          3583,
          3598,
          2130,
          5815,
          3074,
          4683,
          3400,
          4680,
          3588,
          11250,
          2917,
          2138,
          3358,
          5000,
          6633,
          2454,
          3593,
          8799,
          3400,
          2378,
          3166,
          5116,
          6125,
          6406,
          3087,
          1836,
          1880,
          2787,
          4283,
          2726,
          6000,
          6383,
          2987,
          416,
          2400,
          4583
         ],
         "xaxis": "x2",
         "y": [
          128000,
          158000,
          349000,
          114000,
          76000,
          133000,
          104000,
          116000,
          112000,
          151000,
          35000,
          201000,
          74000,
          106000,
          320000,
          100000,
          80000,
          120000,
          112000,
          134000,
          286000,
          135000,
          165000,
          null,
          116000,
          258000,
          126000,
          136000,
          95000,
          113000,
          176000,
          110000,
          180000,
          167000,
          265000,
          null,
          120000,
          216000,
          152000,
          175000,
          160000,
          182000,
          290000,
          84000,
          242000,
          129000,
          185000,
          225000,
          118000,
          244000,
          113000,
          275000,
          121000,
          112000,
          63000,
          81000,
          87000,
          495000,
          102000,
          180000,
          67000,
          260000,
          66000,
          164000,
          160000,
          170000,
          83000,
          null,
          127000,
          214000,
          128000,
          135000,
          72000,
          60000,
          170000,
          138000,
          255000,
          140000,
          120000,
          201000,
          138000,
          192000,
          115000,
          94000,
          304000,
          128000,
          155000,
          135000,
          158000,
          null,
          99000,
          127000,
          143000,
          151000,
          113000,
          93000,
          null,
          104000,
          480000,
          159000,
          155000,
          376000,
          110000,
          null,
          173000,
          46000,
          152000,
          308000,
          105000,
          67000,
          100000,
          81000,
          133000,
          96000,
          124000,
          570000,
          111000,
          71000,
          100000,
          null,
          71000,
          103000,
          45000,
          65000,
          194000,
          152000,
          360000,
          62000,
          218000,
          178000,
          160000,
          239000,
          80000,
          110000,
          81000,
          105000,
          187000,
          55000,
          150000,
          190000,
          125000,
          149000,
          173000,
          160000,
          98000,
          70000,
          110000,
          113000,
          132000,
          null,
          80000,
          500000,
          75000,
          119000,
          209000,
          138000,
          96000,
          100000,
          70000,
          311000,
          123000,
          185000,
          95000,
          null,
          110000,
          196000,
          66000,
          99000,
          80000,
          103000,
          null,
          181000,
          132000,
          258000,
          123000,
          9000,
          104000,
          165000,
          187000,
          150000,
          136000,
          90000,
          61000,
          146000,
          172000,
          106000,
          205000,
          187000,
          88000,
          350000,
          null,
          133000
         ],
         "yaxis": "y2"
        }
       ],
       "layout": {
        "annotations": [
         {
          "font": {},
          "showarrow": false,
          "text": "Loan_Status=Y",
          "x": 0.245,
          "xanchor": "center",
          "xref": "paper",
          "y": 1,
          "yanchor": "bottom",
          "yref": "paper"
         },
         {
          "font": {},
          "showarrow": false,
          "text": "Loan_Status=N",
          "x": 0.755,
          "xanchor": "center",
          "xref": "paper",
          "y": 1,
          "yanchor": "bottom",
          "yref": "paper"
         }
        ],
        "coloraxis": {
         "colorbar": {
          "title": {
           "text": "Credit_History"
          }
         },
         "colorscale": [
          [
           0,
           "red"
          ],
          [
           0.5,
           "green"
          ],
          [
           1,
           "blue"
          ]
         ]
        },
        "legend": {
         "tracegroupgap": 0
        },
        "template": {
         "data": {
          "bar": [
           {
            "error_x": {
             "color": "#2a3f5f"
            },
            "error_y": {
             "color": "#2a3f5f"
            },
            "marker": {
             "line": {
              "color": "#E5ECF6",
              "width": 0.5
             }
            },
            "type": "bar"
           }
          ],
          "barpolar": [
           {
            "marker": {
             "line": {
              "color": "#E5ECF6",
              "width": 0.5
             }
            },
            "type": "barpolar"
           }
          ],
          "carpet": [
           {
            "aaxis": {
             "endlinecolor": "#2a3f5f",
             "gridcolor": "white",
             "linecolor": "white",
             "minorgridcolor": "white",
             "startlinecolor": "#2a3f5f"
            },
            "baxis": {
             "endlinecolor": "#2a3f5f",
             "gridcolor": "white",
             "linecolor": "white",
             "minorgridcolor": "white",
             "startlinecolor": "#2a3f5f"
            },
            "type": "carpet"
           }
          ],
          "choropleth": [
           {
            "colorbar": {
             "outlinewidth": 0,
             "ticks": ""
            },
            "type": "choropleth"
           }
          ],
          "contour": [
           {
            "colorbar": {
             "outlinewidth": 0,
             "ticks": ""
            },
            "colorscale": [
             [
              0,
              "#0d0887"
             ],
             [
              0.1111111111111111,
              "#46039f"
             ],
             [
              0.2222222222222222,
              "#7201a8"
             ],
             [
              0.3333333333333333,
              "#9c179e"
             ],
             [
              0.4444444444444444,
              "#bd3786"
             ],
             [
              0.5555555555555556,
              "#d8576b"
             ],
             [
              0.6666666666666666,
              "#ed7953"
             ],
             [
              0.7777777777777778,
              "#fb9f3a"
             ],
             [
              0.8888888888888888,
              "#fdca26"
             ],
             [
              1,
              "#f0f921"
             ]
            ],
            "type": "contour"
           }
          ],
          "contourcarpet": [
           {
            "colorbar": {
             "outlinewidth": 0,
             "ticks": ""
            },
            "type": "contourcarpet"
           }
          ],
          "heatmap": [
           {
            "colorbar": {
             "outlinewidth": 0,
             "ticks": ""
            },
            "colorscale": [
             [
              0,
              "#0d0887"
             ],
             [
              0.1111111111111111,
              "#46039f"
             ],
             [
              0.2222222222222222,
              "#7201a8"
             ],
             [
              0.3333333333333333,
              "#9c179e"
             ],
             [
              0.4444444444444444,
              "#bd3786"
             ],
             [
              0.5555555555555556,
              "#d8576b"
             ],
             [
              0.6666666666666666,
              "#ed7953"
             ],
             [
              0.7777777777777778,
              "#fb9f3a"
             ],
             [
              0.8888888888888888,
              "#fdca26"
             ],
             [
              1,
              "#f0f921"
             ]
            ],
            "type": "heatmap"
           }
          ],
          "heatmapgl": [
           {
            "colorbar": {
             "outlinewidth": 0,
             "ticks": ""
            },
            "colorscale": [
             [
              0,
              "#0d0887"
             ],
             [
              0.1111111111111111,
              "#46039f"
             ],
             [
              0.2222222222222222,
              "#7201a8"
             ],
             [
              0.3333333333333333,
              "#9c179e"
             ],
             [
              0.4444444444444444,
              "#bd3786"
             ],
             [
              0.5555555555555556,
              "#d8576b"
             ],
             [
              0.6666666666666666,
              "#ed7953"
             ],
             [
              0.7777777777777778,
              "#fb9f3a"
             ],
             [
              0.8888888888888888,
              "#fdca26"
             ],
             [
              1,
              "#f0f921"
             ]
            ],
            "type": "heatmapgl"
           }
          ],
          "histogram": [
           {
            "marker": {
             "colorbar": {
              "outlinewidth": 0,
              "ticks": ""
             }
            },
            "type": "histogram"
           }
          ],
          "histogram2d": [
           {
            "colorbar": {
             "outlinewidth": 0,
             "ticks": ""
            },
            "colorscale": [
             [
              0,
              "#0d0887"
             ],
             [
              0.1111111111111111,
              "#46039f"
             ],
             [
              0.2222222222222222,
              "#7201a8"
             ],
             [
              0.3333333333333333,
              "#9c179e"
             ],
             [
              0.4444444444444444,
              "#bd3786"
             ],
             [
              0.5555555555555556,
              "#d8576b"
             ],
             [
              0.6666666666666666,
              "#ed7953"
             ],
             [
              0.7777777777777778,
              "#fb9f3a"
             ],
             [
              0.8888888888888888,
              "#fdca26"
             ],
             [
              1,
              "#f0f921"
             ]
            ],
            "type": "histogram2d"
           }
          ],
          "histogram2dcontour": [
           {
            "colorbar": {
             "outlinewidth": 0,
             "ticks": ""
            },
            "colorscale": [
             [
              0,
              "#0d0887"
             ],
             [
              0.1111111111111111,
              "#46039f"
             ],
             [
              0.2222222222222222,
              "#7201a8"
             ],
             [
              0.3333333333333333,
              "#9c179e"
             ],
             [
              0.4444444444444444,
              "#bd3786"
             ],
             [
              0.5555555555555556,
              "#d8576b"
             ],
             [
              0.6666666666666666,
              "#ed7953"
             ],
             [
              0.7777777777777778,
              "#fb9f3a"
             ],
             [
              0.8888888888888888,
              "#fdca26"
             ],
             [
              1,
              "#f0f921"
             ]
            ],
            "type": "histogram2dcontour"
           }
          ],
          "mesh3d": [
           {
            "colorbar": {
             "outlinewidth": 0,
             "ticks": ""
            },
            "type": "mesh3d"
           }
          ],
          "parcoords": [
           {
            "line": {
             "colorbar": {
              "outlinewidth": 0,
              "ticks": ""
             }
            },
            "type": "parcoords"
           }
          ],
          "pie": [
           {
            "automargin": true,
            "type": "pie"
           }
          ],
          "scatter": [
           {
            "marker": {
             "colorbar": {
              "outlinewidth": 0,
              "ticks": ""
             }
            },
            "type": "scatter"
           }
          ],
          "scatter3d": [
           {
            "line": {
             "colorbar": {
              "outlinewidth": 0,
              "ticks": ""
             }
            },
            "marker": {
             "colorbar": {
              "outlinewidth": 0,
              "ticks": ""
             }
            },
            "type": "scatter3d"
           }
          ],
          "scattercarpet": [
           {
            "marker": {
             "colorbar": {
              "outlinewidth": 0,
              "ticks": ""
             }
            },
            "type": "scattercarpet"
           }
          ],
          "scattergeo": [
           {
            "marker": {
             "colorbar": {
              "outlinewidth": 0,
              "ticks": ""
             }
            },
            "type": "scattergeo"
           }
          ],
          "scattergl": [
           {
            "marker": {
             "colorbar": {
              "outlinewidth": 0,
              "ticks": ""
             }
            },
            "type": "scattergl"
           }
          ],
          "scattermapbox": [
           {
            "marker": {
             "colorbar": {
              "outlinewidth": 0,
              "ticks": ""
             }
            },
            "type": "scattermapbox"
           }
          ],
          "scatterpolar": [
           {
            "marker": {
             "colorbar": {
              "outlinewidth": 0,
              "ticks": ""
             }
            },
            "type": "scatterpolar"
           }
          ],
          "scatterpolargl": [
           {
            "marker": {
             "colorbar": {
              "outlinewidth": 0,
              "ticks": ""
             }
            },
            "type": "scatterpolargl"
           }
          ],
          "scatterternary": [
           {
            "marker": {
             "colorbar": {
              "outlinewidth": 0,
              "ticks": ""
             }
            },
            "type": "scatterternary"
           }
          ],
          "surface": [
           {
            "colorbar": {
             "outlinewidth": 0,
             "ticks": ""
            },
            "colorscale": [
             [
              0,
              "#0d0887"
             ],
             [
              0.1111111111111111,
              "#46039f"
             ],
             [
              0.2222222222222222,
              "#7201a8"
             ],
             [
              0.3333333333333333,
              "#9c179e"
             ],
             [
              0.4444444444444444,
              "#bd3786"
             ],
             [
              0.5555555555555556,
              "#d8576b"
             ],
             [
              0.6666666666666666,
              "#ed7953"
             ],
             [
              0.7777777777777778,
              "#fb9f3a"
             ],
             [
              0.8888888888888888,
              "#fdca26"
             ],
             [
              1,
              "#f0f921"
             ]
            ],
            "type": "surface"
           }
          ],
          "table": [
           {
            "cells": {
             "fill": {
              "color": "#EBF0F8"
             },
             "line": {
              "color": "white"
             }
            },
            "header": {
             "fill": {
              "color": "#C8D4E3"
             },
             "line": {
              "color": "white"
             }
            },
            "type": "table"
           }
          ]
         },
         "layout": {
          "annotationdefaults": {
           "arrowcolor": "#2a3f5f",
           "arrowhead": 0,
           "arrowwidth": 1
          },
          "coloraxis": {
           "colorbar": {
            "outlinewidth": 0,
            "ticks": ""
           }
          },
          "colorscale": {
           "diverging": [
            [
             0,
             "#8e0152"
            ],
            [
             0.1,
             "#c51b7d"
            ],
            [
             0.2,
             "#de77ae"
            ],
            [
             0.3,
             "#f1b6da"
            ],
            [
             0.4,
             "#fde0ef"
            ],
            [
             0.5,
             "#f7f7f7"
            ],
            [
             0.6,
             "#e6f5d0"
            ],
            [
             0.7,
             "#b8e186"
            ],
            [
             0.8,
             "#7fbc41"
            ],
            [
             0.9,
             "#4d9221"
            ],
            [
             1,
             "#276419"
            ]
           ],
           "sequential": [
            [
             0,
             "#0d0887"
            ],
            [
             0.1111111111111111,
             "#46039f"
            ],
            [
             0.2222222222222222,
             "#7201a8"
            ],
            [
             0.3333333333333333,
             "#9c179e"
            ],
            [
             0.4444444444444444,
             "#bd3786"
            ],
            [
             0.5555555555555556,
             "#d8576b"
            ],
            [
             0.6666666666666666,
             "#ed7953"
            ],
            [
             0.7777777777777778,
             "#fb9f3a"
            ],
            [
             0.8888888888888888,
             "#fdca26"
            ],
            [
             1,
             "#f0f921"
            ]
           ],
           "sequentialminus": [
            [
             0,
             "#0d0887"
            ],
            [
             0.1111111111111111,
             "#46039f"
            ],
            [
             0.2222222222222222,
             "#7201a8"
            ],
            [
             0.3333333333333333,
             "#9c179e"
            ],
            [
             0.4444444444444444,
             "#bd3786"
            ],
            [
             0.5555555555555556,
             "#d8576b"
            ],
            [
             0.6666666666666666,
             "#ed7953"
            ],
            [
             0.7777777777777778,
             "#fb9f3a"
            ],
            [
             0.8888888888888888,
             "#fdca26"
            ],
            [
             1,
             "#f0f921"
            ]
           ]
          },
          "colorway": [
           "#636efa",
           "#EF553B",
           "#00cc96",
           "#ab63fa",
           "#FFA15A",
           "#19d3f3",
           "#FF6692",
           "#B6E880",
           "#FF97FF",
           "#FECB52"
          ],
          "font": {
           "color": "#2a3f5f"
          },
          "geo": {
           "bgcolor": "white",
           "lakecolor": "white",
           "landcolor": "#E5ECF6",
           "showlakes": true,
           "showland": true,
           "subunitcolor": "white"
          },
          "hoverlabel": {
           "align": "left"
          },
          "hovermode": "closest",
          "mapbox": {
           "style": "light"
          },
          "paper_bgcolor": "white",
          "plot_bgcolor": "#E5ECF6",
          "polar": {
           "angularaxis": {
            "gridcolor": "white",
            "linecolor": "white",
            "ticks": ""
           },
           "bgcolor": "#E5ECF6",
           "radialaxis": {
            "gridcolor": "white",
            "linecolor": "white",
            "ticks": ""
           }
          },
          "scene": {
           "xaxis": {
            "backgroundcolor": "#E5ECF6",
            "gridcolor": "white",
            "gridwidth": 2,
            "linecolor": "white",
            "showbackground": true,
            "ticks": "",
            "zerolinecolor": "white"
           },
           "yaxis": {
            "backgroundcolor": "#E5ECF6",
            "gridcolor": "white",
            "gridwidth": 2,
            "linecolor": "white",
            "showbackground": true,
            "ticks": "",
            "zerolinecolor": "white"
           },
           "zaxis": {
            "backgroundcolor": "#E5ECF6",
            "gridcolor": "white",
            "gridwidth": 2,
            "linecolor": "white",
            "showbackground": true,
            "ticks": "",
            "zerolinecolor": "white"
           }
          },
          "shapedefaults": {
           "line": {
            "color": "#2a3f5f"
           }
          },
          "ternary": {
           "aaxis": {
            "gridcolor": "white",
            "linecolor": "white",
            "ticks": ""
           },
           "baxis": {
            "gridcolor": "white",
            "linecolor": "white",
            "ticks": ""
           },
           "bgcolor": "#E5ECF6",
           "caxis": {
            "gridcolor": "white",
            "linecolor": "white",
            "ticks": ""
           }
          },
          "title": {
           "x": 0.05
          },
          "xaxis": {
           "automargin": true,
           "gridcolor": "white",
           "linecolor": "white",
           "ticks": "",
           "title": {
            "standoff": 15
           },
           "zerolinecolor": "white",
           "zerolinewidth": 2
          },
          "yaxis": {
           "automargin": true,
           "gridcolor": "white",
           "linecolor": "white",
           "ticks": "",
           "title": {
            "standoff": 15
           },
           "zerolinecolor": "white",
           "zerolinewidth": 2
          }
         }
        },
        "title": {
         "text": "LOAN STATUS BASED ON APPLICANTINCOME AND CREDIT HISTORY"
        },
        "xaxis": {
         "anchor": "y",
         "domain": [
          0,
          0.49
         ],
         "title": {
          "text": "ApplicantIncome"
         }
        },
        "xaxis2": {
         "anchor": "y2",
         "domain": [
          0.51,
          1
         ],
         "matches": "x",
         "title": {
          "text": "ApplicantIncome"
         }
        },
        "yaxis": {
         "anchor": "x",
         "domain": [
          0,
          1
         ],
         "title": {
          "text": "LoanAmount"
         }
        },
        "yaxis2": {
         "anchor": "x2",
         "domain": [
          0,
          1
         ],
         "matches": "y",
         "showticklabels": false
        }
       }
      },
      "text/html": [
       "<div>\n",
       "        \n",
       "        \n",
       "            <div id=\"b5646f9e-269c-44cf-818a-8ed72cf88b1f\" class=\"plotly-graph-div\" style=\"height:525px; width:100%;\"></div>\n",
       "            <script type=\"text/javascript\">\n",
       "                require([\"plotly\"], function(Plotly) {\n",
       "                    window.PLOTLYENV=window.PLOTLYENV || {};\n",
       "                    \n",
       "                if (document.getElementById(\"b5646f9e-269c-44cf-818a-8ed72cf88b1f\")) {\n",
       "                    Plotly.newPlot(\n",
       "                        'b5646f9e-269c-44cf-818a-8ed72cf88b1f',\n",
       "                        [{\"hoverlabel\": {\"namelength\": 0}, \"hovertemplate\": \"Loan_Status=Y<br>ApplicantIncome=%{x}<br>LoanAmount=%{y}<br>Credit_History=%{marker.color}\", \"legendgroup\": \"\", \"marker\": {\"color\": [1.0, 1.0, 1.0, 1.0, 1.0, 1.0, 1.0, 1.0, 1.0, 1.0, 1.0, 1.0, null, 1.0, 1.0, 1.0, 1.0, 1.0, 1.0, 1.0, 1.0, 1.0, 1.0, 1.0, 1.0, null, 1.0, 1.0, 1.0, 1.0, 1.0, 1.0, 1.0, 1.0, 1.0, 1.0, 1.0, 1.0, 1.0, 1.0, 1.0, 1.0, 1.0, 1.0, 1.0, 1.0, null, 1.0, 1.0, 1.0, 1.0, null, 1.0, 1.0, 1.0, 1.0, 1.0, 1.0, 1.0, 1.0, 1.0, 1.0, 1.0, 1.0, 1.0, 1.0, 1.0, 1.0, 1.0, 1.0, 1.0, 1.0, 1.0, 1.0, 1.0, 1.0, 1.0, 1.0, null, 1.0, 1.0, 1.0, 0.0, 1.0, 1.0, null, 1.0, 1.0, null, 1.0, 1.0, 1.0, 1.0, 1.0, 1.0, 1.0, 1.0, 1.0, 1.0, 1.0, 1.0, 1.0, 1.0, 1.0, 0.0, null, 1.0, 1.0, 1.0, 1.0, 1.0, 1.0, 1.0, 1.0, 1.0, 1.0, 1.0, 1.0, 1.0, 1.0, 1.0, 1.0, 1.0, 1.0, null, 1.0, 1.0, 1.0, 1.0, 1.0, 1.0, 1.0, null, 1.0, 0.0, 1.0, 1.0, 1.0, 1.0, 1.0, 1.0, 1.0, 1.0, 1.0, 1.0, 1.0, null, 1.0, 1.0, 1.0, 1.0, 1.0, 1.0, 1.0, 1.0, 1.0, 1.0, 1.0, 1.0, 1.0, null, 1.0, 1.0, 1.0, 1.0, 1.0, 1.0, 1.0, 1.0, 1.0, 1.0, 1.0, 1.0, 1.0, null, 1.0, 1.0, 1.0, 1.0, 1.0, 0.0, 1.0, 1.0, 1.0, 1.0, 1.0, 1.0, 1.0, 1.0, 1.0, 1.0, null, 1.0, 1.0, 1.0, 1.0, 1.0, 1.0, 1.0, 1.0, 1.0, 1.0, 1.0, 1.0, 1.0, 1.0, 1.0, 1.0, 1.0, 1.0, null, 1.0, 1.0, 1.0, null, 1.0, 1.0, null, null, 1.0, 1.0, 1.0, null, 1.0, 0.0, 1.0, 1.0, 1.0, 1.0, 1.0, 1.0, 1.0, 1.0, 1.0, 1.0, 1.0, 1.0, 1.0, 1.0, 1.0, 1.0, null, 1.0, 1.0, 1.0, 1.0, 1.0, 1.0, 1.0, 1.0, 1.0, null, 1.0, 1.0, 1.0, 1.0, 1.0, 1.0, 1.0, 1.0, null, 1.0, 1.0, 1.0, 1.0, 1.0, 1.0, 1.0, 1.0, 1.0, 1.0, 1.0, null, 1.0, 1.0, null, 1.0, 1.0, 1.0, 1.0, 1.0, 1.0, 1.0, null, 1.0, 1.0, 1.0, 1.0, 1.0, 1.0, 1.0, 1.0, 1.0, 1.0, 1.0, 1.0, 1.0, 1.0, 1.0, 1.0, 1.0, 1.0, 1.0, 1.0, 1.0, 1.0, 1.0, null, 1.0, 1.0, null, 0.0, 1.0, 1.0, 1.0, 1.0, null, 1.0, 1.0, 1.0, 1.0, 1.0, 1.0, 1.0, 1.0, null, 1.0, 1.0, 1.0, 1.0, 1.0, 1.0, 1.0, 1.0, 1.0, 1.0, 1.0, null, null, 1.0, 1.0, 1.0, 1.0, null, 1.0, 1.0, 1.0, 1.0, 1.0, 1.0, null, 1.0, 1.0, 1.0, 1.0, 1.0, 1.0, 1.0, 1.0, 1.0, 1.0, 1.0, 1.0, 0.0, 1.0, 1.0, null, 1.0, 1.0, 1.0, 1.0, 1.0, 1.0, 1.0, 1.0, 1.0, null, 1.0, 1.0, 1.0, 1.0, 1.0, 1.0, null, 1.0, 1.0, 1.0, 1.0, 1.0, 1.0, 1.0, null, 1.0, 1.0, 1.0, 1.0, 1.0, 1.0, 1.0, 1.0, 1.0, 1.0, 1.0, 1.0, 1.0, 1.0, 1.0, 1.0, 1.0, 1.0, 1.0, 1.0, 1.0, 1.0, 1.0, 1.0, 1.0, 1.0, 1.0, 1.0, 1.0, 1.0], \"coloraxis\": \"coloraxis\", \"symbol\": \"circle\"}, \"mode\": \"markers\", \"name\": \"\", \"showlegend\": false, \"type\": \"scatter\", \"x\": [5849, 3000, 2583, 6000, 5417, 2333, 4006, 3200, 2500, 3073, 1299, 4950, 3596, 2600, 5955, 9560, 2799, 4226, 3750, 3500, 2275, 3667, 4166, 3748, 1800, 2400, 3941, 4695, 3410, 5649, 5821, 4000, 1928, 3086, 2708, 2132, 8080, 3357, 2500, 3029, 10750, 7100, 3208, 1875, 3500, 5266, 3333, 3846, 2395, 3988, 2366, 3333, 2500, 8566, 5695, 2958, 6250, 3273, 4133, 3620, 2484, 1977, 4188, 1759, 4288, 4843, 13650, 4652, 3816, 3052, 11417, 2071, 5316, 2929, 7451, 5050, 14583, 3167, 2214, 10408, 5667, 4166, 2137, 2957, 4300, 3692, 23803, 3865, 20166, 2014, 2718, 3459, 4895, 3316, 5417, 6950, 2698, 11757, 2330, 14866, 1538, 4860, 2577, 3254, 39999, 6000, 9538, 2980, 4583, 1863, 4167, 9323, 3707, 2439, 8000, 1820, 51763, 5708, 3497, 2045, 3750, 4600, 3625, 39147, 2383, 674, 9328, 4885, 3858, 4191, 8333, 1907, 3416, 2600, 4923, 3500, 3917, 4408, 3244, 3975, 2479, 7787, 5703, 3173, 3850, 3727, 4283, 4009, 2971, 7578, 6250, 6250, 4758, 6400, 2491, 3716, 3189, 8333, 3155, 5500, 3463, 3812, 3315, 5819, 2965, 6250, 3406, 9703, 6608, 2882, 1809, 2583, 2661, 3083, 6083, 2060, 7200, 5166, 4095, 4708, 4333, 2876, 3237, 11146, 2833, 2620, 3900, 2750, 3993, 3103, 14583, 4100, 3927, 2301, 1811, 3158, 3704, 4124, 9508, 3075, 3153, 2383, 4416, 6875, 4666, 2875, 5000, 1625, 4000, 3762, 7667, 2917, 2927, 2507, 5746, 3399, 3717, 2058, 3541, 2400, 4342, 3601, 3166, 15000, 4917, 5818, 2500, 4384, 2935, 2833, 63337, 9833, 5503, 5250, 2500, 4160, 4554, 3173, 2583, 2499, 3083, 6333, 2625, 9083, 2666, 2423, 3813, 8333, 5167, 5000, 4750, 3013, 6822, 6325, 15759, 5185, 9323, 2764, 4817, 8750, 4310, 5391, 3333, 5941, 6000, 7167, 3667, 2346, 2333, 5488, 9167, 9504, 2583, 1993, 3100, 3276, 3033, 3902, 2500, 1963, 4547, 2167, 2213, 6256, 2253, 2995, 1025, 3246, 5829, 1820, 14880, 2666, 5935, 2920, 2717, 8624, 12876, 2425, 3750, 10047, 1926, 2213, 7142, 3660, 7901, 4707, 37719, 7333, 3466, 4652, 1958, 2483, 7085, 3859, 4301, 4354, 2083, 7740, 3015, 5191, 6000, 16692, 210, 3450, 4691, 2500, 5532, 16525, 6700, 16667, 4350, 3095, 2083, 10833, 8333, 1958, 4583, 2699, 5333, 3691, 17263, 3326, 2600, 4625, 2895, 645, 3159, 4865, 3814, 3510, 20833, 2479, 13262, 6065, 3283, 3466, 2031, 2192, 2500, 5677, 7948, 17500, 3775, 5285, 2679, 6783, 1025, 4281, 18165, 2550, 6133, 3617, 6417, 4608, 3652, 2239, 3017, 2768, 2526, 2785, 2492, 3333, 5468, 2667, 10139, 3887, 4180, 3675, 19484, 5923, 5800, 4467, 3333, 3417, 16666, 3159, 3229, 1782, 3182, 6540, 3166, 2297, 2165, 4750, 3000, 9357, 3859, 16120, 3833, 9963, 5780, 2894, 5703, 3676, 12000, 3400, 3987, 3232, 2900, 4106, 8072, 7583], \"xaxis\": \"x\", \"y\": [null, 66000.0, 120000.0, 141000.0, 267000.0, 95000.0, 168000.0, 70000.0, 109000.0, 200000.0, 17000.0, 125000.0, 100000.0, 115000.0, 315000.0, 191000.0, 122000.0, 110000.0, 120000.0, 114000.0, null, 144000.0, 184000.0, 110000.0, 47000.0, 75000.0, 134000.0, 96000.0, 88000.0, 44000.0, 144000.0, 144000.0, 100000.0, 120000.0, 97000.0, 96000.0, 180000.0, 144000.0, 120000.0, 99000.0, 312000.0, 125000.0, 172000.0, 97000.0, 81000.0, 187000.0, 130000.0, 111000.0, null, 50000.0, 136000.0, 99000.0, 104000.0, 210000.0, 175000.0, 131000.0, 188000.0, 81000.0, 122000.0, 25000.0, 137000.0, 50000.0, 115000.0, 131000.0, 133000.0, 151000.0, null, null, 160000.0, 100000.0, 225000.0, 94000.0, 136000.0, 139000.0, null, 118000.0, 185000.0, 154000.0, 85000.0, 259000.0, 180000.0, 44000.0, 137000.0, 81000.0, 194000.0, 93000.0, 370000.0, null, 650000.0, 74000.0, 70000.0, 25000.0, 102000.0, 88000.0, 168000.0, 175000.0, 122000.0, 187000.0, 100000.0, 70000.0, 30000.0, 125000.0, 152000.0, 50000.0, 600000.0, 160000.0, 187000.0, 120000.0, 255000.0, 98000.0, 158000.0, 75000.0, 182000.0, 129000.0, 200000.0, 95000.0, 700000.0, 187000.0, 116000.0, 101000.0, 116000.0, 73000.0, 108000.0, 120000.0, 58000.0, 168000.0, 188000.0, 48000.0, 76000.0, 120000.0, 187000.0, 120000.0, 113000.0, 90000.0, 166000.0, 135000.0, 124000.0, 120000.0, 80000.0, 55000.0, 59000.0, 240000.0, 130000.0, 137000.0, 100000.0, 131000.0, 127000.0, 116000.0, 144000.0, 175000.0, 128000.0, 210000.0, 158000.0, 200000.0, 104000.0, 42000.0, 120000.0, 280000.0, 140000.0, 170000.0, 122000.0, 112000.0, 96000.0, 120000.0, 155000.0, 108000.0, 123000.0, 112000.0, 137000.0, 123000.0, 90000.0, 104000.0, 279000.0, 255000.0, 330000.0, 134000.0, 120000.0, 128000.0, 151000.0, 150000.0, 160000.0, 90000.0, 30000.0, 136000.0, 126000.0, 150000.0, 90000.0, 115000.0, 207000.0, 80000.0, 436000.0, 124000.0, 112000.0, 78000.0, 54000.0, 89000.0, 120000.0, 115000.0, 187000.0, 139000.0, 134000.0, 172000.0, 110000.0, 200000.0, 135000.0, 105000.0, 132000.0, 96000.0, 140000.0, 135000.0, 185000.0, 84000.0, 111000.0, 56000.0, 144000.0, 111000.0, 120000.0, 88000.0, 112000.0, 115000.0, 124000.0, null, 132000.0, 300000.0, 130000.0, 184000.0, 67000.0, 117000.0, 98000.0, 71000.0, 490000.0, 182000.0, 70000.0, 160000.0, 176000.0, 71000.0, 158000.0, 74000.0, 125000.0, 160000.0, 126000.0, 259000.0, 187000.0, 228000.0, 95000.0, 130000.0, 116000.0, 165000.0, 200000.0, 236000.0, 130000.0, 95000.0, 141000.0, 175000.0, 55000.0, 155000.0, 380000.0, 110000.0, 120000.0, 130000.0, 130000.0, 130000.0, 128000.0, 296000.0, 156000.0, 128000.0, 113000.0, 132000.0, 136000.0, 125000.0, 185000.0, 275000.0, 120000.0, 113000.0, 113000.0, 135000.0, 95000.0, 109000.0, 103000.0, 53000.0, 115000.0, 115000.0, 66000.0, 160000.0, 110000.0, 60000.0, 112000.0, 138000.0, 138000.0, 100000.0, 96000.0, 121000.0, 133000.0, 87000.0, 60000.0, 150000.0, 405000.0, 143000.0, 100000.0, null, 50000.0, null, 138000.0, 187000.0, 180000.0, 148000.0, 152000.0, 175000.0, 130000.0, 110000.0, 60000.0, 90000.0, 84000.0, 96000.0, 118000.0, 136000.0, 160000.0, 128000.0, 153000.0, 132000.0, 140000.0, 110000.0, 98000.0, 162000.0, 100000.0, 93000.0, 162000.0, 150000.0, 230000.0, 86000.0, 154000.0, 113000.0, 128000.0, 234000.0, 246000.0, 131000.0, 160000.0, 96000.0, 186000.0, 110000.0, 225000.0, 105000.0, 107000.0, 111000.0, 95000.0, 113000.0, 100000.0, 208000.0, 124000.0, 243000.0, 480000.0, 188000.0, 40000.0, 250000.0, 148000.0, 150000.0, 113000.0, 45000.0, 55000.0, 100000.0, 480000.0, 400000.0, 110000.0, 161000.0, 94000.0, 130000.0, 216000.0, 100000.0, 125000.0, 126000.0, 324000.0, 107000.0, 157000.0, 140000.0, 95000.0, 128000.0, 102000.0, 155000.0, 145000.0, 110000.0, null, 158000.0, 26000.0, 84000.0, 260000.0, 162000.0, 182000.0, 108000.0, 600000.0, 211000.0, 132000.0, 120000.0, 70000.0, 186000.0, 275000.0, 108000.0, 110000.0, 107000.0, 161000.0, 205000.0, 36000.0, 104000.0, 70000.0, 94000.0, 56000.0, 292000.0, 142000.0, 260000.0, 110000.0, 180000.0, 192000.0, 155000.0, 128000.0, 172000.0, 496000.0, 173000.0, 157000.0, 108000.0, 71000.0, 40000.0, 253000.0, 187000.0], \"yaxis\": \"y\"}, {\"hoverlabel\": {\"namelength\": 0}, \"hovertemplate\": \"Loan_Status=N<br>ApplicantIncome=%{x}<br>LoanAmount=%{y}<br>Credit_History=%{marker.color}\", \"legendgroup\": \"\", \"marker\": {\"color\": [1.0, 0.0, 1.0, 1.0, 0.0, 1.0, 0.0, 0.0, 0.0, null, 1.0, null, 1.0, 1.0, 1.0, 0.0, 1.0, 0.0, 1.0, 1.0, 0.0, 1.0, 0.0, 0.0, 0.0, 1.0, 0.0, 0.0, 0.0, 1.0, 1.0, 1.0, 0.0, 1.0, null, null, 1.0, 0.0, 0.0, 1.0, 0.0, null, 1.0, 1.0, 0.0, 1.0, 1.0, 1.0, 0.0, 1.0, 1.0, 1.0, 0.0, 1.0, 0.0, 1.0, 1.0, 0.0, 0.0, 0.0, null, 1.0, 0.0, 1.0, 1.0, 1.0, 1.0, 1.0, 1.0, 1.0, 0.0, 1.0, 0.0, 0.0, 1.0, 1.0, null, 1.0, 1.0, 0.0, 1.0, 0.0, 0.0, 1.0, 1.0, null, 1.0, 1.0, 0.0, 1.0, 1.0, 0.0, 0.0, 1.0, 1.0, 0.0, 1.0, 0.0, 1.0, 1.0, 1.0, 0.0, 1.0, 0.0, 1.0, 1.0, 0.0, 1.0, 0.0, 1.0, 0.0, 1.0, 1.0, 1.0, 0.0, 1.0, 0.0, 1.0, 1.0, 0.0, 0.0, 0.0, 0.0, 1.0, 1.0, 0.0, 0.0, 1.0, 0.0, 0.0, 1.0, 1.0, 0.0, 0.0, 1.0, 0.0, 0.0, 1.0, 0.0, null, 0.0, 0.0, 1.0, 1.0, 0.0, 0.0, 1.0, 0.0, 0.0, 1.0, 0.0, 1.0, 1.0, 0.0, 0.0, null, 1.0, 1.0, 1.0, 1.0, 0.0, 1.0, 1.0, 1.0, 0.0, null, 1.0, 0.0, 1.0, 0.0, 0.0, 0.0, 0.0, 0.0, 0.0, 1.0, 0.0, 0.0, 1.0, 1.0, 0.0, 1.0, null, 0.0, 1.0, 0.0, 1.0, 1.0, 0.0, null, 1.0, 0.0], \"coloraxis\": \"coloraxis\", \"symbol\": \"circle\"}, \"mode\": \"markers\", \"name\": \"\", \"showlegend\": false, \"type\": \"scatter\", \"x\": [4583, 3036, 12841, 1853, 3510, 4887, 7660, 2600, 3365, 3717, 1442, 4166, 3167, 4692, 12500, 1828, 3600, 2645, 4230, 4616, 11500, 3366, 2609, 4945, 4166, 5726, 3200, 4300, 4755, 3750, 3750, 1000, 3167, 1378, 6000, 6782, 7333, 3800, 3572, 5568, 10513, 6080, 4000, 4583, 14999, 4200, 5042, 10000, 6277, 9166, 2281, 7933, 3089, 4583, 2237, 3522, 4344, 5516, 2333, 6400, 1916, 33846, 2178, 12000, 6033, 3125, 11000, 3992, 3418, 10000, 3430, 150, 5000, 2221, 3250, 4735, 5746, 2510, 6050, 1668, 3427, 16250, 6045, 5250, 14683, 4931, 3481, 3418, 4053, 20667, 2600, 4400, 5417, 5000, 2014, 1800, 2000, 2400, 20233, 2473, 10000, 8666, 4333, 1830, 2647, 2378, 3523, 8750, 5500, 3875, 3000, 4723, 6216, 2500, 5124, 19730, 3062, 3069, 4566, 3010, 3180, 1500, 2889, 2755, 7441, 8300, 81000, 3867, 6096, 2149, 2600, 1600, 2720, 7250, 4606, 6500, 10416, 3539, 3340, 2769, 2309, 3948, 3708, 8334, 4166, 2947, 4333, 2653, 2873, 2947, 3547, 18333, 2435, 3597, 6283, 4050, 3583, 3598, 2130, 5815, 3074, 4683, 3400, 4680, 3588, 11250, 2917, 2138, 3358, 5000, 6633, 2454, 3593, 8799, 3400, 2378, 3166, 5116, 6125, 6406, 3087, 1836, 1880, 2787, 4283, 2726, 6000, 6383, 2987, 416, 2400, 4583], \"xaxis\": \"x2\", \"y\": [128000.0, 158000.0, 349000.0, 114000.0, 76000.0, 133000.0, 104000.0, 116000.0, 112000.0, 151000.0, 35000.0, 201000.0, 74000.0, 106000.0, 320000.0, 100000.0, 80000.0, 120000.0, 112000.0, 134000.0, 286000.0, 135000.0, 165000.0, null, 116000.0, 258000.0, 126000.0, 136000.0, 95000.0, 113000.0, 176000.0, 110000.0, 180000.0, 167000.0, 265000.0, null, 120000.0, 216000.0, 152000.0, 175000.0, 160000.0, 182000.0, 290000.0, 84000.0, 242000.0, 129000.0, 185000.0, 225000.0, 118000.0, 244000.0, 113000.0, 275000.0, 121000.0, 112000.0, 63000.0, 81000.0, 87000.0, 495000.0, 102000.0, 180000.0, 67000.0, 260000.0, 66000.0, 164000.0, 160000.0, 170000.0, 83000.0, null, 127000.0, 214000.0, 128000.0, 135000.0, 72000.0, 60000.0, 170000.0, 138000.0, 255000.0, 140000.0, 120000.0, 201000.0, 138000.0, 192000.0, 115000.0, 94000.0, 304000.0, 128000.0, 155000.0, 135000.0, 158000.0, null, 99000.0, 127000.0, 143000.0, 151000.0, 113000.0, 93000.0, null, 104000.0, 480000.0, 159000.0, 155000.0, 376000.0, 110000.0, null, 173000.0, 46000.0, 152000.0, 308000.0, 105000.0, 67000.0, 100000.0, 81000.0, 133000.0, 96000.0, 124000.0, 570000.0, 111000.0, 71000.0, 100000.0, null, 71000.0, 103000.0, 45000.0, 65000.0, 194000.0, 152000.0, 360000.0, 62000.0, 218000.0, 178000.0, 160000.0, 239000.0, 80000.0, 110000.0, 81000.0, 105000.0, 187000.0, 55000.0, 150000.0, 190000.0, 125000.0, 149000.0, 173000.0, 160000.0, 98000.0, 70000.0, 110000.0, 113000.0, 132000.0, null, 80000.0, 500000.0, 75000.0, 119000.0, 209000.0, 138000.0, 96000.0, 100000.0, 70000.0, 311000.0, 123000.0, 185000.0, 95000.0, null, 110000.0, 196000.0, 66000.0, 99000.0, 80000.0, 103000.0, null, 181000.0, 132000.0, 258000.0, 123000.0, 9000.0, 104000.0, 165000.0, 187000.0, 150000.0, 136000.0, 90000.0, 61000.0, 146000.0, 172000.0, 106000.0, 205000.0, 187000.0, 88000.0, 350000.0, null, 133000.0], \"yaxis\": \"y2\"}],\n",
       "                        {\"annotations\": [{\"font\": {}, \"showarrow\": false, \"text\": \"Loan_Status=Y\", \"x\": 0.245, \"xanchor\": \"center\", \"xref\": \"paper\", \"y\": 1.0, \"yanchor\": \"bottom\", \"yref\": \"paper\"}, {\"font\": {}, \"showarrow\": false, \"text\": \"Loan_Status=N\", \"x\": 0.755, \"xanchor\": \"center\", \"xref\": \"paper\", \"y\": 1.0, \"yanchor\": \"bottom\", \"yref\": \"paper\"}], \"coloraxis\": {\"colorbar\": {\"title\": {\"text\": \"Credit_History\"}}, \"colorscale\": [[0.0, \"red\"], [0.5, \"green\"], [1.0, \"blue\"]]}, \"legend\": {\"tracegroupgap\": 0}, \"template\": {\"data\": {\"bar\": [{\"error_x\": {\"color\": \"#2a3f5f\"}, \"error_y\": {\"color\": \"#2a3f5f\"}, \"marker\": {\"line\": {\"color\": \"#E5ECF6\", \"width\": 0.5}}, \"type\": \"bar\"}], \"barpolar\": [{\"marker\": {\"line\": {\"color\": \"#E5ECF6\", \"width\": 0.5}}, \"type\": \"barpolar\"}], \"carpet\": [{\"aaxis\": {\"endlinecolor\": \"#2a3f5f\", \"gridcolor\": \"white\", \"linecolor\": \"white\", \"minorgridcolor\": \"white\", \"startlinecolor\": \"#2a3f5f\"}, \"baxis\": {\"endlinecolor\": \"#2a3f5f\", \"gridcolor\": \"white\", \"linecolor\": \"white\", \"minorgridcolor\": \"white\", \"startlinecolor\": \"#2a3f5f\"}, \"type\": \"carpet\"}], \"choropleth\": [{\"colorbar\": {\"outlinewidth\": 0, \"ticks\": \"\"}, \"type\": \"choropleth\"}], \"contour\": [{\"colorbar\": {\"outlinewidth\": 0, \"ticks\": \"\"}, \"colorscale\": [[0.0, \"#0d0887\"], [0.1111111111111111, \"#46039f\"], [0.2222222222222222, \"#7201a8\"], [0.3333333333333333, \"#9c179e\"], [0.4444444444444444, \"#bd3786\"], [0.5555555555555556, \"#d8576b\"], [0.6666666666666666, \"#ed7953\"], [0.7777777777777778, \"#fb9f3a\"], [0.8888888888888888, \"#fdca26\"], [1.0, \"#f0f921\"]], \"type\": \"contour\"}], \"contourcarpet\": [{\"colorbar\": {\"outlinewidth\": 0, \"ticks\": \"\"}, \"type\": \"contourcarpet\"}], \"heatmap\": [{\"colorbar\": {\"outlinewidth\": 0, \"ticks\": \"\"}, \"colorscale\": [[0.0, \"#0d0887\"], [0.1111111111111111, \"#46039f\"], [0.2222222222222222, \"#7201a8\"], [0.3333333333333333, \"#9c179e\"], [0.4444444444444444, \"#bd3786\"], [0.5555555555555556, \"#d8576b\"], [0.6666666666666666, \"#ed7953\"], [0.7777777777777778, \"#fb9f3a\"], [0.8888888888888888, \"#fdca26\"], [1.0, \"#f0f921\"]], \"type\": \"heatmap\"}], \"heatmapgl\": [{\"colorbar\": {\"outlinewidth\": 0, \"ticks\": \"\"}, \"colorscale\": [[0.0, \"#0d0887\"], [0.1111111111111111, \"#46039f\"], [0.2222222222222222, \"#7201a8\"], [0.3333333333333333, \"#9c179e\"], [0.4444444444444444, \"#bd3786\"], [0.5555555555555556, \"#d8576b\"], [0.6666666666666666, \"#ed7953\"], [0.7777777777777778, \"#fb9f3a\"], [0.8888888888888888, \"#fdca26\"], [1.0, \"#f0f921\"]], \"type\": \"heatmapgl\"}], \"histogram\": [{\"marker\": {\"colorbar\": {\"outlinewidth\": 0, \"ticks\": \"\"}}, \"type\": \"histogram\"}], \"histogram2d\": [{\"colorbar\": {\"outlinewidth\": 0, \"ticks\": \"\"}, \"colorscale\": [[0.0, \"#0d0887\"], [0.1111111111111111, \"#46039f\"], [0.2222222222222222, \"#7201a8\"], [0.3333333333333333, \"#9c179e\"], [0.4444444444444444, \"#bd3786\"], [0.5555555555555556, \"#d8576b\"], [0.6666666666666666, \"#ed7953\"], [0.7777777777777778, \"#fb9f3a\"], [0.8888888888888888, \"#fdca26\"], [1.0, \"#f0f921\"]], \"type\": \"histogram2d\"}], \"histogram2dcontour\": [{\"colorbar\": {\"outlinewidth\": 0, \"ticks\": \"\"}, \"colorscale\": [[0.0, \"#0d0887\"], [0.1111111111111111, \"#46039f\"], [0.2222222222222222, \"#7201a8\"], [0.3333333333333333, \"#9c179e\"], [0.4444444444444444, \"#bd3786\"], [0.5555555555555556, \"#d8576b\"], [0.6666666666666666, \"#ed7953\"], [0.7777777777777778, \"#fb9f3a\"], [0.8888888888888888, \"#fdca26\"], [1.0, \"#f0f921\"]], \"type\": \"histogram2dcontour\"}], \"mesh3d\": [{\"colorbar\": {\"outlinewidth\": 0, \"ticks\": \"\"}, \"type\": \"mesh3d\"}], \"parcoords\": [{\"line\": {\"colorbar\": {\"outlinewidth\": 0, \"ticks\": \"\"}}, \"type\": \"parcoords\"}], \"pie\": [{\"automargin\": true, \"type\": \"pie\"}], \"scatter\": [{\"marker\": {\"colorbar\": {\"outlinewidth\": 0, \"ticks\": \"\"}}, \"type\": \"scatter\"}], \"scatter3d\": [{\"line\": {\"colorbar\": {\"outlinewidth\": 0, \"ticks\": \"\"}}, \"marker\": {\"colorbar\": {\"outlinewidth\": 0, \"ticks\": \"\"}}, \"type\": \"scatter3d\"}], \"scattercarpet\": [{\"marker\": {\"colorbar\": {\"outlinewidth\": 0, \"ticks\": \"\"}}, \"type\": \"scattercarpet\"}], \"scattergeo\": [{\"marker\": {\"colorbar\": {\"outlinewidth\": 0, \"ticks\": \"\"}}, \"type\": \"scattergeo\"}], \"scattergl\": [{\"marker\": {\"colorbar\": {\"outlinewidth\": 0, \"ticks\": \"\"}}, \"type\": \"scattergl\"}], \"scattermapbox\": [{\"marker\": {\"colorbar\": {\"outlinewidth\": 0, \"ticks\": \"\"}}, \"type\": \"scattermapbox\"}], \"scatterpolar\": [{\"marker\": {\"colorbar\": {\"outlinewidth\": 0, \"ticks\": \"\"}}, \"type\": \"scatterpolar\"}], \"scatterpolargl\": [{\"marker\": {\"colorbar\": {\"outlinewidth\": 0, \"ticks\": \"\"}}, \"type\": \"scatterpolargl\"}], \"scatterternary\": [{\"marker\": {\"colorbar\": {\"outlinewidth\": 0, \"ticks\": \"\"}}, \"type\": \"scatterternary\"}], \"surface\": [{\"colorbar\": {\"outlinewidth\": 0, \"ticks\": \"\"}, \"colorscale\": [[0.0, \"#0d0887\"], [0.1111111111111111, \"#46039f\"], [0.2222222222222222, \"#7201a8\"], [0.3333333333333333, \"#9c179e\"], [0.4444444444444444, \"#bd3786\"], [0.5555555555555556, \"#d8576b\"], [0.6666666666666666, \"#ed7953\"], [0.7777777777777778, \"#fb9f3a\"], [0.8888888888888888, \"#fdca26\"], [1.0, \"#f0f921\"]], \"type\": \"surface\"}], \"table\": [{\"cells\": {\"fill\": {\"color\": \"#EBF0F8\"}, \"line\": {\"color\": \"white\"}}, \"header\": {\"fill\": {\"color\": \"#C8D4E3\"}, \"line\": {\"color\": \"white\"}}, \"type\": \"table\"}]}, \"layout\": {\"annotationdefaults\": {\"arrowcolor\": \"#2a3f5f\", \"arrowhead\": 0, \"arrowwidth\": 1}, \"coloraxis\": {\"colorbar\": {\"outlinewidth\": 0, \"ticks\": \"\"}}, \"colorscale\": {\"diverging\": [[0, \"#8e0152\"], [0.1, \"#c51b7d\"], [0.2, \"#de77ae\"], [0.3, \"#f1b6da\"], [0.4, \"#fde0ef\"], [0.5, \"#f7f7f7\"], [0.6, \"#e6f5d0\"], [0.7, \"#b8e186\"], [0.8, \"#7fbc41\"], [0.9, \"#4d9221\"], [1, \"#276419\"]], \"sequential\": [[0.0, \"#0d0887\"], [0.1111111111111111, \"#46039f\"], [0.2222222222222222, \"#7201a8\"], [0.3333333333333333, \"#9c179e\"], [0.4444444444444444, \"#bd3786\"], [0.5555555555555556, \"#d8576b\"], [0.6666666666666666, \"#ed7953\"], [0.7777777777777778, \"#fb9f3a\"], [0.8888888888888888, \"#fdca26\"], [1.0, \"#f0f921\"]], \"sequentialminus\": [[0.0, \"#0d0887\"], [0.1111111111111111, \"#46039f\"], [0.2222222222222222, \"#7201a8\"], [0.3333333333333333, \"#9c179e\"], [0.4444444444444444, \"#bd3786\"], [0.5555555555555556, \"#d8576b\"], [0.6666666666666666, \"#ed7953\"], [0.7777777777777778, \"#fb9f3a\"], [0.8888888888888888, \"#fdca26\"], [1.0, \"#f0f921\"]]}, \"colorway\": [\"#636efa\", \"#EF553B\", \"#00cc96\", \"#ab63fa\", \"#FFA15A\", \"#19d3f3\", \"#FF6692\", \"#B6E880\", \"#FF97FF\", \"#FECB52\"], \"font\": {\"color\": \"#2a3f5f\"}, \"geo\": {\"bgcolor\": \"white\", \"lakecolor\": \"white\", \"landcolor\": \"#E5ECF6\", \"showlakes\": true, \"showland\": true, \"subunitcolor\": \"white\"}, \"hoverlabel\": {\"align\": \"left\"}, \"hovermode\": \"closest\", \"mapbox\": {\"style\": \"light\"}, \"paper_bgcolor\": \"white\", \"plot_bgcolor\": \"#E5ECF6\", \"polar\": {\"angularaxis\": {\"gridcolor\": \"white\", \"linecolor\": \"white\", \"ticks\": \"\"}, \"bgcolor\": \"#E5ECF6\", \"radialaxis\": {\"gridcolor\": \"white\", \"linecolor\": \"white\", \"ticks\": \"\"}}, \"scene\": {\"xaxis\": {\"backgroundcolor\": \"#E5ECF6\", \"gridcolor\": \"white\", \"gridwidth\": 2, \"linecolor\": \"white\", \"showbackground\": true, \"ticks\": \"\", \"zerolinecolor\": \"white\"}, \"yaxis\": {\"backgroundcolor\": \"#E5ECF6\", \"gridcolor\": \"white\", \"gridwidth\": 2, \"linecolor\": \"white\", \"showbackground\": true, \"ticks\": \"\", \"zerolinecolor\": \"white\"}, \"zaxis\": {\"backgroundcolor\": \"#E5ECF6\", \"gridcolor\": \"white\", \"gridwidth\": 2, \"linecolor\": \"white\", \"showbackground\": true, \"ticks\": \"\", \"zerolinecolor\": \"white\"}}, \"shapedefaults\": {\"line\": {\"color\": \"#2a3f5f\"}}, \"ternary\": {\"aaxis\": {\"gridcolor\": \"white\", \"linecolor\": \"white\", \"ticks\": \"\"}, \"baxis\": {\"gridcolor\": \"white\", \"linecolor\": \"white\", \"ticks\": \"\"}, \"bgcolor\": \"#E5ECF6\", \"caxis\": {\"gridcolor\": \"white\", \"linecolor\": \"white\", \"ticks\": \"\"}}, \"title\": {\"x\": 0.05}, \"xaxis\": {\"automargin\": true, \"gridcolor\": \"white\", \"linecolor\": \"white\", \"ticks\": \"\", \"title\": {\"standoff\": 15}, \"zerolinecolor\": \"white\", \"zerolinewidth\": 2}, \"yaxis\": {\"automargin\": true, \"gridcolor\": \"white\", \"linecolor\": \"white\", \"ticks\": \"\", \"title\": {\"standoff\": 15}, \"zerolinecolor\": \"white\", \"zerolinewidth\": 2}}}, \"title\": {\"text\": \"LOAN STATUS BASED ON APPLICANTINCOME AND CREDIT HISTORY\"}, \"xaxis\": {\"anchor\": \"y\", \"domain\": [0.0, 0.49], \"title\": {\"text\": \"ApplicantIncome\"}}, \"xaxis2\": {\"anchor\": \"y2\", \"domain\": [0.51, 1.0], \"matches\": \"x\", \"title\": {\"text\": \"ApplicantIncome\"}}, \"yaxis\": {\"anchor\": \"x\", \"domain\": [0.0, 1.0], \"title\": {\"text\": \"LoanAmount\"}}, \"yaxis2\": {\"anchor\": \"x2\", \"domain\": [0.0, 1.0], \"matches\": \"y\", \"showticklabels\": false}},\n",
       "                        {\"responsive\": true}\n",
       "                    ).then(function(){\n",
       "                            \n",
       "var gd = document.getElementById('b5646f9e-269c-44cf-818a-8ed72cf88b1f');\n",
       "var x = new MutationObserver(function (mutations, observer) {{\n",
       "        var display = window.getComputedStyle(gd).display;\n",
       "        if (!display || display === 'none') {{\n",
       "            console.log([gd, 'removed!']);\n",
       "            Plotly.purge(gd);\n",
       "            observer.disconnect();\n",
       "        }}\n",
       "}});\n",
       "\n",
       "// Listen for the removal of the full notebook cells\n",
       "var notebookContainer = gd.closest('#notebook-container');\n",
       "if (notebookContainer) {{\n",
       "    x.observe(notebookContainer, {childList: true});\n",
       "}}\n",
       "\n",
       "// Listen for the clearing of the current output cell\n",
       "var outputEl = gd.closest('.output');\n",
       "if (outputEl) {{\n",
       "    x.observe(outputEl, {childList: true});\n",
       "}}\n",
       "\n",
       "                        })\n",
       "                };\n",
       "                });\n",
       "            </script>\n",
       "        </div>"
      ]
     },
     "metadata": {},
     "output_type": "display_data"
    }
   ],
   "source": [
    "px.scatter(train,x='ApplicantIncome',y='LoanAmount',color='Credit_History',facet_col='Loan_Status',\n",
    "           color_continuous_scale=[\"red\", \"green\", \"blue\"],title='LOAN STATUS BASED ON APPLICANTINCOME AND CREDIT HISTORY')"
   ]
  },
  {
   "cell_type": "code",
   "execution_count": 34,
   "metadata": {},
   "outputs": [
    {
     "data": {
      "application/vnd.plotly.v1+json": {
       "config": {
        "plotlyServerURL": "https://plot.ly"
       },
       "data": [
        {
         "hoverlabel": {
          "namelength": 0
         },
         "hovertemplate": "Loan_Status=Y<br>CoapplicantIncome=%{x}<br>LoanAmount=%{y}",
         "legendgroup": "Loan_Status=Y",
         "marker": {
          "color": "#636efa",
          "symbol": "circle"
         },
         "mode": "markers",
         "name": "Loan_Status=Y",
         "showlegend": true,
         "type": "scatter",
         "x": [
          0,
          0,
          2358,
          0,
          4196,
          1516,
          1526,
          700,
          1840,
          8106,
          1086,
          0,
          0,
          3500,
          5625,
          0,
          2253,
          1040,
          2083,
          1667,
          2067,
          1459,
          7210,
          1668,
          1213,
          0,
          2336,
          0,
          0,
          0,
          0,
          2275,
          1644,
          0,
          1167,
          1591,
          2250,
          2859,
          3796,
          0,
          0,
          0,
          3066,
          1875,
          0,
          1774,
          2166,
          0,
          0,
          0,
          2531,
          2000,
          2118,
          0,
          4167,
          2900,
          5654,
          1820,
          0,
          0,
          2302,
          997,
          0,
          3541,
          3263,
          3806,
          0,
          3583,
          754,
          1030,
          1126,
          754,
          0,
          2333,
          0,
          0,
          0,
          2283,
          1398,
          0,
          2667,
          0,
          8980,
          0,
          2014,
          0,
          0,
          1640,
          0,
          1929,
          0,
          0,
          0,
          3500,
          0,
          0,
          2034,
          0,
          4486,
          0,
          1425,
          830,
          3750,
          0,
          0,
          0,
          0,
          2083,
          5625,
          1041,
          1447,
          0,
          3166,
          3333,
          0,
          1769,
          0,
          5625,
          1964,
          1619,
          0,
          0,
          0,
          4750,
          2138,
          5296,
          0,
          0,
          0,
          0,
          3750,
          2365,
          2816,
          2500,
          0,
          1083,
          0,
          0,
          0,
          2531,
          0,
          0,
          0,
          3021,
          983,
          1775,
          2383,
          1717,
          2791,
          1010,
          0,
          1695,
          0,
          0,
          2054,
          0,
          2598,
          0,
          1779,
          1260,
          0,
          0,
          0,
          5000,
          5701,
          1300,
          4417,
          0,
          0,
          1843,
          1868,
          2167,
          7101,
          0,
          4250,
          2209,
          0,
          0,
          3447,
          1387,
          1811,
          1560,
          0,
          0,
          1857,
          2223,
          0,
          1842,
          3274,
          1300,
          0,
          0,
          800,
          985.7999877999998,
          1666,
          3053,
          2000,
          0,
          0,
          2416,
          1560,
          3334,
          1250,
          0,
          0,
          1750,
          0,
          1803,
          2500,
          1666,
          0,
          0,
          2405,
          0,
          0,
          1640,
          0,
          2134,
          0,
          2167,
          189,
          1590,
          2985,
          0,
          0,
          2160,
          0,
          1793,
          0,
          0,
          0,
          1833,
          4490,
          688,
          4600,
          0,
          1229,
          0,
          2330,
          2458,
          2168,
          4583,
          6250,
          0,
          2083,
          505,
          0,
          3167,
          3167,
          3667,
          2333,
          3033,
          0,
          0,
          0,
          0,
          7873,
          1459,
          923,
          4996,
          0,
          0,
          2500,
          4232,
          0,
          0,
          0,
          1600,
          2417,
          0,
          0,
          0,
          2115,
          1625,
          1400,
          484,
          1459,
          1666,
          20000,
          0,
          0,
          2400,
          0,
          0,
          2033,
          0,
          2773,
          1417,
          0,
          1719,
          0,
          4300,
          0,
          16.12000084,
          0,
          0,
          0,
          2340,
          0,
          0,
          1851,
          1125,
          0,
          5064,
          1833,
          1993,
          0,
          8333,
          1210,
          0,
          1456,
          2466,
          0,
          0,
          0,
          0,
          4083,
          0,
          2188,
          0,
          0,
          0,
          2917,
          2079,
          0,
          0,
          4648,
          1014,
          1750,
          2250,
          0,
          0,
          3150,
          0,
          0,
          2436,
          2083,
          2785,
          1131,
          0,
          0,
          913,
          1700,
          2857,
          0,
          3683,
          0,
          5624,
          1483,
          4416,
          6667,
          3013,
          0,
          2004,
          2035,
          3428,
          1632,
          1742,
          0,
          1424,
          7166,
          0,
          0,
          1430,
          1302,
          0,
          5500,
          0,
          0,
          2042,
          3906,
          0,
          0,
          2845,
          0,
          2524,
          663,
          1950,
          1783,
          2016,
          2375,
          3250,
          1032,
          1625,
          0,
          2669,
          2306,
          242,
          0,
          2054,
          0,
          0,
          0,
          1750,
          0,
          461,
          2739,
          2232,
          2917,
          0,
          0,
          1522,
          0,
          0,
          3416,
          0,
          3300,
          0,
          0,
          0,
          0,
          2792,
          0,
          4301,
          0,
          2500,
          1411,
          1950,
          0,
          0,
          240,
          0
         ],
         "xaxis": "x",
         "y": [
          null,
          66000,
          120000,
          141000,
          267000,
          95000,
          168000,
          70000,
          109000,
          200000,
          17000,
          125000,
          100000,
          115000,
          315000,
          191000,
          122000,
          110000,
          120000,
          114000,
          null,
          144000,
          184000,
          110000,
          47000,
          75000,
          134000,
          96000,
          88000,
          44000,
          144000,
          144000,
          100000,
          120000,
          97000,
          96000,
          180000,
          144000,
          120000,
          99000,
          312000,
          125000,
          172000,
          97000,
          81000,
          187000,
          130000,
          111000,
          null,
          50000,
          136000,
          99000,
          104000,
          210000,
          175000,
          131000,
          188000,
          81000,
          122000,
          25000,
          137000,
          50000,
          115000,
          131000,
          133000,
          151000,
          null,
          null,
          160000,
          100000,
          225000,
          94000,
          136000,
          139000,
          null,
          118000,
          185000,
          154000,
          85000,
          259000,
          180000,
          44000,
          137000,
          81000,
          194000,
          93000,
          370000,
          null,
          650000,
          74000,
          70000,
          25000,
          102000,
          88000,
          168000,
          175000,
          122000,
          187000,
          100000,
          70000,
          30000,
          125000,
          152000,
          50000,
          600000,
          160000,
          187000,
          120000,
          255000,
          98000,
          158000,
          75000,
          182000,
          129000,
          200000,
          95000,
          700000,
          187000,
          116000,
          101000,
          116000,
          73000,
          108000,
          120000,
          58000,
          168000,
          188000,
          48000,
          76000,
          120000,
          187000,
          120000,
          113000,
          90000,
          166000,
          135000,
          124000,
          120000,
          80000,
          55000,
          59000,
          240000,
          130000,
          137000,
          100000,
          131000,
          127000,
          116000,
          144000,
          175000,
          128000,
          210000,
          158000,
          200000,
          104000,
          42000,
          120000,
          280000,
          140000,
          170000,
          122000,
          112000,
          96000,
          120000,
          155000,
          108000,
          123000,
          112000,
          137000,
          123000,
          90000,
          104000,
          279000,
          255000,
          330000,
          134000,
          120000,
          128000,
          151000,
          150000,
          160000,
          90000,
          30000,
          136000,
          126000,
          150000,
          90000,
          115000,
          207000,
          80000,
          436000,
          124000,
          112000,
          78000,
          54000,
          89000,
          120000,
          115000,
          187000,
          139000,
          134000,
          172000,
          110000,
          200000,
          135000,
          105000,
          132000,
          96000,
          140000,
          135000,
          185000,
          84000,
          111000,
          56000,
          144000,
          111000,
          120000,
          88000,
          112000,
          115000,
          124000,
          null,
          132000,
          300000,
          130000,
          184000,
          67000,
          117000,
          98000,
          71000,
          490000,
          182000,
          70000,
          160000,
          176000,
          71000,
          158000,
          74000,
          125000,
          160000,
          126000,
          259000,
          187000,
          228000,
          95000,
          130000,
          116000,
          165000,
          200000,
          236000,
          130000,
          95000,
          141000,
          175000,
          55000,
          155000,
          380000,
          110000,
          120000,
          130000,
          130000,
          130000,
          128000,
          296000,
          156000,
          128000,
          113000,
          132000,
          136000,
          125000,
          185000,
          275000,
          120000,
          113000,
          113000,
          135000,
          95000,
          109000,
          103000,
          53000,
          115000,
          115000,
          66000,
          160000,
          110000,
          60000,
          112000,
          138000,
          138000,
          100000,
          96000,
          121000,
          133000,
          87000,
          60000,
          150000,
          405000,
          143000,
          100000,
          null,
          50000,
          null,
          138000,
          187000,
          180000,
          148000,
          152000,
          175000,
          130000,
          110000,
          60000,
          90000,
          84000,
          96000,
          118000,
          136000,
          160000,
          128000,
          153000,
          132000,
          140000,
          110000,
          98000,
          162000,
          100000,
          93000,
          162000,
          150000,
          230000,
          86000,
          154000,
          113000,
          128000,
          234000,
          246000,
          131000,
          160000,
          96000,
          186000,
          110000,
          225000,
          105000,
          107000,
          111000,
          95000,
          113000,
          100000,
          208000,
          124000,
          243000,
          480000,
          188000,
          40000,
          250000,
          148000,
          150000,
          113000,
          45000,
          55000,
          100000,
          480000,
          400000,
          110000,
          161000,
          94000,
          130000,
          216000,
          100000,
          125000,
          126000,
          324000,
          107000,
          157000,
          140000,
          95000,
          128000,
          102000,
          155000,
          145000,
          110000,
          null,
          158000,
          26000,
          84000,
          260000,
          162000,
          182000,
          108000,
          600000,
          211000,
          132000,
          120000,
          70000,
          186000,
          275000,
          108000,
          110000,
          107000,
          161000,
          205000,
          36000,
          104000,
          70000,
          94000,
          56000,
          292000,
          142000,
          260000,
          110000,
          180000,
          192000,
          155000,
          128000,
          172000,
          496000,
          173000,
          157000,
          108000,
          71000,
          40000,
          253000,
          187000
         ],
         "yaxis": "y"
        },
        {
         "hoverlabel": {
          "namelength": 0
         },
         "hovertemplate": "Loan_Status=N<br>CoapplicantIncome=%{x}<br>LoanAmount=%{y}",
         "legendgroup": "Loan_Status=N",
         "marker": {
          "color": "#EF553B",
          "symbol": "circle"
         },
         "mode": "markers",
         "name": "Loan_Status=N",
         "showlegend": true,
         "type": "scatter",
         "x": [
          1508,
          2504,
          10968,
          2840,
          0,
          0,
          0,
          1911,
          1917,
          2925,
          0,
          3369,
          0,
          0,
          3000,
          1330,
          0,
          3440,
          0,
          0,
          0,
          2200,
          3449,
          0,
          0,
          4595,
          2254,
          0,
          0,
          0,
          4750,
          3022,
          4000,
          1881,
          2250,
          0,
          0,
          3600,
          4114,
          2142,
          3850,
          2569,
          7750,
          0,
          0,
          1430,
          2083,
          1666,
          0,
          0,
          0,
          0,
          1280,
          0,
          0,
          0,
          736,
          11300,
          1451,
          7250,
          5063,
          0,
          0,
          0,
          0,
          2583,
          0,
          0,
          0,
          0,
          1250,
          1800,
          0,
          0,
          0,
          0,
          0,
          1983,
          4333,
          3890,
          0,
          0,
          0,
          0,
          2100,
          0,
          0,
          0,
          2426,
          0,
          1717,
          0,
          0,
          2541,
          2925,
          2934,
          0,
          1863,
          0,
          1843,
          0,
          4983,
          2451,
          0,
          1587,
          0,
          3230,
          4167,
          0,
          0,
          1666,
          0,
          0,
          0,
          0,
          5266,
          1987,
          0,
          0,
          3136,
          0,
          1800,
          0,
          0,
          0,
          0,
          0,
          0,
          0,
          3237,
          0,
          20000,
          0,
          1667,
          0,
          0,
          0,
          1376,
          1710,
          1542,
          1255,
          1733,
          2569,
          0,
          0,
          1664,
          2451,
          1500,
          1872,
          1603,
          0,
          0,
          0,
          2157,
          4416,
          5302,
          0,
          1287,
          6666,
          3666,
          1800,
          1915,
          0,
          2087,
          0,
          0,
          536,
          0,
          0,
          0,
          0,
          2333,
          4266,
          0,
          2500,
          0,
          2064,
          1451,
          1625,
          0,
          2210,
          33837,
          0,
          1917,
          3000,
          0,
          0,
          1000,
          0,
          41667,
          3800,
          0
         ],
         "xaxis": "x",
         "y": [
          128000,
          158000,
          349000,
          114000,
          76000,
          133000,
          104000,
          116000,
          112000,
          151000,
          35000,
          201000,
          74000,
          106000,
          320000,
          100000,
          80000,
          120000,
          112000,
          134000,
          286000,
          135000,
          165000,
          null,
          116000,
          258000,
          126000,
          136000,
          95000,
          113000,
          176000,
          110000,
          180000,
          167000,
          265000,
          null,
          120000,
          216000,
          152000,
          175000,
          160000,
          182000,
          290000,
          84000,
          242000,
          129000,
          185000,
          225000,
          118000,
          244000,
          113000,
          275000,
          121000,
          112000,
          63000,
          81000,
          87000,
          495000,
          102000,
          180000,
          67000,
          260000,
          66000,
          164000,
          160000,
          170000,
          83000,
          null,
          127000,
          214000,
          128000,
          135000,
          72000,
          60000,
          170000,
          138000,
          255000,
          140000,
          120000,
          201000,
          138000,
          192000,
          115000,
          94000,
          304000,
          128000,
          155000,
          135000,
          158000,
          null,
          99000,
          127000,
          143000,
          151000,
          113000,
          93000,
          null,
          104000,
          480000,
          159000,
          155000,
          376000,
          110000,
          null,
          173000,
          46000,
          152000,
          308000,
          105000,
          67000,
          100000,
          81000,
          133000,
          96000,
          124000,
          570000,
          111000,
          71000,
          100000,
          null,
          71000,
          103000,
          45000,
          65000,
          194000,
          152000,
          360000,
          62000,
          218000,
          178000,
          160000,
          239000,
          80000,
          110000,
          81000,
          105000,
          187000,
          55000,
          150000,
          190000,
          125000,
          149000,
          173000,
          160000,
          98000,
          70000,
          110000,
          113000,
          132000,
          null,
          80000,
          500000,
          75000,
          119000,
          209000,
          138000,
          96000,
          100000,
          70000,
          311000,
          123000,
          185000,
          95000,
          null,
          110000,
          196000,
          66000,
          99000,
          80000,
          103000,
          null,
          181000,
          132000,
          258000,
          123000,
          9000,
          104000,
          165000,
          187000,
          150000,
          136000,
          90000,
          61000,
          146000,
          172000,
          106000,
          205000,
          187000,
          88000,
          350000,
          null,
          133000
         ],
         "yaxis": "y"
        }
       ],
       "layout": {
        "legend": {
         "tracegroupgap": 0
        },
        "template": {
         "data": {
          "bar": [
           {
            "error_x": {
             "color": "#2a3f5f"
            },
            "error_y": {
             "color": "#2a3f5f"
            },
            "marker": {
             "line": {
              "color": "#E5ECF6",
              "width": 0.5
             }
            },
            "type": "bar"
           }
          ],
          "barpolar": [
           {
            "marker": {
             "line": {
              "color": "#E5ECF6",
              "width": 0.5
             }
            },
            "type": "barpolar"
           }
          ],
          "carpet": [
           {
            "aaxis": {
             "endlinecolor": "#2a3f5f",
             "gridcolor": "white",
             "linecolor": "white",
             "minorgridcolor": "white",
             "startlinecolor": "#2a3f5f"
            },
            "baxis": {
             "endlinecolor": "#2a3f5f",
             "gridcolor": "white",
             "linecolor": "white",
             "minorgridcolor": "white",
             "startlinecolor": "#2a3f5f"
            },
            "type": "carpet"
           }
          ],
          "choropleth": [
           {
            "colorbar": {
             "outlinewidth": 0,
             "ticks": ""
            },
            "type": "choropleth"
           }
          ],
          "contour": [
           {
            "colorbar": {
             "outlinewidth": 0,
             "ticks": ""
            },
            "colorscale": [
             [
              0,
              "#0d0887"
             ],
             [
              0.1111111111111111,
              "#46039f"
             ],
             [
              0.2222222222222222,
              "#7201a8"
             ],
             [
              0.3333333333333333,
              "#9c179e"
             ],
             [
              0.4444444444444444,
              "#bd3786"
             ],
             [
              0.5555555555555556,
              "#d8576b"
             ],
             [
              0.6666666666666666,
              "#ed7953"
             ],
             [
              0.7777777777777778,
              "#fb9f3a"
             ],
             [
              0.8888888888888888,
              "#fdca26"
             ],
             [
              1,
              "#f0f921"
             ]
            ],
            "type": "contour"
           }
          ],
          "contourcarpet": [
           {
            "colorbar": {
             "outlinewidth": 0,
             "ticks": ""
            },
            "type": "contourcarpet"
           }
          ],
          "heatmap": [
           {
            "colorbar": {
             "outlinewidth": 0,
             "ticks": ""
            },
            "colorscale": [
             [
              0,
              "#0d0887"
             ],
             [
              0.1111111111111111,
              "#46039f"
             ],
             [
              0.2222222222222222,
              "#7201a8"
             ],
             [
              0.3333333333333333,
              "#9c179e"
             ],
             [
              0.4444444444444444,
              "#bd3786"
             ],
             [
              0.5555555555555556,
              "#d8576b"
             ],
             [
              0.6666666666666666,
              "#ed7953"
             ],
             [
              0.7777777777777778,
              "#fb9f3a"
             ],
             [
              0.8888888888888888,
              "#fdca26"
             ],
             [
              1,
              "#f0f921"
             ]
            ],
            "type": "heatmap"
           }
          ],
          "heatmapgl": [
           {
            "colorbar": {
             "outlinewidth": 0,
             "ticks": ""
            },
            "colorscale": [
             [
              0,
              "#0d0887"
             ],
             [
              0.1111111111111111,
              "#46039f"
             ],
             [
              0.2222222222222222,
              "#7201a8"
             ],
             [
              0.3333333333333333,
              "#9c179e"
             ],
             [
              0.4444444444444444,
              "#bd3786"
             ],
             [
              0.5555555555555556,
              "#d8576b"
             ],
             [
              0.6666666666666666,
              "#ed7953"
             ],
             [
              0.7777777777777778,
              "#fb9f3a"
             ],
             [
              0.8888888888888888,
              "#fdca26"
             ],
             [
              1,
              "#f0f921"
             ]
            ],
            "type": "heatmapgl"
           }
          ],
          "histogram": [
           {
            "marker": {
             "colorbar": {
              "outlinewidth": 0,
              "ticks": ""
             }
            },
            "type": "histogram"
           }
          ],
          "histogram2d": [
           {
            "colorbar": {
             "outlinewidth": 0,
             "ticks": ""
            },
            "colorscale": [
             [
              0,
              "#0d0887"
             ],
             [
              0.1111111111111111,
              "#46039f"
             ],
             [
              0.2222222222222222,
              "#7201a8"
             ],
             [
              0.3333333333333333,
              "#9c179e"
             ],
             [
              0.4444444444444444,
              "#bd3786"
             ],
             [
              0.5555555555555556,
              "#d8576b"
             ],
             [
              0.6666666666666666,
              "#ed7953"
             ],
             [
              0.7777777777777778,
              "#fb9f3a"
             ],
             [
              0.8888888888888888,
              "#fdca26"
             ],
             [
              1,
              "#f0f921"
             ]
            ],
            "type": "histogram2d"
           }
          ],
          "histogram2dcontour": [
           {
            "colorbar": {
             "outlinewidth": 0,
             "ticks": ""
            },
            "colorscale": [
             [
              0,
              "#0d0887"
             ],
             [
              0.1111111111111111,
              "#46039f"
             ],
             [
              0.2222222222222222,
              "#7201a8"
             ],
             [
              0.3333333333333333,
              "#9c179e"
             ],
             [
              0.4444444444444444,
              "#bd3786"
             ],
             [
              0.5555555555555556,
              "#d8576b"
             ],
             [
              0.6666666666666666,
              "#ed7953"
             ],
             [
              0.7777777777777778,
              "#fb9f3a"
             ],
             [
              0.8888888888888888,
              "#fdca26"
             ],
             [
              1,
              "#f0f921"
             ]
            ],
            "type": "histogram2dcontour"
           }
          ],
          "mesh3d": [
           {
            "colorbar": {
             "outlinewidth": 0,
             "ticks": ""
            },
            "type": "mesh3d"
           }
          ],
          "parcoords": [
           {
            "line": {
             "colorbar": {
              "outlinewidth": 0,
              "ticks": ""
             }
            },
            "type": "parcoords"
           }
          ],
          "pie": [
           {
            "automargin": true,
            "type": "pie"
           }
          ],
          "scatter": [
           {
            "marker": {
             "colorbar": {
              "outlinewidth": 0,
              "ticks": ""
             }
            },
            "type": "scatter"
           }
          ],
          "scatter3d": [
           {
            "line": {
             "colorbar": {
              "outlinewidth": 0,
              "ticks": ""
             }
            },
            "marker": {
             "colorbar": {
              "outlinewidth": 0,
              "ticks": ""
             }
            },
            "type": "scatter3d"
           }
          ],
          "scattercarpet": [
           {
            "marker": {
             "colorbar": {
              "outlinewidth": 0,
              "ticks": ""
             }
            },
            "type": "scattercarpet"
           }
          ],
          "scattergeo": [
           {
            "marker": {
             "colorbar": {
              "outlinewidth": 0,
              "ticks": ""
             }
            },
            "type": "scattergeo"
           }
          ],
          "scattergl": [
           {
            "marker": {
             "colorbar": {
              "outlinewidth": 0,
              "ticks": ""
             }
            },
            "type": "scattergl"
           }
          ],
          "scattermapbox": [
           {
            "marker": {
             "colorbar": {
              "outlinewidth": 0,
              "ticks": ""
             }
            },
            "type": "scattermapbox"
           }
          ],
          "scatterpolar": [
           {
            "marker": {
             "colorbar": {
              "outlinewidth": 0,
              "ticks": ""
             }
            },
            "type": "scatterpolar"
           }
          ],
          "scatterpolargl": [
           {
            "marker": {
             "colorbar": {
              "outlinewidth": 0,
              "ticks": ""
             }
            },
            "type": "scatterpolargl"
           }
          ],
          "scatterternary": [
           {
            "marker": {
             "colorbar": {
              "outlinewidth": 0,
              "ticks": ""
             }
            },
            "type": "scatterternary"
           }
          ],
          "surface": [
           {
            "colorbar": {
             "outlinewidth": 0,
             "ticks": ""
            },
            "colorscale": [
             [
              0,
              "#0d0887"
             ],
             [
              0.1111111111111111,
              "#46039f"
             ],
             [
              0.2222222222222222,
              "#7201a8"
             ],
             [
              0.3333333333333333,
              "#9c179e"
             ],
             [
              0.4444444444444444,
              "#bd3786"
             ],
             [
              0.5555555555555556,
              "#d8576b"
             ],
             [
              0.6666666666666666,
              "#ed7953"
             ],
             [
              0.7777777777777778,
              "#fb9f3a"
             ],
             [
              0.8888888888888888,
              "#fdca26"
             ],
             [
              1,
              "#f0f921"
             ]
            ],
            "type": "surface"
           }
          ],
          "table": [
           {
            "cells": {
             "fill": {
              "color": "#EBF0F8"
             },
             "line": {
              "color": "white"
             }
            },
            "header": {
             "fill": {
              "color": "#C8D4E3"
             },
             "line": {
              "color": "white"
             }
            },
            "type": "table"
           }
          ]
         },
         "layout": {
          "annotationdefaults": {
           "arrowcolor": "#2a3f5f",
           "arrowhead": 0,
           "arrowwidth": 1
          },
          "coloraxis": {
           "colorbar": {
            "outlinewidth": 0,
            "ticks": ""
           }
          },
          "colorscale": {
           "diverging": [
            [
             0,
             "#8e0152"
            ],
            [
             0.1,
             "#c51b7d"
            ],
            [
             0.2,
             "#de77ae"
            ],
            [
             0.3,
             "#f1b6da"
            ],
            [
             0.4,
             "#fde0ef"
            ],
            [
             0.5,
             "#f7f7f7"
            ],
            [
             0.6,
             "#e6f5d0"
            ],
            [
             0.7,
             "#b8e186"
            ],
            [
             0.8,
             "#7fbc41"
            ],
            [
             0.9,
             "#4d9221"
            ],
            [
             1,
             "#276419"
            ]
           ],
           "sequential": [
            [
             0,
             "#0d0887"
            ],
            [
             0.1111111111111111,
             "#46039f"
            ],
            [
             0.2222222222222222,
             "#7201a8"
            ],
            [
             0.3333333333333333,
             "#9c179e"
            ],
            [
             0.4444444444444444,
             "#bd3786"
            ],
            [
             0.5555555555555556,
             "#d8576b"
            ],
            [
             0.6666666666666666,
             "#ed7953"
            ],
            [
             0.7777777777777778,
             "#fb9f3a"
            ],
            [
             0.8888888888888888,
             "#fdca26"
            ],
            [
             1,
             "#f0f921"
            ]
           ],
           "sequentialminus": [
            [
             0,
             "#0d0887"
            ],
            [
             0.1111111111111111,
             "#46039f"
            ],
            [
             0.2222222222222222,
             "#7201a8"
            ],
            [
             0.3333333333333333,
             "#9c179e"
            ],
            [
             0.4444444444444444,
             "#bd3786"
            ],
            [
             0.5555555555555556,
             "#d8576b"
            ],
            [
             0.6666666666666666,
             "#ed7953"
            ],
            [
             0.7777777777777778,
             "#fb9f3a"
            ],
            [
             0.8888888888888888,
             "#fdca26"
            ],
            [
             1,
             "#f0f921"
            ]
           ]
          },
          "colorway": [
           "#636efa",
           "#EF553B",
           "#00cc96",
           "#ab63fa",
           "#FFA15A",
           "#19d3f3",
           "#FF6692",
           "#B6E880",
           "#FF97FF",
           "#FECB52"
          ],
          "font": {
           "color": "#2a3f5f"
          },
          "geo": {
           "bgcolor": "white",
           "lakecolor": "white",
           "landcolor": "#E5ECF6",
           "showlakes": true,
           "showland": true,
           "subunitcolor": "white"
          },
          "hoverlabel": {
           "align": "left"
          },
          "hovermode": "closest",
          "mapbox": {
           "style": "light"
          },
          "paper_bgcolor": "white",
          "plot_bgcolor": "#E5ECF6",
          "polar": {
           "angularaxis": {
            "gridcolor": "white",
            "linecolor": "white",
            "ticks": ""
           },
           "bgcolor": "#E5ECF6",
           "radialaxis": {
            "gridcolor": "white",
            "linecolor": "white",
            "ticks": ""
           }
          },
          "scene": {
           "xaxis": {
            "backgroundcolor": "#E5ECF6",
            "gridcolor": "white",
            "gridwidth": 2,
            "linecolor": "white",
            "showbackground": true,
            "ticks": "",
            "zerolinecolor": "white"
           },
           "yaxis": {
            "backgroundcolor": "#E5ECF6",
            "gridcolor": "white",
            "gridwidth": 2,
            "linecolor": "white",
            "showbackground": true,
            "ticks": "",
            "zerolinecolor": "white"
           },
           "zaxis": {
            "backgroundcolor": "#E5ECF6",
            "gridcolor": "white",
            "gridwidth": 2,
            "linecolor": "white",
            "showbackground": true,
            "ticks": "",
            "zerolinecolor": "white"
           }
          },
          "shapedefaults": {
           "line": {
            "color": "#2a3f5f"
           }
          },
          "ternary": {
           "aaxis": {
            "gridcolor": "white",
            "linecolor": "white",
            "ticks": ""
           },
           "baxis": {
            "gridcolor": "white",
            "linecolor": "white",
            "ticks": ""
           },
           "bgcolor": "#E5ECF6",
           "caxis": {
            "gridcolor": "white",
            "linecolor": "white",
            "ticks": ""
           }
          },
          "title": {
           "x": 0.05
          },
          "xaxis": {
           "automargin": true,
           "gridcolor": "white",
           "linecolor": "white",
           "ticks": "",
           "title": {
            "standoff": 15
           },
           "zerolinecolor": "white",
           "zerolinewidth": 2
          },
          "yaxis": {
           "automargin": true,
           "gridcolor": "white",
           "linecolor": "white",
           "ticks": "",
           "title": {
            "standoff": 15
           },
           "zerolinecolor": "white",
           "zerolinewidth": 2
          }
         }
        },
        "title": {
         "text": "LOAN STATUS BASED ON COAPPLICANT INCOME"
        },
        "xaxis": {
         "anchor": "y",
         "domain": [
          0,
          1
         ],
         "title": {
          "text": "CoapplicantIncome"
         }
        },
        "yaxis": {
         "anchor": "x",
         "domain": [
          0,
          1
         ],
         "title": {
          "text": "LoanAmount"
         }
        }
       }
      },
      "text/html": [
       "<div>\n",
       "        \n",
       "        \n",
       "            <div id=\"1372fd8c-2605-4f5c-b37b-a96bc41af0a6\" class=\"plotly-graph-div\" style=\"height:525px; width:100%;\"></div>\n",
       "            <script type=\"text/javascript\">\n",
       "                require([\"plotly\"], function(Plotly) {\n",
       "                    window.PLOTLYENV=window.PLOTLYENV || {};\n",
       "                    \n",
       "                if (document.getElementById(\"1372fd8c-2605-4f5c-b37b-a96bc41af0a6\")) {\n",
       "                    Plotly.newPlot(\n",
       "                        '1372fd8c-2605-4f5c-b37b-a96bc41af0a6',\n",
       "                        [{\"hoverlabel\": {\"namelength\": 0}, \"hovertemplate\": \"Loan_Status=Y<br>CoapplicantIncome=%{x}<br>LoanAmount=%{y}\", \"legendgroup\": \"Loan_Status=Y\", \"marker\": {\"color\": \"#636efa\", \"symbol\": \"circle\"}, \"mode\": \"markers\", \"name\": \"Loan_Status=Y\", \"showlegend\": true, \"type\": \"scatter\", \"x\": [0.0, 0.0, 2358.0, 0.0, 4196.0, 1516.0, 1526.0, 700.0, 1840.0, 8106.0, 1086.0, 0.0, 0.0, 3500.0, 5625.0, 0.0, 2253.0, 1040.0, 2083.0, 1667.0, 2067.0, 1459.0, 7210.0, 1668.0, 1213.0, 0.0, 2336.0, 0.0, 0.0, 0.0, 0.0, 2275.0, 1644.0, 0.0, 1167.0, 1591.0, 2250.0, 2859.0, 3796.0, 0.0, 0.0, 0.0, 3066.0, 1875.0, 0.0, 1774.0, 2166.0, 0.0, 0.0, 0.0, 2531.0, 2000.0, 2118.0, 0.0, 4167.0, 2900.0, 5654.0, 1820.0, 0.0, 0.0, 2302.0, 997.0, 0.0, 3541.0, 3263.0, 3806.0, 0.0, 3583.0, 754.0, 1030.0, 1126.0, 754.0, 0.0, 2333.0, 0.0, 0.0, 0.0, 2283.0, 1398.0, 0.0, 2667.0, 0.0, 8980.0, 0.0, 2014.0, 0.0, 0.0, 1640.0, 0.0, 1929.0, 0.0, 0.0, 0.0, 3500.0, 0.0, 0.0, 2034.0, 0.0, 4486.0, 0.0, 1425.0, 830.0, 3750.0, 0.0, 0.0, 0.0, 0.0, 2083.0, 5625.0, 1041.0, 1447.0, 0.0, 3166.0, 3333.0, 0.0, 1769.0, 0.0, 5625.0, 1964.0, 1619.0, 0.0, 0.0, 0.0, 4750.0, 2138.0, 5296.0, 0.0, 0.0, 0.0, 0.0, 3750.0, 2365.0, 2816.0, 2500.0, 0.0, 1083.0, 0.0, 0.0, 0.0, 2531.0, 0.0, 0.0, 0.0, 3021.0, 983.0, 1775.0, 2383.0, 1717.0, 2791.0, 1010.0, 0.0, 1695.0, 0.0, 0.0, 2054.0, 0.0, 2598.0, 0.0, 1779.0, 1260.0, 0.0, 0.0, 0.0, 5000.0, 5701.0, 1300.0, 4417.0, 0.0, 0.0, 1843.0, 1868.0, 2167.0, 7101.0, 0.0, 4250.0, 2209.0, 0.0, 0.0, 3447.0, 1387.0, 1811.0, 1560.0, 0.0, 0.0, 1857.0, 2223.0, 0.0, 1842.0, 3274.0, 1300.0, 0.0, 0.0, 800.0, 985.7999877999998, 1666.0, 3053.0, 2000.0, 0.0, 0.0, 2416.0, 1560.0, 3334.0, 1250.0, 0.0, 0.0, 1750.0, 0.0, 1803.0, 2500.0, 1666.0, 0.0, 0.0, 2405.0, 0.0, 0.0, 1640.0, 0.0, 2134.0, 0.0, 2167.0, 189.0, 1590.0, 2985.0, 0.0, 0.0, 2160.0, 0.0, 1793.0, 0.0, 0.0, 0.0, 1833.0, 4490.0, 688.0, 4600.0, 0.0, 1229.0, 0.0, 2330.0, 2458.0, 2168.0, 4583.0, 6250.0, 0.0, 2083.0, 505.0, 0.0, 3167.0, 3167.0, 3667.0, 2333.0, 3033.0, 0.0, 0.0, 0.0, 0.0, 7873.0, 1459.0, 923.0, 4996.0, 0.0, 0.0, 2500.0, 4232.0, 0.0, 0.0, 0.0, 1600.0, 2417.0, 0.0, 0.0, 0.0, 2115.0, 1625.0, 1400.0, 484.0, 1459.0, 1666.0, 20000.0, 0.0, 0.0, 2400.0, 0.0, 0.0, 2033.0, 0.0, 2773.0, 1417.0, 0.0, 1719.0, 0.0, 4300.0, 0.0, 16.12000084, 0.0, 0.0, 0.0, 2340.0, 0.0, 0.0, 1851.0, 1125.0, 0.0, 5064.0, 1833.0, 1993.0, 0.0, 8333.0, 1210.0, 0.0, 1456.0, 2466.0, 0.0, 0.0, 0.0, 0.0, 4083.0, 0.0, 2188.0, 0.0, 0.0, 0.0, 2917.0, 2079.0, 0.0, 0.0, 4648.0, 1014.0, 1750.0, 2250.0, 0.0, 0.0, 3150.0, 0.0, 0.0, 2436.0, 2083.0, 2785.0, 1131.0, 0.0, 0.0, 913.0, 1700.0, 2857.0, 0.0, 3683.0, 0.0, 5624.0, 1483.0, 4416.0, 6667.0, 3013.0, 0.0, 2004.0, 2035.0, 3428.0, 1632.0, 1742.0, 0.0, 1424.0, 7166.0, 0.0, 0.0, 1430.0, 1302.0, 0.0, 5500.0, 0.0, 0.0, 2042.0, 3906.0, 0.0, 0.0, 2845.0, 0.0, 2524.0, 663.0, 1950.0, 1783.0, 2016.0, 2375.0, 3250.0, 1032.0, 1625.0, 0.0, 2669.0, 2306.0, 242.0, 0.0, 2054.0, 0.0, 0.0, 0.0, 1750.0, 0.0, 461.0, 2739.0, 2232.0, 2917.0, 0.0, 0.0, 1522.0, 0.0, 0.0, 3416.0, 0.0, 3300.0, 0.0, 0.0, 0.0, 0.0, 2792.0, 0.0, 4301.0, 0.0, 2500.0, 1411.0, 1950.0, 0.0, 0.0, 240.0, 0.0], \"xaxis\": \"x\", \"y\": [null, 66000.0, 120000.0, 141000.0, 267000.0, 95000.0, 168000.0, 70000.0, 109000.0, 200000.0, 17000.0, 125000.0, 100000.0, 115000.0, 315000.0, 191000.0, 122000.0, 110000.0, 120000.0, 114000.0, null, 144000.0, 184000.0, 110000.0, 47000.0, 75000.0, 134000.0, 96000.0, 88000.0, 44000.0, 144000.0, 144000.0, 100000.0, 120000.0, 97000.0, 96000.0, 180000.0, 144000.0, 120000.0, 99000.0, 312000.0, 125000.0, 172000.0, 97000.0, 81000.0, 187000.0, 130000.0, 111000.0, null, 50000.0, 136000.0, 99000.0, 104000.0, 210000.0, 175000.0, 131000.0, 188000.0, 81000.0, 122000.0, 25000.0, 137000.0, 50000.0, 115000.0, 131000.0, 133000.0, 151000.0, null, null, 160000.0, 100000.0, 225000.0, 94000.0, 136000.0, 139000.0, null, 118000.0, 185000.0, 154000.0, 85000.0, 259000.0, 180000.0, 44000.0, 137000.0, 81000.0, 194000.0, 93000.0, 370000.0, null, 650000.0, 74000.0, 70000.0, 25000.0, 102000.0, 88000.0, 168000.0, 175000.0, 122000.0, 187000.0, 100000.0, 70000.0, 30000.0, 125000.0, 152000.0, 50000.0, 600000.0, 160000.0, 187000.0, 120000.0, 255000.0, 98000.0, 158000.0, 75000.0, 182000.0, 129000.0, 200000.0, 95000.0, 700000.0, 187000.0, 116000.0, 101000.0, 116000.0, 73000.0, 108000.0, 120000.0, 58000.0, 168000.0, 188000.0, 48000.0, 76000.0, 120000.0, 187000.0, 120000.0, 113000.0, 90000.0, 166000.0, 135000.0, 124000.0, 120000.0, 80000.0, 55000.0, 59000.0, 240000.0, 130000.0, 137000.0, 100000.0, 131000.0, 127000.0, 116000.0, 144000.0, 175000.0, 128000.0, 210000.0, 158000.0, 200000.0, 104000.0, 42000.0, 120000.0, 280000.0, 140000.0, 170000.0, 122000.0, 112000.0, 96000.0, 120000.0, 155000.0, 108000.0, 123000.0, 112000.0, 137000.0, 123000.0, 90000.0, 104000.0, 279000.0, 255000.0, 330000.0, 134000.0, 120000.0, 128000.0, 151000.0, 150000.0, 160000.0, 90000.0, 30000.0, 136000.0, 126000.0, 150000.0, 90000.0, 115000.0, 207000.0, 80000.0, 436000.0, 124000.0, 112000.0, 78000.0, 54000.0, 89000.0, 120000.0, 115000.0, 187000.0, 139000.0, 134000.0, 172000.0, 110000.0, 200000.0, 135000.0, 105000.0, 132000.0, 96000.0, 140000.0, 135000.0, 185000.0, 84000.0, 111000.0, 56000.0, 144000.0, 111000.0, 120000.0, 88000.0, 112000.0, 115000.0, 124000.0, null, 132000.0, 300000.0, 130000.0, 184000.0, 67000.0, 117000.0, 98000.0, 71000.0, 490000.0, 182000.0, 70000.0, 160000.0, 176000.0, 71000.0, 158000.0, 74000.0, 125000.0, 160000.0, 126000.0, 259000.0, 187000.0, 228000.0, 95000.0, 130000.0, 116000.0, 165000.0, 200000.0, 236000.0, 130000.0, 95000.0, 141000.0, 175000.0, 55000.0, 155000.0, 380000.0, 110000.0, 120000.0, 130000.0, 130000.0, 130000.0, 128000.0, 296000.0, 156000.0, 128000.0, 113000.0, 132000.0, 136000.0, 125000.0, 185000.0, 275000.0, 120000.0, 113000.0, 113000.0, 135000.0, 95000.0, 109000.0, 103000.0, 53000.0, 115000.0, 115000.0, 66000.0, 160000.0, 110000.0, 60000.0, 112000.0, 138000.0, 138000.0, 100000.0, 96000.0, 121000.0, 133000.0, 87000.0, 60000.0, 150000.0, 405000.0, 143000.0, 100000.0, null, 50000.0, null, 138000.0, 187000.0, 180000.0, 148000.0, 152000.0, 175000.0, 130000.0, 110000.0, 60000.0, 90000.0, 84000.0, 96000.0, 118000.0, 136000.0, 160000.0, 128000.0, 153000.0, 132000.0, 140000.0, 110000.0, 98000.0, 162000.0, 100000.0, 93000.0, 162000.0, 150000.0, 230000.0, 86000.0, 154000.0, 113000.0, 128000.0, 234000.0, 246000.0, 131000.0, 160000.0, 96000.0, 186000.0, 110000.0, 225000.0, 105000.0, 107000.0, 111000.0, 95000.0, 113000.0, 100000.0, 208000.0, 124000.0, 243000.0, 480000.0, 188000.0, 40000.0, 250000.0, 148000.0, 150000.0, 113000.0, 45000.0, 55000.0, 100000.0, 480000.0, 400000.0, 110000.0, 161000.0, 94000.0, 130000.0, 216000.0, 100000.0, 125000.0, 126000.0, 324000.0, 107000.0, 157000.0, 140000.0, 95000.0, 128000.0, 102000.0, 155000.0, 145000.0, 110000.0, null, 158000.0, 26000.0, 84000.0, 260000.0, 162000.0, 182000.0, 108000.0, 600000.0, 211000.0, 132000.0, 120000.0, 70000.0, 186000.0, 275000.0, 108000.0, 110000.0, 107000.0, 161000.0, 205000.0, 36000.0, 104000.0, 70000.0, 94000.0, 56000.0, 292000.0, 142000.0, 260000.0, 110000.0, 180000.0, 192000.0, 155000.0, 128000.0, 172000.0, 496000.0, 173000.0, 157000.0, 108000.0, 71000.0, 40000.0, 253000.0, 187000.0], \"yaxis\": \"y\"}, {\"hoverlabel\": {\"namelength\": 0}, \"hovertemplate\": \"Loan_Status=N<br>CoapplicantIncome=%{x}<br>LoanAmount=%{y}\", \"legendgroup\": \"Loan_Status=N\", \"marker\": {\"color\": \"#EF553B\", \"symbol\": \"circle\"}, \"mode\": \"markers\", \"name\": \"Loan_Status=N\", \"showlegend\": true, \"type\": \"scatter\", \"x\": [1508.0, 2504.0, 10968.0, 2840.0, 0.0, 0.0, 0.0, 1911.0, 1917.0, 2925.0, 0.0, 3369.0, 0.0, 0.0, 3000.0, 1330.0, 0.0, 3440.0, 0.0, 0.0, 0.0, 2200.0, 3449.0, 0.0, 0.0, 4595.0, 2254.0, 0.0, 0.0, 0.0, 4750.0, 3022.0, 4000.0, 1881.0, 2250.0, 0.0, 0.0, 3600.0, 4114.0, 2142.0, 3850.0, 2569.0, 7750.0, 0.0, 0.0, 1430.0, 2083.0, 1666.0, 0.0, 0.0, 0.0, 0.0, 1280.0, 0.0, 0.0, 0.0, 736.0, 11300.0, 1451.0, 7250.0, 5063.0, 0.0, 0.0, 0.0, 0.0, 2583.0, 0.0, 0.0, 0.0, 0.0, 1250.0, 1800.0, 0.0, 0.0, 0.0, 0.0, 0.0, 1983.0, 4333.0, 3890.0, 0.0, 0.0, 0.0, 0.0, 2100.0, 0.0, 0.0, 0.0, 2426.0, 0.0, 1717.0, 0.0, 0.0, 2541.0, 2925.0, 2934.0, 0.0, 1863.0, 0.0, 1843.0, 0.0, 4983.0, 2451.0, 0.0, 1587.0, 0.0, 3230.0, 4167.0, 0.0, 0.0, 1666.0, 0.0, 0.0, 0.0, 0.0, 5266.0, 1987.0, 0.0, 0.0, 3136.0, 0.0, 1800.0, 0.0, 0.0, 0.0, 0.0, 0.0, 0.0, 0.0, 3237.0, 0.0, 20000.0, 0.0, 1667.0, 0.0, 0.0, 0.0, 1376.0, 1710.0, 1542.0, 1255.0, 1733.0, 2569.0, 0.0, 0.0, 1664.0, 2451.0, 1500.0, 1872.0, 1603.0, 0.0, 0.0, 0.0, 2157.0, 4416.0, 5302.0, 0.0, 1287.0, 6666.0, 3666.0, 1800.0, 1915.0, 0.0, 2087.0, 0.0, 0.0, 536.0, 0.0, 0.0, 0.0, 0.0, 2333.0, 4266.0, 0.0, 2500.0, 0.0, 2064.0, 1451.0, 1625.0, 0.0, 2210.0, 33837.0, 0.0, 1917.0, 3000.0, 0.0, 0.0, 1000.0, 0.0, 41667.0, 3800.0, 0.0], \"xaxis\": \"x\", \"y\": [128000.0, 158000.0, 349000.0, 114000.0, 76000.0, 133000.0, 104000.0, 116000.0, 112000.0, 151000.0, 35000.0, 201000.0, 74000.0, 106000.0, 320000.0, 100000.0, 80000.0, 120000.0, 112000.0, 134000.0, 286000.0, 135000.0, 165000.0, null, 116000.0, 258000.0, 126000.0, 136000.0, 95000.0, 113000.0, 176000.0, 110000.0, 180000.0, 167000.0, 265000.0, null, 120000.0, 216000.0, 152000.0, 175000.0, 160000.0, 182000.0, 290000.0, 84000.0, 242000.0, 129000.0, 185000.0, 225000.0, 118000.0, 244000.0, 113000.0, 275000.0, 121000.0, 112000.0, 63000.0, 81000.0, 87000.0, 495000.0, 102000.0, 180000.0, 67000.0, 260000.0, 66000.0, 164000.0, 160000.0, 170000.0, 83000.0, null, 127000.0, 214000.0, 128000.0, 135000.0, 72000.0, 60000.0, 170000.0, 138000.0, 255000.0, 140000.0, 120000.0, 201000.0, 138000.0, 192000.0, 115000.0, 94000.0, 304000.0, 128000.0, 155000.0, 135000.0, 158000.0, null, 99000.0, 127000.0, 143000.0, 151000.0, 113000.0, 93000.0, null, 104000.0, 480000.0, 159000.0, 155000.0, 376000.0, 110000.0, null, 173000.0, 46000.0, 152000.0, 308000.0, 105000.0, 67000.0, 100000.0, 81000.0, 133000.0, 96000.0, 124000.0, 570000.0, 111000.0, 71000.0, 100000.0, null, 71000.0, 103000.0, 45000.0, 65000.0, 194000.0, 152000.0, 360000.0, 62000.0, 218000.0, 178000.0, 160000.0, 239000.0, 80000.0, 110000.0, 81000.0, 105000.0, 187000.0, 55000.0, 150000.0, 190000.0, 125000.0, 149000.0, 173000.0, 160000.0, 98000.0, 70000.0, 110000.0, 113000.0, 132000.0, null, 80000.0, 500000.0, 75000.0, 119000.0, 209000.0, 138000.0, 96000.0, 100000.0, 70000.0, 311000.0, 123000.0, 185000.0, 95000.0, null, 110000.0, 196000.0, 66000.0, 99000.0, 80000.0, 103000.0, null, 181000.0, 132000.0, 258000.0, 123000.0, 9000.0, 104000.0, 165000.0, 187000.0, 150000.0, 136000.0, 90000.0, 61000.0, 146000.0, 172000.0, 106000.0, 205000.0, 187000.0, 88000.0, 350000.0, null, 133000.0], \"yaxis\": \"y\"}],\n",
       "                        {\"legend\": {\"tracegroupgap\": 0}, \"template\": {\"data\": {\"bar\": [{\"error_x\": {\"color\": \"#2a3f5f\"}, \"error_y\": {\"color\": \"#2a3f5f\"}, \"marker\": {\"line\": {\"color\": \"#E5ECF6\", \"width\": 0.5}}, \"type\": \"bar\"}], \"barpolar\": [{\"marker\": {\"line\": {\"color\": \"#E5ECF6\", \"width\": 0.5}}, \"type\": \"barpolar\"}], \"carpet\": [{\"aaxis\": {\"endlinecolor\": \"#2a3f5f\", \"gridcolor\": \"white\", \"linecolor\": \"white\", \"minorgridcolor\": \"white\", \"startlinecolor\": \"#2a3f5f\"}, \"baxis\": {\"endlinecolor\": \"#2a3f5f\", \"gridcolor\": \"white\", \"linecolor\": \"white\", \"minorgridcolor\": \"white\", \"startlinecolor\": \"#2a3f5f\"}, \"type\": \"carpet\"}], \"choropleth\": [{\"colorbar\": {\"outlinewidth\": 0, \"ticks\": \"\"}, \"type\": \"choropleth\"}], \"contour\": [{\"colorbar\": {\"outlinewidth\": 0, \"ticks\": \"\"}, \"colorscale\": [[0.0, \"#0d0887\"], [0.1111111111111111, \"#46039f\"], [0.2222222222222222, \"#7201a8\"], [0.3333333333333333, \"#9c179e\"], [0.4444444444444444, \"#bd3786\"], [0.5555555555555556, \"#d8576b\"], [0.6666666666666666, \"#ed7953\"], [0.7777777777777778, \"#fb9f3a\"], [0.8888888888888888, \"#fdca26\"], [1.0, \"#f0f921\"]], \"type\": \"contour\"}], \"contourcarpet\": [{\"colorbar\": {\"outlinewidth\": 0, \"ticks\": \"\"}, \"type\": \"contourcarpet\"}], \"heatmap\": [{\"colorbar\": {\"outlinewidth\": 0, \"ticks\": \"\"}, \"colorscale\": [[0.0, \"#0d0887\"], [0.1111111111111111, \"#46039f\"], [0.2222222222222222, \"#7201a8\"], [0.3333333333333333, \"#9c179e\"], [0.4444444444444444, \"#bd3786\"], [0.5555555555555556, \"#d8576b\"], [0.6666666666666666, \"#ed7953\"], [0.7777777777777778, \"#fb9f3a\"], [0.8888888888888888, \"#fdca26\"], [1.0, \"#f0f921\"]], \"type\": \"heatmap\"}], \"heatmapgl\": [{\"colorbar\": {\"outlinewidth\": 0, \"ticks\": \"\"}, \"colorscale\": [[0.0, \"#0d0887\"], [0.1111111111111111, \"#46039f\"], [0.2222222222222222, \"#7201a8\"], [0.3333333333333333, \"#9c179e\"], [0.4444444444444444, \"#bd3786\"], [0.5555555555555556, \"#d8576b\"], [0.6666666666666666, \"#ed7953\"], [0.7777777777777778, \"#fb9f3a\"], [0.8888888888888888, \"#fdca26\"], [1.0, \"#f0f921\"]], \"type\": \"heatmapgl\"}], \"histogram\": [{\"marker\": {\"colorbar\": {\"outlinewidth\": 0, \"ticks\": \"\"}}, \"type\": \"histogram\"}], \"histogram2d\": [{\"colorbar\": {\"outlinewidth\": 0, \"ticks\": \"\"}, \"colorscale\": [[0.0, \"#0d0887\"], [0.1111111111111111, \"#46039f\"], [0.2222222222222222, \"#7201a8\"], [0.3333333333333333, \"#9c179e\"], [0.4444444444444444, \"#bd3786\"], [0.5555555555555556, \"#d8576b\"], [0.6666666666666666, \"#ed7953\"], [0.7777777777777778, \"#fb9f3a\"], [0.8888888888888888, \"#fdca26\"], [1.0, \"#f0f921\"]], \"type\": \"histogram2d\"}], \"histogram2dcontour\": [{\"colorbar\": {\"outlinewidth\": 0, \"ticks\": \"\"}, \"colorscale\": [[0.0, \"#0d0887\"], [0.1111111111111111, \"#46039f\"], [0.2222222222222222, \"#7201a8\"], [0.3333333333333333, \"#9c179e\"], [0.4444444444444444, \"#bd3786\"], [0.5555555555555556, \"#d8576b\"], [0.6666666666666666, \"#ed7953\"], [0.7777777777777778, \"#fb9f3a\"], [0.8888888888888888, \"#fdca26\"], [1.0, \"#f0f921\"]], \"type\": \"histogram2dcontour\"}], \"mesh3d\": [{\"colorbar\": {\"outlinewidth\": 0, \"ticks\": \"\"}, \"type\": \"mesh3d\"}], \"parcoords\": [{\"line\": {\"colorbar\": {\"outlinewidth\": 0, \"ticks\": \"\"}}, \"type\": \"parcoords\"}], \"pie\": [{\"automargin\": true, \"type\": \"pie\"}], \"scatter\": [{\"marker\": {\"colorbar\": {\"outlinewidth\": 0, \"ticks\": \"\"}}, \"type\": \"scatter\"}], \"scatter3d\": [{\"line\": {\"colorbar\": {\"outlinewidth\": 0, \"ticks\": \"\"}}, \"marker\": {\"colorbar\": {\"outlinewidth\": 0, \"ticks\": \"\"}}, \"type\": \"scatter3d\"}], \"scattercarpet\": [{\"marker\": {\"colorbar\": {\"outlinewidth\": 0, \"ticks\": \"\"}}, \"type\": \"scattercarpet\"}], \"scattergeo\": [{\"marker\": {\"colorbar\": {\"outlinewidth\": 0, \"ticks\": \"\"}}, \"type\": \"scattergeo\"}], \"scattergl\": [{\"marker\": {\"colorbar\": {\"outlinewidth\": 0, \"ticks\": \"\"}}, \"type\": \"scattergl\"}], \"scattermapbox\": [{\"marker\": {\"colorbar\": {\"outlinewidth\": 0, \"ticks\": \"\"}}, \"type\": \"scattermapbox\"}], \"scatterpolar\": [{\"marker\": {\"colorbar\": {\"outlinewidth\": 0, \"ticks\": \"\"}}, \"type\": \"scatterpolar\"}], \"scatterpolargl\": [{\"marker\": {\"colorbar\": {\"outlinewidth\": 0, \"ticks\": \"\"}}, \"type\": \"scatterpolargl\"}], \"scatterternary\": [{\"marker\": {\"colorbar\": {\"outlinewidth\": 0, \"ticks\": \"\"}}, \"type\": \"scatterternary\"}], \"surface\": [{\"colorbar\": {\"outlinewidth\": 0, \"ticks\": \"\"}, \"colorscale\": [[0.0, \"#0d0887\"], [0.1111111111111111, \"#46039f\"], [0.2222222222222222, \"#7201a8\"], [0.3333333333333333, \"#9c179e\"], [0.4444444444444444, \"#bd3786\"], [0.5555555555555556, \"#d8576b\"], [0.6666666666666666, \"#ed7953\"], [0.7777777777777778, \"#fb9f3a\"], [0.8888888888888888, \"#fdca26\"], [1.0, \"#f0f921\"]], \"type\": \"surface\"}], \"table\": [{\"cells\": {\"fill\": {\"color\": \"#EBF0F8\"}, \"line\": {\"color\": \"white\"}}, \"header\": {\"fill\": {\"color\": \"#C8D4E3\"}, \"line\": {\"color\": \"white\"}}, \"type\": \"table\"}]}, \"layout\": {\"annotationdefaults\": {\"arrowcolor\": \"#2a3f5f\", \"arrowhead\": 0, \"arrowwidth\": 1}, \"coloraxis\": {\"colorbar\": {\"outlinewidth\": 0, \"ticks\": \"\"}}, \"colorscale\": {\"diverging\": [[0, \"#8e0152\"], [0.1, \"#c51b7d\"], [0.2, \"#de77ae\"], [0.3, \"#f1b6da\"], [0.4, \"#fde0ef\"], [0.5, \"#f7f7f7\"], [0.6, \"#e6f5d0\"], [0.7, \"#b8e186\"], [0.8, \"#7fbc41\"], [0.9, \"#4d9221\"], [1, \"#276419\"]], \"sequential\": [[0.0, \"#0d0887\"], [0.1111111111111111, \"#46039f\"], [0.2222222222222222, \"#7201a8\"], [0.3333333333333333, \"#9c179e\"], [0.4444444444444444, \"#bd3786\"], [0.5555555555555556, \"#d8576b\"], [0.6666666666666666, \"#ed7953\"], [0.7777777777777778, \"#fb9f3a\"], [0.8888888888888888, \"#fdca26\"], [1.0, \"#f0f921\"]], \"sequentialminus\": [[0.0, \"#0d0887\"], [0.1111111111111111, \"#46039f\"], [0.2222222222222222, \"#7201a8\"], [0.3333333333333333, \"#9c179e\"], [0.4444444444444444, \"#bd3786\"], [0.5555555555555556, \"#d8576b\"], [0.6666666666666666, \"#ed7953\"], [0.7777777777777778, \"#fb9f3a\"], [0.8888888888888888, \"#fdca26\"], [1.0, \"#f0f921\"]]}, \"colorway\": [\"#636efa\", \"#EF553B\", \"#00cc96\", \"#ab63fa\", \"#FFA15A\", \"#19d3f3\", \"#FF6692\", \"#B6E880\", \"#FF97FF\", \"#FECB52\"], \"font\": {\"color\": \"#2a3f5f\"}, \"geo\": {\"bgcolor\": \"white\", \"lakecolor\": \"white\", \"landcolor\": \"#E5ECF6\", \"showlakes\": true, \"showland\": true, \"subunitcolor\": \"white\"}, \"hoverlabel\": {\"align\": \"left\"}, \"hovermode\": \"closest\", \"mapbox\": {\"style\": \"light\"}, \"paper_bgcolor\": \"white\", \"plot_bgcolor\": \"#E5ECF6\", \"polar\": {\"angularaxis\": {\"gridcolor\": \"white\", \"linecolor\": \"white\", \"ticks\": \"\"}, \"bgcolor\": \"#E5ECF6\", \"radialaxis\": {\"gridcolor\": \"white\", \"linecolor\": \"white\", \"ticks\": \"\"}}, \"scene\": {\"xaxis\": {\"backgroundcolor\": \"#E5ECF6\", \"gridcolor\": \"white\", \"gridwidth\": 2, \"linecolor\": \"white\", \"showbackground\": true, \"ticks\": \"\", \"zerolinecolor\": \"white\"}, \"yaxis\": {\"backgroundcolor\": \"#E5ECF6\", \"gridcolor\": \"white\", \"gridwidth\": 2, \"linecolor\": \"white\", \"showbackground\": true, \"ticks\": \"\", \"zerolinecolor\": \"white\"}, \"zaxis\": {\"backgroundcolor\": \"#E5ECF6\", \"gridcolor\": \"white\", \"gridwidth\": 2, \"linecolor\": \"white\", \"showbackground\": true, \"ticks\": \"\", \"zerolinecolor\": \"white\"}}, \"shapedefaults\": {\"line\": {\"color\": \"#2a3f5f\"}}, \"ternary\": {\"aaxis\": {\"gridcolor\": \"white\", \"linecolor\": \"white\", \"ticks\": \"\"}, \"baxis\": {\"gridcolor\": \"white\", \"linecolor\": \"white\", \"ticks\": \"\"}, \"bgcolor\": \"#E5ECF6\", \"caxis\": {\"gridcolor\": \"white\", \"linecolor\": \"white\", \"ticks\": \"\"}}, \"title\": {\"x\": 0.05}, \"xaxis\": {\"automargin\": true, \"gridcolor\": \"white\", \"linecolor\": \"white\", \"ticks\": \"\", \"title\": {\"standoff\": 15}, \"zerolinecolor\": \"white\", \"zerolinewidth\": 2}, \"yaxis\": {\"automargin\": true, \"gridcolor\": \"white\", \"linecolor\": \"white\", \"ticks\": \"\", \"title\": {\"standoff\": 15}, \"zerolinecolor\": \"white\", \"zerolinewidth\": 2}}}, \"title\": {\"text\": \"LOAN STATUS BASED ON COAPPLICANT INCOME\"}, \"xaxis\": {\"anchor\": \"y\", \"domain\": [0.0, 1.0], \"title\": {\"text\": \"CoapplicantIncome\"}}, \"yaxis\": {\"anchor\": \"x\", \"domain\": [0.0, 1.0], \"title\": {\"text\": \"LoanAmount\"}}},\n",
       "                        {\"responsive\": true}\n",
       "                    ).then(function(){\n",
       "                            \n",
       "var gd = document.getElementById('1372fd8c-2605-4f5c-b37b-a96bc41af0a6');\n",
       "var x = new MutationObserver(function (mutations, observer) {{\n",
       "        var display = window.getComputedStyle(gd).display;\n",
       "        if (!display || display === 'none') {{\n",
       "            console.log([gd, 'removed!']);\n",
       "            Plotly.purge(gd);\n",
       "            observer.disconnect();\n",
       "        }}\n",
       "}});\n",
       "\n",
       "// Listen for the removal of the full notebook cells\n",
       "var notebookContainer = gd.closest('#notebook-container');\n",
       "if (notebookContainer) {{\n",
       "    x.observe(notebookContainer, {childList: true});\n",
       "}}\n",
       "\n",
       "// Listen for the clearing of the current output cell\n",
       "var outputEl = gd.closest('.output');\n",
       "if (outputEl) {{\n",
       "    x.observe(outputEl, {childList: true});\n",
       "}}\n",
       "\n",
       "                        })\n",
       "                };\n",
       "                });\n",
       "            </script>\n",
       "        </div>"
      ]
     },
     "metadata": {},
     "output_type": "display_data"
    }
   ],
   "source": [
    "px.scatter(train,y='LoanAmount',x='CoapplicantIncome',color='Loan_Status',title='LOAN STATUS BASED ON COAPPLICANT INCOME')"
   ]
  },
  {
   "cell_type": "markdown",
   "metadata": {},
   "source": [
    "The scatterplot shows that most people without coapplicant incomes had their loan status declined."
   ]
  },
  {
   "cell_type": "code",
   "execution_count": 35,
   "metadata": {},
   "outputs": [
    {
     "data": {
      "application/vnd.plotly.v1+json": {
       "config": {
        "plotlyServerURL": "https://plot.ly"
       },
       "data": [
        {
         "hoverlabel": {
          "namelength": 0
         },
         "hovertemplate": "Loan_Status=Y<br>CoapplicantIncome=%{x}<br>LoanAmount=%{y}<br>Credit_History=%{marker.color}",
         "legendgroup": "",
         "marker": {
          "color": [
           1,
           1,
           1,
           1,
           1,
           1,
           1,
           1,
           1,
           1,
           1,
           1,
           null,
           1,
           1,
           1,
           1,
           1,
           1,
           1,
           1,
           1,
           1,
           1,
           1,
           null,
           1,
           1,
           1,
           1,
           1,
           1,
           1,
           1,
           1,
           1,
           1,
           1,
           1,
           1,
           1,
           1,
           1,
           1,
           1,
           1,
           null,
           1,
           1,
           1,
           1,
           null,
           1,
           1,
           1,
           1,
           1,
           1,
           1,
           1,
           1,
           1,
           1,
           1,
           1,
           1,
           1,
           1,
           1,
           1,
           1,
           1,
           1,
           1,
           1,
           1,
           1,
           1,
           null,
           1,
           1,
           1,
           0,
           1,
           1,
           null,
           1,
           1,
           null,
           1,
           1,
           1,
           1,
           1,
           1,
           1,
           1,
           1,
           1,
           1,
           1,
           1,
           1,
           1,
           0,
           null,
           1,
           1,
           1,
           1,
           1,
           1,
           1,
           1,
           1,
           1,
           1,
           1,
           1,
           1,
           1,
           1,
           1,
           1,
           null,
           1,
           1,
           1,
           1,
           1,
           1,
           1,
           null,
           1,
           0,
           1,
           1,
           1,
           1,
           1,
           1,
           1,
           1,
           1,
           1,
           1,
           null,
           1,
           1,
           1,
           1,
           1,
           1,
           1,
           1,
           1,
           1,
           1,
           1,
           1,
           null,
           1,
           1,
           1,
           1,
           1,
           1,
           1,
           1,
           1,
           1,
           1,
           1,
           1,
           null,
           1,
           1,
           1,
           1,
           1,
           0,
           1,
           1,
           1,
           1,
           1,
           1,
           1,
           1,
           1,
           1,
           null,
           1,
           1,
           1,
           1,
           1,
           1,
           1,
           1,
           1,
           1,
           1,
           1,
           1,
           1,
           1,
           1,
           1,
           1,
           null,
           1,
           1,
           1,
           null,
           1,
           1,
           null,
           null,
           1,
           1,
           1,
           null,
           1,
           0,
           1,
           1,
           1,
           1,
           1,
           1,
           1,
           1,
           1,
           1,
           1,
           1,
           1,
           1,
           1,
           1,
           null,
           1,
           1,
           1,
           1,
           1,
           1,
           1,
           1,
           1,
           null,
           1,
           1,
           1,
           1,
           1,
           1,
           1,
           1,
           null,
           1,
           1,
           1,
           1,
           1,
           1,
           1,
           1,
           1,
           1,
           1,
           null,
           1,
           1,
           null,
           1,
           1,
           1,
           1,
           1,
           1,
           1,
           null,
           1,
           1,
           1,
           1,
           1,
           1,
           1,
           1,
           1,
           1,
           1,
           1,
           1,
           1,
           1,
           1,
           1,
           1,
           1,
           1,
           1,
           1,
           1,
           null,
           1,
           1,
           null,
           0,
           1,
           1,
           1,
           1,
           null,
           1,
           1,
           1,
           1,
           1,
           1,
           1,
           1,
           null,
           1,
           1,
           1,
           1,
           1,
           1,
           1,
           1,
           1,
           1,
           1,
           null,
           null,
           1,
           1,
           1,
           1,
           null,
           1,
           1,
           1,
           1,
           1,
           1,
           null,
           1,
           1,
           1,
           1,
           1,
           1,
           1,
           1,
           1,
           1,
           1,
           1,
           0,
           1,
           1,
           null,
           1,
           1,
           1,
           1,
           1,
           1,
           1,
           1,
           1,
           null,
           1,
           1,
           1,
           1,
           1,
           1,
           null,
           1,
           1,
           1,
           1,
           1,
           1,
           1,
           null,
           1,
           1,
           1,
           1,
           1,
           1,
           1,
           1,
           1,
           1,
           1,
           1,
           1,
           1,
           1,
           1,
           1,
           1,
           1,
           1,
           1,
           1,
           1,
           1,
           1,
           1,
           1,
           1,
           1,
           1
          ],
          "coloraxis": "coloraxis",
          "symbol": "circle"
         },
         "mode": "markers",
         "name": "",
         "showlegend": false,
         "type": "scatter",
         "x": [
          0,
          0,
          2358,
          0,
          4196,
          1516,
          1526,
          700,
          1840,
          8106,
          1086,
          0,
          0,
          3500,
          5625,
          0,
          2253,
          1040,
          2083,
          1667,
          2067,
          1459,
          7210,
          1668,
          1213,
          0,
          2336,
          0,
          0,
          0,
          0,
          2275,
          1644,
          0,
          1167,
          1591,
          2250,
          2859,
          3796,
          0,
          0,
          0,
          3066,
          1875,
          0,
          1774,
          2166,
          0,
          0,
          0,
          2531,
          2000,
          2118,
          0,
          4167,
          2900,
          5654,
          1820,
          0,
          0,
          2302,
          997,
          0,
          3541,
          3263,
          3806,
          0,
          3583,
          754,
          1030,
          1126,
          754,
          0,
          2333,
          0,
          0,
          0,
          2283,
          1398,
          0,
          2667,
          0,
          8980,
          0,
          2014,
          0,
          0,
          1640,
          0,
          1929,
          0,
          0,
          0,
          3500,
          0,
          0,
          2034,
          0,
          4486,
          0,
          1425,
          830,
          3750,
          0,
          0,
          0,
          0,
          2083,
          5625,
          1041,
          1447,
          0,
          3166,
          3333,
          0,
          1769,
          0,
          5625,
          1964,
          1619,
          0,
          0,
          0,
          4750,
          2138,
          5296,
          0,
          0,
          0,
          0,
          3750,
          2365,
          2816,
          2500,
          0,
          1083,
          0,
          0,
          0,
          2531,
          0,
          0,
          0,
          3021,
          983,
          1775,
          2383,
          1717,
          2791,
          1010,
          0,
          1695,
          0,
          0,
          2054,
          0,
          2598,
          0,
          1779,
          1260,
          0,
          0,
          0,
          5000,
          5701,
          1300,
          4417,
          0,
          0,
          1843,
          1868,
          2167,
          7101,
          0,
          4250,
          2209,
          0,
          0,
          3447,
          1387,
          1811,
          1560,
          0,
          0,
          1857,
          2223,
          0,
          1842,
          3274,
          1300,
          0,
          0,
          800,
          985.7999877999998,
          1666,
          3053,
          2000,
          0,
          0,
          2416,
          1560,
          3334,
          1250,
          0,
          0,
          1750,
          0,
          1803,
          2500,
          1666,
          0,
          0,
          2405,
          0,
          0,
          1640,
          0,
          2134,
          0,
          2167,
          189,
          1590,
          2985,
          0,
          0,
          2160,
          0,
          1793,
          0,
          0,
          0,
          1833,
          4490,
          688,
          4600,
          0,
          1229,
          0,
          2330,
          2458,
          2168,
          4583,
          6250,
          0,
          2083,
          505,
          0,
          3167,
          3167,
          3667,
          2333,
          3033,
          0,
          0,
          0,
          0,
          7873,
          1459,
          923,
          4996,
          0,
          0,
          2500,
          4232,
          0,
          0,
          0,
          1600,
          2417,
          0,
          0,
          0,
          2115,
          1625,
          1400,
          484,
          1459,
          1666,
          20000,
          0,
          0,
          2400,
          0,
          0,
          2033,
          0,
          2773,
          1417,
          0,
          1719,
          0,
          4300,
          0,
          16.12000084,
          0,
          0,
          0,
          2340,
          0,
          0,
          1851,
          1125,
          0,
          5064,
          1833,
          1993,
          0,
          8333,
          1210,
          0,
          1456,
          2466,
          0,
          0,
          0,
          0,
          4083,
          0,
          2188,
          0,
          0,
          0,
          2917,
          2079,
          0,
          0,
          4648,
          1014,
          1750,
          2250,
          0,
          0,
          3150,
          0,
          0,
          2436,
          2083,
          2785,
          1131,
          0,
          0,
          913,
          1700,
          2857,
          0,
          3683,
          0,
          5624,
          1483,
          4416,
          6667,
          3013,
          0,
          2004,
          2035,
          3428,
          1632,
          1742,
          0,
          1424,
          7166,
          0,
          0,
          1430,
          1302,
          0,
          5500,
          0,
          0,
          2042,
          3906,
          0,
          0,
          2845,
          0,
          2524,
          663,
          1950,
          1783,
          2016,
          2375,
          3250,
          1032,
          1625,
          0,
          2669,
          2306,
          242,
          0,
          2054,
          0,
          0,
          0,
          1750,
          0,
          461,
          2739,
          2232,
          2917,
          0,
          0,
          1522,
          0,
          0,
          3416,
          0,
          3300,
          0,
          0,
          0,
          0,
          2792,
          0,
          4301,
          0,
          2500,
          1411,
          1950,
          0,
          0,
          240,
          0
         ],
         "xaxis": "x",
         "y": [
          null,
          66000,
          120000,
          141000,
          267000,
          95000,
          168000,
          70000,
          109000,
          200000,
          17000,
          125000,
          100000,
          115000,
          315000,
          191000,
          122000,
          110000,
          120000,
          114000,
          null,
          144000,
          184000,
          110000,
          47000,
          75000,
          134000,
          96000,
          88000,
          44000,
          144000,
          144000,
          100000,
          120000,
          97000,
          96000,
          180000,
          144000,
          120000,
          99000,
          312000,
          125000,
          172000,
          97000,
          81000,
          187000,
          130000,
          111000,
          null,
          50000,
          136000,
          99000,
          104000,
          210000,
          175000,
          131000,
          188000,
          81000,
          122000,
          25000,
          137000,
          50000,
          115000,
          131000,
          133000,
          151000,
          null,
          null,
          160000,
          100000,
          225000,
          94000,
          136000,
          139000,
          null,
          118000,
          185000,
          154000,
          85000,
          259000,
          180000,
          44000,
          137000,
          81000,
          194000,
          93000,
          370000,
          null,
          650000,
          74000,
          70000,
          25000,
          102000,
          88000,
          168000,
          175000,
          122000,
          187000,
          100000,
          70000,
          30000,
          125000,
          152000,
          50000,
          600000,
          160000,
          187000,
          120000,
          255000,
          98000,
          158000,
          75000,
          182000,
          129000,
          200000,
          95000,
          700000,
          187000,
          116000,
          101000,
          116000,
          73000,
          108000,
          120000,
          58000,
          168000,
          188000,
          48000,
          76000,
          120000,
          187000,
          120000,
          113000,
          90000,
          166000,
          135000,
          124000,
          120000,
          80000,
          55000,
          59000,
          240000,
          130000,
          137000,
          100000,
          131000,
          127000,
          116000,
          144000,
          175000,
          128000,
          210000,
          158000,
          200000,
          104000,
          42000,
          120000,
          280000,
          140000,
          170000,
          122000,
          112000,
          96000,
          120000,
          155000,
          108000,
          123000,
          112000,
          137000,
          123000,
          90000,
          104000,
          279000,
          255000,
          330000,
          134000,
          120000,
          128000,
          151000,
          150000,
          160000,
          90000,
          30000,
          136000,
          126000,
          150000,
          90000,
          115000,
          207000,
          80000,
          436000,
          124000,
          112000,
          78000,
          54000,
          89000,
          120000,
          115000,
          187000,
          139000,
          134000,
          172000,
          110000,
          200000,
          135000,
          105000,
          132000,
          96000,
          140000,
          135000,
          185000,
          84000,
          111000,
          56000,
          144000,
          111000,
          120000,
          88000,
          112000,
          115000,
          124000,
          null,
          132000,
          300000,
          130000,
          184000,
          67000,
          117000,
          98000,
          71000,
          490000,
          182000,
          70000,
          160000,
          176000,
          71000,
          158000,
          74000,
          125000,
          160000,
          126000,
          259000,
          187000,
          228000,
          95000,
          130000,
          116000,
          165000,
          200000,
          236000,
          130000,
          95000,
          141000,
          175000,
          55000,
          155000,
          380000,
          110000,
          120000,
          130000,
          130000,
          130000,
          128000,
          296000,
          156000,
          128000,
          113000,
          132000,
          136000,
          125000,
          185000,
          275000,
          120000,
          113000,
          113000,
          135000,
          95000,
          109000,
          103000,
          53000,
          115000,
          115000,
          66000,
          160000,
          110000,
          60000,
          112000,
          138000,
          138000,
          100000,
          96000,
          121000,
          133000,
          87000,
          60000,
          150000,
          405000,
          143000,
          100000,
          null,
          50000,
          null,
          138000,
          187000,
          180000,
          148000,
          152000,
          175000,
          130000,
          110000,
          60000,
          90000,
          84000,
          96000,
          118000,
          136000,
          160000,
          128000,
          153000,
          132000,
          140000,
          110000,
          98000,
          162000,
          100000,
          93000,
          162000,
          150000,
          230000,
          86000,
          154000,
          113000,
          128000,
          234000,
          246000,
          131000,
          160000,
          96000,
          186000,
          110000,
          225000,
          105000,
          107000,
          111000,
          95000,
          113000,
          100000,
          208000,
          124000,
          243000,
          480000,
          188000,
          40000,
          250000,
          148000,
          150000,
          113000,
          45000,
          55000,
          100000,
          480000,
          400000,
          110000,
          161000,
          94000,
          130000,
          216000,
          100000,
          125000,
          126000,
          324000,
          107000,
          157000,
          140000,
          95000,
          128000,
          102000,
          155000,
          145000,
          110000,
          null,
          158000,
          26000,
          84000,
          260000,
          162000,
          182000,
          108000,
          600000,
          211000,
          132000,
          120000,
          70000,
          186000,
          275000,
          108000,
          110000,
          107000,
          161000,
          205000,
          36000,
          104000,
          70000,
          94000,
          56000,
          292000,
          142000,
          260000,
          110000,
          180000,
          192000,
          155000,
          128000,
          172000,
          496000,
          173000,
          157000,
          108000,
          71000,
          40000,
          253000,
          187000
         ],
         "yaxis": "y"
        },
        {
         "hoverlabel": {
          "namelength": 0
         },
         "hovertemplate": "Loan_Status=N<br>CoapplicantIncome=%{x}<br>LoanAmount=%{y}<br>Credit_History=%{marker.color}",
         "legendgroup": "",
         "marker": {
          "color": [
           1,
           0,
           1,
           1,
           0,
           1,
           0,
           0,
           0,
           null,
           1,
           null,
           1,
           1,
           1,
           0,
           1,
           0,
           1,
           1,
           0,
           1,
           0,
           0,
           0,
           1,
           0,
           0,
           0,
           1,
           1,
           1,
           0,
           1,
           null,
           null,
           1,
           0,
           0,
           1,
           0,
           null,
           1,
           1,
           0,
           1,
           1,
           1,
           0,
           1,
           1,
           1,
           0,
           1,
           0,
           1,
           1,
           0,
           0,
           0,
           null,
           1,
           0,
           1,
           1,
           1,
           1,
           1,
           1,
           1,
           0,
           1,
           0,
           0,
           1,
           1,
           null,
           1,
           1,
           0,
           1,
           0,
           0,
           1,
           1,
           null,
           1,
           1,
           0,
           1,
           1,
           0,
           0,
           1,
           1,
           0,
           1,
           0,
           1,
           1,
           1,
           0,
           1,
           0,
           1,
           1,
           0,
           1,
           0,
           1,
           0,
           1,
           1,
           1,
           0,
           1,
           0,
           1,
           1,
           0,
           0,
           0,
           0,
           1,
           1,
           0,
           0,
           1,
           0,
           0,
           1,
           1,
           0,
           0,
           1,
           0,
           0,
           1,
           0,
           null,
           0,
           0,
           1,
           1,
           0,
           0,
           1,
           0,
           0,
           1,
           0,
           1,
           1,
           0,
           0,
           null,
           1,
           1,
           1,
           1,
           0,
           1,
           1,
           1,
           0,
           null,
           1,
           0,
           1,
           0,
           0,
           0,
           0,
           0,
           0,
           1,
           0,
           0,
           1,
           1,
           0,
           1,
           null,
           0,
           1,
           0,
           1,
           1,
           0,
           null,
           1,
           0
          ],
          "coloraxis": "coloraxis",
          "symbol": "circle"
         },
         "mode": "markers",
         "name": "",
         "showlegend": false,
         "type": "scatter",
         "x": [
          1508,
          2504,
          10968,
          2840,
          0,
          0,
          0,
          1911,
          1917,
          2925,
          0,
          3369,
          0,
          0,
          3000,
          1330,
          0,
          3440,
          0,
          0,
          0,
          2200,
          3449,
          0,
          0,
          4595,
          2254,
          0,
          0,
          0,
          4750,
          3022,
          4000,
          1881,
          2250,
          0,
          0,
          3600,
          4114,
          2142,
          3850,
          2569,
          7750,
          0,
          0,
          1430,
          2083,
          1666,
          0,
          0,
          0,
          0,
          1280,
          0,
          0,
          0,
          736,
          11300,
          1451,
          7250,
          5063,
          0,
          0,
          0,
          0,
          2583,
          0,
          0,
          0,
          0,
          1250,
          1800,
          0,
          0,
          0,
          0,
          0,
          1983,
          4333,
          3890,
          0,
          0,
          0,
          0,
          2100,
          0,
          0,
          0,
          2426,
          0,
          1717,
          0,
          0,
          2541,
          2925,
          2934,
          0,
          1863,
          0,
          1843,
          0,
          4983,
          2451,
          0,
          1587,
          0,
          3230,
          4167,
          0,
          0,
          1666,
          0,
          0,
          0,
          0,
          5266,
          1987,
          0,
          0,
          3136,
          0,
          1800,
          0,
          0,
          0,
          0,
          0,
          0,
          0,
          3237,
          0,
          20000,
          0,
          1667,
          0,
          0,
          0,
          1376,
          1710,
          1542,
          1255,
          1733,
          2569,
          0,
          0,
          1664,
          2451,
          1500,
          1872,
          1603,
          0,
          0,
          0,
          2157,
          4416,
          5302,
          0,
          1287,
          6666,
          3666,
          1800,
          1915,
          0,
          2087,
          0,
          0,
          536,
          0,
          0,
          0,
          0,
          2333,
          4266,
          0,
          2500,
          0,
          2064,
          1451,
          1625,
          0,
          2210,
          33837,
          0,
          1917,
          3000,
          0,
          0,
          1000,
          0,
          41667,
          3800,
          0
         ],
         "xaxis": "x2",
         "y": [
          128000,
          158000,
          349000,
          114000,
          76000,
          133000,
          104000,
          116000,
          112000,
          151000,
          35000,
          201000,
          74000,
          106000,
          320000,
          100000,
          80000,
          120000,
          112000,
          134000,
          286000,
          135000,
          165000,
          null,
          116000,
          258000,
          126000,
          136000,
          95000,
          113000,
          176000,
          110000,
          180000,
          167000,
          265000,
          null,
          120000,
          216000,
          152000,
          175000,
          160000,
          182000,
          290000,
          84000,
          242000,
          129000,
          185000,
          225000,
          118000,
          244000,
          113000,
          275000,
          121000,
          112000,
          63000,
          81000,
          87000,
          495000,
          102000,
          180000,
          67000,
          260000,
          66000,
          164000,
          160000,
          170000,
          83000,
          null,
          127000,
          214000,
          128000,
          135000,
          72000,
          60000,
          170000,
          138000,
          255000,
          140000,
          120000,
          201000,
          138000,
          192000,
          115000,
          94000,
          304000,
          128000,
          155000,
          135000,
          158000,
          null,
          99000,
          127000,
          143000,
          151000,
          113000,
          93000,
          null,
          104000,
          480000,
          159000,
          155000,
          376000,
          110000,
          null,
          173000,
          46000,
          152000,
          308000,
          105000,
          67000,
          100000,
          81000,
          133000,
          96000,
          124000,
          570000,
          111000,
          71000,
          100000,
          null,
          71000,
          103000,
          45000,
          65000,
          194000,
          152000,
          360000,
          62000,
          218000,
          178000,
          160000,
          239000,
          80000,
          110000,
          81000,
          105000,
          187000,
          55000,
          150000,
          190000,
          125000,
          149000,
          173000,
          160000,
          98000,
          70000,
          110000,
          113000,
          132000,
          null,
          80000,
          500000,
          75000,
          119000,
          209000,
          138000,
          96000,
          100000,
          70000,
          311000,
          123000,
          185000,
          95000,
          null,
          110000,
          196000,
          66000,
          99000,
          80000,
          103000,
          null,
          181000,
          132000,
          258000,
          123000,
          9000,
          104000,
          165000,
          187000,
          150000,
          136000,
          90000,
          61000,
          146000,
          172000,
          106000,
          205000,
          187000,
          88000,
          350000,
          null,
          133000
         ],
         "yaxis": "y2"
        }
       ],
       "layout": {
        "annotations": [
         {
          "font": {},
          "showarrow": false,
          "text": "Loan_Status=Y",
          "x": 0.245,
          "xanchor": "center",
          "xref": "paper",
          "y": 1,
          "yanchor": "bottom",
          "yref": "paper"
         },
         {
          "font": {},
          "showarrow": false,
          "text": "Loan_Status=N",
          "x": 0.755,
          "xanchor": "center",
          "xref": "paper",
          "y": 1,
          "yanchor": "bottom",
          "yref": "paper"
         }
        ],
        "coloraxis": {
         "colorbar": {
          "title": {
           "text": "Credit_History"
          }
         },
         "colorscale": [
          [
           0,
           "red"
          ],
          [
           0.5,
           "green"
          ],
          [
           1,
           "blue"
          ]
         ]
        },
        "legend": {
         "tracegroupgap": 0
        },
        "template": {
         "data": {
          "bar": [
           {
            "error_x": {
             "color": "#2a3f5f"
            },
            "error_y": {
             "color": "#2a3f5f"
            },
            "marker": {
             "line": {
              "color": "#E5ECF6",
              "width": 0.5
             }
            },
            "type": "bar"
           }
          ],
          "barpolar": [
           {
            "marker": {
             "line": {
              "color": "#E5ECF6",
              "width": 0.5
             }
            },
            "type": "barpolar"
           }
          ],
          "carpet": [
           {
            "aaxis": {
             "endlinecolor": "#2a3f5f",
             "gridcolor": "white",
             "linecolor": "white",
             "minorgridcolor": "white",
             "startlinecolor": "#2a3f5f"
            },
            "baxis": {
             "endlinecolor": "#2a3f5f",
             "gridcolor": "white",
             "linecolor": "white",
             "minorgridcolor": "white",
             "startlinecolor": "#2a3f5f"
            },
            "type": "carpet"
           }
          ],
          "choropleth": [
           {
            "colorbar": {
             "outlinewidth": 0,
             "ticks": ""
            },
            "type": "choropleth"
           }
          ],
          "contour": [
           {
            "colorbar": {
             "outlinewidth": 0,
             "ticks": ""
            },
            "colorscale": [
             [
              0,
              "#0d0887"
             ],
             [
              0.1111111111111111,
              "#46039f"
             ],
             [
              0.2222222222222222,
              "#7201a8"
             ],
             [
              0.3333333333333333,
              "#9c179e"
             ],
             [
              0.4444444444444444,
              "#bd3786"
             ],
             [
              0.5555555555555556,
              "#d8576b"
             ],
             [
              0.6666666666666666,
              "#ed7953"
             ],
             [
              0.7777777777777778,
              "#fb9f3a"
             ],
             [
              0.8888888888888888,
              "#fdca26"
             ],
             [
              1,
              "#f0f921"
             ]
            ],
            "type": "contour"
           }
          ],
          "contourcarpet": [
           {
            "colorbar": {
             "outlinewidth": 0,
             "ticks": ""
            },
            "type": "contourcarpet"
           }
          ],
          "heatmap": [
           {
            "colorbar": {
             "outlinewidth": 0,
             "ticks": ""
            },
            "colorscale": [
             [
              0,
              "#0d0887"
             ],
             [
              0.1111111111111111,
              "#46039f"
             ],
             [
              0.2222222222222222,
              "#7201a8"
             ],
             [
              0.3333333333333333,
              "#9c179e"
             ],
             [
              0.4444444444444444,
              "#bd3786"
             ],
             [
              0.5555555555555556,
              "#d8576b"
             ],
             [
              0.6666666666666666,
              "#ed7953"
             ],
             [
              0.7777777777777778,
              "#fb9f3a"
             ],
             [
              0.8888888888888888,
              "#fdca26"
             ],
             [
              1,
              "#f0f921"
             ]
            ],
            "type": "heatmap"
           }
          ],
          "heatmapgl": [
           {
            "colorbar": {
             "outlinewidth": 0,
             "ticks": ""
            },
            "colorscale": [
             [
              0,
              "#0d0887"
             ],
             [
              0.1111111111111111,
              "#46039f"
             ],
             [
              0.2222222222222222,
              "#7201a8"
             ],
             [
              0.3333333333333333,
              "#9c179e"
             ],
             [
              0.4444444444444444,
              "#bd3786"
             ],
             [
              0.5555555555555556,
              "#d8576b"
             ],
             [
              0.6666666666666666,
              "#ed7953"
             ],
             [
              0.7777777777777778,
              "#fb9f3a"
             ],
             [
              0.8888888888888888,
              "#fdca26"
             ],
             [
              1,
              "#f0f921"
             ]
            ],
            "type": "heatmapgl"
           }
          ],
          "histogram": [
           {
            "marker": {
             "colorbar": {
              "outlinewidth": 0,
              "ticks": ""
             }
            },
            "type": "histogram"
           }
          ],
          "histogram2d": [
           {
            "colorbar": {
             "outlinewidth": 0,
             "ticks": ""
            },
            "colorscale": [
             [
              0,
              "#0d0887"
             ],
             [
              0.1111111111111111,
              "#46039f"
             ],
             [
              0.2222222222222222,
              "#7201a8"
             ],
             [
              0.3333333333333333,
              "#9c179e"
             ],
             [
              0.4444444444444444,
              "#bd3786"
             ],
             [
              0.5555555555555556,
              "#d8576b"
             ],
             [
              0.6666666666666666,
              "#ed7953"
             ],
             [
              0.7777777777777778,
              "#fb9f3a"
             ],
             [
              0.8888888888888888,
              "#fdca26"
             ],
             [
              1,
              "#f0f921"
             ]
            ],
            "type": "histogram2d"
           }
          ],
          "histogram2dcontour": [
           {
            "colorbar": {
             "outlinewidth": 0,
             "ticks": ""
            },
            "colorscale": [
             [
              0,
              "#0d0887"
             ],
             [
              0.1111111111111111,
              "#46039f"
             ],
             [
              0.2222222222222222,
              "#7201a8"
             ],
             [
              0.3333333333333333,
              "#9c179e"
             ],
             [
              0.4444444444444444,
              "#bd3786"
             ],
             [
              0.5555555555555556,
              "#d8576b"
             ],
             [
              0.6666666666666666,
              "#ed7953"
             ],
             [
              0.7777777777777778,
              "#fb9f3a"
             ],
             [
              0.8888888888888888,
              "#fdca26"
             ],
             [
              1,
              "#f0f921"
             ]
            ],
            "type": "histogram2dcontour"
           }
          ],
          "mesh3d": [
           {
            "colorbar": {
             "outlinewidth": 0,
             "ticks": ""
            },
            "type": "mesh3d"
           }
          ],
          "parcoords": [
           {
            "line": {
             "colorbar": {
              "outlinewidth": 0,
              "ticks": ""
             }
            },
            "type": "parcoords"
           }
          ],
          "pie": [
           {
            "automargin": true,
            "type": "pie"
           }
          ],
          "scatter": [
           {
            "marker": {
             "colorbar": {
              "outlinewidth": 0,
              "ticks": ""
             }
            },
            "type": "scatter"
           }
          ],
          "scatter3d": [
           {
            "line": {
             "colorbar": {
              "outlinewidth": 0,
              "ticks": ""
             }
            },
            "marker": {
             "colorbar": {
              "outlinewidth": 0,
              "ticks": ""
             }
            },
            "type": "scatter3d"
           }
          ],
          "scattercarpet": [
           {
            "marker": {
             "colorbar": {
              "outlinewidth": 0,
              "ticks": ""
             }
            },
            "type": "scattercarpet"
           }
          ],
          "scattergeo": [
           {
            "marker": {
             "colorbar": {
              "outlinewidth": 0,
              "ticks": ""
             }
            },
            "type": "scattergeo"
           }
          ],
          "scattergl": [
           {
            "marker": {
             "colorbar": {
              "outlinewidth": 0,
              "ticks": ""
             }
            },
            "type": "scattergl"
           }
          ],
          "scattermapbox": [
           {
            "marker": {
             "colorbar": {
              "outlinewidth": 0,
              "ticks": ""
             }
            },
            "type": "scattermapbox"
           }
          ],
          "scatterpolar": [
           {
            "marker": {
             "colorbar": {
              "outlinewidth": 0,
              "ticks": ""
             }
            },
            "type": "scatterpolar"
           }
          ],
          "scatterpolargl": [
           {
            "marker": {
             "colorbar": {
              "outlinewidth": 0,
              "ticks": ""
             }
            },
            "type": "scatterpolargl"
           }
          ],
          "scatterternary": [
           {
            "marker": {
             "colorbar": {
              "outlinewidth": 0,
              "ticks": ""
             }
            },
            "type": "scatterternary"
           }
          ],
          "surface": [
           {
            "colorbar": {
             "outlinewidth": 0,
             "ticks": ""
            },
            "colorscale": [
             [
              0,
              "#0d0887"
             ],
             [
              0.1111111111111111,
              "#46039f"
             ],
             [
              0.2222222222222222,
              "#7201a8"
             ],
             [
              0.3333333333333333,
              "#9c179e"
             ],
             [
              0.4444444444444444,
              "#bd3786"
             ],
             [
              0.5555555555555556,
              "#d8576b"
             ],
             [
              0.6666666666666666,
              "#ed7953"
             ],
             [
              0.7777777777777778,
              "#fb9f3a"
             ],
             [
              0.8888888888888888,
              "#fdca26"
             ],
             [
              1,
              "#f0f921"
             ]
            ],
            "type": "surface"
           }
          ],
          "table": [
           {
            "cells": {
             "fill": {
              "color": "#EBF0F8"
             },
             "line": {
              "color": "white"
             }
            },
            "header": {
             "fill": {
              "color": "#C8D4E3"
             },
             "line": {
              "color": "white"
             }
            },
            "type": "table"
           }
          ]
         },
         "layout": {
          "annotationdefaults": {
           "arrowcolor": "#2a3f5f",
           "arrowhead": 0,
           "arrowwidth": 1
          },
          "coloraxis": {
           "colorbar": {
            "outlinewidth": 0,
            "ticks": ""
           }
          },
          "colorscale": {
           "diverging": [
            [
             0,
             "#8e0152"
            ],
            [
             0.1,
             "#c51b7d"
            ],
            [
             0.2,
             "#de77ae"
            ],
            [
             0.3,
             "#f1b6da"
            ],
            [
             0.4,
             "#fde0ef"
            ],
            [
             0.5,
             "#f7f7f7"
            ],
            [
             0.6,
             "#e6f5d0"
            ],
            [
             0.7,
             "#b8e186"
            ],
            [
             0.8,
             "#7fbc41"
            ],
            [
             0.9,
             "#4d9221"
            ],
            [
             1,
             "#276419"
            ]
           ],
           "sequential": [
            [
             0,
             "#0d0887"
            ],
            [
             0.1111111111111111,
             "#46039f"
            ],
            [
             0.2222222222222222,
             "#7201a8"
            ],
            [
             0.3333333333333333,
             "#9c179e"
            ],
            [
             0.4444444444444444,
             "#bd3786"
            ],
            [
             0.5555555555555556,
             "#d8576b"
            ],
            [
             0.6666666666666666,
             "#ed7953"
            ],
            [
             0.7777777777777778,
             "#fb9f3a"
            ],
            [
             0.8888888888888888,
             "#fdca26"
            ],
            [
             1,
             "#f0f921"
            ]
           ],
           "sequentialminus": [
            [
             0,
             "#0d0887"
            ],
            [
             0.1111111111111111,
             "#46039f"
            ],
            [
             0.2222222222222222,
             "#7201a8"
            ],
            [
             0.3333333333333333,
             "#9c179e"
            ],
            [
             0.4444444444444444,
             "#bd3786"
            ],
            [
             0.5555555555555556,
             "#d8576b"
            ],
            [
             0.6666666666666666,
             "#ed7953"
            ],
            [
             0.7777777777777778,
             "#fb9f3a"
            ],
            [
             0.8888888888888888,
             "#fdca26"
            ],
            [
             1,
             "#f0f921"
            ]
           ]
          },
          "colorway": [
           "#636efa",
           "#EF553B",
           "#00cc96",
           "#ab63fa",
           "#FFA15A",
           "#19d3f3",
           "#FF6692",
           "#B6E880",
           "#FF97FF",
           "#FECB52"
          ],
          "font": {
           "color": "#2a3f5f"
          },
          "geo": {
           "bgcolor": "white",
           "lakecolor": "white",
           "landcolor": "#E5ECF6",
           "showlakes": true,
           "showland": true,
           "subunitcolor": "white"
          },
          "hoverlabel": {
           "align": "left"
          },
          "hovermode": "closest",
          "mapbox": {
           "style": "light"
          },
          "paper_bgcolor": "white",
          "plot_bgcolor": "#E5ECF6",
          "polar": {
           "angularaxis": {
            "gridcolor": "white",
            "linecolor": "white",
            "ticks": ""
           },
           "bgcolor": "#E5ECF6",
           "radialaxis": {
            "gridcolor": "white",
            "linecolor": "white",
            "ticks": ""
           }
          },
          "scene": {
           "xaxis": {
            "backgroundcolor": "#E5ECF6",
            "gridcolor": "white",
            "gridwidth": 2,
            "linecolor": "white",
            "showbackground": true,
            "ticks": "",
            "zerolinecolor": "white"
           },
           "yaxis": {
            "backgroundcolor": "#E5ECF6",
            "gridcolor": "white",
            "gridwidth": 2,
            "linecolor": "white",
            "showbackground": true,
            "ticks": "",
            "zerolinecolor": "white"
           },
           "zaxis": {
            "backgroundcolor": "#E5ECF6",
            "gridcolor": "white",
            "gridwidth": 2,
            "linecolor": "white",
            "showbackground": true,
            "ticks": "",
            "zerolinecolor": "white"
           }
          },
          "shapedefaults": {
           "line": {
            "color": "#2a3f5f"
           }
          },
          "ternary": {
           "aaxis": {
            "gridcolor": "white",
            "linecolor": "white",
            "ticks": ""
           },
           "baxis": {
            "gridcolor": "white",
            "linecolor": "white",
            "ticks": ""
           },
           "bgcolor": "#E5ECF6",
           "caxis": {
            "gridcolor": "white",
            "linecolor": "white",
            "ticks": ""
           }
          },
          "title": {
           "x": 0.05
          },
          "xaxis": {
           "automargin": true,
           "gridcolor": "white",
           "linecolor": "white",
           "ticks": "",
           "title": {
            "standoff": 15
           },
           "zerolinecolor": "white",
           "zerolinewidth": 2
          },
          "yaxis": {
           "automargin": true,
           "gridcolor": "white",
           "linecolor": "white",
           "ticks": "",
           "title": {
            "standoff": 15
           },
           "zerolinecolor": "white",
           "zerolinewidth": 2
          }
         }
        },
        "title": {
         "text": "LOAN STATUS BASED ON COAPPLICANTINCOME AND CREDIT HISTORY"
        },
        "xaxis": {
         "anchor": "y",
         "domain": [
          0,
          0.49
         ],
         "title": {
          "text": "CoapplicantIncome"
         }
        },
        "xaxis2": {
         "anchor": "y2",
         "domain": [
          0.51,
          1
         ],
         "matches": "x",
         "title": {
          "text": "CoapplicantIncome"
         }
        },
        "yaxis": {
         "anchor": "x",
         "domain": [
          0,
          1
         ],
         "title": {
          "text": "LoanAmount"
         }
        },
        "yaxis2": {
         "anchor": "x2",
         "domain": [
          0,
          1
         ],
         "matches": "y",
         "showticklabels": false
        }
       }
      },
      "text/html": [
       "<div>\n",
       "        \n",
       "        \n",
       "            <div id=\"4821eba0-973c-4670-8c96-679ba952aed1\" class=\"plotly-graph-div\" style=\"height:525px; width:100%;\"></div>\n",
       "            <script type=\"text/javascript\">\n",
       "                require([\"plotly\"], function(Plotly) {\n",
       "                    window.PLOTLYENV=window.PLOTLYENV || {};\n",
       "                    \n",
       "                if (document.getElementById(\"4821eba0-973c-4670-8c96-679ba952aed1\")) {\n",
       "                    Plotly.newPlot(\n",
       "                        '4821eba0-973c-4670-8c96-679ba952aed1',\n",
       "                        [{\"hoverlabel\": {\"namelength\": 0}, \"hovertemplate\": \"Loan_Status=Y<br>CoapplicantIncome=%{x}<br>LoanAmount=%{y}<br>Credit_History=%{marker.color}\", \"legendgroup\": \"\", \"marker\": {\"color\": [1.0, 1.0, 1.0, 1.0, 1.0, 1.0, 1.0, 1.0, 1.0, 1.0, 1.0, 1.0, null, 1.0, 1.0, 1.0, 1.0, 1.0, 1.0, 1.0, 1.0, 1.0, 1.0, 1.0, 1.0, null, 1.0, 1.0, 1.0, 1.0, 1.0, 1.0, 1.0, 1.0, 1.0, 1.0, 1.0, 1.0, 1.0, 1.0, 1.0, 1.0, 1.0, 1.0, 1.0, 1.0, null, 1.0, 1.0, 1.0, 1.0, null, 1.0, 1.0, 1.0, 1.0, 1.0, 1.0, 1.0, 1.0, 1.0, 1.0, 1.0, 1.0, 1.0, 1.0, 1.0, 1.0, 1.0, 1.0, 1.0, 1.0, 1.0, 1.0, 1.0, 1.0, 1.0, 1.0, null, 1.0, 1.0, 1.0, 0.0, 1.0, 1.0, null, 1.0, 1.0, null, 1.0, 1.0, 1.0, 1.0, 1.0, 1.0, 1.0, 1.0, 1.0, 1.0, 1.0, 1.0, 1.0, 1.0, 1.0, 0.0, null, 1.0, 1.0, 1.0, 1.0, 1.0, 1.0, 1.0, 1.0, 1.0, 1.0, 1.0, 1.0, 1.0, 1.0, 1.0, 1.0, 1.0, 1.0, null, 1.0, 1.0, 1.0, 1.0, 1.0, 1.0, 1.0, null, 1.0, 0.0, 1.0, 1.0, 1.0, 1.0, 1.0, 1.0, 1.0, 1.0, 1.0, 1.0, 1.0, null, 1.0, 1.0, 1.0, 1.0, 1.0, 1.0, 1.0, 1.0, 1.0, 1.0, 1.0, 1.0, 1.0, null, 1.0, 1.0, 1.0, 1.0, 1.0, 1.0, 1.0, 1.0, 1.0, 1.0, 1.0, 1.0, 1.0, null, 1.0, 1.0, 1.0, 1.0, 1.0, 0.0, 1.0, 1.0, 1.0, 1.0, 1.0, 1.0, 1.0, 1.0, 1.0, 1.0, null, 1.0, 1.0, 1.0, 1.0, 1.0, 1.0, 1.0, 1.0, 1.0, 1.0, 1.0, 1.0, 1.0, 1.0, 1.0, 1.0, 1.0, 1.0, null, 1.0, 1.0, 1.0, null, 1.0, 1.0, null, null, 1.0, 1.0, 1.0, null, 1.0, 0.0, 1.0, 1.0, 1.0, 1.0, 1.0, 1.0, 1.0, 1.0, 1.0, 1.0, 1.0, 1.0, 1.0, 1.0, 1.0, 1.0, null, 1.0, 1.0, 1.0, 1.0, 1.0, 1.0, 1.0, 1.0, 1.0, null, 1.0, 1.0, 1.0, 1.0, 1.0, 1.0, 1.0, 1.0, null, 1.0, 1.0, 1.0, 1.0, 1.0, 1.0, 1.0, 1.0, 1.0, 1.0, 1.0, null, 1.0, 1.0, null, 1.0, 1.0, 1.0, 1.0, 1.0, 1.0, 1.0, null, 1.0, 1.0, 1.0, 1.0, 1.0, 1.0, 1.0, 1.0, 1.0, 1.0, 1.0, 1.0, 1.0, 1.0, 1.0, 1.0, 1.0, 1.0, 1.0, 1.0, 1.0, 1.0, 1.0, null, 1.0, 1.0, null, 0.0, 1.0, 1.0, 1.0, 1.0, null, 1.0, 1.0, 1.0, 1.0, 1.0, 1.0, 1.0, 1.0, null, 1.0, 1.0, 1.0, 1.0, 1.0, 1.0, 1.0, 1.0, 1.0, 1.0, 1.0, null, null, 1.0, 1.0, 1.0, 1.0, null, 1.0, 1.0, 1.0, 1.0, 1.0, 1.0, null, 1.0, 1.0, 1.0, 1.0, 1.0, 1.0, 1.0, 1.0, 1.0, 1.0, 1.0, 1.0, 0.0, 1.0, 1.0, null, 1.0, 1.0, 1.0, 1.0, 1.0, 1.0, 1.0, 1.0, 1.0, null, 1.0, 1.0, 1.0, 1.0, 1.0, 1.0, null, 1.0, 1.0, 1.0, 1.0, 1.0, 1.0, 1.0, null, 1.0, 1.0, 1.0, 1.0, 1.0, 1.0, 1.0, 1.0, 1.0, 1.0, 1.0, 1.0, 1.0, 1.0, 1.0, 1.0, 1.0, 1.0, 1.0, 1.0, 1.0, 1.0, 1.0, 1.0, 1.0, 1.0, 1.0, 1.0, 1.0, 1.0], \"coloraxis\": \"coloraxis\", \"symbol\": \"circle\"}, \"mode\": \"markers\", \"name\": \"\", \"showlegend\": false, \"type\": \"scatter\", \"x\": [0.0, 0.0, 2358.0, 0.0, 4196.0, 1516.0, 1526.0, 700.0, 1840.0, 8106.0, 1086.0, 0.0, 0.0, 3500.0, 5625.0, 0.0, 2253.0, 1040.0, 2083.0, 1667.0, 2067.0, 1459.0, 7210.0, 1668.0, 1213.0, 0.0, 2336.0, 0.0, 0.0, 0.0, 0.0, 2275.0, 1644.0, 0.0, 1167.0, 1591.0, 2250.0, 2859.0, 3796.0, 0.0, 0.0, 0.0, 3066.0, 1875.0, 0.0, 1774.0, 2166.0, 0.0, 0.0, 0.0, 2531.0, 2000.0, 2118.0, 0.0, 4167.0, 2900.0, 5654.0, 1820.0, 0.0, 0.0, 2302.0, 997.0, 0.0, 3541.0, 3263.0, 3806.0, 0.0, 3583.0, 754.0, 1030.0, 1126.0, 754.0, 0.0, 2333.0, 0.0, 0.0, 0.0, 2283.0, 1398.0, 0.0, 2667.0, 0.0, 8980.0, 0.0, 2014.0, 0.0, 0.0, 1640.0, 0.0, 1929.0, 0.0, 0.0, 0.0, 3500.0, 0.0, 0.0, 2034.0, 0.0, 4486.0, 0.0, 1425.0, 830.0, 3750.0, 0.0, 0.0, 0.0, 0.0, 2083.0, 5625.0, 1041.0, 1447.0, 0.0, 3166.0, 3333.0, 0.0, 1769.0, 0.0, 5625.0, 1964.0, 1619.0, 0.0, 0.0, 0.0, 4750.0, 2138.0, 5296.0, 0.0, 0.0, 0.0, 0.0, 3750.0, 2365.0, 2816.0, 2500.0, 0.0, 1083.0, 0.0, 0.0, 0.0, 2531.0, 0.0, 0.0, 0.0, 3021.0, 983.0, 1775.0, 2383.0, 1717.0, 2791.0, 1010.0, 0.0, 1695.0, 0.0, 0.0, 2054.0, 0.0, 2598.0, 0.0, 1779.0, 1260.0, 0.0, 0.0, 0.0, 5000.0, 5701.0, 1300.0, 4417.0, 0.0, 0.0, 1843.0, 1868.0, 2167.0, 7101.0, 0.0, 4250.0, 2209.0, 0.0, 0.0, 3447.0, 1387.0, 1811.0, 1560.0, 0.0, 0.0, 1857.0, 2223.0, 0.0, 1842.0, 3274.0, 1300.0, 0.0, 0.0, 800.0, 985.7999877999998, 1666.0, 3053.0, 2000.0, 0.0, 0.0, 2416.0, 1560.0, 3334.0, 1250.0, 0.0, 0.0, 1750.0, 0.0, 1803.0, 2500.0, 1666.0, 0.0, 0.0, 2405.0, 0.0, 0.0, 1640.0, 0.0, 2134.0, 0.0, 2167.0, 189.0, 1590.0, 2985.0, 0.0, 0.0, 2160.0, 0.0, 1793.0, 0.0, 0.0, 0.0, 1833.0, 4490.0, 688.0, 4600.0, 0.0, 1229.0, 0.0, 2330.0, 2458.0, 2168.0, 4583.0, 6250.0, 0.0, 2083.0, 505.0, 0.0, 3167.0, 3167.0, 3667.0, 2333.0, 3033.0, 0.0, 0.0, 0.0, 0.0, 7873.0, 1459.0, 923.0, 4996.0, 0.0, 0.0, 2500.0, 4232.0, 0.0, 0.0, 0.0, 1600.0, 2417.0, 0.0, 0.0, 0.0, 2115.0, 1625.0, 1400.0, 484.0, 1459.0, 1666.0, 20000.0, 0.0, 0.0, 2400.0, 0.0, 0.0, 2033.0, 0.0, 2773.0, 1417.0, 0.0, 1719.0, 0.0, 4300.0, 0.0, 16.12000084, 0.0, 0.0, 0.0, 2340.0, 0.0, 0.0, 1851.0, 1125.0, 0.0, 5064.0, 1833.0, 1993.0, 0.0, 8333.0, 1210.0, 0.0, 1456.0, 2466.0, 0.0, 0.0, 0.0, 0.0, 4083.0, 0.0, 2188.0, 0.0, 0.0, 0.0, 2917.0, 2079.0, 0.0, 0.0, 4648.0, 1014.0, 1750.0, 2250.0, 0.0, 0.0, 3150.0, 0.0, 0.0, 2436.0, 2083.0, 2785.0, 1131.0, 0.0, 0.0, 913.0, 1700.0, 2857.0, 0.0, 3683.0, 0.0, 5624.0, 1483.0, 4416.0, 6667.0, 3013.0, 0.0, 2004.0, 2035.0, 3428.0, 1632.0, 1742.0, 0.0, 1424.0, 7166.0, 0.0, 0.0, 1430.0, 1302.0, 0.0, 5500.0, 0.0, 0.0, 2042.0, 3906.0, 0.0, 0.0, 2845.0, 0.0, 2524.0, 663.0, 1950.0, 1783.0, 2016.0, 2375.0, 3250.0, 1032.0, 1625.0, 0.0, 2669.0, 2306.0, 242.0, 0.0, 2054.0, 0.0, 0.0, 0.0, 1750.0, 0.0, 461.0, 2739.0, 2232.0, 2917.0, 0.0, 0.0, 1522.0, 0.0, 0.0, 3416.0, 0.0, 3300.0, 0.0, 0.0, 0.0, 0.0, 2792.0, 0.0, 4301.0, 0.0, 2500.0, 1411.0, 1950.0, 0.0, 0.0, 240.0, 0.0], \"xaxis\": \"x\", \"y\": [null, 66000.0, 120000.0, 141000.0, 267000.0, 95000.0, 168000.0, 70000.0, 109000.0, 200000.0, 17000.0, 125000.0, 100000.0, 115000.0, 315000.0, 191000.0, 122000.0, 110000.0, 120000.0, 114000.0, null, 144000.0, 184000.0, 110000.0, 47000.0, 75000.0, 134000.0, 96000.0, 88000.0, 44000.0, 144000.0, 144000.0, 100000.0, 120000.0, 97000.0, 96000.0, 180000.0, 144000.0, 120000.0, 99000.0, 312000.0, 125000.0, 172000.0, 97000.0, 81000.0, 187000.0, 130000.0, 111000.0, null, 50000.0, 136000.0, 99000.0, 104000.0, 210000.0, 175000.0, 131000.0, 188000.0, 81000.0, 122000.0, 25000.0, 137000.0, 50000.0, 115000.0, 131000.0, 133000.0, 151000.0, null, null, 160000.0, 100000.0, 225000.0, 94000.0, 136000.0, 139000.0, null, 118000.0, 185000.0, 154000.0, 85000.0, 259000.0, 180000.0, 44000.0, 137000.0, 81000.0, 194000.0, 93000.0, 370000.0, null, 650000.0, 74000.0, 70000.0, 25000.0, 102000.0, 88000.0, 168000.0, 175000.0, 122000.0, 187000.0, 100000.0, 70000.0, 30000.0, 125000.0, 152000.0, 50000.0, 600000.0, 160000.0, 187000.0, 120000.0, 255000.0, 98000.0, 158000.0, 75000.0, 182000.0, 129000.0, 200000.0, 95000.0, 700000.0, 187000.0, 116000.0, 101000.0, 116000.0, 73000.0, 108000.0, 120000.0, 58000.0, 168000.0, 188000.0, 48000.0, 76000.0, 120000.0, 187000.0, 120000.0, 113000.0, 90000.0, 166000.0, 135000.0, 124000.0, 120000.0, 80000.0, 55000.0, 59000.0, 240000.0, 130000.0, 137000.0, 100000.0, 131000.0, 127000.0, 116000.0, 144000.0, 175000.0, 128000.0, 210000.0, 158000.0, 200000.0, 104000.0, 42000.0, 120000.0, 280000.0, 140000.0, 170000.0, 122000.0, 112000.0, 96000.0, 120000.0, 155000.0, 108000.0, 123000.0, 112000.0, 137000.0, 123000.0, 90000.0, 104000.0, 279000.0, 255000.0, 330000.0, 134000.0, 120000.0, 128000.0, 151000.0, 150000.0, 160000.0, 90000.0, 30000.0, 136000.0, 126000.0, 150000.0, 90000.0, 115000.0, 207000.0, 80000.0, 436000.0, 124000.0, 112000.0, 78000.0, 54000.0, 89000.0, 120000.0, 115000.0, 187000.0, 139000.0, 134000.0, 172000.0, 110000.0, 200000.0, 135000.0, 105000.0, 132000.0, 96000.0, 140000.0, 135000.0, 185000.0, 84000.0, 111000.0, 56000.0, 144000.0, 111000.0, 120000.0, 88000.0, 112000.0, 115000.0, 124000.0, null, 132000.0, 300000.0, 130000.0, 184000.0, 67000.0, 117000.0, 98000.0, 71000.0, 490000.0, 182000.0, 70000.0, 160000.0, 176000.0, 71000.0, 158000.0, 74000.0, 125000.0, 160000.0, 126000.0, 259000.0, 187000.0, 228000.0, 95000.0, 130000.0, 116000.0, 165000.0, 200000.0, 236000.0, 130000.0, 95000.0, 141000.0, 175000.0, 55000.0, 155000.0, 380000.0, 110000.0, 120000.0, 130000.0, 130000.0, 130000.0, 128000.0, 296000.0, 156000.0, 128000.0, 113000.0, 132000.0, 136000.0, 125000.0, 185000.0, 275000.0, 120000.0, 113000.0, 113000.0, 135000.0, 95000.0, 109000.0, 103000.0, 53000.0, 115000.0, 115000.0, 66000.0, 160000.0, 110000.0, 60000.0, 112000.0, 138000.0, 138000.0, 100000.0, 96000.0, 121000.0, 133000.0, 87000.0, 60000.0, 150000.0, 405000.0, 143000.0, 100000.0, null, 50000.0, null, 138000.0, 187000.0, 180000.0, 148000.0, 152000.0, 175000.0, 130000.0, 110000.0, 60000.0, 90000.0, 84000.0, 96000.0, 118000.0, 136000.0, 160000.0, 128000.0, 153000.0, 132000.0, 140000.0, 110000.0, 98000.0, 162000.0, 100000.0, 93000.0, 162000.0, 150000.0, 230000.0, 86000.0, 154000.0, 113000.0, 128000.0, 234000.0, 246000.0, 131000.0, 160000.0, 96000.0, 186000.0, 110000.0, 225000.0, 105000.0, 107000.0, 111000.0, 95000.0, 113000.0, 100000.0, 208000.0, 124000.0, 243000.0, 480000.0, 188000.0, 40000.0, 250000.0, 148000.0, 150000.0, 113000.0, 45000.0, 55000.0, 100000.0, 480000.0, 400000.0, 110000.0, 161000.0, 94000.0, 130000.0, 216000.0, 100000.0, 125000.0, 126000.0, 324000.0, 107000.0, 157000.0, 140000.0, 95000.0, 128000.0, 102000.0, 155000.0, 145000.0, 110000.0, null, 158000.0, 26000.0, 84000.0, 260000.0, 162000.0, 182000.0, 108000.0, 600000.0, 211000.0, 132000.0, 120000.0, 70000.0, 186000.0, 275000.0, 108000.0, 110000.0, 107000.0, 161000.0, 205000.0, 36000.0, 104000.0, 70000.0, 94000.0, 56000.0, 292000.0, 142000.0, 260000.0, 110000.0, 180000.0, 192000.0, 155000.0, 128000.0, 172000.0, 496000.0, 173000.0, 157000.0, 108000.0, 71000.0, 40000.0, 253000.0, 187000.0], \"yaxis\": \"y\"}, {\"hoverlabel\": {\"namelength\": 0}, \"hovertemplate\": \"Loan_Status=N<br>CoapplicantIncome=%{x}<br>LoanAmount=%{y}<br>Credit_History=%{marker.color}\", \"legendgroup\": \"\", \"marker\": {\"color\": [1.0, 0.0, 1.0, 1.0, 0.0, 1.0, 0.0, 0.0, 0.0, null, 1.0, null, 1.0, 1.0, 1.0, 0.0, 1.0, 0.0, 1.0, 1.0, 0.0, 1.0, 0.0, 0.0, 0.0, 1.0, 0.0, 0.0, 0.0, 1.0, 1.0, 1.0, 0.0, 1.0, null, null, 1.0, 0.0, 0.0, 1.0, 0.0, null, 1.0, 1.0, 0.0, 1.0, 1.0, 1.0, 0.0, 1.0, 1.0, 1.0, 0.0, 1.0, 0.0, 1.0, 1.0, 0.0, 0.0, 0.0, null, 1.0, 0.0, 1.0, 1.0, 1.0, 1.0, 1.0, 1.0, 1.0, 0.0, 1.0, 0.0, 0.0, 1.0, 1.0, null, 1.0, 1.0, 0.0, 1.0, 0.0, 0.0, 1.0, 1.0, null, 1.0, 1.0, 0.0, 1.0, 1.0, 0.0, 0.0, 1.0, 1.0, 0.0, 1.0, 0.0, 1.0, 1.0, 1.0, 0.0, 1.0, 0.0, 1.0, 1.0, 0.0, 1.0, 0.0, 1.0, 0.0, 1.0, 1.0, 1.0, 0.0, 1.0, 0.0, 1.0, 1.0, 0.0, 0.0, 0.0, 0.0, 1.0, 1.0, 0.0, 0.0, 1.0, 0.0, 0.0, 1.0, 1.0, 0.0, 0.0, 1.0, 0.0, 0.0, 1.0, 0.0, null, 0.0, 0.0, 1.0, 1.0, 0.0, 0.0, 1.0, 0.0, 0.0, 1.0, 0.0, 1.0, 1.0, 0.0, 0.0, null, 1.0, 1.0, 1.0, 1.0, 0.0, 1.0, 1.0, 1.0, 0.0, null, 1.0, 0.0, 1.0, 0.0, 0.0, 0.0, 0.0, 0.0, 0.0, 1.0, 0.0, 0.0, 1.0, 1.0, 0.0, 1.0, null, 0.0, 1.0, 0.0, 1.0, 1.0, 0.0, null, 1.0, 0.0], \"coloraxis\": \"coloraxis\", \"symbol\": \"circle\"}, \"mode\": \"markers\", \"name\": \"\", \"showlegend\": false, \"type\": \"scatter\", \"x\": [1508.0, 2504.0, 10968.0, 2840.0, 0.0, 0.0, 0.0, 1911.0, 1917.0, 2925.0, 0.0, 3369.0, 0.0, 0.0, 3000.0, 1330.0, 0.0, 3440.0, 0.0, 0.0, 0.0, 2200.0, 3449.0, 0.0, 0.0, 4595.0, 2254.0, 0.0, 0.0, 0.0, 4750.0, 3022.0, 4000.0, 1881.0, 2250.0, 0.0, 0.0, 3600.0, 4114.0, 2142.0, 3850.0, 2569.0, 7750.0, 0.0, 0.0, 1430.0, 2083.0, 1666.0, 0.0, 0.0, 0.0, 0.0, 1280.0, 0.0, 0.0, 0.0, 736.0, 11300.0, 1451.0, 7250.0, 5063.0, 0.0, 0.0, 0.0, 0.0, 2583.0, 0.0, 0.0, 0.0, 0.0, 1250.0, 1800.0, 0.0, 0.0, 0.0, 0.0, 0.0, 1983.0, 4333.0, 3890.0, 0.0, 0.0, 0.0, 0.0, 2100.0, 0.0, 0.0, 0.0, 2426.0, 0.0, 1717.0, 0.0, 0.0, 2541.0, 2925.0, 2934.0, 0.0, 1863.0, 0.0, 1843.0, 0.0, 4983.0, 2451.0, 0.0, 1587.0, 0.0, 3230.0, 4167.0, 0.0, 0.0, 1666.0, 0.0, 0.0, 0.0, 0.0, 5266.0, 1987.0, 0.0, 0.0, 3136.0, 0.0, 1800.0, 0.0, 0.0, 0.0, 0.0, 0.0, 0.0, 0.0, 3237.0, 0.0, 20000.0, 0.0, 1667.0, 0.0, 0.0, 0.0, 1376.0, 1710.0, 1542.0, 1255.0, 1733.0, 2569.0, 0.0, 0.0, 1664.0, 2451.0, 1500.0, 1872.0, 1603.0, 0.0, 0.0, 0.0, 2157.0, 4416.0, 5302.0, 0.0, 1287.0, 6666.0, 3666.0, 1800.0, 1915.0, 0.0, 2087.0, 0.0, 0.0, 536.0, 0.0, 0.0, 0.0, 0.0, 2333.0, 4266.0, 0.0, 2500.0, 0.0, 2064.0, 1451.0, 1625.0, 0.0, 2210.0, 33837.0, 0.0, 1917.0, 3000.0, 0.0, 0.0, 1000.0, 0.0, 41667.0, 3800.0, 0.0], \"xaxis\": \"x2\", \"y\": [128000.0, 158000.0, 349000.0, 114000.0, 76000.0, 133000.0, 104000.0, 116000.0, 112000.0, 151000.0, 35000.0, 201000.0, 74000.0, 106000.0, 320000.0, 100000.0, 80000.0, 120000.0, 112000.0, 134000.0, 286000.0, 135000.0, 165000.0, null, 116000.0, 258000.0, 126000.0, 136000.0, 95000.0, 113000.0, 176000.0, 110000.0, 180000.0, 167000.0, 265000.0, null, 120000.0, 216000.0, 152000.0, 175000.0, 160000.0, 182000.0, 290000.0, 84000.0, 242000.0, 129000.0, 185000.0, 225000.0, 118000.0, 244000.0, 113000.0, 275000.0, 121000.0, 112000.0, 63000.0, 81000.0, 87000.0, 495000.0, 102000.0, 180000.0, 67000.0, 260000.0, 66000.0, 164000.0, 160000.0, 170000.0, 83000.0, null, 127000.0, 214000.0, 128000.0, 135000.0, 72000.0, 60000.0, 170000.0, 138000.0, 255000.0, 140000.0, 120000.0, 201000.0, 138000.0, 192000.0, 115000.0, 94000.0, 304000.0, 128000.0, 155000.0, 135000.0, 158000.0, null, 99000.0, 127000.0, 143000.0, 151000.0, 113000.0, 93000.0, null, 104000.0, 480000.0, 159000.0, 155000.0, 376000.0, 110000.0, null, 173000.0, 46000.0, 152000.0, 308000.0, 105000.0, 67000.0, 100000.0, 81000.0, 133000.0, 96000.0, 124000.0, 570000.0, 111000.0, 71000.0, 100000.0, null, 71000.0, 103000.0, 45000.0, 65000.0, 194000.0, 152000.0, 360000.0, 62000.0, 218000.0, 178000.0, 160000.0, 239000.0, 80000.0, 110000.0, 81000.0, 105000.0, 187000.0, 55000.0, 150000.0, 190000.0, 125000.0, 149000.0, 173000.0, 160000.0, 98000.0, 70000.0, 110000.0, 113000.0, 132000.0, null, 80000.0, 500000.0, 75000.0, 119000.0, 209000.0, 138000.0, 96000.0, 100000.0, 70000.0, 311000.0, 123000.0, 185000.0, 95000.0, null, 110000.0, 196000.0, 66000.0, 99000.0, 80000.0, 103000.0, null, 181000.0, 132000.0, 258000.0, 123000.0, 9000.0, 104000.0, 165000.0, 187000.0, 150000.0, 136000.0, 90000.0, 61000.0, 146000.0, 172000.0, 106000.0, 205000.0, 187000.0, 88000.0, 350000.0, null, 133000.0], \"yaxis\": \"y2\"}],\n",
       "                        {\"annotations\": [{\"font\": {}, \"showarrow\": false, \"text\": \"Loan_Status=Y\", \"x\": 0.245, \"xanchor\": \"center\", \"xref\": \"paper\", \"y\": 1.0, \"yanchor\": \"bottom\", \"yref\": \"paper\"}, {\"font\": {}, \"showarrow\": false, \"text\": \"Loan_Status=N\", \"x\": 0.755, \"xanchor\": \"center\", \"xref\": \"paper\", \"y\": 1.0, \"yanchor\": \"bottom\", \"yref\": \"paper\"}], \"coloraxis\": {\"colorbar\": {\"title\": {\"text\": \"Credit_History\"}}, \"colorscale\": [[0.0, \"red\"], [0.5, \"green\"], [1.0, \"blue\"]]}, \"legend\": {\"tracegroupgap\": 0}, \"template\": {\"data\": {\"bar\": [{\"error_x\": {\"color\": \"#2a3f5f\"}, \"error_y\": {\"color\": \"#2a3f5f\"}, \"marker\": {\"line\": {\"color\": \"#E5ECF6\", \"width\": 0.5}}, \"type\": \"bar\"}], \"barpolar\": [{\"marker\": {\"line\": {\"color\": \"#E5ECF6\", \"width\": 0.5}}, \"type\": \"barpolar\"}], \"carpet\": [{\"aaxis\": {\"endlinecolor\": \"#2a3f5f\", \"gridcolor\": \"white\", \"linecolor\": \"white\", \"minorgridcolor\": \"white\", \"startlinecolor\": \"#2a3f5f\"}, \"baxis\": {\"endlinecolor\": \"#2a3f5f\", \"gridcolor\": \"white\", \"linecolor\": \"white\", \"minorgridcolor\": \"white\", \"startlinecolor\": \"#2a3f5f\"}, \"type\": \"carpet\"}], \"choropleth\": [{\"colorbar\": {\"outlinewidth\": 0, \"ticks\": \"\"}, \"type\": \"choropleth\"}], \"contour\": [{\"colorbar\": {\"outlinewidth\": 0, \"ticks\": \"\"}, \"colorscale\": [[0.0, \"#0d0887\"], [0.1111111111111111, \"#46039f\"], [0.2222222222222222, \"#7201a8\"], [0.3333333333333333, \"#9c179e\"], [0.4444444444444444, \"#bd3786\"], [0.5555555555555556, \"#d8576b\"], [0.6666666666666666, \"#ed7953\"], [0.7777777777777778, \"#fb9f3a\"], [0.8888888888888888, \"#fdca26\"], [1.0, \"#f0f921\"]], \"type\": \"contour\"}], \"contourcarpet\": [{\"colorbar\": {\"outlinewidth\": 0, \"ticks\": \"\"}, \"type\": \"contourcarpet\"}], \"heatmap\": [{\"colorbar\": {\"outlinewidth\": 0, \"ticks\": \"\"}, \"colorscale\": [[0.0, \"#0d0887\"], [0.1111111111111111, \"#46039f\"], [0.2222222222222222, \"#7201a8\"], [0.3333333333333333, \"#9c179e\"], [0.4444444444444444, \"#bd3786\"], [0.5555555555555556, \"#d8576b\"], [0.6666666666666666, \"#ed7953\"], [0.7777777777777778, \"#fb9f3a\"], [0.8888888888888888, \"#fdca26\"], [1.0, \"#f0f921\"]], \"type\": \"heatmap\"}], \"heatmapgl\": [{\"colorbar\": {\"outlinewidth\": 0, \"ticks\": \"\"}, \"colorscale\": [[0.0, \"#0d0887\"], [0.1111111111111111, \"#46039f\"], [0.2222222222222222, \"#7201a8\"], [0.3333333333333333, \"#9c179e\"], [0.4444444444444444, \"#bd3786\"], [0.5555555555555556, \"#d8576b\"], [0.6666666666666666, \"#ed7953\"], [0.7777777777777778, \"#fb9f3a\"], [0.8888888888888888, \"#fdca26\"], [1.0, \"#f0f921\"]], \"type\": \"heatmapgl\"}], \"histogram\": [{\"marker\": {\"colorbar\": {\"outlinewidth\": 0, \"ticks\": \"\"}}, \"type\": \"histogram\"}], \"histogram2d\": [{\"colorbar\": {\"outlinewidth\": 0, \"ticks\": \"\"}, \"colorscale\": [[0.0, \"#0d0887\"], [0.1111111111111111, \"#46039f\"], [0.2222222222222222, \"#7201a8\"], [0.3333333333333333, \"#9c179e\"], [0.4444444444444444, \"#bd3786\"], [0.5555555555555556, \"#d8576b\"], [0.6666666666666666, \"#ed7953\"], [0.7777777777777778, \"#fb9f3a\"], [0.8888888888888888, \"#fdca26\"], [1.0, \"#f0f921\"]], \"type\": \"histogram2d\"}], \"histogram2dcontour\": [{\"colorbar\": {\"outlinewidth\": 0, \"ticks\": \"\"}, \"colorscale\": [[0.0, \"#0d0887\"], [0.1111111111111111, \"#46039f\"], [0.2222222222222222, \"#7201a8\"], [0.3333333333333333, \"#9c179e\"], [0.4444444444444444, \"#bd3786\"], [0.5555555555555556, \"#d8576b\"], [0.6666666666666666, \"#ed7953\"], [0.7777777777777778, \"#fb9f3a\"], [0.8888888888888888, \"#fdca26\"], [1.0, \"#f0f921\"]], \"type\": \"histogram2dcontour\"}], \"mesh3d\": [{\"colorbar\": {\"outlinewidth\": 0, \"ticks\": \"\"}, \"type\": \"mesh3d\"}], \"parcoords\": [{\"line\": {\"colorbar\": {\"outlinewidth\": 0, \"ticks\": \"\"}}, \"type\": \"parcoords\"}], \"pie\": [{\"automargin\": true, \"type\": \"pie\"}], \"scatter\": [{\"marker\": {\"colorbar\": {\"outlinewidth\": 0, \"ticks\": \"\"}}, \"type\": \"scatter\"}], \"scatter3d\": [{\"line\": {\"colorbar\": {\"outlinewidth\": 0, \"ticks\": \"\"}}, \"marker\": {\"colorbar\": {\"outlinewidth\": 0, \"ticks\": \"\"}}, \"type\": \"scatter3d\"}], \"scattercarpet\": [{\"marker\": {\"colorbar\": {\"outlinewidth\": 0, \"ticks\": \"\"}}, \"type\": \"scattercarpet\"}], \"scattergeo\": [{\"marker\": {\"colorbar\": {\"outlinewidth\": 0, \"ticks\": \"\"}}, \"type\": \"scattergeo\"}], \"scattergl\": [{\"marker\": {\"colorbar\": {\"outlinewidth\": 0, \"ticks\": \"\"}}, \"type\": \"scattergl\"}], \"scattermapbox\": [{\"marker\": {\"colorbar\": {\"outlinewidth\": 0, \"ticks\": \"\"}}, \"type\": \"scattermapbox\"}], \"scatterpolar\": [{\"marker\": {\"colorbar\": {\"outlinewidth\": 0, \"ticks\": \"\"}}, \"type\": \"scatterpolar\"}], \"scatterpolargl\": [{\"marker\": {\"colorbar\": {\"outlinewidth\": 0, \"ticks\": \"\"}}, \"type\": \"scatterpolargl\"}], \"scatterternary\": [{\"marker\": {\"colorbar\": {\"outlinewidth\": 0, \"ticks\": \"\"}}, \"type\": \"scatterternary\"}], \"surface\": [{\"colorbar\": {\"outlinewidth\": 0, \"ticks\": \"\"}, \"colorscale\": [[0.0, \"#0d0887\"], [0.1111111111111111, \"#46039f\"], [0.2222222222222222, \"#7201a8\"], [0.3333333333333333, \"#9c179e\"], [0.4444444444444444, \"#bd3786\"], [0.5555555555555556, \"#d8576b\"], [0.6666666666666666, \"#ed7953\"], [0.7777777777777778, \"#fb9f3a\"], [0.8888888888888888, \"#fdca26\"], [1.0, \"#f0f921\"]], \"type\": \"surface\"}], \"table\": [{\"cells\": {\"fill\": {\"color\": \"#EBF0F8\"}, \"line\": {\"color\": \"white\"}}, \"header\": {\"fill\": {\"color\": \"#C8D4E3\"}, \"line\": {\"color\": \"white\"}}, \"type\": \"table\"}]}, \"layout\": {\"annotationdefaults\": {\"arrowcolor\": \"#2a3f5f\", \"arrowhead\": 0, \"arrowwidth\": 1}, \"coloraxis\": {\"colorbar\": {\"outlinewidth\": 0, \"ticks\": \"\"}}, \"colorscale\": {\"diverging\": [[0, \"#8e0152\"], [0.1, \"#c51b7d\"], [0.2, \"#de77ae\"], [0.3, \"#f1b6da\"], [0.4, \"#fde0ef\"], [0.5, \"#f7f7f7\"], [0.6, \"#e6f5d0\"], [0.7, \"#b8e186\"], [0.8, \"#7fbc41\"], [0.9, \"#4d9221\"], [1, \"#276419\"]], \"sequential\": [[0.0, \"#0d0887\"], [0.1111111111111111, \"#46039f\"], [0.2222222222222222, \"#7201a8\"], [0.3333333333333333, \"#9c179e\"], [0.4444444444444444, \"#bd3786\"], [0.5555555555555556, \"#d8576b\"], [0.6666666666666666, \"#ed7953\"], [0.7777777777777778, \"#fb9f3a\"], [0.8888888888888888, \"#fdca26\"], [1.0, \"#f0f921\"]], \"sequentialminus\": [[0.0, \"#0d0887\"], [0.1111111111111111, \"#46039f\"], [0.2222222222222222, \"#7201a8\"], [0.3333333333333333, \"#9c179e\"], [0.4444444444444444, \"#bd3786\"], [0.5555555555555556, \"#d8576b\"], [0.6666666666666666, \"#ed7953\"], [0.7777777777777778, \"#fb9f3a\"], [0.8888888888888888, \"#fdca26\"], [1.0, \"#f0f921\"]]}, \"colorway\": [\"#636efa\", \"#EF553B\", \"#00cc96\", \"#ab63fa\", \"#FFA15A\", \"#19d3f3\", \"#FF6692\", \"#B6E880\", \"#FF97FF\", \"#FECB52\"], \"font\": {\"color\": \"#2a3f5f\"}, \"geo\": {\"bgcolor\": \"white\", \"lakecolor\": \"white\", \"landcolor\": \"#E5ECF6\", \"showlakes\": true, \"showland\": true, \"subunitcolor\": \"white\"}, \"hoverlabel\": {\"align\": \"left\"}, \"hovermode\": \"closest\", \"mapbox\": {\"style\": \"light\"}, \"paper_bgcolor\": \"white\", \"plot_bgcolor\": \"#E5ECF6\", \"polar\": {\"angularaxis\": {\"gridcolor\": \"white\", \"linecolor\": \"white\", \"ticks\": \"\"}, \"bgcolor\": \"#E5ECF6\", \"radialaxis\": {\"gridcolor\": \"white\", \"linecolor\": \"white\", \"ticks\": \"\"}}, \"scene\": {\"xaxis\": {\"backgroundcolor\": \"#E5ECF6\", \"gridcolor\": \"white\", \"gridwidth\": 2, \"linecolor\": \"white\", \"showbackground\": true, \"ticks\": \"\", \"zerolinecolor\": \"white\"}, \"yaxis\": {\"backgroundcolor\": \"#E5ECF6\", \"gridcolor\": \"white\", \"gridwidth\": 2, \"linecolor\": \"white\", \"showbackground\": true, \"ticks\": \"\", \"zerolinecolor\": \"white\"}, \"zaxis\": {\"backgroundcolor\": \"#E5ECF6\", \"gridcolor\": \"white\", \"gridwidth\": 2, \"linecolor\": \"white\", \"showbackground\": true, \"ticks\": \"\", \"zerolinecolor\": \"white\"}}, \"shapedefaults\": {\"line\": {\"color\": \"#2a3f5f\"}}, \"ternary\": {\"aaxis\": {\"gridcolor\": \"white\", \"linecolor\": \"white\", \"ticks\": \"\"}, \"baxis\": {\"gridcolor\": \"white\", \"linecolor\": \"white\", \"ticks\": \"\"}, \"bgcolor\": \"#E5ECF6\", \"caxis\": {\"gridcolor\": \"white\", \"linecolor\": \"white\", \"ticks\": \"\"}}, \"title\": {\"x\": 0.05}, \"xaxis\": {\"automargin\": true, \"gridcolor\": \"white\", \"linecolor\": \"white\", \"ticks\": \"\", \"title\": {\"standoff\": 15}, \"zerolinecolor\": \"white\", \"zerolinewidth\": 2}, \"yaxis\": {\"automargin\": true, \"gridcolor\": \"white\", \"linecolor\": \"white\", \"ticks\": \"\", \"title\": {\"standoff\": 15}, \"zerolinecolor\": \"white\", \"zerolinewidth\": 2}}}, \"title\": {\"text\": \"LOAN STATUS BASED ON COAPPLICANTINCOME AND CREDIT HISTORY\"}, \"xaxis\": {\"anchor\": \"y\", \"domain\": [0.0, 0.49], \"title\": {\"text\": \"CoapplicantIncome\"}}, \"xaxis2\": {\"anchor\": \"y2\", \"domain\": [0.51, 1.0], \"matches\": \"x\", \"title\": {\"text\": \"CoapplicantIncome\"}}, \"yaxis\": {\"anchor\": \"x\", \"domain\": [0.0, 1.0], \"title\": {\"text\": \"LoanAmount\"}}, \"yaxis2\": {\"anchor\": \"x2\", \"domain\": [0.0, 1.0], \"matches\": \"y\", \"showticklabels\": false}},\n",
       "                        {\"responsive\": true}\n",
       "                    ).then(function(){\n",
       "                            \n",
       "var gd = document.getElementById('4821eba0-973c-4670-8c96-679ba952aed1');\n",
       "var x = new MutationObserver(function (mutations, observer) {{\n",
       "        var display = window.getComputedStyle(gd).display;\n",
       "        if (!display || display === 'none') {{\n",
       "            console.log([gd, 'removed!']);\n",
       "            Plotly.purge(gd);\n",
       "            observer.disconnect();\n",
       "        }}\n",
       "}});\n",
       "\n",
       "// Listen for the removal of the full notebook cells\n",
       "var notebookContainer = gd.closest('#notebook-container');\n",
       "if (notebookContainer) {{\n",
       "    x.observe(notebookContainer, {childList: true});\n",
       "}}\n",
       "\n",
       "// Listen for the clearing of the current output cell\n",
       "var outputEl = gd.closest('.output');\n",
       "if (outputEl) {{\n",
       "    x.observe(outputEl, {childList: true});\n",
       "}}\n",
       "\n",
       "                        })\n",
       "                };\n",
       "                });\n",
       "            </script>\n",
       "        </div>"
      ]
     },
     "metadata": {},
     "output_type": "display_data"
    }
   ],
   "source": [
    "px.scatter(train,x='CoapplicantIncome',y='LoanAmount',color='Credit_History',facet_col='Loan_Status',\n",
    "           color_continuous_scale=[\"red\", \"green\", \"blue\"],title='LOAN STATUS BASED ON COAPPLICANTINCOME AND CREDIT HISTORY')"
   ]
  },
  {
   "cell_type": "markdown",
   "metadata": {},
   "source": [
    "#### Examining depedants"
   ]
  },
  {
   "cell_type": "code",
   "execution_count": 36,
   "metadata": {},
   "outputs": [
    {
     "data": {
      "text/plain": [
       "0     345\n",
       "1     102\n",
       "2     101\n",
       "3+     51\n",
       "Name: Dependents, dtype: int64"
      ]
     },
     "execution_count": 36,
     "metadata": {},
     "output_type": "execute_result"
    }
   ],
   "source": [
    "train['Dependents'].value_counts()"
   ]
  },
  {
   "cell_type": "markdown",
   "metadata": {},
   "source": [
    "There are more with no dependants"
   ]
  },
  {
   "cell_type": "code",
   "execution_count": 37,
   "metadata": {},
   "outputs": [],
   "source": [
    "temp = train.dropna()"
   ]
  },
  {
   "cell_type": "code",
   "execution_count": 38,
   "metadata": {},
   "outputs": [],
   "source": [
    "from sklearn.preprocessing import LabelEncoder\n",
    "encoder = LabelEncoder()\n",
    "temp['Loan_Status'] = encoder.fit_transform(temp['Loan_Status'])\n",
    "temp['Property_Area'] = encoder.fit_transform(temp['Property_Area'])\n",
    "temp['Education'] = encoder.fit_transform(temp['Education'])"
   ]
  },
  {
   "cell_type": "code",
   "execution_count": 39,
   "metadata": {},
   "outputs": [],
   "source": [
    "temp['Dependents'] = encoder.fit_transform(temp['Dependents'])\n",
    "temp['Married'] = encoder.fit_transform(temp['Married'])\n",
    "temp['Self_Employed'] = encoder.fit_transform(temp['Self_Employed'])\n",
    "temp['Gender'] = encoder.fit_transform(temp['Gender'])"
   ]
  },
  {
   "cell_type": "code",
   "execution_count": 40,
   "metadata": {},
   "outputs": [
    {
     "data": {
      "image/png": "[encoded data removed]",
      "text/plain": [
       "<Figure size 864x504 with 2 Axes>"
      ]
     },
     "metadata": {
      "needs_background": "light"
     },
     "output_type": "display_data"
    }
   ],
   "source": [
    "plt.figure(figsize=(12,7))\n",
    "ax = sns.heatmap(temp.corr(),cmap='coolwarm',annot=True,vmax=1,vmin=-1);\n",
    "# fix for mpl bug that cuts off top/bottom of seaborn viz\n",
    "b, t = plt.ylim() # discover the values for bottom and top\n",
    "b += 0.5 # Add 0.5 to the bottom\n",
    "t -= 0.5 # Subtract 0.5 from the top\n",
    "plt.ylim(b, t) # update the ylim(bottom, top) values\n",
    "plt.show() "
   ]
  },
  {
   "cell_type": "code",
   "execution_count": 41,
   "metadata": {},
   "outputs": [
    {
     "data": {
      "text/plain": [
       "360.0    512\n",
       "180.0     44\n",
       "480.0     15\n",
       "300.0     13\n",
       "240.0      4\n",
       "84.0       4\n",
       "120.0      3\n",
       "60.0       2\n",
       "36.0       2\n",
       "12.0       1\n",
       "Name: Loan_Amount_Term, dtype: int64"
      ]
     },
     "execution_count": 41,
     "metadata": {},
     "output_type": "execute_result"
    }
   ],
   "source": [
    "train['Loan_Amount_Term'].value_counts().sort_values(ascending=False)"
   ]
  },
  {
   "cell_type": "code",
   "execution_count": 42,
   "metadata": {},
   "outputs": [
    {
     "data": {
      "text/html": [
       "<div>\n",
       "<style scoped>\n",
       "    .dataframe tbody tr th:only-of-type {\n",
       "        vertical-align: middle;\n",
       "    }\n",
       "\n",
       "    .dataframe tbody tr th {\n",
       "        vertical-align: top;\n",
       "    }\n",
       "\n",
       "    .dataframe thead th {\n",
       "        text-align: right;\n",
       "    }\n",
       "</style>\n",
       "<table border=\"1\" class=\"dataframe\">\n",
       "  <thead>\n",
       "    <tr style=\"text-align: right;\">\n",
       "      <th></th>\n",
       "      <th>Loan_ID</th>\n",
       "      <th>Gender</th>\n",
       "      <th>Married</th>\n",
       "      <th>Dependents</th>\n",
       "      <th>Education</th>\n",
       "      <th>Self_Employed</th>\n",
       "      <th>ApplicantIncome</th>\n",
       "      <th>CoapplicantIncome</th>\n",
       "      <th>LoanAmount</th>\n",
       "      <th>Loan_Amount_Term</th>\n",
       "      <th>Credit_History</th>\n",
       "      <th>Property_Area</th>\n",
       "      <th>Loan_Status</th>\n",
       "    </tr>\n",
       "  </thead>\n",
       "  <tbody>\n",
       "    <tr>\n",
       "      <th>14</th>\n",
       "      <td>LP001030</td>\n",
       "      <td>Male</td>\n",
       "      <td>Yes</td>\n",
       "      <td>2</td>\n",
       "      <td>Graduate</td>\n",
       "      <td>No</td>\n",
       "      <td>1299</td>\n",
       "      <td>1086.0</td>\n",
       "      <td>17000.0</td>\n",
       "      <td>120.0</td>\n",
       "      <td>1.0</td>\n",
       "      <td>Urban</td>\n",
       "      <td>Y</td>\n",
       "    </tr>\n",
       "    <tr>\n",
       "      <th>94</th>\n",
       "      <td>LP001325</td>\n",
       "      <td>Male</td>\n",
       "      <td>No</td>\n",
       "      <td>0</td>\n",
       "      <td>Not Graduate</td>\n",
       "      <td>No</td>\n",
       "      <td>3620</td>\n",
       "      <td>0.0</td>\n",
       "      <td>25000.0</td>\n",
       "      <td>120.0</td>\n",
       "      <td>1.0</td>\n",
       "      <td>Semiurban</td>\n",
       "      <td>Y</td>\n",
       "    </tr>\n",
       "    <tr>\n",
       "      <th>133</th>\n",
       "      <td>LP001482</td>\n",
       "      <td>Male</td>\n",
       "      <td>Yes</td>\n",
       "      <td>0</td>\n",
       "      <td>Graduate</td>\n",
       "      <td>Yes</td>\n",
       "      <td>3459</td>\n",
       "      <td>0.0</td>\n",
       "      <td>25000.0</td>\n",
       "      <td>120.0</td>\n",
       "      <td>1.0</td>\n",
       "      <td>Semiurban</td>\n",
       "      <td>Y</td>\n",
       "    </tr>\n",
       "  </tbody>\n",
       "</table>\n",
       "</div>"
      ],
      "text/plain": [
       "      Loan_ID Gender Married Dependents     Education Self_Employed  \\\n",
       "14   LP001030   Male     Yes          2      Graduate            No   \n",
       "94   LP001325   Male      No          0  Not Graduate            No   \n",
       "133  LP001482   Male     Yes          0      Graduate           Yes   \n",
       "\n",
       "     ApplicantIncome  CoapplicantIncome  LoanAmount  Loan_Amount_Term  \\\n",
       "14              1299             1086.0     17000.0             120.0   \n",
       "94              3620                0.0     25000.0             120.0   \n",
       "133             3459                0.0     25000.0             120.0   \n",
       "\n",
       "     Credit_History Property_Area Loan_Status  \n",
       "14              1.0         Urban           Y  \n",
       "94              1.0     Semiurban           Y  \n",
       "133             1.0     Semiurban           Y  "
      ]
     },
     "execution_count": 42,
     "metadata": {},
     "output_type": "execute_result"
    }
   ],
   "source": [
    "train[train['Loan_Amount_Term'] == 120.0]"
   ]
  },
  {
   "cell_type": "markdown",
   "metadata": {},
   "source": [
    "Coapplicant and applcant income serves as a determinant for loan amount. Lets add them together as a determinant for loan amount approval"
   ]
  },
  {
   "cell_type": "markdown",
   "metadata": {},
   "source": [
    "### Observations"
   ]
  },
  {
   "cell_type": "code",
   "execution_count": 43,
   "metadata": {},
   "outputs": [
    {
     "data": {
      "text/plain": [
       "ApplicantIncome        3812.5\n",
       "CoapplicantIncome      1188.5\n",
       "LoanAmount           128000.0\n",
       "Loan_Amount_Term        360.0\n",
       "Credit_History            1.0\n",
       "dtype: float64"
      ]
     },
     "execution_count": 43,
     "metadata": {},
     "output_type": "execute_result"
    }
   ],
   "source": [
    "train.median()"
   ]
  },
  {
   "cell_type": "code",
   "execution_count": 44,
   "metadata": {},
   "outputs": [
    {
     "data": {
      "text/plain": [
       "ApplicantIncome        5403.459283\n",
       "CoapplicantIncome      1621.245798\n",
       "LoanAmount           146412.162162\n",
       "Loan_Amount_Term        342.000000\n",
       "Credit_History            0.842199\n",
       "dtype: float64"
      ]
     },
     "execution_count": 44,
     "metadata": {},
     "output_type": "execute_result"
    }
   ],
   "source": [
    "train.mean()"
   ]
  },
  {
   "cell_type": "markdown",
   "metadata": {},
   "source": [
    "1. Loan amount is skewed to the right. This is because there are a few customers applying for large loans whiles the majority are applying for loans within the median (60,000 - 200,000). This resulted in the outliers seen in the boxplot\n",
    "\n",
    "2. Loans are mostly approved for property areas in the semiurban areas followed by urban areas where majority are graduates.\n",
    "\n",
    "3. Credit history is a high determinant for the status of loan approval. There is a positive correlation of 0.5\n",
    "\n",
    "4. Married couples have a slight possibility of having their loans approved\n",
    "\n",
    "5. There is also a slight correlation with coapplicant income and the loan amount.\n"
   ]
  },
  {
   "cell_type": "markdown",
   "metadata": {},
   "source": [
    "#### Filling out missing values based on observations"
   ]
  },
  {
   "cell_type": "code",
   "execution_count": 45,
   "metadata": {},
   "outputs": [
    {
     "data": {
      "text/plain": [
       "Loan_ID               0\n",
       "Gender               13\n",
       "Married               3\n",
       "Dependents           15\n",
       "Education             0\n",
       "Self_Employed        32\n",
       "ApplicantIncome       0\n",
       "CoapplicantIncome     0\n",
       "LoanAmount           22\n",
       "Loan_Amount_Term     14\n",
       "Credit_History       50\n",
       "Property_Area         0\n",
       "Loan_Status           0\n",
       "dtype: int64"
      ]
     },
     "execution_count": 45,
     "metadata": {},
     "output_type": "execute_result"
    }
   ],
   "source": [
    "train.isnull().sum()"
   ]
  },
  {
   "cell_type": "code",
   "execution_count": 46,
   "metadata": {},
   "outputs": [
    {
     "data": {
      "text/plain": [
       "(614, 13)"
      ]
     },
     "execution_count": 46,
     "metadata": {},
     "output_type": "execute_result"
    }
   ],
   "source": [
    "train_shape = train.shape\n",
    "train_shape"
   ]
  },
  {
   "cell_type": "code",
   "execution_count": 47,
   "metadata": {},
   "outputs": [],
   "source": [
    "#Save loanID\n",
    "train_ID= train['Loan_ID']\n",
    "train = train.drop('Loan_ID',axis=1)"
   ]
  },
  {
   "cell_type": "code",
   "execution_count": 48,
   "metadata": {},
   "outputs": [],
   "source": [
    "#filling n/a with the most occuring for genders\n",
    "train['Gender'] = train['Gender'].fillna(train['Gender'].mode()[0])"
   ]
  },
  {
   "cell_type": "code",
   "execution_count": 49,
   "metadata": {},
   "outputs": [],
   "source": [
    "#filling values for married\n",
    "train['Married'] = train['Married'].fillna(train['Married'].mode()[0])"
   ]
  },
  {
   "cell_type": "code",
   "execution_count": 50,
   "metadata": {},
   "outputs": [],
   "source": [
    "#filling values for dependents\n",
    "train['Dependents'] = train['Dependents'].fillna(train['Dependents'].mode()[0])"
   ]
  },
  {
   "cell_type": "code",
   "execution_count": 51,
   "metadata": {},
   "outputs": [],
   "source": [
    "#filling values for self_employed\n",
    "train['Self_Employed'] = train['Self_Employed'].fillna(train['Self_Employed'].mode()[0])"
   ]
  },
  {
   "cell_type": "code",
   "execution_count": 52,
   "metadata": {},
   "outputs": [
    {
     "data": {
      "text/html": [
       "<div>\n",
       "<style scoped>\n",
       "    .dataframe tbody tr th:only-of-type {\n",
       "        vertical-align: middle;\n",
       "    }\n",
       "\n",
       "    .dataframe tbody tr th {\n",
       "        vertical-align: top;\n",
       "    }\n",
       "\n",
       "    .dataframe thead th {\n",
       "        text-align: right;\n",
       "    }\n",
       "</style>\n",
       "<table border=\"1\" class=\"dataframe\">\n",
       "  <thead>\n",
       "    <tr style=\"text-align: right;\">\n",
       "      <th>Education</th>\n",
       "      <th>Graduate</th>\n",
       "      <th>Not Graduate</th>\n",
       "    </tr>\n",
       "    <tr>\n",
       "      <th>Self_Employed</th>\n",
       "      <th></th>\n",
       "      <th></th>\n",
       "    </tr>\n",
       "  </thead>\n",
       "  <tbody>\n",
       "    <tr>\n",
       "      <th>No</th>\n",
       "      <td>130000.0</td>\n",
       "      <td>113000.0</td>\n",
       "    </tr>\n",
       "    <tr>\n",
       "      <th>Yes</th>\n",
       "      <td>157500.0</td>\n",
       "      <td>130000.0</td>\n",
       "    </tr>\n",
       "  </tbody>\n",
       "</table>\n",
       "</div>"
      ],
      "text/plain": [
       "Education      Graduate  Not Graduate\n",
       "Self_Employed                        \n",
       "No             130000.0      113000.0\n",
       "Yes            157500.0      130000.0"
      ]
     },
     "execution_count": 52,
     "metadata": {},
     "output_type": "execute_result"
    }
   ],
   "source": [
    "avg_loans = train.pivot_table(values='LoanAmount', index='Self_Employed' ,columns='Education', aggfunc=np.median)\n",
    "avg_loans"
   ]
  },
  {
   "cell_type": "code",
   "execution_count": 53,
   "metadata": {},
   "outputs": [
    {
     "data": {
      "text/plain": [
       "Index(['Graduate', 'Not Graduate'], dtype='object', name='Education')"
      ]
     },
     "execution_count": 53,
     "metadata": {},
     "output_type": "execute_result"
    }
   ],
   "source": [
    "avg_loans.columns"
   ]
  },
  {
   "cell_type": "code",
   "execution_count": 54,
   "metadata": {},
   "outputs": [],
   "source": [
    "def values(x):\n",
    "    return avg_loans.loc[x['Self_Employed'],x['Education']]"
   ]
  },
  {
   "cell_type": "code",
   "execution_count": 55,
   "metadata": {},
   "outputs": [],
   "source": [
    "train['LoanAmount'] = train['LoanAmount'].fillna(train[train['LoanAmount'].isnull()].apply(values, axis=1))"
   ]
  },
  {
   "cell_type": "markdown",
   "metadata": {},
   "source": [
    "From the observation some customers are likely to apply for larger loans and this is the reason for the loan amount being rightly skewed. Lets log the loan amount"
   ]
  },
  {
   "cell_type": "code",
   "execution_count": 56,
   "metadata": {},
   "outputs": [],
   "source": [
    "#filling based on the most frequent\n",
    "train['Loan_Amount_Term'] = train['Loan_Amount_Term'].fillna(train['Loan_Amount_Term'].mode()[0])"
   ]
  },
  {
   "cell_type": "markdown",
   "metadata": {},
   "source": [
    "From the observations above, credit history is a high determinant for loan approval (correlation of +0.5) and for that reason, null values for credit history would be filled based on where loan status was approved or declined.\n",
    "\n",
    "#### Convert Loan_Status to numerical\n",
    "where Y = 1\n",
    "where N = 0"
   ]
  },
  {
   "cell_type": "code",
   "execution_count": 57,
   "metadata": {},
   "outputs": [],
   "source": [
    "from sklearn.preprocessing import LabelBinarizer\n",
    "encoder = LabelBinarizer()\n",
    "train['Loan_Status'] = encoder.fit_transform(train['Loan_Status'])"
   ]
  },
  {
   "cell_type": "code",
   "execution_count": 58,
   "metadata": {},
   "outputs": [
    {
     "data": {
      "text/html": [
       "<div>\n",
       "<style scoped>\n",
       "    .dataframe tbody tr th:only-of-type {\n",
       "        vertical-align: middle;\n",
       "    }\n",
       "\n",
       "    .dataframe tbody tr th {\n",
       "        vertical-align: top;\n",
       "    }\n",
       "\n",
       "    .dataframe thead th {\n",
       "        text-align: right;\n",
       "    }\n",
       "</style>\n",
       "<table border=\"1\" class=\"dataframe\">\n",
       "  <thead>\n",
       "    <tr style=\"text-align: right;\">\n",
       "      <th></th>\n",
       "      <th>Gender</th>\n",
       "      <th>Married</th>\n",
       "      <th>Dependents</th>\n",
       "      <th>Education</th>\n",
       "      <th>Self_Employed</th>\n",
       "      <th>ApplicantIncome</th>\n",
       "      <th>CoapplicantIncome</th>\n",
       "      <th>LoanAmount</th>\n",
       "      <th>Loan_Amount_Term</th>\n",
       "      <th>Credit_History</th>\n",
       "      <th>Property_Area</th>\n",
       "      <th>Loan_Status</th>\n",
       "    </tr>\n",
       "  </thead>\n",
       "  <tbody>\n",
       "    <tr>\n",
       "      <th>16</th>\n",
       "      <td>Male</td>\n",
       "      <td>No</td>\n",
       "      <td>1</td>\n",
       "      <td>Not Graduate</td>\n",
       "      <td>No</td>\n",
       "      <td>3596</td>\n",
       "      <td>0.0</td>\n",
       "      <td>100000.0</td>\n",
       "      <td>240.0</td>\n",
       "      <td>NaN</td>\n",
       "      <td>Urban</td>\n",
       "      <td>1</td>\n",
       "    </tr>\n",
       "    <tr>\n",
       "      <th>24</th>\n",
       "      <td>Male</td>\n",
       "      <td>Yes</td>\n",
       "      <td>1</td>\n",
       "      <td>Graduate</td>\n",
       "      <td>No</td>\n",
       "      <td>3717</td>\n",
       "      <td>2925.0</td>\n",
       "      <td>151000.0</td>\n",
       "      <td>360.0</td>\n",
       "      <td>NaN</td>\n",
       "      <td>Semiurban</td>\n",
       "      <td>0</td>\n",
       "    </tr>\n",
       "    <tr>\n",
       "      <th>30</th>\n",
       "      <td>Male</td>\n",
       "      <td>Yes</td>\n",
       "      <td>1</td>\n",
       "      <td>Graduate</td>\n",
       "      <td>No</td>\n",
       "      <td>4166</td>\n",
       "      <td>3369.0</td>\n",
       "      <td>201000.0</td>\n",
       "      <td>360.0</td>\n",
       "      <td>NaN</td>\n",
       "      <td>Urban</td>\n",
       "      <td>0</td>\n",
       "    </tr>\n",
       "    <tr>\n",
       "      <th>42</th>\n",
       "      <td>Male</td>\n",
       "      <td>Yes</td>\n",
       "      <td>0</td>\n",
       "      <td>Graduate</td>\n",
       "      <td>No</td>\n",
       "      <td>2400</td>\n",
       "      <td>0.0</td>\n",
       "      <td>75000.0</td>\n",
       "      <td>360.0</td>\n",
       "      <td>NaN</td>\n",
       "      <td>Urban</td>\n",
       "      <td>1</td>\n",
       "    </tr>\n",
       "    <tr>\n",
       "      <th>79</th>\n",
       "      <td>Male</td>\n",
       "      <td>Yes</td>\n",
       "      <td>3+</td>\n",
       "      <td>Not Graduate</td>\n",
       "      <td>Yes</td>\n",
       "      <td>3333</td>\n",
       "      <td>2166.0</td>\n",
       "      <td>130000.0</td>\n",
       "      <td>360.0</td>\n",
       "      <td>NaN</td>\n",
       "      <td>Semiurban</td>\n",
       "      <td>1</td>\n",
       "    </tr>\n",
       "  </tbody>\n",
       "</table>\n",
       "</div>"
      ],
      "text/plain": [
       "   Gender Married Dependents     Education Self_Employed  ApplicantIncome  \\\n",
       "16   Male      No          1  Not Graduate            No             3596   \n",
       "24   Male     Yes          1      Graduate            No             3717   \n",
       "30   Male     Yes          1      Graduate            No             4166   \n",
       "42   Male     Yes          0      Graduate            No             2400   \n",
       "79   Male     Yes         3+  Not Graduate           Yes             3333   \n",
       "\n",
       "    CoapplicantIncome  LoanAmount  Loan_Amount_Term  Credit_History  \\\n",
       "16                0.0    100000.0             240.0             NaN   \n",
       "24             2925.0    151000.0             360.0             NaN   \n",
       "30             3369.0    201000.0             360.0             NaN   \n",
       "42                0.0     75000.0             360.0             NaN   \n",
       "79             2166.0    130000.0             360.0             NaN   \n",
       "\n",
       "   Property_Area  Loan_Status  \n",
       "16         Urban            1  \n",
       "24     Semiurban            0  \n",
       "30         Urban            0  \n",
       "42         Urban            1  \n",
       "79     Semiurban            1  "
      ]
     },
     "execution_count": 58,
     "metadata": {},
     "output_type": "execute_result"
    }
   ],
   "source": [
    "train[train['Credit_History'].isnull()].head()"
   ]
  },
  {
   "cell_type": "code",
   "execution_count": 59,
   "metadata": {},
   "outputs": [],
   "source": [
    "#filling credit_history where loan status was approved\n",
    "train['Credit_History'] = np.where(((train['Credit_History'].isnull()) & (train['Loan_Status'] ==1)),\n",
    "                                   1,train['Credit_History'])\n",
    "\n",
    "#filling credit_history based on where loan status was declined\n",
    "train['Credit_History'] = np.where(((train['Credit_History'].isnull()) & (train['Loan_Status'] ==0)),\n",
    "                                   0,train['Credit_History'])"
   ]
  },
  {
   "cell_type": "markdown",
   "metadata": {},
   "source": [
    "#### Creating Features"
   ]
  },
  {
   "cell_type": "code",
   "execution_count": 60,
   "metadata": {},
   "outputs": [],
   "source": [
    "#Log transfromations\n",
    "train['LoanAmount'] = np.log1p(train['LoanAmount'])"
   ]
  },
  {
   "cell_type": "code",
   "execution_count": 61,
   "metadata": {},
   "outputs": [],
   "source": [
    "#Log transforming features\n",
    "train['ApplicantIncome'] = np.log1p(train['ApplicantIncome'])\n",
    "train['CoapplicantIncome'] = np.log1p(train['CoapplicantIncome'])"
   ]
  },
  {
   "cell_type": "code",
   "execution_count": 62,
   "metadata": {},
   "outputs": [],
   "source": [
    "#coapplicant income and applicant income both serves as determinants for loan status\n",
    "#log transformation\n",
    "\n",
    "train['total_income'] = train['ApplicantIncome'] + train['CoapplicantIncome']\n",
    "train['total_income'] = np.log1p(train['total_income'])"
   ]
  },
  {
   "cell_type": "code",
   "execution_count": 63,
   "metadata": {},
   "outputs": [],
   "source": [
    "#Log transformation \n",
    "train['Ratio of LoanAmt :Total_Income'] = train['LoanAmount'] / train['total_income']\n",
    "train['Ratio of LoanAmt :Total_Income'] = np.log1p(train['Ratio of LoanAmt :Total_Income'])"
   ]
  },
  {
   "cell_type": "code",
   "execution_count": 64,
   "metadata": {},
   "outputs": [
    {
     "data": {
      "text/html": [
       "<div>\n",
       "<style scoped>\n",
       "    .dataframe tbody tr th:only-of-type {\n",
       "        vertical-align: middle;\n",
       "    }\n",
       "\n",
       "    .dataframe tbody tr th {\n",
       "        vertical-align: top;\n",
       "    }\n",
       "\n",
       "    .dataframe thead th {\n",
       "        text-align: right;\n",
       "    }\n",
       "</style>\n",
       "<table border=\"1\" class=\"dataframe\">\n",
       "  <thead>\n",
       "    <tr style=\"text-align: right;\">\n",
       "      <th></th>\n",
       "      <th>Gender</th>\n",
       "      <th>Married</th>\n",
       "      <th>Dependents</th>\n",
       "      <th>Education</th>\n",
       "      <th>Self_Employed</th>\n",
       "      <th>ApplicantIncome</th>\n",
       "      <th>CoapplicantIncome</th>\n",
       "      <th>LoanAmount</th>\n",
       "      <th>Loan_Amount_Term</th>\n",
       "      <th>Credit_History</th>\n",
       "      <th>Property_Area</th>\n",
       "      <th>Loan_Status</th>\n",
       "      <th>total_income</th>\n",
       "      <th>Ratio of LoanAmt :Total_Income</th>\n",
       "    </tr>\n",
       "  </thead>\n",
       "  <tbody>\n",
       "    <tr>\n",
       "      <th>0</th>\n",
       "      <td>Male</td>\n",
       "      <td>No</td>\n",
       "      <td>0</td>\n",
       "      <td>Graduate</td>\n",
       "      <td>No</td>\n",
       "      <td>8.674197</td>\n",
       "      <td>0.000000</td>\n",
       "      <td>11.775297</td>\n",
       "      <td>360.0</td>\n",
       "      <td>1.0</td>\n",
       "      <td>Urban</td>\n",
       "      <td>1</td>\n",
       "      <td>2.269462</td>\n",
       "      <td>1.822706</td>\n",
       "    </tr>\n",
       "    <tr>\n",
       "      <th>1</th>\n",
       "      <td>Male</td>\n",
       "      <td>Yes</td>\n",
       "      <td>1</td>\n",
       "      <td>Graduate</td>\n",
       "      <td>No</td>\n",
       "      <td>8.430327</td>\n",
       "      <td>7.319202</td>\n",
       "      <td>11.759793</td>\n",
       "      <td>360.0</td>\n",
       "      <td>1.0</td>\n",
       "      <td>Rural</td>\n",
       "      <td>0</td>\n",
       "      <td>2.818370</td>\n",
       "      <td>1.643366</td>\n",
       "    </tr>\n",
       "    <tr>\n",
       "      <th>2</th>\n",
       "      <td>Male</td>\n",
       "      <td>Yes</td>\n",
       "      <td>0</td>\n",
       "      <td>Graduate</td>\n",
       "      <td>Yes</td>\n",
       "      <td>8.006701</td>\n",
       "      <td>0.000000</td>\n",
       "      <td>11.097425</td>\n",
       "      <td>360.0</td>\n",
       "      <td>1.0</td>\n",
       "      <td>Urban</td>\n",
       "      <td>1</td>\n",
       "      <td>2.197969</td>\n",
       "      <td>1.799884</td>\n",
       "    </tr>\n",
       "    <tr>\n",
       "      <th>3</th>\n",
       "      <td>Male</td>\n",
       "      <td>Yes</td>\n",
       "      <td>0</td>\n",
       "      <td>Not Graduate</td>\n",
       "      <td>No</td>\n",
       "      <td>7.857094</td>\n",
       "      <td>7.765993</td>\n",
       "      <td>11.695255</td>\n",
       "      <td>360.0</td>\n",
       "      <td>1.0</td>\n",
       "      <td>Urban</td>\n",
       "      <td>1</td>\n",
       "      <td>2.810793</td>\n",
       "      <td>1.641099</td>\n",
       "    </tr>\n",
       "    <tr>\n",
       "      <th>4</th>\n",
       "      <td>Male</td>\n",
       "      <td>No</td>\n",
       "      <td>0</td>\n",
       "      <td>Graduate</td>\n",
       "      <td>No</td>\n",
       "      <td>8.699681</td>\n",
       "      <td>0.000000</td>\n",
       "      <td>11.856522</td>\n",
       "      <td>360.0</td>\n",
       "      <td>1.0</td>\n",
       "      <td>Urban</td>\n",
       "      <td>1</td>\n",
       "      <td>2.272093</td>\n",
       "      <td>1.827501</td>\n",
       "    </tr>\n",
       "  </tbody>\n",
       "</table>\n",
       "</div>"
      ],
      "text/plain": [
       "  Gender Married Dependents     Education Self_Employed  ApplicantIncome  \\\n",
       "0   Male      No          0      Graduate            No         8.674197   \n",
       "1   Male     Yes          1      Graduate            No         8.430327   \n",
       "2   Male     Yes          0      Graduate           Yes         8.006701   \n",
       "3   Male     Yes          0  Not Graduate            No         7.857094   \n",
       "4   Male      No          0      Graduate            No         8.699681   \n",
       "\n",
       "   CoapplicantIncome  LoanAmount  Loan_Amount_Term  Credit_History  \\\n",
       "0           0.000000   11.775297             360.0             1.0   \n",
       "1           7.319202   11.759793             360.0             1.0   \n",
       "2           0.000000   11.097425             360.0             1.0   \n",
       "3           7.765993   11.695255             360.0             1.0   \n",
       "4           0.000000   11.856522             360.0             1.0   \n",
       "\n",
       "  Property_Area  Loan_Status  total_income  Ratio of LoanAmt :Total_Income  \n",
       "0         Urban            1      2.269462                        1.822706  \n",
       "1         Rural            0      2.818370                        1.643366  \n",
       "2         Urban            1      2.197969                        1.799884  \n",
       "3         Urban            1      2.810793                        1.641099  \n",
       "4         Urban            1      2.272093                        1.827501  "
      ]
     },
     "execution_count": 64,
     "metadata": {},
     "output_type": "execute_result"
    }
   ],
   "source": [
    "train.head()"
   ]
  },
  {
   "cell_type": "code",
   "execution_count": 65,
   "metadata": {},
   "outputs": [
    {
     "data": {
      "text/plain": [
       "Index(['Gender', 'Married', 'Dependents', 'Education', 'Self_Employed',\n",
       "       'ApplicantIncome', 'CoapplicantIncome', 'LoanAmount',\n",
       "       'Loan_Amount_Term', 'Credit_History', 'Property_Area', 'Loan_Status',\n",
       "       'total_income', 'Ratio of LoanAmt :Total_Income'],\n",
       "      dtype='object')"
      ]
     },
     "execution_count": 65,
     "metadata": {},
     "output_type": "execute_result"
    }
   ],
   "source": [
    "train.columns"
   ]
  },
  {
   "cell_type": "code",
   "execution_count": 66,
   "metadata": {},
   "outputs": [
    {
     "data": {
      "text/html": [
       "<div>\n",
       "<style scoped>\n",
       "    .dataframe tbody tr th:only-of-type {\n",
       "        vertical-align: middle;\n",
       "    }\n",
       "\n",
       "    .dataframe tbody tr th {\n",
       "        vertical-align: top;\n",
       "    }\n",
       "\n",
       "    .dataframe thead th {\n",
       "        text-align: right;\n",
       "    }\n",
       "</style>\n",
       "<table border=\"1\" class=\"dataframe\">\n",
       "  <thead>\n",
       "    <tr style=\"text-align: right;\">\n",
       "      <th></th>\n",
       "      <th>Gender</th>\n",
       "      <th>Married</th>\n",
       "      <th>Dependents</th>\n",
       "      <th>Education</th>\n",
       "      <th>Self_Employed</th>\n",
       "      <th>ApplicantIncome</th>\n",
       "      <th>CoapplicantIncome</th>\n",
       "      <th>LoanAmount</th>\n",
       "      <th>Loan_Amount_Term</th>\n",
       "      <th>Credit_History</th>\n",
       "      <th>Property_Area</th>\n",
       "      <th>Loan_Status</th>\n",
       "      <th>total_income</th>\n",
       "      <th>Ratio of LoanAmt :Total_Income</th>\n",
       "    </tr>\n",
       "  </thead>\n",
       "  <tbody>\n",
       "    <tr>\n",
       "      <th>0</th>\n",
       "      <td>Male</td>\n",
       "      <td>No</td>\n",
       "      <td>0</td>\n",
       "      <td>Graduate</td>\n",
       "      <td>No</td>\n",
       "      <td>8.674197</td>\n",
       "      <td>0.000000</td>\n",
       "      <td>11.775297</td>\n",
       "      <td>360.0</td>\n",
       "      <td>1.0</td>\n",
       "      <td>Urban</td>\n",
       "      <td>1</td>\n",
       "      <td>2.269462</td>\n",
       "      <td>1.822706</td>\n",
       "    </tr>\n",
       "    <tr>\n",
       "      <th>1</th>\n",
       "      <td>Male</td>\n",
       "      <td>Yes</td>\n",
       "      <td>1</td>\n",
       "      <td>Graduate</td>\n",
       "      <td>No</td>\n",
       "      <td>8.430327</td>\n",
       "      <td>7.319202</td>\n",
       "      <td>11.759793</td>\n",
       "      <td>360.0</td>\n",
       "      <td>1.0</td>\n",
       "      <td>Rural</td>\n",
       "      <td>0</td>\n",
       "      <td>2.818370</td>\n",
       "      <td>1.643366</td>\n",
       "    </tr>\n",
       "    <tr>\n",
       "      <th>2</th>\n",
       "      <td>Male</td>\n",
       "      <td>Yes</td>\n",
       "      <td>0</td>\n",
       "      <td>Graduate</td>\n",
       "      <td>Yes</td>\n",
       "      <td>8.006701</td>\n",
       "      <td>0.000000</td>\n",
       "      <td>11.097425</td>\n",
       "      <td>360.0</td>\n",
       "      <td>1.0</td>\n",
       "      <td>Urban</td>\n",
       "      <td>1</td>\n",
       "      <td>2.197969</td>\n",
       "      <td>1.799884</td>\n",
       "    </tr>\n",
       "    <tr>\n",
       "      <th>3</th>\n",
       "      <td>Male</td>\n",
       "      <td>Yes</td>\n",
       "      <td>0</td>\n",
       "      <td>Not Graduate</td>\n",
       "      <td>No</td>\n",
       "      <td>7.857094</td>\n",
       "      <td>7.765993</td>\n",
       "      <td>11.695255</td>\n",
       "      <td>360.0</td>\n",
       "      <td>1.0</td>\n",
       "      <td>Urban</td>\n",
       "      <td>1</td>\n",
       "      <td>2.810793</td>\n",
       "      <td>1.641099</td>\n",
       "    </tr>\n",
       "    <tr>\n",
       "      <th>4</th>\n",
       "      <td>Male</td>\n",
       "      <td>No</td>\n",
       "      <td>0</td>\n",
       "      <td>Graduate</td>\n",
       "      <td>No</td>\n",
       "      <td>8.699681</td>\n",
       "      <td>0.000000</td>\n",
       "      <td>11.856522</td>\n",
       "      <td>360.0</td>\n",
       "      <td>1.0</td>\n",
       "      <td>Urban</td>\n",
       "      <td>1</td>\n",
       "      <td>2.272093</td>\n",
       "      <td>1.827501</td>\n",
       "    </tr>\n",
       "  </tbody>\n",
       "</table>\n",
       "</div>"
      ],
      "text/plain": [
       "  Gender Married Dependents     Education Self_Employed  ApplicantIncome  \\\n",
       "0   Male      No          0      Graduate            No         8.674197   \n",
       "1   Male     Yes          1      Graduate            No         8.430327   \n",
       "2   Male     Yes          0      Graduate           Yes         8.006701   \n",
       "3   Male     Yes          0  Not Graduate            No         7.857094   \n",
       "4   Male      No          0      Graduate            No         8.699681   \n",
       "\n",
       "   CoapplicantIncome  LoanAmount  Loan_Amount_Term  Credit_History  \\\n",
       "0           0.000000   11.775297             360.0             1.0   \n",
       "1           7.319202   11.759793             360.0             1.0   \n",
       "2           0.000000   11.097425             360.0             1.0   \n",
       "3           7.765993   11.695255             360.0             1.0   \n",
       "4           0.000000   11.856522             360.0             1.0   \n",
       "\n",
       "  Property_Area  Loan_Status  total_income  Ratio of LoanAmt :Total_Income  \n",
       "0         Urban            1      2.269462                        1.822706  \n",
       "1         Rural            0      2.818370                        1.643366  \n",
       "2         Urban            1      2.197969                        1.799884  \n",
       "3         Urban            1      2.810793                        1.641099  \n",
       "4         Urban            1      2.272093                        1.827501  "
      ]
     },
     "execution_count": 66,
     "metadata": {},
     "output_type": "execute_result"
    }
   ],
   "source": [
    "train.head()"
   ]
  },
  {
   "cell_type": "markdown",
   "metadata": {},
   "source": [
    "### Categorical Variables and Dummy Variables"
   ]
  },
  {
   "cell_type": "code",
   "execution_count": 67,
   "metadata": {},
   "outputs": [
    {
     "data": {
      "text/plain": [
       "Index(['Gender', 'Married', 'Dependents', 'Education', 'Self_Employed',\n",
       "       'Property_Area'],\n",
       "      dtype='object')"
      ]
     },
     "execution_count": 67,
     "metadata": {},
     "output_type": "execute_result"
    }
   ],
   "source": [
    "train.select_dtypes(['object']).columns"
   ]
  },
  {
   "cell_type": "code",
   "execution_count": 68,
   "metadata": {},
   "outputs": [],
   "source": [
    "Dummies = pd.get_dummies(train[['Gender','Married', 'Dependents', 'Education', 'Self_Employed', 'Property_Area']],drop_first=True)\n",
    "train = train.drop(['Gender','Married', 'Dependents', 'Education', 'Self_Employed', 'Property_Area'],axis=1)\n",
    "train = pd.concat([train,Dummies],axis=1)"
   ]
  },
  {
   "cell_type": "code",
   "execution_count": 69,
   "metadata": {},
   "outputs": [
    {
     "data": {
      "text/html": [
       "<div>\n",
       "<style scoped>\n",
       "    .dataframe tbody tr th:only-of-type {\n",
       "        vertical-align: middle;\n",
       "    }\n",
       "\n",
       "    .dataframe tbody tr th {\n",
       "        vertical-align: top;\n",
       "    }\n",
       "\n",
       "    .dataframe thead th {\n",
       "        text-align: right;\n",
       "    }\n",
       "</style>\n",
       "<table border=\"1\" class=\"dataframe\">\n",
       "  <thead>\n",
       "    <tr style=\"text-align: right;\">\n",
       "      <th></th>\n",
       "      <th>ApplicantIncome</th>\n",
       "      <th>CoapplicantIncome</th>\n",
       "      <th>LoanAmount</th>\n",
       "      <th>Loan_Amount_Term</th>\n",
       "      <th>Credit_History</th>\n",
       "      <th>Loan_Status</th>\n",
       "      <th>total_income</th>\n",
       "      <th>Ratio of LoanAmt :Total_Income</th>\n",
       "      <th>Gender_Male</th>\n",
       "      <th>Married_Yes</th>\n",
       "      <th>Dependents_1</th>\n",
       "      <th>Dependents_2</th>\n",
       "      <th>Dependents_3+</th>\n",
       "      <th>Education_Not Graduate</th>\n",
       "      <th>Self_Employed_Yes</th>\n",
       "      <th>Property_Area_Semiurban</th>\n",
       "      <th>Property_Area_Urban</th>\n",
       "    </tr>\n",
       "  </thead>\n",
       "  <tbody>\n",
       "    <tr>\n",
       "      <th>0</th>\n",
       "      <td>8.674197</td>\n",
       "      <td>0.000000</td>\n",
       "      <td>11.775297</td>\n",
       "      <td>360.0</td>\n",
       "      <td>1.0</td>\n",
       "      <td>1</td>\n",
       "      <td>2.269462</td>\n",
       "      <td>1.822706</td>\n",
       "      <td>1</td>\n",
       "      <td>0</td>\n",
       "      <td>0</td>\n",
       "      <td>0</td>\n",
       "      <td>0</td>\n",
       "      <td>0</td>\n",
       "      <td>0</td>\n",
       "      <td>0</td>\n",
       "      <td>1</td>\n",
       "    </tr>\n",
       "    <tr>\n",
       "      <th>1</th>\n",
       "      <td>8.430327</td>\n",
       "      <td>7.319202</td>\n",
       "      <td>11.759793</td>\n",
       "      <td>360.0</td>\n",
       "      <td>1.0</td>\n",
       "      <td>0</td>\n",
       "      <td>2.818370</td>\n",
       "      <td>1.643366</td>\n",
       "      <td>1</td>\n",
       "      <td>1</td>\n",
       "      <td>1</td>\n",
       "      <td>0</td>\n",
       "      <td>0</td>\n",
       "      <td>0</td>\n",
       "      <td>0</td>\n",
       "      <td>0</td>\n",
       "      <td>0</td>\n",
       "    </tr>\n",
       "    <tr>\n",
       "      <th>2</th>\n",
       "      <td>8.006701</td>\n",
       "      <td>0.000000</td>\n",
       "      <td>11.097425</td>\n",
       "      <td>360.0</td>\n",
       "      <td>1.0</td>\n",
       "      <td>1</td>\n",
       "      <td>2.197969</td>\n",
       "      <td>1.799884</td>\n",
       "      <td>1</td>\n",
       "      <td>1</td>\n",
       "      <td>0</td>\n",
       "      <td>0</td>\n",
       "      <td>0</td>\n",
       "      <td>0</td>\n",
       "      <td>1</td>\n",
       "      <td>0</td>\n",
       "      <td>1</td>\n",
       "    </tr>\n",
       "    <tr>\n",
       "      <th>3</th>\n",
       "      <td>7.857094</td>\n",
       "      <td>7.765993</td>\n",
       "      <td>11.695255</td>\n",
       "      <td>360.0</td>\n",
       "      <td>1.0</td>\n",
       "      <td>1</td>\n",
       "      <td>2.810793</td>\n",
       "      <td>1.641099</td>\n",
       "      <td>1</td>\n",
       "      <td>1</td>\n",
       "      <td>0</td>\n",
       "      <td>0</td>\n",
       "      <td>0</td>\n",
       "      <td>1</td>\n",
       "      <td>0</td>\n",
       "      <td>0</td>\n",
       "      <td>1</td>\n",
       "    </tr>\n",
       "    <tr>\n",
       "      <th>4</th>\n",
       "      <td>8.699681</td>\n",
       "      <td>0.000000</td>\n",
       "      <td>11.856522</td>\n",
       "      <td>360.0</td>\n",
       "      <td>1.0</td>\n",
       "      <td>1</td>\n",
       "      <td>2.272093</td>\n",
       "      <td>1.827501</td>\n",
       "      <td>1</td>\n",
       "      <td>0</td>\n",
       "      <td>0</td>\n",
       "      <td>0</td>\n",
       "      <td>0</td>\n",
       "      <td>0</td>\n",
       "      <td>0</td>\n",
       "      <td>0</td>\n",
       "      <td>1</td>\n",
       "    </tr>\n",
       "  </tbody>\n",
       "</table>\n",
       "</div>"
      ],
      "text/plain": [
       "   ApplicantIncome  CoapplicantIncome  LoanAmount  Loan_Amount_Term  \\\n",
       "0         8.674197           0.000000   11.775297             360.0   \n",
       "1         8.430327           7.319202   11.759793             360.0   \n",
       "2         8.006701           0.000000   11.097425             360.0   \n",
       "3         7.857094           7.765993   11.695255             360.0   \n",
       "4         8.699681           0.000000   11.856522             360.0   \n",
       "\n",
       "   Credit_History  Loan_Status  total_income  Ratio of LoanAmt :Total_Income  \\\n",
       "0             1.0            1      2.269462                        1.822706   \n",
       "1             1.0            0      2.818370                        1.643366   \n",
       "2             1.0            1      2.197969                        1.799884   \n",
       "3             1.0            1      2.810793                        1.641099   \n",
       "4             1.0            1      2.272093                        1.827501   \n",
       "\n",
       "   Gender_Male  Married_Yes  Dependents_1  Dependents_2  Dependents_3+  \\\n",
       "0            1            0             0             0              0   \n",
       "1            1            1             1             0              0   \n",
       "2            1            1             0             0              0   \n",
       "3            1            1             0             0              0   \n",
       "4            1            0             0             0              0   \n",
       "\n",
       "   Education_Not Graduate  Self_Employed_Yes  Property_Area_Semiurban  \\\n",
       "0                       0                  0                        0   \n",
       "1                       0                  0                        0   \n",
       "2                       0                  1                        0   \n",
       "3                       1                  0                        0   \n",
       "4                       0                  0                        0   \n",
       "\n",
       "   Property_Area_Urban  \n",
       "0                    1  \n",
       "1                    0  \n",
       "2                    1  \n",
       "3                    1  \n",
       "4                    1  "
      ]
     },
     "execution_count": 69,
     "metadata": {},
     "output_type": "execute_result"
    }
   ],
   "source": [
    "train.head()"
   ]
  },
  {
   "cell_type": "markdown",
   "metadata": {},
   "source": [
    "Splitting data for train and test purposes. Where X are the features for training and y is the target(Loan_Status) to be predicted"
   ]
  },
  {
   "cell_type": "code",
   "execution_count": 70,
   "metadata": {},
   "outputs": [],
   "source": [
    "X = train.drop('Loan_Status',axis=1).values\n",
    "y = train['Loan_Status'].values"
   ]
  },
  {
   "cell_type": "code",
   "execution_count": 71,
   "metadata": {},
   "outputs": [],
   "source": [
    "# Splitting the dataset into the Training set and Test set\n",
    "from sklearn.model_selection import train_test_split\n",
    "X_train, X_test, y_train, y_test = train_test_split(X, y, test_size=0.2, random_state=10)"
   ]
  },
  {
   "cell_type": "code",
   "execution_count": 72,
   "metadata": {},
   "outputs": [],
   "source": [
    "#Scaling features\n",
    "from sklearn.preprocessing import StandardScaler\n",
    "scaler = StandardScaler()\n",
    "X_train = scaler.fit_transform(X_train)\n",
    "X_test = scaler.transform(X_test)"
   ]
  },
  {
   "cell_type": "markdown",
   "metadata": {},
   "source": [
    "### Models for predictions\n",
    "\n",
    "1. Logistic Regression\n",
    "\n",
    "2. Support Vector Machines Classifier\n",
    "\n",
    "3. Random Forest Classifiers\n",
    "\n",
    "4. Neural Networks (Simple Artificial Neural Network)\n"
   ]
  },
  {
   "cell_type": "code",
   "execution_count": 73,
   "metadata": {},
   "outputs": [],
   "source": [
    "from sklearn.metrics import classification_report,confusion_matrix"
   ]
  },
  {
   "cell_type": "code",
   "execution_count": 74,
   "metadata": {},
   "outputs": [],
   "source": [
    "from sklearn.model_selection import GridSearchCV\n",
    "from sklearn.metrics import accuracy_score"
   ]
  },
  {
   "cell_type": "markdown",
   "metadata": {},
   "source": [
    "### Logistic Regression \n",
    "\n",
    "Default parameters (Prediction accuracy  82 %)\n",
    "\n",
    "Adjusted Parameters (Prediction accuracy 82%)"
   ]
  },
  {
   "cell_type": "markdown",
   "metadata": {},
   "source": [
    "**Default parameters**"
   ]
  },
  {
   "cell_type": "code",
   "execution_count": 75,
   "metadata": {},
   "outputs": [
    {
     "data": {
      "text/plain": [
       "LogisticRegression(C=1.0, class_weight=None, dual=False, fit_intercept=True,\n",
       "                   intercept_scaling=1, l1_ratio=None, max_iter=100,\n",
       "                   multi_class='auto', n_jobs=None, penalty='l2',\n",
       "                   random_state=None, solver='lbfgs', tol=0.0001, verbose=0,\n",
       "                   warm_start=False)"
      ]
     },
     "execution_count": 75,
     "metadata": {},
     "output_type": "execute_result"
    }
   ],
   "source": [
    "from sklearn.linear_model import LogisticRegression\n",
    "model_LR = LogisticRegression()\n",
    "model_LR.fit(X_train,y_train)"
   ]
  },
  {
   "cell_type": "code",
   "execution_count": 76,
   "metadata": {},
   "outputs": [
    {
     "name": "stdout",
     "output_type": "stream",
     "text": [
      "              precision    recall  f1-score   support\n",
      "\n",
      "           0       0.94      0.42      0.58        36\n",
      "           1       0.80      0.99      0.89        87\n",
      "\n",
      "    accuracy                           0.82       123\n",
      "   macro avg       0.87      0.70      0.73       123\n",
      "weighted avg       0.84      0.82      0.80       123\n",
      "\n",
      "\n",
      "\n",
      "[[15 21]\n",
      " [ 1 86]]\n"
     ]
    }
   ],
   "source": [
    "predictions = model_LR.predict(X_test)\n",
    "print(classification_report(y_test,predictions))\n",
    "print('\\n')\n",
    "print(confusion_matrix(y_test,predictions))"
   ]
  },
  {
   "cell_type": "code",
   "execution_count": 77,
   "metadata": {},
   "outputs": [
    {
     "name": "stdout",
     "output_type": "stream",
     "text": [
      "0.8211382113821138\n"
     ]
    }
   ],
   "source": [
    "print(accuracy_score(y_test,predictions))"
   ]
  },
  {
   "cell_type": "markdown",
   "metadata": {},
   "source": [
    "**Tuned hyper-parameters**"
   ]
  },
  {
   "cell_type": "code",
   "execution_count": 78,
   "metadata": {},
   "outputs": [
    {
     "data": {
      "text/plain": [
       "GridSearchCV(cv=10, error_score=nan,\n",
       "             estimator=LogisticRegression(C=1.0, class_weight=None, dual=False,\n",
       "                                          fit_intercept=True,\n",
       "                                          intercept_scaling=1, l1_ratio=None,\n",
       "                                          max_iter=100, multi_class='auto',\n",
       "                                          n_jobs=None, penalty='l2',\n",
       "                                          random_state=None, solver='lbfgs',\n",
       "                                          tol=0.0001, verbose=0,\n",
       "                                          warm_start=False),\n",
       "             iid='deprecated', n_jobs=-1,\n",
       "             param_grid={'C': [0.001, 0.01, 0.1, 1, 10, 100, 1000],\n",
       "                         'penalty': ['l1', 'l2']},\n",
       "             pre_dispatch='2*n_jobs', refit=True, return_train_score=False,\n",
       "             scoring='accuracy', verbose=0)"
      ]
     },
     "execution_count": 78,
     "metadata": {},
     "output_type": "execute_result"
    }
   ],
   "source": [
    "from sklearn.linear_model import LogisticRegression\n",
    "from sklearn.model_selection import cross_val_score\n",
    "\n",
    "\n",
    "LR_model2 = LogisticRegression()\n",
    "tuned_parameters = {'C': [0.001, 0.01, 0.1, 1, 10, 100, 1000] ,\n",
    "              'penalty':['l1','l2']\n",
    "                   }\n",
    "\n",
    "LR = GridSearchCV(estimator=LR_model2,\n",
    "                  param_grid=tuned_parameters,\n",
    "                  cv=10,\n",
    "                 scoring='accuracy',n_jobs=-1)\n",
    "\n",
    "LR.fit(X_train,y_train)"
   ]
  },
  {
   "cell_type": "code",
   "execution_count": 79,
   "metadata": {},
   "outputs": [
    {
     "name": "stdout",
     "output_type": "stream",
     "text": [
      "{'C': 0.1, 'penalty': 'l2'}\n"
     ]
    }
   ],
   "source": [
    "print(LR.best_params_)"
   ]
  },
  {
   "cell_type": "code",
   "execution_count": 80,
   "metadata": {},
   "outputs": [
    {
     "name": "stdout",
     "output_type": "stream",
     "text": [
      "              precision    recall  f1-score   support\n",
      "\n",
      "           0       0.94      0.42      0.58        36\n",
      "           1       0.80      0.99      0.89        87\n",
      "\n",
      "    accuracy                           0.82       123\n",
      "   macro avg       0.87      0.70      0.73       123\n",
      "weighted avg       0.84      0.82      0.80       123\n",
      "\n",
      "\n",
      "\n",
      "[[15 21]\n",
      " [ 1 86]]\n"
     ]
    }
   ],
   "source": [
    "predictions = LR.predict(X_test)\n",
    "print(classification_report(y_test,predictions))\n",
    "print('\\n')\n",
    "print(confusion_matrix(y_test,predictions))"
   ]
  },
  {
   "cell_type": "code",
   "execution_count": 81,
   "metadata": {},
   "outputs": [
    {
     "name": "stdout",
     "output_type": "stream",
     "text": [
      "0.8211382113821138\n"
     ]
    }
   ],
   "source": [
    "print(accuracy_score(y_test,predictions))"
   ]
  },
  {
   "cell_type": "markdown",
   "metadata": {},
   "source": [
    "### Support vector machine classifier \n",
    "\n",
    "Default parameters (Prediction accuracy  82 %)\n",
    "\n",
    "Adjusted Parameters (Prediction accuracy 82%)"
   ]
  },
  {
   "cell_type": "markdown",
   "metadata": {},
   "source": [
    "**Default parameters**"
   ]
  },
  {
   "cell_type": "code",
   "execution_count": 82,
   "metadata": {},
   "outputs": [
    {
     "data": {
      "text/plain": [
       "SVC(C=1.0, break_ties=False, cache_size=200, class_weight=None, coef0=0.0,\n",
       "    decision_function_shape='ovr', degree=3, gamma='scale', kernel='rbf',\n",
       "    max_iter=-1, probability=False, random_state=None, shrinking=True,\n",
       "    tol=0.001, verbose=False)"
      ]
     },
     "execution_count": 82,
     "metadata": {},
     "output_type": "execute_result"
    }
   ],
   "source": [
    "from sklearn.svm import SVC\n",
    "model_svc = SVC()\n",
    "model_svc.fit(X_train,y_train)"
   ]
  },
  {
   "cell_type": "code",
   "execution_count": 83,
   "metadata": {},
   "outputs": [
    {
     "name": "stdout",
     "output_type": "stream",
     "text": [
      "              precision    recall  f1-score   support\n",
      "\n",
      "           0       0.94      0.42      0.58        36\n",
      "           1       0.80      0.99      0.89        87\n",
      "\n",
      "    accuracy                           0.82       123\n",
      "   macro avg       0.87      0.70      0.73       123\n",
      "weighted avg       0.84      0.82      0.80       123\n",
      "\n",
      "\n",
      "\n",
      "[[15 21]\n",
      " [ 1 86]]\n"
     ]
    }
   ],
   "source": [
    "predictions = model_svc.predict(X_test)\n",
    "print(classification_report(y_test,predictions))\n",
    "print('\\n')\n",
    "print(confusion_matrix(y_test,predictions))"
   ]
  },
  {
   "cell_type": "code",
   "execution_count": 84,
   "metadata": {},
   "outputs": [
    {
     "name": "stdout",
     "output_type": "stream",
     "text": [
      "0.8211382113821138\n"
     ]
    }
   ],
   "source": [
    "print(accuracy_score(y_test,predictions))"
   ]
  },
  {
   "cell_type": "markdown",
   "metadata": {},
   "source": [
    "**Parameter Tuuning**"
   ]
  },
  {
   "cell_type": "code",
   "execution_count": 85,
   "metadata": {},
   "outputs": [
    {
     "data": {
      "text/plain": [
       "GridSearchCV(cv=10, error_score=nan,\n",
       "             estimator=SVC(C=1.0, break_ties=False, cache_size=200,\n",
       "                           class_weight=None, coef0=0.0,\n",
       "                           decision_function_shape='ovr', degree=3,\n",
       "                           gamma='scale', kernel='rbf', max_iter=-1,\n",
       "                           probability=False, random_state=None, shrinking=True,\n",
       "                           tol=0.001, verbose=False),\n",
       "             iid='deprecated', n_jobs=-1,\n",
       "             param_grid=[{'C': [1, 10, 100, 1000], 'kernel': ['linear']},\n",
       "                         {'C': [1, 10, 100, 1000],\n",
       "                          'gamma': [0.1, 0.2, 0.3, 0.4, 0.5, 0.6, 0.7, 0.8,\n",
       "                                    0.9],\n",
       "                          'kernel': ['rbf']}],\n",
       "             pre_dispatch='2*n_jobs', refit=True, return_train_score=False,\n",
       "             scoring='accuracy', verbose=0)"
      ]
     },
     "execution_count": 85,
     "metadata": {},
     "output_type": "execute_result"
    }
   ],
   "source": [
    "# Applying Grid Search to find the best model and the best parameters\n",
    "model_svc2 = SVC()\n",
    "parameters = [{'C': [1, 10, 100, 1000], 'kernel': ['linear']},\n",
    "              {'C': [1, 10, 100, 1000], 'kernel': ['rbf'], 'gamma': [0.1, 0.2, 0.3, 0.4, 0.5, 0.6, 0.7, 0.8, 0.9]}]\n",
    "svm = GridSearchCV(estimator = model_svc2,\n",
    "                           param_grid = parameters,\n",
    "                           scoring = 'accuracy',\n",
    "                           cv = 10,\n",
    "                           n_jobs = -1)\n",
    "svm.fit(X_train, y_train)"
   ]
  },
  {
   "cell_type": "code",
   "execution_count": 86,
   "metadata": {},
   "outputs": [
    {
     "name": "stdout",
     "output_type": "stream",
     "text": [
      "{'C': 1, 'kernel': 'linear'}\n"
     ]
    }
   ],
   "source": [
    "print(svm.best_params_)"
   ]
  },
  {
   "cell_type": "code",
   "execution_count": 87,
   "metadata": {},
   "outputs": [
    {
     "name": "stdout",
     "output_type": "stream",
     "text": [
      "              precision    recall  f1-score   support\n",
      "\n",
      "           0       0.94      0.42      0.58        36\n",
      "           1       0.80      0.99      0.89        87\n",
      "\n",
      "    accuracy                           0.82       123\n",
      "   macro avg       0.87      0.70      0.73       123\n",
      "weighted avg       0.84      0.82      0.80       123\n",
      "\n",
      "\n",
      "\n",
      "[[15 21]\n",
      " [ 1 86]]\n"
     ]
    }
   ],
   "source": [
    "predictions = svm.predict(X_test)\n",
    "print(classification_report(y_test,predictions))\n",
    "print('\\n')\n",
    "print(confusion_matrix(y_test,predictions))"
   ]
  },
  {
   "cell_type": "code",
   "execution_count": 88,
   "metadata": {},
   "outputs": [
    {
     "name": "stdout",
     "output_type": "stream",
     "text": [
      "0.8211382113821138\n"
     ]
    }
   ],
   "source": [
    "print(accuracy_score(y_test,predictions))"
   ]
  },
  {
   "cell_type": "markdown",
   "metadata": {},
   "source": [
    "### Random Forest Classifier\n",
    "\n",
    "Default parameters (Prediction accuracy  82 %)\n",
    "\n",
    "Adjusted Parameters (Prediction accuracy 80%)"
   ]
  },
  {
   "cell_type": "markdown",
   "metadata": {},
   "source": [
    "**Default Parameters**"
   ]
  },
  {
   "cell_type": "code",
   "execution_count": 89,
   "metadata": {},
   "outputs": [
    {
     "data": {
      "text/plain": [
       "RandomForestClassifier(bootstrap=True, ccp_alpha=0.0, class_weight=None,\n",
       "                       criterion='gini', max_depth=None, max_features='auto',\n",
       "                       max_leaf_nodes=None, max_samples=None,\n",
       "                       min_impurity_decrease=0.0, min_impurity_split=None,\n",
       "                       min_samples_leaf=1, min_samples_split=2,\n",
       "                       min_weight_fraction_leaf=0.0, n_estimators=100,\n",
       "                       n_jobs=None, oob_score=False, random_state=None,\n",
       "                       verbose=0, warm_start=False)"
      ]
     },
     "execution_count": 89,
     "metadata": {},
     "output_type": "execute_result"
    }
   ],
   "source": [
    "from sklearn.ensemble import RandomForestClassifier\n",
    "model_RR = RandomForestClassifier()\n",
    "model_RR.fit(X_train,y_train)"
   ]
  },
  {
   "cell_type": "code",
   "execution_count": 90,
   "metadata": {},
   "outputs": [
    {
     "name": "stdout",
     "output_type": "stream",
     "text": [
      "              precision    recall  f1-score   support\n",
      "\n",
      "           0       0.85      0.47      0.61        36\n",
      "           1       0.82      0.97      0.88        87\n",
      "\n",
      "    accuracy                           0.82       123\n",
      "   macro avg       0.83      0.72      0.75       123\n",
      "weighted avg       0.83      0.82      0.80       123\n",
      "\n",
      "\n",
      "\n",
      "[[17 19]\n",
      " [ 3 84]]\n"
     ]
    }
   ],
   "source": [
    "predictions = model_RR.predict(X_test)\n",
    "print(classification_report(y_test,predictions))\n",
    "print('\\n')\n",
    "print(confusion_matrix(y_test,predictions))"
   ]
  },
  {
   "cell_type": "code",
   "execution_count": 91,
   "metadata": {},
   "outputs": [
    {
     "name": "stdout",
     "output_type": "stream",
     "text": [
      "0.8211382113821138\n"
     ]
    }
   ],
   "source": [
    "print(accuracy_score(y_test,predictions))"
   ]
  },
  {
   "cell_type": "markdown",
   "metadata": {},
   "source": [
    "**Tuned hyperparameters**"
   ]
  },
  {
   "cell_type": "code",
   "execution_count": 92,
   "metadata": {},
   "outputs": [
    {
     "data": {
      "text/plain": [
       "GridSearchCV(cv=10, error_score=nan,\n",
       "             estimator=RandomForestClassifier(bootstrap=True, ccp_alpha=0.0,\n",
       "                                              class_weight=None,\n",
       "                                              criterion='gini', max_depth=None,\n",
       "                                              max_features='auto',\n",
       "                                              max_leaf_nodes=None,\n",
       "                                              max_samples=None,\n",
       "                                              min_impurity_decrease=0.0,\n",
       "                                              min_impurity_split=None,\n",
       "                                              min_samples_leaf=1,\n",
       "                                              min_samples_split=2,\n",
       "                                              min_weight_fraction_leaf=0.0,\n",
       "                                              n_estimators=100, n_jobs=None,\n",
       "                                              oob_score=False,\n",
       "                                              random_state=None, verbose=0,\n",
       "                                              warm_start=False),\n",
       "             iid='deprecated', n_jobs=-1,\n",
       "             param_grid={'max_features': ['auto', 'sqrt', 'log2'],\n",
       "                         'min_samples_leaf': range(10, 100, 10),\n",
       "                         'n_estimators': range(10, 100, 10)},\n",
       "             pre_dispatch='2*n_jobs', refit=True, return_train_score=False,\n",
       "             scoring='accuracy', verbose=0)"
      ]
     },
     "execution_count": 92,
     "metadata": {},
     "output_type": "execute_result"
    }
   ],
   "source": [
    "model_RR2 = RandomForestClassifier()\n",
    "\n",
    "tuned_parameters = {'min_samples_leaf': range(10,100,10), 'n_estimators' : range(10,100,10),\n",
    "                    'max_features':['auto','sqrt','log2']\n",
    "                    }\n",
    "\n",
    "rr = GridSearchCV(estimator = model_RR2,\n",
    "                           param_grid = tuned_parameters,\n",
    "                           scoring = 'accuracy',\n",
    "                           cv = 10,\n",
    "                           n_jobs = -1)\n",
    "\n",
    "rr.fit(X_train,y_train)"
   ]
  },
  {
   "cell_type": "code",
   "execution_count": 93,
   "metadata": {},
   "outputs": [
    {
     "data": {
      "text/plain": [
       "{'max_features': 'sqrt', 'min_samples_leaf': 20, 'n_estimators': 40}"
      ]
     },
     "execution_count": 93,
     "metadata": {},
     "output_type": "execute_result"
    }
   ],
   "source": [
    "rr.best_params_"
   ]
  },
  {
   "cell_type": "code",
   "execution_count": 94,
   "metadata": {},
   "outputs": [
    {
     "name": "stdout",
     "output_type": "stream",
     "text": [
      "              precision    recall  f1-score   support\n",
      "\n",
      "           0       0.83      0.42      0.56        36\n",
      "           1       0.80      0.97      0.88        87\n",
      "\n",
      "    accuracy                           0.80       123\n",
      "   macro avg       0.82      0.69      0.72       123\n",
      "weighted avg       0.81      0.80      0.78       123\n",
      "\n",
      "\n",
      "\n",
      "[[15 21]\n",
      " [ 3 84]]\n"
     ]
    }
   ],
   "source": [
    "predictions = rr.predict(X_test)\n",
    "print(classification_report(y_test,predictions))\n",
    "print('\\n')\n",
    "print(confusion_matrix(y_test,predictions))"
   ]
  },
  {
   "cell_type": "code",
   "execution_count": 95,
   "metadata": {},
   "outputs": [
    {
     "name": "stdout",
     "output_type": "stream",
     "text": [
      "0.8048780487804879\n"
     ]
    }
   ],
   "source": [
    "print(accuracy_score(y_test,predictions))"
   ]
  },
  {
   "cell_type": "markdown",
   "metadata": {},
   "source": [
    "### Artificial Neural Networks\n",
    "\n",
    "Prediction accuracy  82 %"
   ]
  },
  {
   "cell_type": "code",
   "execution_count": 96,
   "metadata": {},
   "outputs": [],
   "source": [
    "X = train.drop('Loan_Status', axis = 1).values\n",
    "y = train['Loan_Status'].values"
   ]
  },
  {
   "cell_type": "code",
   "execution_count": 97,
   "metadata": {},
   "outputs": [],
   "source": [
    "# Splitting the dataset into the Training set and Test set\n",
    "from sklearn.model_selection import train_test_split\n",
    "X_train, X_test, y_train, y_test = train_test_split(X, y, test_size=0.3, random_state=10)"
   ]
  },
  {
   "cell_type": "code",
   "execution_count": 98,
   "metadata": {},
   "outputs": [],
   "source": [
    "from sklearn.preprocessing import MinMaxScaler\n",
    "scaler = MinMaxScaler()\n",
    "X_train = scaler.fit_transform(X_train)\n",
    "X_test = scaler.transform(X_test)"
   ]
  },
  {
   "cell_type": "code",
   "execution_count": 99,
   "metadata": {},
   "outputs": [
    {
     "data": {
      "text/plain": [
       "(429, 16)"
      ]
     },
     "execution_count": 99,
     "metadata": {},
     "output_type": "execute_result"
    }
   ],
   "source": [
    "X_train.shape"
   ]
  },
  {
   "cell_type": "code",
   "execution_count": 100,
   "metadata": {},
   "outputs": [
    {
     "data": {
      "text/plain": [
       "(429,)"
      ]
     },
     "execution_count": 100,
     "metadata": {},
     "output_type": "execute_result"
    }
   ],
   "source": [
    "y_train.shape"
   ]
  },
  {
   "cell_type": "code",
   "execution_count": 101,
   "metadata": {},
   "outputs": [],
   "source": [
    "#Importing libraries for neural network\n",
    "import tensorflow as tf\n",
    "from tensorflow.keras.models import Sequential\n",
    "from tensorflow.keras.layers import Dense, Activation,Dropout\n",
    "from tensorflow.keras.constraints import max_norm"
   ]
  },
  {
   "cell_type": "code",
   "execution_count": 102,
   "metadata": {},
   "outputs": [],
   "source": [
    "#Creating a neural network\n",
    "model = Sequential()\n",
    "\n",
    "# input layer\n",
    "model.add(Dense(16, activation='relu'))\n",
    "model.add(Dropout(0.2))\n",
    "\n",
    "# hidden layer\n",
    "model.add(Dense(8, activation='relu'))\n",
    "model.add(Dropout(0.2))\n",
    "\n",
    "# hidden layer\n",
    "model.add(Dense(4, activation='relu'))\n",
    "model.add(Dropout(0.2))\n",
    "\n",
    "# output layer\n",
    "model.add(Dense(units=1,activation='sigmoid'))\n",
    "\n",
    "# Compile model\n",
    "model.compile(loss='binary_crossentropy', optimizer='adam',metrics=['accuracy'])"
   ]
  },
  {
   "cell_type": "code",
   "execution_count": 103,
   "metadata": {},
   "outputs": [],
   "source": [
    "from tensorflow.keras.callbacks import EarlyStopping\n",
    "\n",
    "early_stop = EarlyStopping(monitor='val_loss', mode='min', verbose=1, patience=25)"
   ]
  },
  {
   "cell_type": "code",
   "execution_count": 104,
   "metadata": {},
   "outputs": [
    {
     "name": "stdout",
     "output_type": "stream",
     "text": [
      "Train on 429 samples, validate on 185 samples\n",
      "Epoch 1/600\n",
      "429/429 [==============================] - 1s 1ms/sample - loss: 0.6925 - accuracy: 0.6247 - val_loss: 0.6883 - val_accuracy: 0.7243\n",
      "Epoch 2/600\n",
      "429/429 [==============================] - 0s 55us/sample - loss: 0.6852 - accuracy: 0.6620 - val_loss: 0.6820 - val_accuracy: 0.7405\n",
      "Epoch 3/600\n",
      "429/429 [==============================] - 0s 51us/sample - loss: 0.6775 - accuracy: 0.6760 - val_loss: 0.6688 - val_accuracy: 0.7351\n",
      "Epoch 4/600\n",
      "429/429 [==============================] - 0s 51us/sample - loss: 0.6670 - accuracy: 0.7016 - val_loss: 0.6522 - val_accuracy: 0.7189\n",
      "Epoch 5/600\n",
      "429/429 [==============================] - 0s 50us/sample - loss: 0.6567 - accuracy: 0.6946 - val_loss: 0.6374 - val_accuracy: 0.7189\n",
      "Epoch 6/600\n",
      "429/429 [==============================] - 0s 51us/sample - loss: 0.6397 - accuracy: 0.6760 - val_loss: 0.6245 - val_accuracy: 0.7189\n",
      "Epoch 7/600\n",
      "429/429 [==============================] - 0s 50us/sample - loss: 0.6310 - accuracy: 0.6760 - val_loss: 0.6122 - val_accuracy: 0.7189\n",
      "Epoch 8/600\n",
      "429/429 [==============================] - 0s 51us/sample - loss: 0.6324 - accuracy: 0.6737 - val_loss: 0.6036 - val_accuracy: 0.7189\n",
      "Epoch 9/600\n",
      "429/429 [==============================] - 0s 50us/sample - loss: 0.6209 - accuracy: 0.6713 - val_loss: 0.5954 - val_accuracy: 0.7189\n",
      "Epoch 10/600\n",
      "429/429 [==============================] - 0s 50us/sample - loss: 0.6239 - accuracy: 0.6830 - val_loss: 0.5888 - val_accuracy: 0.7189\n",
      "Epoch 11/600\n",
      "429/429 [==============================] - 0s 50us/sample - loss: 0.6170 - accuracy: 0.6783 - val_loss: 0.5836 - val_accuracy: 0.7189\n",
      "Epoch 12/600\n",
      "429/429 [==============================] - 0s 50us/sample - loss: 0.6151 - accuracy: 0.6807 - val_loss: 0.5792 - val_accuracy: 0.7189\n",
      "Epoch 13/600\n",
      "429/429 [==============================] - 0s 50us/sample - loss: 0.6016 - accuracy: 0.6970 - val_loss: 0.5742 - val_accuracy: 0.7189\n",
      "Epoch 14/600\n",
      "429/429 [==============================] - 0s 51us/sample - loss: 0.6048 - accuracy: 0.6923 - val_loss: 0.5688 - val_accuracy: 0.7135\n",
      "Epoch 15/600\n",
      "429/429 [==============================] - 0s 50us/sample - loss: 0.5881 - accuracy: 0.7110 - val_loss: 0.5673 - val_accuracy: 0.7243\n",
      "Epoch 16/600\n",
      "429/429 [==============================] - 0s 49us/sample - loss: 0.5963 - accuracy: 0.7110 - val_loss: 0.5605 - val_accuracy: 0.7243\n",
      "Epoch 17/600\n",
      "429/429 [==============================] - 0s 50us/sample - loss: 0.5763 - accuracy: 0.7226 - val_loss: 0.5528 - val_accuracy: 0.7243\n",
      "Epoch 18/600\n",
      "429/429 [==============================] - 0s 49us/sample - loss: 0.5751 - accuracy: 0.7226 - val_loss: 0.5460 - val_accuracy: 0.7676\n",
      "Epoch 19/600\n",
      "429/429 [==============================] - 0s 50us/sample - loss: 0.5489 - accuracy: 0.7413 - val_loss: 0.5373 - val_accuracy: 0.7838\n",
      "Epoch 20/600\n",
      "429/429 [==============================] - 0s 50us/sample - loss: 0.5724 - accuracy: 0.7576 - val_loss: 0.5316 - val_accuracy: 0.8000\n",
      "Epoch 21/600\n",
      "429/429 [==============================] - 0s 50us/sample - loss: 0.5630 - accuracy: 0.7459 - val_loss: 0.5263 - val_accuracy: 0.8108\n",
      "Epoch 22/600\n",
      "429/429 [==============================] - 0s 49us/sample - loss: 0.5363 - accuracy: 0.7483 - val_loss: 0.5184 - val_accuracy: 0.8108\n",
      "Epoch 23/600\n",
      "429/429 [==============================] - 0s 49us/sample - loss: 0.5198 - accuracy: 0.7762 - val_loss: 0.5097 - val_accuracy: 0.8108\n",
      "Epoch 24/600\n",
      "429/429 [==============================] - 0s 51us/sample - loss: 0.5536 - accuracy: 0.7529 - val_loss: 0.5041 - val_accuracy: 0.8216\n",
      "Epoch 25/600\n",
      "429/429 [==============================] - 0s 49us/sample - loss: 0.5424 - accuracy: 0.7529 - val_loss: 0.5021 - val_accuracy: 0.8216\n",
      "Epoch 26/600\n",
      "429/429 [==============================] - 0s 50us/sample - loss: 0.5215 - accuracy: 0.7832 - val_loss: 0.4997 - val_accuracy: 0.8216\n",
      "Epoch 27/600\n",
      "429/429 [==============================] - 0s 48us/sample - loss: 0.5117 - accuracy: 0.7739 - val_loss: 0.4946 - val_accuracy: 0.8216\n",
      "Epoch 28/600\n",
      "429/429 [==============================] - 0s 50us/sample - loss: 0.5050 - accuracy: 0.7832 - val_loss: 0.4904 - val_accuracy: 0.8216\n",
      "Epoch 29/600\n",
      "429/429 [==============================] - 0s 49us/sample - loss: 0.5379 - accuracy: 0.7669 - val_loss: 0.4892 - val_accuracy: 0.8216\n",
      "Epoch 30/600\n",
      "429/429 [==============================] - 0s 50us/sample - loss: 0.5251 - accuracy: 0.7786 - val_loss: 0.4872 - val_accuracy: 0.8216\n",
      "Epoch 31/600\n",
      "429/429 [==============================] - 0s 50us/sample - loss: 0.4898 - accuracy: 0.7995 - val_loss: 0.4847 - val_accuracy: 0.8216\n",
      "Epoch 32/600\n",
      "429/429 [==============================] - 0s 49us/sample - loss: 0.5081 - accuracy: 0.7832 - val_loss: 0.4817 - val_accuracy: 0.8216\n",
      "Epoch 33/600\n",
      "429/429 [==============================] - 0s 51us/sample - loss: 0.4970 - accuracy: 0.7949 - val_loss: 0.4807 - val_accuracy: 0.8216\n",
      "Epoch 34/600\n",
      "429/429 [==============================] - 0s 48us/sample - loss: 0.5293 - accuracy: 0.7413 - val_loss: 0.4807 - val_accuracy: 0.8216\n",
      "Epoch 35/600\n",
      "429/429 [==============================] - 0s 51us/sample - loss: 0.4918 - accuracy: 0.7925 - val_loss: 0.4781 - val_accuracy: 0.8216\n",
      "Epoch 36/600\n",
      "429/429 [==============================] - 0s 49us/sample - loss: 0.4940 - accuracy: 0.7949 - val_loss: 0.4771 - val_accuracy: 0.8216\n",
      "Epoch 37/600\n",
      "429/429 [==============================] - 0s 50us/sample - loss: 0.5304 - accuracy: 0.7762 - val_loss: 0.4782 - val_accuracy: 0.8216\n",
      "Epoch 38/600\n",
      "429/429 [==============================] - 0s 50us/sample - loss: 0.4908 - accuracy: 0.7832 - val_loss: 0.4776 - val_accuracy: 0.8216\n",
      "Epoch 39/600\n",
      "429/429 [==============================] - 0s 50us/sample - loss: 0.4828 - accuracy: 0.7879 - val_loss: 0.4755 - val_accuracy: 0.8216\n",
      "Epoch 40/600\n",
      "429/429 [==============================] - 0s 50us/sample - loss: 0.5070 - accuracy: 0.7809 - val_loss: 0.4752 - val_accuracy: 0.8216\n",
      "Epoch 41/600\n",
      "429/429 [==============================] - 0s 49us/sample - loss: 0.4771 - accuracy: 0.7995 - val_loss: 0.4733 - val_accuracy: 0.8216\n",
      "Epoch 42/600\n",
      "429/429 [==============================] - 0s 50us/sample - loss: 0.4992 - accuracy: 0.7949 - val_loss: 0.4729 - val_accuracy: 0.8216\n",
      "Epoch 43/600\n",
      "429/429 [==============================] - 0s 49us/sample - loss: 0.4786 - accuracy: 0.7809 - val_loss: 0.4719 - val_accuracy: 0.8216\n",
      "Epoch 44/600\n",
      "429/429 [==============================] - 0s 51us/sample - loss: 0.5009 - accuracy: 0.7949 - val_loss: 0.4724 - val_accuracy: 0.8216\n",
      "Epoch 45/600\n",
      "429/429 [==============================] - 0s 353us/sample - loss: 0.4818 - accuracy: 0.8159 - val_loss: 0.4721 - val_accuracy: 0.8216\n",
      "Epoch 46/600\n",
      "429/429 [==============================] - 0s 67us/sample - loss: 0.4839 - accuracy: 0.7855 - val_loss: 0.4716 - val_accuracy: 0.8216\n",
      "Epoch 47/600\n",
      "429/429 [==============================] - 0s 55us/sample - loss: 0.4917 - accuracy: 0.7972 - val_loss: 0.4717 - val_accuracy: 0.8216\n",
      "Epoch 48/600\n",
      "429/429 [==============================] - 0s 48us/sample - loss: 0.4805 - accuracy: 0.8112 - val_loss: 0.4696 - val_accuracy: 0.8216\n",
      "Epoch 49/600\n",
      "429/429 [==============================] - 0s 49us/sample - loss: 0.5032 - accuracy: 0.7925 - val_loss: 0.4681 - val_accuracy: 0.8216\n",
      "Epoch 50/600\n",
      "429/429 [==============================] - 0s 49us/sample - loss: 0.4914 - accuracy: 0.7972 - val_loss: 0.4678 - val_accuracy: 0.8216\n",
      "Epoch 51/600\n",
      "429/429 [==============================] - 0s 49us/sample - loss: 0.4639 - accuracy: 0.8135 - val_loss: 0.4669 - val_accuracy: 0.8216\n",
      "Epoch 52/600\n",
      "429/429 [==============================] - 0s 49us/sample - loss: 0.4549 - accuracy: 0.8182 - val_loss: 0.4665 - val_accuracy: 0.8216\n",
      "Epoch 53/600\n",
      "429/429 [==============================] - 0s 49us/sample - loss: 0.4487 - accuracy: 0.8228 - val_loss: 0.4653 - val_accuracy: 0.8216\n",
      "Epoch 54/600\n",
      "429/429 [==============================] - 0s 50us/sample - loss: 0.4570 - accuracy: 0.8159 - val_loss: 0.4644 - val_accuracy: 0.8270\n",
      "Epoch 55/600\n",
      "429/429 [==============================] - 0s 48us/sample - loss: 0.4674 - accuracy: 0.8159 - val_loss: 0.4638 - val_accuracy: 0.8270\n",
      "Epoch 56/600\n"
     ]
    },
    {
     "name": "stdout",
     "output_type": "stream",
     "text": [
      "429/429 [==============================] - 0s 50us/sample - loss: 0.4520 - accuracy: 0.8252 - val_loss: 0.4626 - val_accuracy: 0.8270\n",
      "Epoch 57/600\n",
      "429/429 [==============================] - 0s 49us/sample - loss: 0.4625 - accuracy: 0.8135 - val_loss: 0.4610 - val_accuracy: 0.8270\n",
      "Epoch 58/600\n",
      "429/429 [==============================] - 0s 49us/sample - loss: 0.4553 - accuracy: 0.8159 - val_loss: 0.4616 - val_accuracy: 0.8270\n",
      "Epoch 59/600\n",
      "429/429 [==============================] - 0s 49us/sample - loss: 0.4310 - accuracy: 0.8275 - val_loss: 0.4604 - val_accuracy: 0.8216\n",
      "Epoch 60/600\n",
      "429/429 [==============================] - 0s 49us/sample - loss: 0.4660 - accuracy: 0.8205 - val_loss: 0.4604 - val_accuracy: 0.8216\n",
      "Epoch 61/600\n",
      "429/429 [==============================] - 0s 50us/sample - loss: 0.4486 - accuracy: 0.8275 - val_loss: 0.4606 - val_accuracy: 0.8216\n",
      "Epoch 62/600\n",
      "429/429 [==============================] - 0s 48us/sample - loss: 0.4489 - accuracy: 0.8322 - val_loss: 0.4600 - val_accuracy: 0.8270\n",
      "Epoch 63/600\n",
      "429/429 [==============================] - 0s 49us/sample - loss: 0.4427 - accuracy: 0.8275 - val_loss: 0.4611 - val_accuracy: 0.8270\n",
      "Epoch 64/600\n",
      "429/429 [==============================] - 0s 48us/sample - loss: 0.4650 - accuracy: 0.8182 - val_loss: 0.4627 - val_accuracy: 0.8270\n",
      "Epoch 65/600\n",
      "429/429 [==============================] - 0s 50us/sample - loss: 0.4440 - accuracy: 0.8159 - val_loss: 0.4631 - val_accuracy: 0.8216\n",
      "Epoch 66/600\n",
      "429/429 [==============================] - 0s 49us/sample - loss: 0.4547 - accuracy: 0.8228 - val_loss: 0.4612 - val_accuracy: 0.8270\n",
      "Epoch 67/600\n",
      "429/429 [==============================] - 0s 50us/sample - loss: 0.4635 - accuracy: 0.8135 - val_loss: 0.4609 - val_accuracy: 0.8216\n",
      "Epoch 68/600\n",
      "429/429 [==============================] - 0s 49us/sample - loss: 0.4340 - accuracy: 0.8252 - val_loss: 0.4611 - val_accuracy: 0.8270\n",
      "Epoch 69/600\n",
      "429/429 [==============================] - 0s 48us/sample - loss: 0.4631 - accuracy: 0.8159 - val_loss: 0.4616 - val_accuracy: 0.8270\n",
      "Epoch 70/600\n",
      "429/429 [==============================] - 0s 50us/sample - loss: 0.4495 - accuracy: 0.8252 - val_loss: 0.4623 - val_accuracy: 0.8270\n",
      "Epoch 71/600\n",
      "429/429 [==============================] - 0s 48us/sample - loss: 0.4650 - accuracy: 0.8112 - val_loss: 0.4624 - val_accuracy: 0.8270\n",
      "Epoch 72/600\n",
      "429/429 [==============================] - 0s 49us/sample - loss: 0.4361 - accuracy: 0.8159 - val_loss: 0.4625 - val_accuracy: 0.8270\n",
      "Epoch 73/600\n",
      "429/429 [==============================] - 0s 49us/sample - loss: 0.4325 - accuracy: 0.8228 - val_loss: 0.4619 - val_accuracy: 0.8270\n",
      "Epoch 74/600\n",
      "429/429 [==============================] - 0s 49us/sample - loss: 0.4497 - accuracy: 0.8228 - val_loss: 0.4623 - val_accuracy: 0.8216\n",
      "Epoch 75/600\n",
      "429/429 [==============================] - 0s 50us/sample - loss: 0.4609 - accuracy: 0.8205 - val_loss: 0.4625 - val_accuracy: 0.8216\n",
      "Epoch 76/600\n",
      "429/429 [==============================] - 0s 48us/sample - loss: 0.4486 - accuracy: 0.8252 - val_loss: 0.4625 - val_accuracy: 0.8270\n",
      "Epoch 77/600\n",
      "429/429 [==============================] - 0s 50us/sample - loss: 0.4497 - accuracy: 0.8252 - val_loss: 0.4623 - val_accuracy: 0.8324\n",
      "Epoch 78/600\n",
      "429/429 [==============================] - 0s 48us/sample - loss: 0.4427 - accuracy: 0.8275 - val_loss: 0.4631 - val_accuracy: 0.8270\n",
      "Epoch 79/600\n",
      "429/429 [==============================] - 0s 50us/sample - loss: 0.4406 - accuracy: 0.8159 - val_loss: 0.4632 - val_accuracy: 0.8270\n",
      "Epoch 80/600\n",
      "429/429 [==============================] - 0s 49us/sample - loss: 0.4181 - accuracy: 0.8345 - val_loss: 0.4624 - val_accuracy: 0.8270\n",
      "Epoch 81/600\n",
      "429/429 [==============================] - 0s 50us/sample - loss: 0.4234 - accuracy: 0.8228 - val_loss: 0.4624 - val_accuracy: 0.8216\n",
      "Epoch 82/600\n",
      "429/429 [==============================] - 0s 50us/sample - loss: 0.4429 - accuracy: 0.8205 - val_loss: 0.4631 - val_accuracy: 0.8270\n",
      "Epoch 83/600\n",
      "429/429 [==============================] - 0s 50us/sample - loss: 0.4415 - accuracy: 0.8298 - val_loss: 0.4636 - val_accuracy: 0.8162\n",
      "Epoch 84/600\n",
      "429/429 [==============================] - 0s 49us/sample - loss: 0.4556 - accuracy: 0.8275 - val_loss: 0.4651 - val_accuracy: 0.8162\n",
      "Epoch 85/600\n",
      "429/429 [==============================] - 0s 48us/sample - loss: 0.4224 - accuracy: 0.8205 - val_loss: 0.4655 - val_accuracy: 0.8162\n",
      "Epoch 86/600\n",
      "429/429 [==============================] - 0s 50us/sample - loss: 0.4458 - accuracy: 0.8228 - val_loss: 0.4655 - val_accuracy: 0.8162\n",
      "Epoch 87/600\n",
      "429/429 [==============================] - 0s 49us/sample - loss: 0.4511 - accuracy: 0.8182 - val_loss: 0.4650 - val_accuracy: 0.8162\n",
      "Epoch 00087: early stopping\n"
     ]
    },
    {
     "data": {
      "text/plain": [
       "<tensorflow.python.keras.callbacks.History at 0x14988fd10>"
      ]
     },
     "execution_count": 104,
     "metadata": {},
     "output_type": "execute_result"
    }
   ],
   "source": [
    "model.fit(x=X_train, \n",
    "          y=y_train, \n",
    "          epochs=600,\n",
    "          validation_data=(X_test, y_test), verbose=1,\n",
    "          callbacks=[early_stop]\n",
    "          )"
   ]
  },
  {
   "cell_type": "code",
   "execution_count": 105,
   "metadata": {},
   "outputs": [
    {
     "data": {
      "text/plain": [
       "<matplotlib.axes._subplots.AxesSubplot at 0x149501490>"
      ]
     },
     "execution_count": 105,
     "metadata": {},
     "output_type": "execute_result"
    },
    {
     "data": {
      "image/png": "[encoded data removed]",
      "text/plain": [
       "<Figure size 432x288 with 1 Axes>"
      ]
     },
     "metadata": {
      "needs_background": "light"
     },
     "output_type": "display_data"
    }
   ],
   "source": [
    "metrics = pd.DataFrame(model.history.history)\n",
    "metrics[['loss','val_loss']].plot()"
   ]
  },
  {
   "cell_type": "code",
   "execution_count": 106,
   "metadata": {},
   "outputs": [
    {
     "data": {
      "text/plain": [
       "<matplotlib.axes._subplots.AxesSubplot at 0x14a02ba90>"
      ]
     },
     "execution_count": 106,
     "metadata": {},
     "output_type": "execute_result"
    },
    {
     "data": {
      "image/png": "[encoded data removed]",
      "text/plain": [
       "<Figure size 432x288 with 1 Axes>"
      ]
     },
     "metadata": {
      "needs_background": "light"
     },
     "output_type": "display_data"
    }
   ],
   "source": [
    "metrics[['accuracy','val_accuracy']].plot()"
   ]
  },
  {
   "cell_type": "code",
   "execution_count": 107,
   "metadata": {},
   "outputs": [],
   "source": [
    "predictions = model.predict_classes(X_test)"
   ]
  },
  {
   "cell_type": "code",
   "execution_count": 108,
   "metadata": {},
   "outputs": [
    {
     "name": "stdout",
     "output_type": "stream",
     "text": [
      "              precision    recall  f1-score   support\n",
      "\n",
      "           0       0.82      0.44      0.57        52\n",
      "           1       0.82      0.96      0.88       133\n",
      "\n",
      "    accuracy                           0.82       185\n",
      "   macro avg       0.82      0.70      0.73       185\n",
      "weighted avg       0.82      0.82      0.80       185\n",
      "\n",
      "\n",
      "\n",
      "[[ 23  29]\n",
      " [  5 128]]\n"
     ]
    }
   ],
   "source": [
    "from sklearn.metrics import classification_report,confusion_matrix\n",
    "print(classification_report(y_test,predictions))\n",
    "print('\\n')\n",
    "print(confusion_matrix(y_test,predictions))"
   ]
  },
  {
   "cell_type": "code",
   "execution_count": 109,
   "metadata": {},
   "outputs": [
    {
     "name": "stdout",
     "output_type": "stream",
     "text": [
      "0.8162162162162162\n"
     ]
    }
   ],
   "source": [
    "print(accuracy_score(y_test,predictions))"
   ]
  },
  {
   "cell_type": "markdown",
   "metadata": {},
   "source": [
    "## Conclusion\n",
    "\n",
    "Seems the Logistic Regression performs better with an **82 % prediction accuracy**.\n",
    "\n",
    "Now we train the entire dataset on the Logistic regression model"
   ]
  },
  {
   "cell_type": "code",
   "execution_count": 110,
   "metadata": {},
   "outputs": [],
   "source": [
    "#Training features and target column on train dataset\n",
    "X = train.drop('Loan_Status',axis=1)  #------> features\n",
    "y = train['Loan_Status']  #-------> target(loan_status prediction)"
   ]
  },
  {
   "cell_type": "code",
   "execution_count": 111,
   "metadata": {},
   "outputs": [],
   "source": [
    "#scaling train features\n",
    "full_scaler = StandardScaler()\n",
    "scaled_data = full_scaler.fit_transform(X)"
   ]
  },
  {
   "cell_type": "code",
   "execution_count": 112,
   "metadata": {},
   "outputs": [
    {
     "data": {
      "text/plain": [
       "((614, 16), (614,))"
      ]
     },
     "execution_count": 112,
     "metadata": {},
     "output_type": "execute_result"
    }
   ],
   "source": [
    "#shape of train (features and target)\n",
    "X.shape,y.shape"
   ]
  },
  {
   "cell_type": "code",
   "execution_count": 113,
   "metadata": {},
   "outputs": [
    {
     "data": {
      "text/plain": [
       "LogisticRegression(C=1.0, class_weight=None, dual=False, fit_intercept=True,\n",
       "                   intercept_scaling=1, l1_ratio=None, max_iter=100,\n",
       "                   multi_class='auto', n_jobs=None, penalty='l2',\n",
       "                   random_state=None, solver='lbfgs', tol=0.0001, verbose=0,\n",
       "                   warm_start=False)"
      ]
     },
     "execution_count": 113,
     "metadata": {},
     "output_type": "execute_result"
    }
   ],
   "source": [
    "#training the Logistic regression model(LR)\n",
    "model_LR.fit(X,y)"
   ]
  },
  {
   "cell_type": "code",
   "execution_count": 125,
   "metadata": {},
   "outputs": [
    {
     "data": {
      "text/plain": [
       "['home_loans_model.sav']"
      ]
     },
     "execution_count": 125,
     "metadata": {},
     "output_type": "execute_result"
    }
   ],
   "source": [
    "# save the model to disk\n",
    "import joblib\n",
    "filename = 'home_loans_model.sav'\n",
    "joblib.dump(model_LR, filename)"
   ]
  },
  {
   "cell_type": "markdown",
   "metadata": {},
   "source": [
    "### Test Data"
   ]
  },
  {
   "cell_type": "code",
   "execution_count": 114,
   "metadata": {},
   "outputs": [
    {
     "data": {
      "text/html": [
       "<div>\n",
       "<style scoped>\n",
       "    .dataframe tbody tr th:only-of-type {\n",
       "        vertical-align: middle;\n",
       "    }\n",
       "\n",
       "    .dataframe tbody tr th {\n",
       "        vertical-align: top;\n",
       "    }\n",
       "\n",
       "    .dataframe thead th {\n",
       "        text-align: right;\n",
       "    }\n",
       "</style>\n",
       "<table border=\"1\" class=\"dataframe\">\n",
       "  <thead>\n",
       "    <tr style=\"text-align: right;\">\n",
       "      <th></th>\n",
       "      <th>Loan_ID</th>\n",
       "      <th>Gender</th>\n",
       "      <th>Married</th>\n",
       "      <th>Dependents</th>\n",
       "      <th>Education</th>\n",
       "      <th>Self_Employed</th>\n",
       "      <th>ApplicantIncome</th>\n",
       "      <th>CoapplicantIncome</th>\n",
       "      <th>LoanAmount</th>\n",
       "      <th>Loan_Amount_Term</th>\n",
       "      <th>Credit_History</th>\n",
       "      <th>Property_Area</th>\n",
       "    </tr>\n",
       "  </thead>\n",
       "  <tbody>\n",
       "    <tr>\n",
       "      <th>0</th>\n",
       "      <td>LP001015</td>\n",
       "      <td>Male</td>\n",
       "      <td>Yes</td>\n",
       "      <td>0</td>\n",
       "      <td>Graduate</td>\n",
       "      <td>No</td>\n",
       "      <td>5720</td>\n",
       "      <td>0</td>\n",
       "      <td>110000.0</td>\n",
       "      <td>360.0</td>\n",
       "      <td>1.0</td>\n",
       "      <td>Urban</td>\n",
       "    </tr>\n",
       "    <tr>\n",
       "      <th>1</th>\n",
       "      <td>LP001022</td>\n",
       "      <td>Male</td>\n",
       "      <td>Yes</td>\n",
       "      <td>1</td>\n",
       "      <td>Graduate</td>\n",
       "      <td>No</td>\n",
       "      <td>3076</td>\n",
       "      <td>1500</td>\n",
       "      <td>126000.0</td>\n",
       "      <td>360.0</td>\n",
       "      <td>1.0</td>\n",
       "      <td>Urban</td>\n",
       "    </tr>\n",
       "    <tr>\n",
       "      <th>2</th>\n",
       "      <td>LP001031</td>\n",
       "      <td>Male</td>\n",
       "      <td>Yes</td>\n",
       "      <td>2</td>\n",
       "      <td>Graduate</td>\n",
       "      <td>No</td>\n",
       "      <td>5000</td>\n",
       "      <td>1800</td>\n",
       "      <td>208000.0</td>\n",
       "      <td>360.0</td>\n",
       "      <td>1.0</td>\n",
       "      <td>Urban</td>\n",
       "    </tr>\n",
       "    <tr>\n",
       "      <th>3</th>\n",
       "      <td>LP001035</td>\n",
       "      <td>Male</td>\n",
       "      <td>Yes</td>\n",
       "      <td>2</td>\n",
       "      <td>Graduate</td>\n",
       "      <td>No</td>\n",
       "      <td>2340</td>\n",
       "      <td>2546</td>\n",
       "      <td>100000.0</td>\n",
       "      <td>360.0</td>\n",
       "      <td>NaN</td>\n",
       "      <td>Urban</td>\n",
       "    </tr>\n",
       "    <tr>\n",
       "      <th>4</th>\n",
       "      <td>LP001051</td>\n",
       "      <td>Male</td>\n",
       "      <td>No</td>\n",
       "      <td>0</td>\n",
       "      <td>Not Graduate</td>\n",
       "      <td>No</td>\n",
       "      <td>3276</td>\n",
       "      <td>0</td>\n",
       "      <td>78000.0</td>\n",
       "      <td>360.0</td>\n",
       "      <td>1.0</td>\n",
       "      <td>Urban</td>\n",
       "    </tr>\n",
       "  </tbody>\n",
       "</table>\n",
       "</div>"
      ],
      "text/plain": [
       "    Loan_ID Gender Married Dependents     Education Self_Employed  \\\n",
       "0  LP001015   Male     Yes          0      Graduate            No   \n",
       "1  LP001022   Male     Yes          1      Graduate            No   \n",
       "2  LP001031   Male     Yes          2      Graduate            No   \n",
       "3  LP001035   Male     Yes          2      Graduate            No   \n",
       "4  LP001051   Male      No          0  Not Graduate            No   \n",
       "\n",
       "   ApplicantIncome  CoapplicantIncome  LoanAmount  Loan_Amount_Term  \\\n",
       "0             5720                  0    110000.0             360.0   \n",
       "1             3076               1500    126000.0             360.0   \n",
       "2             5000               1800    208000.0             360.0   \n",
       "3             2340               2546    100000.0             360.0   \n",
       "4             3276                  0     78000.0             360.0   \n",
       "\n",
       "   Credit_History Property_Area  \n",
       "0             1.0         Urban  \n",
       "1             1.0         Urban  \n",
       "2             1.0         Urban  \n",
       "3             NaN         Urban  \n",
       "4             1.0         Urban  "
      ]
     },
     "execution_count": 114,
     "metadata": {},
     "output_type": "execute_result"
    }
   ],
   "source": [
    "test.head()"
   ]
  },
  {
   "cell_type": "code",
   "execution_count": 115,
   "metadata": {
    "scrolled": true
   },
   "outputs": [
    {
     "data": {
      "text/plain": [
       "Loan_ID               0\n",
       "Gender               11\n",
       "Married               0\n",
       "Dependents           10\n",
       "Education             0\n",
       "Self_Employed        23\n",
       "ApplicantIncome       0\n",
       "CoapplicantIncome     0\n",
       "LoanAmount            5\n",
       "Loan_Amount_Term      6\n",
       "Credit_History       29\n",
       "Property_Area         0\n",
       "dtype: int64"
      ]
     },
     "execution_count": 115,
     "metadata": {},
     "output_type": "execute_result"
    }
   ],
   "source": [
    "test.isnull().sum()"
   ]
  },
  {
   "cell_type": "code",
   "execution_count": 116,
   "metadata": {},
   "outputs": [],
   "source": [
    "#filling null_values\n",
    "test['Gender'] = test['Gender'].fillna(test['Gender'].mode()[0])\n",
    "test['Dependents'] = test['Dependents'].fillna(test['Dependents'].mode()[0])\n",
    "test['Self_Employed'] = test['Self_Employed'].fillna(test['Self_Employed'].mode()[0])"
   ]
  },
  {
   "cell_type": "code",
   "execution_count": 117,
   "metadata": {},
   "outputs": [],
   "source": [
    "#fiiling loan amt based on the defined function used on train\n",
    "test['LoanAmount'] = test['LoanAmount'].fillna(test[test['LoanAmount'].isnull()].apply(values, axis=1))"
   ]
  },
  {
   "cell_type": "code",
   "execution_count": 118,
   "metadata": {},
   "outputs": [],
   "source": [
    "#filling based on the most frequent\n",
    "test['Loan_Amount_Term'] = test['Loan_Amount_Term'].fillna(test['Loan_Amount_Term'].mode()[0])"
   ]
  },
  {
   "cell_type": "code",
   "execution_count": 119,
   "metadata": {},
   "outputs": [],
   "source": [
    "test['Credit_History'].value_counts()\n",
    "#filling based on the most frequent\n",
    "test['Credit_History'] = test['Credit_History'].fillna(test['Credit_History'].mode()[0])"
   ]
  },
  {
   "cell_type": "code",
   "execution_count": 120,
   "metadata": {},
   "outputs": [],
   "source": [
    "#Log_transformations\n",
    "test['ApplicantIncome'] = np.log1p(test['ApplicantIncome'])\n",
    "test['CoapplicantIncome'] = np.log1p(test['CoapplicantIncome'])\n",
    "test['LoanAmount'] = np.log1p(test['LoanAmount'])\n",
    "test['total_income'] = test['ApplicantIncome'] + test['CoapplicantIncome']\n",
    "test['total_income'] = np.log1p(test['total_income'])\n",
    "test['Ratio of LoanAmt:Total_income'] = test['LoanAmount']/test['total_income']\n",
    "test['Ratio of LoanAmt:Total_income'] = np.log1p(test['Ratio of LoanAmt:Total_income'])"
   ]
  },
  {
   "cell_type": "code",
   "execution_count": 121,
   "metadata": {},
   "outputs": [
    {
     "data": {
      "text/plain": [
       "Index(['Loan_ID', 'Gender', 'Married', 'Dependents', 'Education',\n",
       "       'Self_Employed', 'Property_Area'],\n",
       "      dtype='object')"
      ]
     },
     "execution_count": 121,
     "metadata": {},
     "output_type": "execute_result"
    }
   ],
   "source": [
    "test.select_dtypes(['object']).columns"
   ]
  },
  {
   "cell_type": "code",
   "execution_count": 122,
   "metadata": {},
   "outputs": [],
   "source": [
    "#Save loanID\n",
    "test_ID= test['Loan_ID']\n",
    "test = test.drop('Loan_ID',axis=1)"
   ]
  },
  {
   "cell_type": "code",
   "execution_count": 123,
   "metadata": {},
   "outputs": [],
   "source": [
    "dummies = pd.get_dummies(test[['Gender','Married', 'Dependents', 'Education', 'Self_Employed', 'Property_Area']],drop_first=True)\n",
    "test = test.drop(['Gender','Married', 'Dependents', 'Education', 'Self_Employed', 'Property_Area'],axis=1)\n",
    "test = pd.concat([test,dummies],axis=1)"
   ]
  },
  {
   "cell_type": "code",
   "execution_count": 127,
   "metadata": {},
   "outputs": [],
   "source": [
    "#scaling test features\n",
    "scaled_test = full_scaler.transform(test)"
   ]
  },
  {
   "cell_type": "code",
   "execution_count": 128,
   "metadata": {},
   "outputs": [],
   "source": [
    "# load the model from disk\n",
    "loaded_model = joblib.load('home_loans_model.sav')"
   ]
  },
  {
   "cell_type": "code",
   "execution_count": 129,
   "metadata": {},
   "outputs": [],
   "source": [
    "result = loaded_model.predict(test)"
   ]
  },
  {
   "cell_type": "code",
   "execution_count": 136,
   "metadata": {},
   "outputs": [],
   "source": [
    "result = np.where(result ==1, 'Y', 'N')"
   ]
  },
  {
   "cell_type": "code",
   "execution_count": 144,
   "metadata": {},
   "outputs": [],
   "source": [
    "result = pd.Series(result,name='Loan_Status')"
   ]
  },
  {
   "cell_type": "code",
   "execution_count": 146,
   "metadata": {},
   "outputs": [],
   "source": [
    "test_predictions = pd.concat([test_ID,result],axis=1)"
   ]
  },
  {
   "cell_type": "code",
   "execution_count": 148,
   "metadata": {},
   "outputs": [
    {
     "data": {
      "text/plain": [
       "Y    307\n",
       "N     60\n",
       "Name: Loan_Status, dtype: int64"
      ]
     },
     "execution_count": 148,
     "metadata": {},
     "output_type": "execute_result"
    }
   ],
   "source": [
    "test_predictions['Loan_Status'].value_counts()"
   ]
  },
  {
   "cell_type": "markdown",
   "metadata": {},
   "source": [
    "### Final results "
   ]
  },
  {
   "cell_type": "code",
   "execution_count": 149,
   "metadata": {},
   "outputs": [],
   "source": [
    "test_predictions.to_csv('submission_1.csv')"
   ]
  }
 ],
 "metadata": {
  "kernelspec": {
   "display_name": "Python 3",
   "language": "python",
   "name": "python3"
  },
  "language_info": {
   "codemirror_mode": {
    "name": "ipython",
    "version": 3
   },
   "file_extension": ".py",
   "mimetype": "text/x-python",
   "name": "python",
   "nbconvert_exporter": "python",
   "pygments_lexer": "ipython3",
   "version": "3.7.4"
  }
 },
 "nbformat": 4,
 "nbformat_minor": 2
}
